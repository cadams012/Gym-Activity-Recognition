{
  "cells": [
    {
      "cell_type": "markdown",
      "id": "dcc057d7",
      "metadata": {
        "id": "dcc057d7"
      },
      "source": [
        "# **Transforming the Rocket Transform**"
      ]
    },
    {
      "cell_type": "markdown",
      "id": "nUB3qukkVz4e",
      "metadata": {
        "id": "nUB3qukkVz4e"
      },
      "source": [
        "## **Initialisation**"
      ]
    },
    {
      "cell_type": "code",
      "execution_count": 1,
      "id": "Rnoi2AD9umez",
      "metadata": {
        "colab": {
          "base_uri": "https://localhost:8080/"
        },
        "id": "Rnoi2AD9umez",
        "outputId": "aabe6d26-95f7-4ea1-9ea3-a90642ce2f3e"
      },
      "outputs": [
        {
          "output_type": "stream",
          "name": "stdout",
          "text": [
            "Collecting sktime==0.31.2\n",
            "  Downloading sktime-0.31.2-py3-none-any.whl.metadata (31 kB)\n",
            "Requirement already satisfied: joblib<1.5,>=1.2.0 in /usr/local/lib/python3.10/dist-packages (from sktime==0.31.2) (1.4.2)\n",
            "Requirement already satisfied: numpy<2.1,>=1.21 in /usr/local/lib/python3.10/dist-packages (from sktime==0.31.2) (1.26.4)\n",
            "Requirement already satisfied: packaging in /usr/local/lib/python3.10/dist-packages (from sktime==0.31.2) (24.1)\n",
            "Requirement already satisfied: pandas<2.3.0,>=1.1 in /usr/local/lib/python3.10/dist-packages (from sktime==0.31.2) (2.1.4)\n",
            "Collecting scikit-base<0.9.0,>=0.6.1 (from sktime==0.31.2)\n",
            "  Downloading scikit_base-0.8.3-py3-none-any.whl.metadata (8.5 kB)\n",
            "Requirement already satisfied: scikit-learn<1.6.0,>=0.24 in /usr/local/lib/python3.10/dist-packages (from sktime==0.31.2) (1.3.2)\n",
            "Requirement already satisfied: scipy<2.0.0,>=1.2 in /usr/local/lib/python3.10/dist-packages (from sktime==0.31.2) (1.13.1)\n",
            "Requirement already satisfied: python-dateutil>=2.8.2 in /usr/local/lib/python3.10/dist-packages (from pandas<2.3.0,>=1.1->sktime==0.31.2) (2.8.2)\n",
            "Requirement already satisfied: pytz>=2020.1 in /usr/local/lib/python3.10/dist-packages (from pandas<2.3.0,>=1.1->sktime==0.31.2) (2024.1)\n",
            "Requirement already satisfied: tzdata>=2022.1 in /usr/local/lib/python3.10/dist-packages (from pandas<2.3.0,>=1.1->sktime==0.31.2) (2024.1)\n",
            "Requirement already satisfied: threadpoolctl>=2.0.0 in /usr/local/lib/python3.10/dist-packages (from scikit-learn<1.6.0,>=0.24->sktime==0.31.2) (3.5.0)\n",
            "Requirement already satisfied: six>=1.5 in /usr/local/lib/python3.10/dist-packages (from python-dateutil>=2.8.2->pandas<2.3.0,>=1.1->sktime==0.31.2) (1.16.0)\n",
            "Downloading sktime-0.31.2-py3-none-any.whl (28.9 MB)\n",
            "\u001b[2K   \u001b[90m━━━━━━━━━━━━━━━━━━━━━━━━━━━━━━━━━━━━━━━━\u001b[0m \u001b[32m28.9/28.9 MB\u001b[0m \u001b[31m17.7 MB/s\u001b[0m eta \u001b[36m0:00:00\u001b[0m\n",
            "\u001b[?25hDownloading scikit_base-0.8.3-py3-none-any.whl (136 kB)\n",
            "\u001b[2K   \u001b[90m━━━━━━━━━━━━━━━━━━━━━━━━━━━━━━━━━━━━━━━━\u001b[0m \u001b[32m136.2/136.2 kB\u001b[0m \u001b[31m12.8 MB/s\u001b[0m eta \u001b[36m0:00:00\u001b[0m\n",
            "\u001b[?25hInstalling collected packages: scikit-base, sktime\n",
            "Successfully installed scikit-base-0.8.3 sktime-0.31.2\n"
          ]
        }
      ],
      "source": [
        "pip install sktime==0.31.2"
      ]
    },
    {
      "cell_type": "code",
      "execution_count": 2,
      "id": "8R9a8pMzlk17",
      "metadata": {
        "id": "8R9a8pMzlk17",
        "colab": {
          "base_uri": "https://localhost:8080/"
        },
        "outputId": "e9c1fd91-42af-4bc1-fdf4-e941e5f25916"
      },
      "outputs": [
        {
          "output_type": "stream",
          "name": "stderr",
          "text": [
            "/usr/local/lib/python3.10/dist-packages/dask/dataframe/__init__.py:42: FutureWarning: \n",
            "Dask dataframe query planning is disabled because dask-expr is not installed.\n",
            "\n",
            "You can install it with `pip install dask[dataframe]` or `conda install dask`.\n",
            "This will raise in a future version.\n",
            "\n",
            "  warnings.warn(msg, FutureWarning)\n"
          ]
        }
      ],
      "source": [
        "import os\n",
        "import numpy as np\n",
        "import pickle\n",
        "import itertools\n",
        "import tensorflow as tf\n",
        "import matplotlib.pyplot as plt\n",
        "from sklearn.ensemble import RandomForestClassifier\n",
        "from sklearn.decomposition import PCA\n",
        "from sktime.transformations.panel.rocket import MiniRocketMultivariate\n",
        "from keras.models import Model\n",
        "from keras.optimizers import Adam\n",
        "from tensorflow.keras.regularizers import l2\n",
        "from keras.layers import Input, Layer, Conv1D, MaxPool1D, ReLU, BatchNormalization, LayerNormalization, Dropout, Add, Dense, GlobalMaxPooling1D, Bidirectional, GRU"
      ]
    },
    {
      "cell_type": "code",
      "execution_count": 3,
      "id": "6PHiGpI9_k54",
      "metadata": {
        "colab": {
          "base_uri": "https://localhost:8080/"
        },
        "id": "6PHiGpI9_k54",
        "outputId": "71ff12e2-b425-4ca1-a950-7aa73c37b1ab"
      },
      "outputs": [
        {
          "output_type": "stream",
          "name": "stdout",
          "text": [
            "Mounted at /content/drive\n"
          ]
        }
      ],
      "source": [
        "#You MUST run this command before reading in any data from Google Drive\n",
        "from google.colab import files\n",
        "from google.colab import drive\n",
        "import pandas as pd\n",
        "drive.mount('/content/drive', force_remount=True)\n",
        "os.chdir('/content/drive/My Drive/Colab Notebooks/Thesis/experiments')\n",
        "\n",
        "%run ../sys_configs.ipynb"
      ]
    },
    {
      "cell_type": "code",
      "execution_count": 5,
      "id": "Ug5PdJ8i_k_7",
      "metadata": {
        "id": "Ug5PdJ8i_k_7"
      },
      "outputs": [],
      "source": [
        "with open('../data/train.npy', 'rb') as f:\n",
        "    x_train = np.load(f)\n",
        "    y_train = np.load(f).astype(np.int64)\n",
        "sz, dim = x_train.shape[1:]\n",
        "\n",
        "with open('../data/val.npy', 'rb') as f:\n",
        "    x_val = np.load(f)\n",
        "    y_val = np.load(f).astype(np.int64)\n",
        "\n",
        "with open('../data/test.npy', 'rb') as f:\n",
        "    x_test = np.load(f)\n",
        "    y_test = np.load(f).astype(np.int64)\n",
        "\n",
        "classes = np.unique(y_train)\n",
        "\n",
        "N_train = len(y_train)\n",
        "N_val = len(y_val)\n",
        "N_test = len(y_test)"
      ]
    },
    {
      "cell_type": "code",
      "execution_count": 6,
      "id": "ZwDmf0p1_lCz",
      "metadata": {
        "id": "ZwDmf0p1_lCz"
      },
      "outputs": [],
      "source": [
        "# Convert the labels to tensors\n",
        "train_labels_tf = tf.one_hot(y_train, 31, dtype=tf.float32)\n",
        "val_labels_tf = tf.one_hot(y_val, 31, dtype=tf.float32)"
      ]
    },
    {
      "cell_type": "code",
      "execution_count": 7,
      "id": "p78kXUqdMnX6",
      "metadata": {
        "id": "p78kXUqdMnX6"
      },
      "outputs": [],
      "source": [
        "C = len(set(y_train)) # Number of classes"
      ]
    },
    {
      "cell_type": "markdown",
      "id": "Ov_Y-qXHWIpd",
      "metadata": {
        "id": "Ov_Y-qXHWIpd"
      },
      "source": [
        "#### **Prepare Rocket transformation train & validation datasets**"
      ]
    },
    {
      "cell_type": "code",
      "execution_count": 8,
      "id": "Pd8qFYGASmxg",
      "metadata": {
        "id": "Pd8qFYGASmxg"
      },
      "outputs": [],
      "source": [
        "# Transpose the train and validation data as the format needs to be N x D x T\n",
        "x_train_ = x_train.transpose((0, 2, 1))\n",
        "x_val_ = x_val.transpose((0, 2, 1))\n",
        "\n",
        "# Compute the MiniRocket transform and transform to tensors\n",
        "minirocket_multi = MiniRocketMultivariate(num_kernels = 10000, max_dilations_per_kernel = 32)\n",
        "minirocket_multi.fit(x_train_)\n",
        "\n",
        "train_rocket_np = minirocket_multi.transform(x_train_).to_numpy()\n",
        "val_rocket_np = minirocket_multi.transform(x_val_).to_numpy()\n",
        "\n",
        "train_rocket_tf = tf.convert_to_tensor(train_rocket_np, dtype = tf.float32)\n",
        "val_rocket_tf = tf.convert_to_tensor(val_rocket_np, dtype = tf.float32)\n"
      ]
    },
    {
      "cell_type": "code",
      "execution_count": 9,
      "id": "mnSFpMMnVrH8",
      "metadata": {
        "id": "mnSFpMMnVrH8"
      },
      "outputs": [],
      "source": [
        "train_rocket_ds = tf.data.Dataset.from_tensor_slices((train_rocket_tf, train_labels_tf))\n",
        "val_rocket_ds = tf.data.Dataset.from_tensor_slices((val_rocket_tf, val_labels_tf))\n",
        "\n",
        "train_rocket_ds = train_rocket_ds.shuffle(500)\n",
        "\n",
        "train_rocket_ds = train_rocket_ds.padded_batch(64)\n",
        "val_rocket_ds = val_rocket_ds.padded_batch(64)"
      ]
    },
    {
      "cell_type": "markdown",
      "source": [
        "#### **Prepare PCA transformation train & validation datasets**"
      ],
      "metadata": {
        "id": "uUocWzg2KoPv"
      },
      "id": "uUocWzg2KoPv"
    },
    {
      "cell_type": "markdown",
      "source": [
        "In this section, we show that it is possible to condense the 9,996 MiniRocket features into a compact representation while still preserving most of the information among those features. To understand why this is necessary, please open the workbook `Exploring Rocket Losses`. With the full 9,996 features, a feedforward neural network was able to perfectly recover the targets. Whilst this gave a good performance on the validation data, it was not compact.\n",
        "\n",
        "Principle Components Analysis allows the user to construct this more compact representation and to quantify the variance in the original data which has been preserved."
      ],
      "metadata": {
        "id": "dBLt12VVKvK7"
      },
      "id": "dBLt12VVKvK7"
    },
    {
      "cell_type": "code",
      "source": [
        "pca = PCA(n_components=128)\n",
        "pca.fit(train_rocket_np)\n",
        "\n",
        "explained_variance_ratio = pca.explained_variance_ratio_\n",
        "cumulative_explained_variance_ratio = np.cumsum(explained_variance_ratio)"
      ],
      "metadata": {
        "id": "Oa2tEy5qLGdv"
      },
      "id": "Oa2tEy5qLGdv",
      "execution_count": 10,
      "outputs": []
    },
    {
      "cell_type": "code",
      "source": [
        "# Plot the explained variance ratio and cumulative explained variance as subplots\n",
        "fig, (ax1, ax2) = plt.subplots(1, 2, figsize=(8, 5))\n",
        "\n",
        "# Plot individual explained variance ratio\n",
        "ax1.bar(range(1, len(explained_variance_ratio) + 1), explained_variance_ratio, alpha=0.5, align='center', color = \"#0050a0\", edgecolor = \"#0050a0\")\n",
        "ax1.set_xlabel('Number of Principal components')\n",
        "ax1.set_title('Individual Explained Variance Ratio')\n",
        "ax1.set_xticks(range(0, 129, 16))  # Adjust the step size (16) as needed\n",
        "ax1.set_xlim(0, 128)\n",
        "\n",
        "# Plot cumulative explained variance\n",
        "ax2.step(range(1, len(cumulative_explained_variance_ratio) + 1), cumulative_explained_variance_ratio, where='mid', color = \"#0050a0\")\n",
        "ax2.set_xlabel('Number of Principal components')\n",
        "ax2.set_title('Cumulative Explained Variance Ratio')\n",
        "ax2.set_xticks(range(0, 129, 16))  # Adjust the step size (16) as needed\n",
        "ax2.set_xlim(0, 128)\n",
        "\n",
        "plt.tight_layout()\n",
        "plt.savefig(\"PCA.pdf\", dpi = 1000, format = 'pdf', bbox_inches = 'tight')\n",
        "plt.show()"
      ],
      "metadata": {
        "colab": {
          "base_uri": "https://localhost:8080/",
          "height": 507
        },
        "id": "a53_YnPwOfAW",
        "outputId": "1a1f177c-2827-499f-a530-51a35b2f0d01"
      },
      "id": "a53_YnPwOfAW",
      "execution_count": 31,
      "outputs": [
        {
          "output_type": "display_data",
          "data": {
            "text/plain": [
              "<Figure size 800x500 with 2 Axes>"
            ],
            "image/png": "[encoded data removed]"
          },
          "metadata": {}
        }
      ]
    },
    {
      "cell_type": "markdown",
      "source": [
        "Using the top 128 principle components preserves approx 90% of the variance of the original data (approx 1/40th of the original number of features), though the elbow point is around the top 32 principle components."
      ],
      "metadata": {
        "id": "u-4wvZryiYT1"
      },
      "id": "u-4wvZryiYT1"
    },
    {
      "cell_type": "code",
      "source": [
        "print(f\"Proportion of variance that is preserved with 128 principle components: {np.cumsum(pca.explained_variance_ratio_)[127]}\")"
      ],
      "metadata": {
        "colab": {
          "base_uri": "https://localhost:8080/"
        },
        "id": "wGtrFB4viiA_",
        "outputId": "a4e6f21a-313a-4a79-b454-41a1201794c6"
      },
      "id": "wGtrFB4viiA_",
      "execution_count": 13,
      "outputs": [
        {
          "output_type": "stream",
          "name": "stdout",
          "text": [
            "Proportion of variance that is preserved with 128 principle components: 0.883250892162323\n"
          ]
        }
      ]
    },
    {
      "cell_type": "code",
      "source": [
        "train_pca_np = pca.transform(train_rocket_np)\n",
        "val_pca_np = pca.transform(val_rocket_np)"
      ],
      "metadata": {
        "id": "OJX0_kPuLGom"
      },
      "id": "OJX0_kPuLGom",
      "execution_count": 14,
      "outputs": []
    },
    {
      "cell_type": "code",
      "source": [
        "train_pca_tf = tf.convert_to_tensor(train_pca_np, dtype = tf.float32)\n",
        "val_pca_tf = tf.convert_to_tensor(val_pca_np, dtype = tf.float32)"
      ],
      "metadata": {
        "id": "sFThxu6FNSJa"
      },
      "id": "sFThxu6FNSJa",
      "execution_count": 15,
      "outputs": []
    },
    {
      "cell_type": "code",
      "source": [
        "train_pca_ds = tf.data.Dataset.from_tensor_slices((train_pca_tf, train_labels_tf))\n",
        "val_pca_ds = tf.data.Dataset.from_tensor_slices((val_pca_tf, val_labels_tf))\n",
        "\n",
        "train_pca_ds = train_pca_ds.shuffle(500)\n",
        "\n",
        "train_pca_ds = train_pca_ds.padded_batch(64)\n",
        "val_pca_ds = val_pca_ds.padded_batch(64)"
      ],
      "metadata": {
        "id": "0DbqapR5NSLe"
      },
      "id": "0DbqapR5NSLe",
      "execution_count": 16,
      "outputs": []
    },
    {
      "cell_type": "markdown",
      "id": "CjU_-c8QM0oM",
      "metadata": {
        "id": "CjU_-c8QM0oM"
      },
      "source": [
        "## **Experiment: Rocket transformation with feedforward layers and L2 penalties**"
      ]
    },
    {
      "cell_type": "code",
      "execution_count": 17,
      "id": "yVs_dBDrfvIu",
      "metadata": {
        "id": "yVs_dBDrfvIu"
      },
      "outputs": [],
      "source": [
        "def RocketSktimeL2(shape):\n",
        "    block1_input_layer = Input(shape=shape)\n",
        "    layer = Dense(128, activation=\"sigmoid\", kernel_regularizer = l2(0.01))(block1_input_layer)\n",
        "    output_layer = Dense(C, activation=\"softmax\")(layer)\n",
        "    return Model(inputs=block1_input_layer, outputs=output_layer)"
      ]
    },
    {
      "cell_type": "code",
      "execution_count": 18,
      "id": "ImLuNXUxgE72",
      "metadata": {
        "colab": {
          "base_uri": "https://localhost:8080/",
          "height": 223
        },
        "id": "ImLuNXUxgE72",
        "outputId": "7d8abfcd-25a6-4fae-ccc7-aee509c85b3e"
      },
      "outputs": [
        {
          "output_type": "display_data",
          "data": {
            "text/plain": [
              "\u001b[1mModel: \"functional\"\u001b[0m\n"
            ],
            "text/html": [
              "<pre style=\"white-space:pre;overflow-x:auto;line-height:normal;font-family:Menlo,'DejaVu Sans Mono',consolas,'Courier New',monospace\"><span style=\"font-weight: bold\">Model: \"functional\"</span>\n",
              "</pre>\n"
            ]
          },
          "metadata": {}
        },
        {
          "output_type": "display_data",
          "data": {
            "text/plain": [
              "┏━━━━━━━━━━━━━━━━━━━━━━━━━━━━━━━━━━━━━━┳━━━━━━━━━━━━━━━━━━━━━━━━━━━━━┳━━━━━━━━━━━━━━━━━┓\n",
              "┃\u001b[1m \u001b[0m\u001b[1mLayer (type)                        \u001b[0m\u001b[1m \u001b[0m┃\u001b[1m \u001b[0m\u001b[1mOutput Shape               \u001b[0m\u001b[1m \u001b[0m┃\u001b[1m \u001b[0m\u001b[1m        Param #\u001b[0m\u001b[1m \u001b[0m┃\n",
              "┡━━━━━━━━━━━━━━━━━━━━━━━━━━━━━━━━━━━━━━╇━━━━━━━━━━━━━━━━━━━━━━━━━━━━━╇━━━━━━━━━━━━━━━━━┩\n",
              "│ input_layer (\u001b[38;5;33mInputLayer\u001b[0m)             │ (\u001b[38;5;45mNone\u001b[0m, \u001b[38;5;34m9996\u001b[0m)                │               \u001b[38;5;34m0\u001b[0m │\n",
              "├──────────────────────────────────────┼─────────────────────────────┼─────────────────┤\n",
              "│ dense (\u001b[38;5;33mDense\u001b[0m)                        │ (\u001b[38;5;45mNone\u001b[0m, \u001b[38;5;34m128\u001b[0m)                 │       \u001b[38;5;34m1,279,616\u001b[0m │\n",
              "├──────────────────────────────────────┼─────────────────────────────┼─────────────────┤\n",
              "│ dense_1 (\u001b[38;5;33mDense\u001b[0m)                      │ (\u001b[38;5;45mNone\u001b[0m, \u001b[38;5;34m31\u001b[0m)                  │           \u001b[38;5;34m3,999\u001b[0m │\n",
              "└──────────────────────────────────────┴─────────────────────────────┴─────────────────┘\n"
            ],
            "text/html": [
              "<pre style=\"white-space:pre;overflow-x:auto;line-height:normal;font-family:Menlo,'DejaVu Sans Mono',consolas,'Courier New',monospace\">┏━━━━━━━━━━━━━━━━━━━━━━━━━━━━━━━━━━━━━━┳━━━━━━━━━━━━━━━━━━━━━━━━━━━━━┳━━━━━━━━━━━━━━━━━┓\n",
              "┃<span style=\"font-weight: bold\"> Layer (type)                         </span>┃<span style=\"font-weight: bold\"> Output Shape                </span>┃<span style=\"font-weight: bold\">         Param # </span>┃\n",
              "┡━━━━━━━━━━━━━━━━━━━━━━━━━━━━━━━━━━━━━━╇━━━━━━━━━━━━━━━━━━━━━━━━━━━━━╇━━━━━━━━━━━━━━━━━┩\n",
              "│ input_layer (<span style=\"color: #0087ff; text-decoration-color: #0087ff\">InputLayer</span>)             │ (<span style=\"color: #00d7ff; text-decoration-color: #00d7ff\">None</span>, <span style=\"color: #00af00; text-decoration-color: #00af00\">9996</span>)                │               <span style=\"color: #00af00; text-decoration-color: #00af00\">0</span> │\n",
              "├──────────────────────────────────────┼─────────────────────────────┼─────────────────┤\n",
              "│ dense (<span style=\"color: #0087ff; text-decoration-color: #0087ff\">Dense</span>)                        │ (<span style=\"color: #00d7ff; text-decoration-color: #00d7ff\">None</span>, <span style=\"color: #00af00; text-decoration-color: #00af00\">128</span>)                 │       <span style=\"color: #00af00; text-decoration-color: #00af00\">1,279,616</span> │\n",
              "├──────────────────────────────────────┼─────────────────────────────┼─────────────────┤\n",
              "│ dense_1 (<span style=\"color: #0087ff; text-decoration-color: #0087ff\">Dense</span>)                      │ (<span style=\"color: #00d7ff; text-decoration-color: #00d7ff\">None</span>, <span style=\"color: #00af00; text-decoration-color: #00af00\">31</span>)                  │           <span style=\"color: #00af00; text-decoration-color: #00af00\">3,999</span> │\n",
              "└──────────────────────────────────────┴─────────────────────────────┴─────────────────┘\n",
              "</pre>\n"
            ]
          },
          "metadata": {}
        },
        {
          "output_type": "display_data",
          "data": {
            "text/plain": [
              "\u001b[1m Total params: \u001b[0m\u001b[38;5;34m1,283,615\u001b[0m (4.90 MB)\n"
            ],
            "text/html": [
              "<pre style=\"white-space:pre;overflow-x:auto;line-height:normal;font-family:Menlo,'DejaVu Sans Mono',consolas,'Courier New',monospace\"><span style=\"font-weight: bold\"> Total params: </span><span style=\"color: #00af00; text-decoration-color: #00af00\">1,283,615</span> (4.90 MB)\n",
              "</pre>\n"
            ]
          },
          "metadata": {}
        },
        {
          "output_type": "display_data",
          "data": {
            "text/plain": [
              "\u001b[1m Trainable params: \u001b[0m\u001b[38;5;34m1,283,615\u001b[0m (4.90 MB)\n"
            ],
            "text/html": [
              "<pre style=\"white-space:pre;overflow-x:auto;line-height:normal;font-family:Menlo,'DejaVu Sans Mono',consolas,'Courier New',monospace\"><span style=\"font-weight: bold\"> Trainable params: </span><span style=\"color: #00af00; text-decoration-color: #00af00\">1,283,615</span> (4.90 MB)\n",
              "</pre>\n"
            ]
          },
          "metadata": {}
        },
        {
          "output_type": "display_data",
          "data": {
            "text/plain": [
              "\u001b[1m Non-trainable params: \u001b[0m\u001b[38;5;34m0\u001b[0m (0.00 B)\n"
            ],
            "text/html": [
              "<pre style=\"white-space:pre;overflow-x:auto;line-height:normal;font-family:Menlo,'DejaVu Sans Mono',consolas,'Courier New',monospace\"><span style=\"font-weight: bold\"> Non-trainable params: </span><span style=\"color: #00af00; text-decoration-color: #00af00\">0</span> (0.00 B)\n",
              "</pre>\n"
            ]
          },
          "metadata": {}
        }
      ],
      "source": [
        "rocketsktimeL2 = RocketSktimeL2(shape = (9996,))\n",
        "rocketsktimeL2.summary()"
      ]
    },
    {
      "cell_type": "code",
      "execution_count": 19,
      "id": "v-e9ZekqgNW_",
      "metadata": {
        "colab": {
          "base_uri": "https://localhost:8080/"
        },
        "id": "v-e9ZekqgNW_",
        "outputId": "70d54249-174c-4608-bfe2-8b1d7fe4cd90"
      },
      "outputs": [
        {
          "output_type": "stream",
          "name": "stdout",
          "text": [
            "Epoch 1/10\n",
            "\u001b[1m68/68\u001b[0m \u001b[32m━━━━━━━━━━━━━━━━━━━━\u001b[0m\u001b[37m\u001b[0m \u001b[1m4s\u001b[0m 37ms/step - accuracy: 0.0347 - loss: 3618.9587 - val_accuracy: 0.0295 - val_loss: 3756.0283\n",
            "Epoch 2/10\n",
            "\u001b[1m68/68\u001b[0m \u001b[32m━━━━━━━━━━━━━━━━━━━━\u001b[0m\u001b[37m\u001b[0m \u001b[1m4s\u001b[0m 25ms/step - accuracy: 0.0391 - loss: 3621.0718 - val_accuracy: 0.0445 - val_loss: 2864.6770\n",
            "Epoch 3/10\n",
            "\u001b[1m68/68\u001b[0m \u001b[32m━━━━━━━━━━━━━━━━━━━━\u001b[0m\u001b[37m\u001b[0m \u001b[1m2s\u001b[0m 25ms/step - accuracy: 0.0384 - loss: 3453.9260 - val_accuracy: 0.0352 - val_loss: 3257.8210\n",
            "Epoch 4/10\n",
            "\u001b[1m68/68\u001b[0m \u001b[32m━━━━━━━━━━━━━━━━━━━━\u001b[0m\u001b[37m\u001b[0m \u001b[1m3s\u001b[0m 26ms/step - accuracy: 0.0307 - loss: 3232.6377 - val_accuracy: 0.0287 - val_loss: 4179.7915\n",
            "Epoch 5/10\n",
            "\u001b[1m68/68\u001b[0m \u001b[32m━━━━━━━━━━━━━━━━━━━━\u001b[0m\u001b[37m\u001b[0m \u001b[1m2s\u001b[0m 25ms/step - accuracy: 0.0342 - loss: 4479.6675 - val_accuracy: 0.0417 - val_loss: 4804.6748\n",
            "Epoch 6/10\n",
            "\u001b[1m68/68\u001b[0m \u001b[32m━━━━━━━━━━━━━━━━━━━━\u001b[0m\u001b[37m\u001b[0m \u001b[1m2s\u001b[0m 27ms/step - accuracy: 0.0331 - loss: 4957.7383 - val_accuracy: 0.0316 - val_loss: 6241.2852\n",
            "Epoch 7/10\n",
            "\u001b[1m68/68\u001b[0m \u001b[32m━━━━━━━━━━━━━━━━━━━━\u001b[0m\u001b[37m\u001b[0m \u001b[1m3s\u001b[0m 39ms/step - accuracy: 0.0352 - loss: 7138.9985 - val_accuracy: 0.0424 - val_loss: 8854.9307\n",
            "Epoch 8/10\n",
            "\u001b[1m68/68\u001b[0m \u001b[32m━━━━━━━━━━━━━━━━━━━━\u001b[0m\u001b[37m\u001b[0m \u001b[1m4s\u001b[0m 25ms/step - accuracy: 0.0300 - loss: 8311.6377 - val_accuracy: 0.0345 - val_loss: 7840.5107\n",
            "Epoch 9/10\n",
            "\u001b[1m68/68\u001b[0m \u001b[32m━━━━━━━━━━━━━━━━━━━━\u001b[0m\u001b[37m\u001b[0m \u001b[1m3s\u001b[0m 25ms/step - accuracy: 0.0336 - loss: 8106.5234 - val_accuracy: 0.0216 - val_loss: 9288.5420\n",
            "Epoch 10/10\n",
            "\u001b[1m68/68\u001b[0m \u001b[32m━━━━━━━━━━━━━━━━━━━━\u001b[0m\u001b[37m\u001b[0m \u001b[1m3s\u001b[0m 25ms/step - accuracy: 0.0312 - loss: 8951.1924 - val_accuracy: 0.0266 - val_loss: 7793.5049\n"
          ]
        }
      ],
      "source": [
        "rocketsktime_modelL2 = RocketSktimeL2(shape = (9996,))\n",
        "rocketsktime_modelL2.compile(optimizer=Adam(learning_rate=1.0, beta_1=0.99, beta_2=0.999, epsilon=1e-08), loss='categorical_crossentropy', metrics=['accuracy'])\n",
        "history_sktimeL2 = rocketsktime_modelL2.fit(train_rocket_ds,  validation_data = val_rocket_ds, epochs=10, verbose = 1)"
      ]
    },
    {
      "cell_type": "markdown",
      "source": [
        "When enforcing a kernel regulariser penalty, even after providing additional flexibility with more fully connected layers, the accuracy does not improve. Because there are more features than samples, the first dense layer is masively overparameterised and has just learned to perfectly predict the classes. With only that first dense layer, the validation accuracy nonetheless holds up quite well, but the model is suboptimal. We could achieve similar validation accuracy with far fewer parameters using Principle Components Analysis."
      ],
      "metadata": {
        "id": "P_JU63Maf2Xq"
      },
      "id": "P_JU63Maf2Xq"
    },
    {
      "cell_type": "markdown",
      "id": "z6mUL7FUYh46",
      "metadata": {
        "id": "z6mUL7FUYh46"
      },
      "source": [
        "## **Experiment: Classification with PCA transformed data**"
      ]
    },
    {
      "cell_type": "code",
      "source": [
        "def RocketSktimeL2(shape):\n",
        "    block1_input_layer = Input(shape=shape)\n",
        "    layer = Dense(128, activation=\"sigmoid\")(block1_input_layer)\n",
        "    output_layer = Dense(C, activation=\"softmax\")(layer)\n",
        "    return Model(inputs=block1_input_layer, outputs=output_layer)"
      ],
      "metadata": {
        "id": "aE3mDJFY_zHh"
      },
      "id": "aE3mDJFY_zHh",
      "execution_count": 20,
      "outputs": []
    },
    {
      "cell_type": "code",
      "source": [
        "rocketsktime_modelL2 = RocketSktimeL2(shape = (128,))\n",
        "rocketsktime_modelL2.compile(optimizer=Adam(learning_rate=0.1, beta_1=0.99, beta_2=0.999, epsilon=1e-08), loss='categorical_crossentropy', metrics=['accuracy'])\n",
        "history_sktimeL2 = rocketsktime_modelL2.fit(train_pca_ds,  validation_data = val_pca_ds, epochs=100, verbose = 1)"
      ],
      "metadata": {
        "colab": {
          "base_uri": "https://localhost:8080/"
        },
        "id": "aAxQBlrV_zKL",
        "outputId": "b8d7025d-9fb3-4f9f-f5fa-56b4507a5606"
      },
      "id": "aAxQBlrV_zKL",
      "execution_count": 21,
      "outputs": [
        {
          "output_type": "stream",
          "name": "stdout",
          "text": [
            "Epoch 1/100\n",
            "\u001b[1m68/68\u001b[0m \u001b[32m━━━━━━━━━━━━━━━━━━━━\u001b[0m\u001b[37m\u001b[0m \u001b[1m1s\u001b[0m 9ms/step - accuracy: 0.4150 - loss: 3.2314 - val_accuracy: 0.6013 - val_loss: 1.8358\n",
            "Epoch 2/100\n",
            "\u001b[1m68/68\u001b[0m \u001b[32m━━━━━━━━━━━━━━━━━━━━\u001b[0m\u001b[37m\u001b[0m \u001b[1m2s\u001b[0m 17ms/step - accuracy: 0.8482 - loss: 0.5269 - val_accuracy: 0.6480 - val_loss: 2.0806\n",
            "Epoch 3/100\n",
            "\u001b[1m68/68\u001b[0m \u001b[32m━━━━━━━━━━━━━━━━━━━━\u001b[0m\u001b[37m\u001b[0m \u001b[1m0s\u001b[0m 4ms/step - accuracy: 0.9107 - loss: 0.3243 - val_accuracy: 0.6580 - val_loss: 2.5158\n",
            "Epoch 4/100\n",
            "\u001b[1m68/68\u001b[0m \u001b[32m━━━━━━━━━━━━━━━━━━━━\u001b[0m\u001b[37m\u001b[0m \u001b[1m1s\u001b[0m 14ms/step - accuracy: 0.9440 - loss: 0.1853 - val_accuracy: 0.6940 - val_loss: 2.2933\n",
            "Epoch 5/100\n",
            "\u001b[1m68/68\u001b[0m \u001b[32m━━━━━━━━━━━━━━━━━━━━\u001b[0m\u001b[37m\u001b[0m \u001b[1m1s\u001b[0m 5ms/step - accuracy: 0.9504 - loss: 0.1790 - val_accuracy: 0.6796 - val_loss: 2.5925\n",
            "Epoch 6/100\n",
            "\u001b[1m68/68\u001b[0m \u001b[32m━━━━━━━━━━━━━━━━━━━━\u001b[0m\u001b[37m\u001b[0m \u001b[1m1s\u001b[0m 4ms/step - accuracy: 0.9622 - loss: 0.1210 - val_accuracy: 0.6940 - val_loss: 2.4059\n",
            "Epoch 7/100\n",
            "\u001b[1m68/68\u001b[0m \u001b[32m━━━━━━━━━━━━━━━━━━━━\u001b[0m\u001b[37m\u001b[0m \u001b[1m0s\u001b[0m 2ms/step - accuracy: 0.9586 - loss: 0.1453 - val_accuracy: 0.6868 - val_loss: 2.5046\n",
            "Epoch 8/100\n",
            "\u001b[1m68/68\u001b[0m \u001b[32m━━━━━━━━━━━━━━━━━━━━\u001b[0m\u001b[37m\u001b[0m \u001b[1m0s\u001b[0m 3ms/step - accuracy: 0.9664 - loss: 0.1357 - val_accuracy: 0.6889 - val_loss: 3.1258\n",
            "Epoch 9/100\n",
            "\u001b[1m68/68\u001b[0m \u001b[32m━━━━━━━━━━━━━━━━━━━━\u001b[0m\u001b[37m\u001b[0m \u001b[1m0s\u001b[0m 2ms/step - accuracy: 0.9620 - loss: 0.1508 - val_accuracy: 0.6825 - val_loss: 2.8873\n",
            "Epoch 10/100\n",
            "\u001b[1m68/68\u001b[0m \u001b[32m━━━━━━━━━━━━━━━━━━━━\u001b[0m\u001b[37m\u001b[0m \u001b[1m0s\u001b[0m 2ms/step - accuracy: 0.9700 - loss: 0.1165 - val_accuracy: 0.6846 - val_loss: 3.0875\n",
            "Epoch 11/100\n",
            "\u001b[1m68/68\u001b[0m \u001b[32m━━━━━━━━━━━━━━━━━━━━\u001b[0m\u001b[37m\u001b[0m \u001b[1m0s\u001b[0m 3ms/step - accuracy: 0.9620 - loss: 0.1653 - val_accuracy: 0.6753 - val_loss: 3.1814\n",
            "Epoch 12/100\n",
            "\u001b[1m68/68\u001b[0m \u001b[32m━━━━━━━━━━━━━━━━━━━━\u001b[0m\u001b[37m\u001b[0m \u001b[1m0s\u001b[0m 2ms/step - accuracy: 0.9638 - loss: 0.1318 - val_accuracy: 0.6523 - val_loss: 3.5311\n",
            "Epoch 13/100\n",
            "\u001b[1m68/68\u001b[0m \u001b[32m━━━━━━━━━━━━━━━━━━━━\u001b[0m\u001b[37m\u001b[0m \u001b[1m0s\u001b[0m 2ms/step - accuracy: 0.9664 - loss: 0.1622 - val_accuracy: 0.6365 - val_loss: 3.6147\n",
            "Epoch 14/100\n",
            "\u001b[1m68/68\u001b[0m \u001b[32m━━━━━━━━━━━━━━━━━━━━\u001b[0m\u001b[37m\u001b[0m \u001b[1m0s\u001b[0m 2ms/step - accuracy: 0.9430 - loss: 0.2795 - val_accuracy: 0.6688 - val_loss: 4.2243\n",
            "Epoch 15/100\n",
            "\u001b[1m68/68\u001b[0m \u001b[32m━━━━━━━━━━━━━━━━━━━━\u001b[0m\u001b[37m\u001b[0m \u001b[1m0s\u001b[0m 3ms/step - accuracy: 0.9386 - loss: 0.3431 - val_accuracy: 0.6609 - val_loss: 4.4739\n",
            "Epoch 16/100\n",
            "\u001b[1m68/68\u001b[0m \u001b[32m━━━━━━━━━━━━━━━━━━━━\u001b[0m\u001b[37m\u001b[0m \u001b[1m0s\u001b[0m 2ms/step - accuracy: 0.9300 - loss: 0.5399 - val_accuracy: 0.6659 - val_loss: 4.7322\n",
            "Epoch 17/100\n",
            "\u001b[1m68/68\u001b[0m \u001b[32m━━━━━━━━━━━━━━━━━━━━\u001b[0m\u001b[37m\u001b[0m \u001b[1m0s\u001b[0m 2ms/step - accuracy: 0.9499 - loss: 0.3421 - val_accuracy: 0.6645 - val_loss: 4.9526\n",
            "Epoch 18/100\n",
            "\u001b[1m68/68\u001b[0m \u001b[32m━━━━━━━━━━━━━━━━━━━━\u001b[0m\u001b[37m\u001b[0m \u001b[1m0s\u001b[0m 2ms/step - accuracy: 0.9309 - loss: 0.5188 - val_accuracy: 0.6351 - val_loss: 5.8006\n",
            "Epoch 19/100\n",
            "\u001b[1m68/68\u001b[0m \u001b[32m━━━━━━━━━━━━━━━━━━━━\u001b[0m\u001b[37m\u001b[0m \u001b[1m0s\u001b[0m 3ms/step - accuracy: 0.9374 - loss: 0.4485 - val_accuracy: 0.6739 - val_loss: 4.7062\n",
            "Epoch 20/100\n",
            "\u001b[1m68/68\u001b[0m \u001b[32m━━━━━━━━━━━━━━━━━━━━\u001b[0m\u001b[37m\u001b[0m \u001b[1m0s\u001b[0m 2ms/step - accuracy: 0.9466 - loss: 0.3379 - val_accuracy: 0.6638 - val_loss: 5.3836\n",
            "Epoch 21/100\n",
            "\u001b[1m68/68\u001b[0m \u001b[32m━━━━━━━━━━━━━━━━━━━━\u001b[0m\u001b[37m\u001b[0m \u001b[1m0s\u001b[0m 2ms/step - accuracy: 0.9546 - loss: 0.2793 - val_accuracy: 0.6717 - val_loss: 4.6691\n",
            "Epoch 22/100\n",
            "\u001b[1m68/68\u001b[0m \u001b[32m━━━━━━━━━━━━━━━━━━━━\u001b[0m\u001b[37m\u001b[0m \u001b[1m0s\u001b[0m 3ms/step - accuracy: 0.9636 - loss: 0.1844 - val_accuracy: 0.6638 - val_loss: 5.6271\n",
            "Epoch 23/100\n",
            "\u001b[1m68/68\u001b[0m \u001b[32m━━━━━━━━━━━━━━━━━━━━\u001b[0m\u001b[37m\u001b[0m \u001b[1m0s\u001b[0m 3ms/step - accuracy: 0.9600 - loss: 0.2549 - val_accuracy: 0.6731 - val_loss: 5.3127\n",
            "Epoch 24/100\n",
            "\u001b[1m68/68\u001b[0m \u001b[32m━━━━━━━━━━━━━━━━━━━━\u001b[0m\u001b[37m\u001b[0m \u001b[1m0s\u001b[0m 3ms/step - accuracy: 0.9666 - loss: 0.1905 - val_accuracy: 0.6710 - val_loss: 5.7633\n",
            "Epoch 25/100\n",
            "\u001b[1m68/68\u001b[0m \u001b[32m━━━━━━━━━━━━━━━━━━━━\u001b[0m\u001b[37m\u001b[0m \u001b[1m0s\u001b[0m 2ms/step - accuracy: 0.9617 - loss: 0.2107 - val_accuracy: 0.6703 - val_loss: 6.1323\n",
            "Epoch 26/100\n",
            "\u001b[1m68/68\u001b[0m \u001b[32m━━━━━━━━━━━━━━━━━━━━\u001b[0m\u001b[37m\u001b[0m \u001b[1m0s\u001b[0m 3ms/step - accuracy: 0.9595 - loss: 0.2821 - val_accuracy: 0.6961 - val_loss: 6.6406\n",
            "Epoch 27/100\n",
            "\u001b[1m68/68\u001b[0m \u001b[32m━━━━━━━━━━━━━━━━━━━━\u001b[0m\u001b[37m\u001b[0m \u001b[1m0s\u001b[0m 2ms/step - accuracy: 0.9459 - loss: 0.5348 - val_accuracy: 0.6638 - val_loss: 6.4901\n",
            "Epoch 28/100\n",
            "\u001b[1m68/68\u001b[0m \u001b[32m━━━━━━━━━━━━━━━━━━━━\u001b[0m\u001b[37m\u001b[0m \u001b[1m0s\u001b[0m 2ms/step - accuracy: 0.9530 - loss: 0.5478 - val_accuracy: 0.6796 - val_loss: 6.3706\n",
            "Epoch 29/100\n",
            "\u001b[1m68/68\u001b[0m \u001b[32m━━━━━━━━━━━━━━━━━━━━\u001b[0m\u001b[37m\u001b[0m \u001b[1m0s\u001b[0m 2ms/step - accuracy: 0.9658 - loss: 0.4357 - val_accuracy: 0.6724 - val_loss: 5.8808\n",
            "Epoch 30/100\n",
            "\u001b[1m68/68\u001b[0m \u001b[32m━━━━━━━━━━━━━━━━━━━━\u001b[0m\u001b[37m\u001b[0m \u001b[1m0s\u001b[0m 2ms/step - accuracy: 0.9588 - loss: 0.3602 - val_accuracy: 0.6523 - val_loss: 6.7817\n",
            "Epoch 31/100\n",
            "\u001b[1m68/68\u001b[0m \u001b[32m━━━━━━━━━━━━━━━━━━━━\u001b[0m\u001b[37m\u001b[0m \u001b[1m0s\u001b[0m 2ms/step - accuracy: 0.9644 - loss: 0.3367 - val_accuracy: 0.6458 - val_loss: 7.0056\n",
            "Epoch 32/100\n",
            "\u001b[1m68/68\u001b[0m \u001b[32m━━━━━━━━━━━━━━━━━━━━\u001b[0m\u001b[37m\u001b[0m \u001b[1m0s\u001b[0m 3ms/step - accuracy: 0.9575 - loss: 0.3335 - val_accuracy: 0.6566 - val_loss: 6.3433\n",
            "Epoch 33/100\n",
            "\u001b[1m68/68\u001b[0m \u001b[32m━━━━━━━━━━━━━━━━━━━━\u001b[0m\u001b[37m\u001b[0m \u001b[1m0s\u001b[0m 3ms/step - accuracy: 0.9601 - loss: 0.3212 - val_accuracy: 0.6688 - val_loss: 6.6769\n",
            "Epoch 34/100\n",
            "\u001b[1m68/68\u001b[0m \u001b[32m━━━━━━━━━━━━━━━━━━━━\u001b[0m\u001b[37m\u001b[0m \u001b[1m0s\u001b[0m 2ms/step - accuracy: 0.9613 - loss: 0.3266 - val_accuracy: 0.6545 - val_loss: 6.6890\n",
            "Epoch 35/100\n",
            "\u001b[1m68/68\u001b[0m \u001b[32m━━━━━━━━━━━━━━━━━━━━\u001b[0m\u001b[37m\u001b[0m \u001b[1m0s\u001b[0m 2ms/step - accuracy: 0.9700 - loss: 0.1985 - val_accuracy: 0.6710 - val_loss: 6.8005\n",
            "Epoch 36/100\n",
            "\u001b[1m68/68\u001b[0m \u001b[32m━━━━━━━━━━━━━━━━━━━━\u001b[0m\u001b[37m\u001b[0m \u001b[1m0s\u001b[0m 2ms/step - accuracy: 0.9777 - loss: 0.1415 - val_accuracy: 0.6681 - val_loss: 6.7823\n",
            "Epoch 37/100\n",
            "\u001b[1m68/68\u001b[0m \u001b[32m━━━━━━━━━━━━━━━━━━━━\u001b[0m\u001b[37m\u001b[0m \u001b[1m0s\u001b[0m 2ms/step - accuracy: 0.9737 - loss: 0.1678 - val_accuracy: 0.6659 - val_loss: 7.3499\n",
            "Epoch 38/100\n",
            "\u001b[1m68/68\u001b[0m \u001b[32m━━━━━━━━━━━━━━━━━━━━\u001b[0m\u001b[37m\u001b[0m \u001b[1m0s\u001b[0m 2ms/step - accuracy: 0.9712 - loss: 0.1661 - val_accuracy: 0.6652 - val_loss: 6.7300\n",
            "Epoch 39/100\n",
            "\u001b[1m68/68\u001b[0m \u001b[32m━━━━━━━━━━━━━━━━━━━━\u001b[0m\u001b[37m\u001b[0m \u001b[1m0s\u001b[0m 2ms/step - accuracy: 0.9778 - loss: 0.1325 - val_accuracy: 0.6516 - val_loss: 7.8501\n",
            "Epoch 40/100\n",
            "\u001b[1m68/68\u001b[0m \u001b[32m━━━━━━━━━━━━━━━━━━━━\u001b[0m\u001b[37m\u001b[0m \u001b[1m0s\u001b[0m 2ms/step - accuracy: 0.9757 - loss: 0.1460 - val_accuracy: 0.6659 - val_loss: 7.1073\n",
            "Epoch 41/100\n",
            "\u001b[1m68/68\u001b[0m \u001b[32m━━━━━━━━━━━━━━━━━━━━\u001b[0m\u001b[37m\u001b[0m \u001b[1m0s\u001b[0m 2ms/step - accuracy: 0.9796 - loss: 0.0973 - val_accuracy: 0.6537 - val_loss: 7.6289\n",
            "Epoch 42/100\n",
            "\u001b[1m68/68\u001b[0m \u001b[32m━━━━━━━━━━━━━━━━━━━━\u001b[0m\u001b[37m\u001b[0m \u001b[1m0s\u001b[0m 2ms/step - accuracy: 0.9817 - loss: 0.1126 - val_accuracy: 0.6659 - val_loss: 7.2096\n",
            "Epoch 43/100\n",
            "\u001b[1m68/68\u001b[0m \u001b[32m━━━━━━━━━━━━━━━━━━━━\u001b[0m\u001b[37m\u001b[0m \u001b[1m0s\u001b[0m 3ms/step - accuracy: 0.9754 - loss: 0.1655 - val_accuracy: 0.6516 - val_loss: 7.7690\n",
            "Epoch 44/100\n",
            "\u001b[1m68/68\u001b[0m \u001b[32m━━━━━━━━━━━━━━━━━━━━\u001b[0m\u001b[37m\u001b[0m \u001b[1m0s\u001b[0m 2ms/step - accuracy: 0.9846 - loss: 0.0744 - val_accuracy: 0.6803 - val_loss: 7.2235\n",
            "Epoch 45/100\n",
            "\u001b[1m68/68\u001b[0m \u001b[32m━━━━━━━━━━━━━━━━━━━━\u001b[0m\u001b[37m\u001b[0m \u001b[1m0s\u001b[0m 3ms/step - accuracy: 0.9819 - loss: 0.0922 - val_accuracy: 0.6724 - val_loss: 7.3118\n",
            "Epoch 46/100\n",
            "\u001b[1m68/68\u001b[0m \u001b[32m━━━━━━━━━━━━━━━━━━━━\u001b[0m\u001b[37m\u001b[0m \u001b[1m0s\u001b[0m 2ms/step - accuracy: 0.9822 - loss: 0.0912 - val_accuracy: 0.6724 - val_loss: 6.8706\n",
            "Epoch 47/100\n",
            "\u001b[1m68/68\u001b[0m \u001b[32m━━━━━━━━━━━━━━━━━━━━\u001b[0m\u001b[37m\u001b[0m \u001b[1m0s\u001b[0m 2ms/step - accuracy: 0.9792 - loss: 0.1345 - val_accuracy: 0.6695 - val_loss: 7.0455\n",
            "Epoch 48/100\n",
            "\u001b[1m68/68\u001b[0m \u001b[32m━━━━━━━━━━━━━━━━━━━━\u001b[0m\u001b[37m\u001b[0m \u001b[1m0s\u001b[0m 4ms/step - accuracy: 0.9817 - loss: 0.1126 - val_accuracy: 0.6724 - val_loss: 7.4229\n",
            "Epoch 49/100\n",
            "\u001b[1m68/68\u001b[0m \u001b[32m━━━━━━━━━━━━━━━━━━━━\u001b[0m\u001b[37m\u001b[0m \u001b[1m0s\u001b[0m 4ms/step - accuracy: 0.9800 - loss: 0.1080 - val_accuracy: 0.6681 - val_loss: 7.0220\n",
            "Epoch 50/100\n",
            "\u001b[1m68/68\u001b[0m \u001b[32m━━━━━━━━━━━━━━━━━━━━\u001b[0m\u001b[37m\u001b[0m \u001b[1m0s\u001b[0m 4ms/step - accuracy: 0.9817 - loss: 0.1064 - val_accuracy: 0.6695 - val_loss: 7.2268\n",
            "Epoch 51/100\n",
            "\u001b[1m68/68\u001b[0m \u001b[32m━━━━━━━━━━━━━━━━━━━━\u001b[0m\u001b[37m\u001b[0m \u001b[1m0s\u001b[0m 4ms/step - accuracy: 0.9820 - loss: 0.1142 - val_accuracy: 0.6717 - val_loss: 6.8997\n",
            "Epoch 52/100\n",
            "\u001b[1m68/68\u001b[0m \u001b[32m━━━━━━━━━━━━━━━━━━━━\u001b[0m\u001b[37m\u001b[0m \u001b[1m1s\u001b[0m 3ms/step - accuracy: 0.9866 - loss: 0.0713 - val_accuracy: 0.6853 - val_loss: 6.7459\n",
            "Epoch 53/100\n",
            "\u001b[1m68/68\u001b[0m \u001b[32m━━━━━━━━━━━━━━━━━━━━\u001b[0m\u001b[37m\u001b[0m \u001b[1m0s\u001b[0m 4ms/step - accuracy: 0.9733 - loss: 0.1659 - val_accuracy: 0.6667 - val_loss: 7.3937\n",
            "Epoch 54/100\n",
            "\u001b[1m68/68\u001b[0m \u001b[32m━━━━━━━━━━━━━━━━━━━━\u001b[0m\u001b[37m\u001b[0m \u001b[1m0s\u001b[0m 4ms/step - accuracy: 0.9688 - loss: 0.1863 - val_accuracy: 0.6760 - val_loss: 6.9136\n",
            "Epoch 55/100\n",
            "\u001b[1m68/68\u001b[0m \u001b[32m━━━━━━━━━━━━━━━━━━━━\u001b[0m\u001b[37m\u001b[0m \u001b[1m0s\u001b[0m 4ms/step - accuracy: 0.9684 - loss: 0.2633 - val_accuracy: 0.6731 - val_loss: 7.8730\n",
            "Epoch 56/100\n",
            "\u001b[1m68/68\u001b[0m \u001b[32m━━━━━━━━━━━━━━━━━━━━\u001b[0m\u001b[37m\u001b[0m \u001b[1m0s\u001b[0m 4ms/step - accuracy: 0.9739 - loss: 0.1689 - val_accuracy: 0.6782 - val_loss: 8.0564\n",
            "Epoch 57/100\n",
            "\u001b[1m68/68\u001b[0m \u001b[32m━━━━━━━━━━━━━━━━━━━━\u001b[0m\u001b[37m\u001b[0m \u001b[1m0s\u001b[0m 5ms/step - accuracy: 0.9665 - loss: 0.2919 - val_accuracy: 0.6825 - val_loss: 7.8157\n",
            "Epoch 58/100\n",
            "\u001b[1m68/68\u001b[0m \u001b[32m━━━━━━━━━━━━━━━━━━━━\u001b[0m\u001b[37m\u001b[0m \u001b[1m1s\u001b[0m 4ms/step - accuracy: 0.9777 - loss: 0.1614 - val_accuracy: 0.6818 - val_loss: 7.6711\n",
            "Epoch 59/100\n",
            "\u001b[1m68/68\u001b[0m \u001b[32m━━━━━━━━━━━━━━━━━━━━\u001b[0m\u001b[37m\u001b[0m \u001b[1m0s\u001b[0m 2ms/step - accuracy: 0.9743 - loss: 0.1894 - val_accuracy: 0.6688 - val_loss: 8.2839\n",
            "Epoch 60/100\n",
            "\u001b[1m68/68\u001b[0m \u001b[32m━━━━━━━━━━━━━━━━━━━━\u001b[0m\u001b[37m\u001b[0m \u001b[1m0s\u001b[0m 2ms/step - accuracy: 0.9795 - loss: 0.1317 - val_accuracy: 0.6724 - val_loss: 7.7440\n",
            "Epoch 61/100\n",
            "\u001b[1m68/68\u001b[0m \u001b[32m━━━━━━━━━━━━━━━━━━━━\u001b[0m\u001b[37m\u001b[0m \u001b[1m0s\u001b[0m 2ms/step - accuracy: 0.9803 - loss: 0.1613 - val_accuracy: 0.6717 - val_loss: 8.2574\n",
            "Epoch 62/100\n",
            "\u001b[1m68/68\u001b[0m \u001b[32m━━━━━━━━━━━━━━━━━━━━\u001b[0m\u001b[37m\u001b[0m \u001b[1m0s\u001b[0m 2ms/step - accuracy: 0.9819 - loss: 0.1533 - val_accuracy: 0.6810 - val_loss: 8.1656\n",
            "Epoch 63/100\n",
            "\u001b[1m68/68\u001b[0m \u001b[32m━━━━━━━━━━━━━━━━━━━━\u001b[0m\u001b[37m\u001b[0m \u001b[1m0s\u001b[0m 3ms/step - accuracy: 0.9848 - loss: 0.1129 - val_accuracy: 0.6616 - val_loss: 8.6950\n",
            "Epoch 64/100\n",
            "\u001b[1m68/68\u001b[0m \u001b[32m━━━━━━━━━━━━━━━━━━━━\u001b[0m\u001b[37m\u001b[0m \u001b[1m0s\u001b[0m 2ms/step - accuracy: 0.9744 - loss: 0.2053 - val_accuracy: 0.6746 - val_loss: 8.2549\n",
            "Epoch 65/100\n",
            "\u001b[1m68/68\u001b[0m \u001b[32m━━━━━━━━━━━━━━━━━━━━\u001b[0m\u001b[37m\u001b[0m \u001b[1m0s\u001b[0m 2ms/step - accuracy: 0.9778 - loss: 0.1531 - val_accuracy: 0.6767 - val_loss: 7.9875\n",
            "Epoch 66/100\n",
            "\u001b[1m68/68\u001b[0m \u001b[32m━━━━━━━━━━━━━━━━━━━━\u001b[0m\u001b[37m\u001b[0m \u001b[1m0s\u001b[0m 2ms/step - accuracy: 0.9771 - loss: 0.1766 - val_accuracy: 0.6624 - val_loss: 8.3175\n",
            "Epoch 67/100\n",
            "\u001b[1m68/68\u001b[0m \u001b[32m━━━━━━━━━━━━━━━━━━━━\u001b[0m\u001b[37m\u001b[0m \u001b[1m0s\u001b[0m 3ms/step - accuracy: 0.9719 - loss: 0.1877 - val_accuracy: 0.6753 - val_loss: 8.5721\n",
            "Epoch 68/100\n",
            "\u001b[1m68/68\u001b[0m \u001b[32m━━━━━━━━━━━━━━━━━━━━\u001b[0m\u001b[37m\u001b[0m \u001b[1m0s\u001b[0m 2ms/step - accuracy: 0.9713 - loss: 0.2248 - val_accuracy: 0.6767 - val_loss: 8.4255\n",
            "Epoch 69/100\n",
            "\u001b[1m68/68\u001b[0m \u001b[32m━━━━━━━━━━━━━━━━━━━━\u001b[0m\u001b[37m\u001b[0m \u001b[1m0s\u001b[0m 3ms/step - accuracy: 0.9755 - loss: 0.1650 - val_accuracy: 0.6659 - val_loss: 8.9551\n",
            "Epoch 70/100\n",
            "\u001b[1m68/68\u001b[0m \u001b[32m━━━━━━━━━━━━━━━━━━━━\u001b[0m\u001b[37m\u001b[0m \u001b[1m0s\u001b[0m 2ms/step - accuracy: 0.9767 - loss: 0.1725 - val_accuracy: 0.6659 - val_loss: 8.7437\n",
            "Epoch 71/100\n",
            "\u001b[1m68/68\u001b[0m \u001b[32m━━━━━━━━━━━━━━━━━━━━\u001b[0m\u001b[37m\u001b[0m \u001b[1m0s\u001b[0m 2ms/step - accuracy: 0.9733 - loss: 0.1623 - val_accuracy: 0.6487 - val_loss: 9.2488\n",
            "Epoch 72/100\n",
            "\u001b[1m68/68\u001b[0m \u001b[32m━━━━━━━━━━━━━━━━━━━━\u001b[0m\u001b[37m\u001b[0m \u001b[1m0s\u001b[0m 2ms/step - accuracy: 0.9774 - loss: 0.1422 - val_accuracy: 0.6774 - val_loss: 8.8519\n",
            "Epoch 73/100\n",
            "\u001b[1m68/68\u001b[0m \u001b[32m━━━━━━━━━━━━━━━━━━━━\u001b[0m\u001b[37m\u001b[0m \u001b[1m0s\u001b[0m 2ms/step - accuracy: 0.9698 - loss: 0.3396 - val_accuracy: 0.6717 - val_loss: 9.8433\n",
            "Epoch 74/100\n",
            "\u001b[1m68/68\u001b[0m \u001b[32m━━━━━━━━━━━━━━━━━━━━\u001b[0m\u001b[37m\u001b[0m \u001b[1m0s\u001b[0m 2ms/step - accuracy: 0.9779 - loss: 0.1934 - val_accuracy: 0.6746 - val_loss: 8.9867\n",
            "Epoch 75/100\n",
            "\u001b[1m68/68\u001b[0m \u001b[32m━━━━━━━━━━━━━━━━━━━━\u001b[0m\u001b[37m\u001b[0m \u001b[1m0s\u001b[0m 2ms/step - accuracy: 0.9827 - loss: 0.1485 - val_accuracy: 0.6667 - val_loss: 10.0032\n",
            "Epoch 76/100\n",
            "\u001b[1m68/68\u001b[0m \u001b[32m━━━━━━━━━━━━━━━━━━━━\u001b[0m\u001b[37m\u001b[0m \u001b[1m0s\u001b[0m 3ms/step - accuracy: 0.9789 - loss: 0.1130 - val_accuracy: 0.6681 - val_loss: 9.6194\n",
            "Epoch 77/100\n",
            "\u001b[1m68/68\u001b[0m \u001b[32m━━━━━━━━━━━━━━━━━━━━\u001b[0m\u001b[37m\u001b[0m \u001b[1m0s\u001b[0m 2ms/step - accuracy: 0.9799 - loss: 0.1456 - val_accuracy: 0.6501 - val_loss: 10.5501\n",
            "Epoch 78/100\n",
            "\u001b[1m68/68\u001b[0m \u001b[32m━━━━━━━━━━━━━━━━━━━━\u001b[0m\u001b[37m\u001b[0m \u001b[1m0s\u001b[0m 2ms/step - accuracy: 0.9832 - loss: 0.1012 - val_accuracy: 0.6537 - val_loss: 9.0127\n",
            "Epoch 79/100\n",
            "\u001b[1m68/68\u001b[0m \u001b[32m━━━━━━━━━━━━━━━━━━━━\u001b[0m\u001b[37m\u001b[0m \u001b[1m0s\u001b[0m 2ms/step - accuracy: 0.9810 - loss: 0.1285 - val_accuracy: 0.6717 - val_loss: 9.8450\n",
            "Epoch 80/100\n",
            "\u001b[1m68/68\u001b[0m \u001b[32m━━━━━━━━━━━━━━━━━━━━\u001b[0m\u001b[37m\u001b[0m \u001b[1m0s\u001b[0m 2ms/step - accuracy: 0.9824 - loss: 0.1005 - val_accuracy: 0.6631 - val_loss: 9.0047\n",
            "Epoch 81/100\n",
            "\u001b[1m68/68\u001b[0m \u001b[32m━━━━━━━━━━━━━━━━━━━━\u001b[0m\u001b[37m\u001b[0m \u001b[1m0s\u001b[0m 2ms/step - accuracy: 0.9821 - loss: 0.1245 - val_accuracy: 0.6638 - val_loss: 9.1768\n",
            "Epoch 82/100\n",
            "\u001b[1m68/68\u001b[0m \u001b[32m━━━━━━━━━━━━━━━━━━━━\u001b[0m\u001b[37m\u001b[0m \u001b[1m0s\u001b[0m 2ms/step - accuracy: 0.9812 - loss: 0.1460 - val_accuracy: 0.6631 - val_loss: 9.9864\n",
            "Epoch 83/100\n",
            "\u001b[1m68/68\u001b[0m \u001b[32m━━━━━━━━━━━━━━━━━━━━\u001b[0m\u001b[37m\u001b[0m \u001b[1m0s\u001b[0m 3ms/step - accuracy: 0.9767 - loss: 0.1973 - val_accuracy: 0.6710 - val_loss: 9.7597\n",
            "Epoch 84/100\n",
            "\u001b[1m68/68\u001b[0m \u001b[32m━━━━━━━━━━━━━━━━━━━━\u001b[0m\u001b[37m\u001b[0m \u001b[1m0s\u001b[0m 3ms/step - accuracy: 0.9834 - loss: 0.1182 - val_accuracy: 0.6695 - val_loss: 9.9410\n",
            "Epoch 85/100\n",
            "\u001b[1m68/68\u001b[0m \u001b[32m━━━━━━━━━━━━━━━━━━━━\u001b[0m\u001b[37m\u001b[0m \u001b[1m0s\u001b[0m 2ms/step - accuracy: 0.9792 - loss: 0.1900 - val_accuracy: 0.6717 - val_loss: 9.7017\n",
            "Epoch 86/100\n",
            "\u001b[1m68/68\u001b[0m \u001b[32m━━━━━━━━━━━━━━━━━━━━\u001b[0m\u001b[37m\u001b[0m \u001b[1m0s\u001b[0m 2ms/step - accuracy: 0.9836 - loss: 0.1342 - val_accuracy: 0.6631 - val_loss: 9.6946\n",
            "Epoch 87/100\n",
            "\u001b[1m68/68\u001b[0m \u001b[32m━━━━━━━━━━━━━━━━━━━━\u001b[0m\u001b[37m\u001b[0m \u001b[1m0s\u001b[0m 2ms/step - accuracy: 0.9824 - loss: 0.1694 - val_accuracy: 0.6659 - val_loss: 9.8129\n",
            "Epoch 88/100\n",
            "\u001b[1m68/68\u001b[0m \u001b[32m━━━━━━━━━━━━━━━━━━━━\u001b[0m\u001b[37m\u001b[0m \u001b[1m0s\u001b[0m 3ms/step - accuracy: 0.9869 - loss: 0.1036 - val_accuracy: 0.6688 - val_loss: 10.0264\n",
            "Epoch 89/100\n",
            "\u001b[1m68/68\u001b[0m \u001b[32m━━━━━━━━━━━━━━━━━━━━\u001b[0m\u001b[37m\u001b[0m \u001b[1m0s\u001b[0m 2ms/step - accuracy: 0.9884 - loss: 0.0684 - val_accuracy: 0.6595 - val_loss: 10.4084\n",
            "Epoch 90/100\n",
            "\u001b[1m68/68\u001b[0m \u001b[32m━━━━━━━━━━━━━━━━━━━━\u001b[0m\u001b[37m\u001b[0m \u001b[1m0s\u001b[0m 2ms/step - accuracy: 0.9852 - loss: 0.1128 - val_accuracy: 0.6588 - val_loss: 9.8002\n",
            "Epoch 91/100\n",
            "\u001b[1m68/68\u001b[0m \u001b[32m━━━━━━━━━━━━━━━━━━━━\u001b[0m\u001b[37m\u001b[0m \u001b[1m0s\u001b[0m 2ms/step - accuracy: 0.9824 - loss: 0.1075 - val_accuracy: 0.6731 - val_loss: 10.1522\n",
            "Epoch 92/100\n",
            "\u001b[1m68/68\u001b[0m \u001b[32m━━━━━━━━━━━━━━━━━━━━\u001b[0m\u001b[37m\u001b[0m \u001b[1m0s\u001b[0m 2ms/step - accuracy: 0.9861 - loss: 0.0880 - val_accuracy: 0.6616 - val_loss: 9.5773\n",
            "Epoch 93/100\n",
            "\u001b[1m68/68\u001b[0m \u001b[32m━━━━━━━━━━━━━━━━━━━━\u001b[0m\u001b[37m\u001b[0m \u001b[1m0s\u001b[0m 2ms/step - accuracy: 0.9864 - loss: 0.1003 - val_accuracy: 0.6638 - val_loss: 9.9157\n",
            "Epoch 94/100\n",
            "\u001b[1m68/68\u001b[0m \u001b[32m━━━━━━━━━━━━━━━━━━━━\u001b[0m\u001b[37m\u001b[0m \u001b[1m0s\u001b[0m 2ms/step - accuracy: 0.9839 - loss: 0.1044 - val_accuracy: 0.6566 - val_loss: 10.2739\n",
            "Epoch 95/100\n",
            "\u001b[1m68/68\u001b[0m \u001b[32m━━━━━━━━━━━━━━━━━━━━\u001b[0m\u001b[37m\u001b[0m \u001b[1m0s\u001b[0m 2ms/step - accuracy: 0.9823 - loss: 0.1245 - val_accuracy: 0.6710 - val_loss: 10.3660\n",
            "Epoch 96/100\n",
            "\u001b[1m68/68\u001b[0m \u001b[32m━━━━━━━━━━━━━━━━━━━━\u001b[0m\u001b[37m\u001b[0m \u001b[1m0s\u001b[0m 2ms/step - accuracy: 0.9837 - loss: 0.1258 - val_accuracy: 0.6588 - val_loss: 10.9611\n",
            "Epoch 97/100\n",
            "\u001b[1m68/68\u001b[0m \u001b[32m━━━━━━━━━━━━━━━━━━━━\u001b[0m\u001b[37m\u001b[0m \u001b[1m0s\u001b[0m 2ms/step - accuracy: 0.9822 - loss: 0.1254 - val_accuracy: 0.6609 - val_loss: 10.6270\n",
            "Epoch 98/100\n",
            "\u001b[1m68/68\u001b[0m \u001b[32m━━━━━━━━━━━━━━━━━━━━\u001b[0m\u001b[37m\u001b[0m \u001b[1m0s\u001b[0m 3ms/step - accuracy: 0.9846 - loss: 0.1413 - val_accuracy: 0.6652 - val_loss: 10.1491\n",
            "Epoch 99/100\n",
            "\u001b[1m68/68\u001b[0m \u001b[32m━━━━━━━━━━━━━━━━━━━━\u001b[0m\u001b[37m\u001b[0m \u001b[1m0s\u001b[0m 3ms/step - accuracy: 0.9875 - loss: 0.0844 - val_accuracy: 0.6580 - val_loss: 10.2813\n",
            "Epoch 100/100\n",
            "\u001b[1m68/68\u001b[0m \u001b[32m━━━━━━━━━━━━━━━━━━━━\u001b[0m\u001b[37m\u001b[0m \u001b[1m0s\u001b[0m 4ms/step - accuracy: 0.9842 - loss: 0.1175 - val_accuracy: 0.6703 - val_loss: 10.5949\n"
          ]
        }
      ]
    },
    {
      "cell_type": "markdown",
      "source": [
        "With validation accuracy os approximately 70% in the later epochs, PCA has clearly worked to pull the most informative features out of the data."
      ],
      "metadata": {
        "id": "JhLKs9uxjXOO"
      },
      "id": "JhLKs9uxjXOO"
    }
  ],
  "metadata": {
    "colab": {
      "provenance": []
    },
    "kernelspec": {
      "display_name": "Python 3",
      "name": "python3"
    },
    "language_info": {
      "codemirror_mode": {
        "name": "ipython",
        "version": 3
      },
      "file_extension": ".py",
      "mimetype": "text/x-python",
      "name": "python",
      "nbconvert_exporter": "python",
      "pygments_lexer": "ipython3",
      "version": "3.9.13"
    }
  },
  "nbformat": 4,
  "nbformat_minor": 5
}