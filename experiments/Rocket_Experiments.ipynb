{
  "cells": [
    {
      "cell_type": "markdown",
      "id": "dcc057d7",
      "metadata": {
        "id": "dcc057d7"
      },
      "source": [
        "# **Rocket Experiments**"
      ]
    },
    {
      "cell_type": "markdown",
      "id": "nUB3qukkVz4e",
      "metadata": {
        "id": "nUB3qukkVz4e"
      },
      "source": [
        "## **Initialisation**"
      ]
    },
    {
      "cell_type": "code",
      "execution_count": null,
      "id": "Rnoi2AD9umez",
      "metadata": {
        "colab": {
          "base_uri": "https://localhost:8080/"
        },
        "id": "Rnoi2AD9umez",
        "outputId": "7a8216f0-fa77-4e9b-926e-7b75993dd9a9"
      },
      "outputs": [
        {
          "output_type": "stream",
          "name": "stdout",
          "text": [
            "Collecting sktime\n",
            "  Downloading sktime-0.31.1-py3-none-any.whl.metadata (31 kB)\n",
            "Requirement already satisfied: joblib<1.5,>=1.2.0 in /usr/local/lib/python3.10/dist-packages (from sktime) (1.4.2)\n",
            "Requirement already satisfied: numpy<2.1,>=1.21 in /usr/local/lib/python3.10/dist-packages (from sktime) (1.26.4)\n",
            "Requirement already satisfied: packaging in /usr/local/lib/python3.10/dist-packages (from sktime) (24.1)\n",
            "Requirement already satisfied: pandas<2.3.0,>=1.1 in /usr/local/lib/python3.10/dist-packages (from sktime) (2.1.4)\n",
            "Collecting scikit-base<0.9.0,>=0.6.1 (from sktime)\n",
            "  Downloading scikit_base-0.8.2-py3-none-any.whl.metadata (8.5 kB)\n",
            "Requirement already satisfied: scikit-learn<1.6.0,>=0.24 in /usr/local/lib/python3.10/dist-packages (from sktime) (1.3.2)\n",
            "Requirement already satisfied: scipy<2.0.0,>=1.2 in /usr/local/lib/python3.10/dist-packages (from sktime) (1.13.1)\n",
            "Requirement already satisfied: python-dateutil>=2.8.2 in /usr/local/lib/python3.10/dist-packages (from pandas<2.3.0,>=1.1->sktime) (2.8.2)\n",
            "Requirement already satisfied: pytz>=2020.1 in /usr/local/lib/python3.10/dist-packages (from pandas<2.3.0,>=1.1->sktime) (2024.1)\n",
            "Requirement already satisfied: tzdata>=2022.1 in /usr/local/lib/python3.10/dist-packages (from pandas<2.3.0,>=1.1->sktime) (2024.1)\n",
            "Requirement already satisfied: threadpoolctl>=2.0.0 in /usr/local/lib/python3.10/dist-packages (from scikit-learn<1.6.0,>=0.24->sktime) (3.5.0)\n",
            "Requirement already satisfied: six>=1.5 in /usr/local/lib/python3.10/dist-packages (from python-dateutil>=2.8.2->pandas<2.3.0,>=1.1->sktime) (1.16.0)\n",
            "Downloading sktime-0.31.1-py3-none-any.whl (28.9 MB)\n",
            "\u001b[2K   \u001b[90m━━━━━━━━━━━━━━━━━━━━━━━━━━━━━━━━━━━━━━━━\u001b[0m \u001b[32m28.9/28.9 MB\u001b[0m \u001b[31m17.6 MB/s\u001b[0m eta \u001b[36m0:00:00\u001b[0m\n",
            "\u001b[?25hDownloading scikit_base-0.8.2-py3-none-any.whl (134 kB)\n",
            "\u001b[2K   \u001b[90m━━━━━━━━━━━━━━━━━━━━━━━━━━━━━━━━━━━━━━━━\u001b[0m \u001b[32m134.1/134.1 kB\u001b[0m \u001b[31m5.1 MB/s\u001b[0m eta \u001b[36m0:00:00\u001b[0m\n",
            "\u001b[?25hInstalling collected packages: scikit-base, sktime\n",
            "Successfully installed scikit-base-0.8.2 sktime-0.31.1\n"
          ]
        }
      ],
      "source": [
        "pip install sktime"
      ]
    },
    {
      "cell_type": "code",
      "execution_count": null,
      "id": "8R9a8pMzlk17",
      "metadata": {
        "id": "8R9a8pMzlk17"
      },
      "outputs": [],
      "source": [
        "import os\n",
        "import numpy as np\n",
        "import pickle\n",
        "import itertools\n",
        "from tqdm import tqdm\n",
        "import tensorflow as tf\n",
        "import matplotlib.pyplot as plt\n",
        "from sklearn.ensemble import RandomForestClassifier\n",
        "from sklearn.ensemble import AdaBoostClassifier\n",
        "from sklearn.ensemble import GradientBoostingClassifier\n",
        "from sklearn.model_selection import GridSearchCV\n",
        "from sklearn.metrics import classification_report\n",
        "from sktime.transformations.panel.rocket import MiniRocketMultivariate\n",
        "from keras.models import Model\n",
        "from keras.optimizers import Adam\n",
        "from keras.callbacks import EarlyStopping, ReduceLROnPlateau\n",
        "from tensorflow.keras.models import load_model\n",
        "from tensorflow.keras.regularizers import l2\n",
        "from keras.layers import Input, Layer, Conv1D, MaxPool1D, ReLU, BatchNormalization, LayerNormalization, Dropout, Add, Dense, GlobalMaxPooling1D, Bidirectional, GRU"
      ]
    },
    {
      "cell_type": "code",
      "execution_count": null,
      "id": "6PHiGpI9_k54",
      "metadata": {
        "colab": {
          "base_uri": "https://localhost:8080/"
        },
        "id": "6PHiGpI9_k54",
        "outputId": "1fb77da8-9781-48b3-c52b-506dd9281d1f"
      },
      "outputs": [
        {
          "output_type": "stream",
          "name": "stdout",
          "text": [
            "Mounted at /content/drive\n"
          ]
        }
      ],
      "source": [
        "#You MUST run this command before reading in any data from Google Drive\n",
        "from google.colab import files\n",
        "from google.colab import drive\n",
        "import pandas as pd\n",
        "drive.mount('/content/drive', force_remount=True)\n",
        "os.chdir('/content/drive/My Drive/Colab Notebooks/Thesis/experiments')\n",
        "\n",
        "%run ../sys_configs.ipynb"
      ]
    },
    {
      "cell_type": "markdown",
      "id": "4-etjmAHwU-7",
      "metadata": {
        "id": "4-etjmAHwU-7"
      },
      "source": [
        "In Convolutional Neural Networks (CNNs), the convolutional filters that form the backbone of the network give rise to a large number of trainable parameters compared to algorithms like ridge regression. The Random Convolutional Kernel Transform (Rocket) was built to address this, and it performs feature extraction by overlaying a large number of random convolutional kernels, and then extracting features from the outputs of these kernels. Rocket therefore has the effect of transforming the problem to one that standard ML algorithms like Random Forest and Ridge Regression can solve. The original Rocket architecture computed 2 such features: the maximum value and the Proportion of Positive Values (PPV). Any individual feature can be thought of as a *base learner* featuring only a weak signal, but the base learners are followed up with a classifier like a Ridge Classifier that selects the most relevant features. This approach has a much lower computational complexity compared to traditional time series classification algorithms, yet in the benchmark scripts was found to have the strongest performance of the models tested on MyoGym data.\n",
        "\n",
        "MultiRocket extends on the Rocket and MiniRocket architectures (covered in another benchmark workbook). In MultiRocket, 84 convolutional kernels are applied to both the raw time series and the first order differenced time series, which matches the number of kernels used in MiniRocket. Different dilation factors are used for each kernel in order to extract features at different scales. Biases are sampled from the convolution outputs, or for Rocket, sampled from a Uniform distribution in the range $(-1, 1)$.  MultiRocket features 4 pooling operators: Proportion of Positive Values (PPV), Mean of Positive Values (MPV), Mean of Indices of Positive Values (MIPV) and Longest Stretch of Positive Values (LSPV)."
      ]
    },
    {
      "cell_type": "code",
      "execution_count": null,
      "id": "Ug5PdJ8i_k_7",
      "metadata": {
        "id": "Ug5PdJ8i_k_7"
      },
      "outputs": [],
      "source": [
        "with open('../data/1s_train.npy', 'rb') as f:\n",
        "    x1s_train = np.load(f)\n",
        "    y1s_train = np.load(f)\n",
        "N, sz, dim = x1s_train.shape\n",
        "\n",
        "with open('../data/1s_val.npy', 'rb') as f:\n",
        "    x1s_val = np.load(f)\n",
        "    y1s_val = np.load(f)"
      ]
    },
    {
      "cell_type": "code",
      "execution_count": null,
      "id": "ZwDmf0p1_lCz",
      "metadata": {
        "id": "ZwDmf0p1_lCz"
      },
      "outputs": [],
      "source": [
        "# Convert the labels to tensors\n",
        "train_labels_tf = tf.one_hot(y1s_train, 31, dtype=tf.float32)\n",
        "val_labels_tf = tf.one_hot(y1s_val, 31, dtype=tf.float32)"
      ]
    },
    {
      "cell_type": "markdown",
      "id": "mMb_l-U2WC5i",
      "metadata": {
        "id": "mMb_l-U2WC5i"
      },
      "source": [
        "#### **Prepare standard train & validation datasets**"
      ]
    },
    {
      "cell_type": "code",
      "execution_count": null,
      "id": "-7e0TsSU_lGc",
      "metadata": {
        "id": "-7e0TsSU_lGc"
      },
      "outputs": [],
      "source": [
        "# Convert the dataset to tensors\n",
        "train_data_tf = tf.convert_to_tensor(x1s_train, dtype=tf.float32)\n",
        "val_data_tf = tf.convert_to_tensor(x1s_val, dtype=tf.float32)"
      ]
    },
    {
      "cell_type": "code",
      "execution_count": null,
      "id": "qO7qSrQO_lJd",
      "metadata": {
        "id": "qO7qSrQO_lJd"
      },
      "outputs": [],
      "source": [
        "train_ds = tf.data.Dataset.from_tensor_slices((train_data_tf, train_labels_tf))\n",
        "val_ds = tf.data.Dataset.from_tensor_slices((val_data_tf, val_labels_tf))\n",
        "\n",
        "train_ds = train_ds.shuffle(500)\n",
        "\n",
        "train_ds = train_ds.padded_batch(64)\n",
        "val_ds = val_ds.padded_batch(64)"
      ]
    },
    {
      "cell_type": "markdown",
      "id": "Ov_Y-qXHWIpd",
      "metadata": {
        "id": "Ov_Y-qXHWIpd"
      },
      "source": [
        "#### **Prepare Rocket transformation train & validation datasets**"
      ]
    },
    {
      "cell_type": "code",
      "execution_count": null,
      "id": "Pd8qFYGASmxg",
      "metadata": {
        "id": "Pd8qFYGASmxg"
      },
      "outputs": [],
      "source": [
        "# Transpose the train and validation data as the format needs to be N x D x T\n",
        "x1s_train_ = x1s_train.transpose((0, 2, 1))\n",
        "x1s_val_ = x1s_val.transpose((0, 2, 1))\n",
        "\n",
        "# Compute the MiniRocket transform and transform to tensors\n",
        "minirocket_multi = MiniRocketMultivariate(num_kernels = 10000, max_dilations_per_kernel = 32)\n",
        "minirocket_multi.fit(x1s_train_)\n",
        "\n",
        "train_rocket_np = minirocket_multi.transform(x1s_train_).to_numpy()\n",
        "val_rocket_np = minirocket_multi.transform(x1s_val_).to_numpy()\n",
        "\n",
        "train_rocket_tf = tf.convert_to_tensor(train_rocket_np, dtype = tf.float32)\n",
        "val_rocket_tf = tf.convert_to_tensor(val_rocket_np, dtype = tf.float32)\n"
      ]
    },
    {
      "cell_type": "code",
      "execution_count": null,
      "id": "mnSFpMMnVrH8",
      "metadata": {
        "id": "mnSFpMMnVrH8"
      },
      "outputs": [],
      "source": [
        "train_rocket_ds = tf.data.Dataset.from_tensor_slices((train_rocket_tf, train_labels_tf))\n",
        "val_rocket_ds = tf.data.Dataset.from_tensor_slices((val_rocket_tf, val_labels_tf))\n",
        "\n",
        "train_rocket_ds = train_rocket_ds.shuffle(500)\n",
        "\n",
        "train_rocket_ds = train_rocket_ds.padded_batch(64)\n",
        "val_rocket_ds = val_rocket_ds.padded_batch(64)"
      ]
    },
    {
      "cell_type": "code",
      "execution_count": null,
      "id": "p78kXUqdMnX6",
      "metadata": {
        "id": "p78kXUqdMnX6"
      },
      "outputs": [],
      "source": [
        "C = len(set(y1s_train)) # Number of classes"
      ]
    },
    {
      "cell_type": "markdown",
      "id": "Qgywf-ewrOsf",
      "metadata": {
        "id": "Qgywf-ewrOsf"
      },
      "source": [
        "#### **Create combined dataset for GridSearchCV**"
      ]
    },
    {
      "cell_type": "code",
      "execution_count": null,
      "id": "qUBYfKjfrO4a",
      "metadata": {
        "id": "qUBYfKjfrO4a"
      },
      "outputs": [],
      "source": [
        "x1s = np.concatenate((x1s_train, x1s_val), axis = 0)\n",
        "y1s = np.concatenate((y1s_train, y1s_val), axis = 0)\n",
        "\n",
        "x1s_ = x1s.transpose((0, 2, 1))\n",
        "\n",
        "minirocket_multi2 = MiniRocketMultivariate(num_kernels = 10000, max_dilations_per_kernel = 32)\n",
        "minirocket_multi2.fit(x1s_)\n",
        "rocket_np = minirocket_multi2.transform(x1s_).to_numpy()\n"
      ]
    },
    {
      "cell_type": "code",
      "source": [
        "# Scramble the dataset\n",
        "reordered_idxs = np.random.choice(len(rocket_np), size = len(rocket_np), replace = False)\n",
        "rocket_np = rocket_np[reordered_idxs.copy()]\n",
        "y1s = y1s[reordered_idxs.copy()]"
      ],
      "metadata": {
        "id": "xtiCeINnEi7B"
      },
      "id": "xtiCeINnEi7B",
      "execution_count": null,
      "outputs": []
    },
    {
      "cell_type": "markdown",
      "id": "IIzoqESewKHr",
      "metadata": {
        "id": "IIzoqESewKHr"
      },
      "source": [
        "## **Experiment: Customised ROCKET transformation**"
      ]
    },
    {
      "cell_type": "markdown",
      "id": "EQxabfsX4l4I",
      "metadata": {
        "id": "EQxabfsX4l4I"
      },
      "source": [
        "All ROCKET-based models share the property that the convolutional weights are non-trainable. In MiniROCKET and MultiRocket, the convolutions are constrained to be of length 9 and to have 6 values of *-1* and 3 values of *+2*. Below, we define the kernels which will be used in ROCKET."
      ]
    },
    {
      "cell_type": "code",
      "execution_count": null,
      "id": "jNzgmBxb4lYz",
      "metadata": {
        "colab": {
          "base_uri": "https://localhost:8080/"
        },
        "id": "jNzgmBxb4lYz",
        "outputId": "4a258ba9-5582-4f5b-f02a-18b0ae865173"
      },
      "outputs": [
        {
          "name": "stdout",
          "output_type": "stream",
          "text": [
            "There are 9C6 = 84 kernels. Here are the first 10:\n",
            "[[-1 -1 -1 -1 -1 -1  2  2  2]\n",
            " [-1 -1 -1 -1 -1  2 -1  2  2]\n",
            " [-1 -1 -1 -1 -1  2  2 -1  2]\n",
            " [-1 -1 -1 -1 -1  2  2  2 -1]\n",
            " [-1 -1 -1 -1  2 -1 -1  2  2]\n",
            " [-1 -1 -1 -1  2 -1  2 -1  2]\n",
            " [-1 -1 -1 -1  2 -1  2  2 -1]\n",
            " [-1 -1 -1 -1  2  2 -1 -1  2]\n",
            " [-1 -1 -1 -1  2  2 -1  2 -1]\n",
            " [-1 -1 -1 -1  2  2  2 -1 -1]]\n"
          ]
        }
      ],
      "source": [
        "exemplar_kernel = np.array([-1, -1, -1, -1, -1, -1, 2, 2, 2]) # 6 elements are -1, 3 elements are +2\n",
        "\n",
        "# Find all permutations of that exemplar kernel\n",
        "kernels = list(itertools.permutations(exemplar_kernel))\n",
        "kernels = np.unique(np.array(kernels), axis = 0)\n",
        "print(f\"There are 9C6 = 84 kernels. Here are the first 10:\\n{kernels[:10]}\")"
      ]
    },
    {
      "cell_type": "code",
      "execution_count": null,
      "id": "TdYxWK9-K1S3",
      "metadata": {
        "colab": {
          "base_uri": "https://localhost:8080/"
        },
        "id": "TdYxWK9-K1S3",
        "outputId": "0426251b-d679-4aaa-ed70-748667aa759f"
      },
      "outputs": [
        {
          "name": "stdout",
          "output_type": "stream",
          "text": [
            "The shape of the convolutional filter weights is (9, 6, 84)\n"
          ]
        }
      ],
      "source": [
        "w = np.expand_dims(kernels, axis = 2)\n",
        "w = np.tile(w, reps = (1,1,6))\n",
        "w = np.transpose(w, (1, 2, 0))\n",
        "print(f\"The shape of the convolutional filter weights is {w.shape}\")"
      ]
    },
    {
      "cell_type": "markdown",
      "id": "cMMgqiLkLUmW",
      "metadata": {
        "id": "cMMgqiLkLUmW"
      },
      "source": [
        "The biases can be defined using the quantiles from a randomly chosen sample in the batch (as in MiniROCKET and MultiROCKET) or using a uniform distribution in the range $(-1, 1)$ (as in the original ROCKET paper). The MiniROCKET and MultiROCKET architectures recycle the 84 defined kernels with `num_dilation_factors = 32` different dilation factors, which are equidistant in the log space. Below, we define a custom Rocket layer. After overlaying each kernel at each dilation factor, we compute the Proportion of Positive Values (PPV), Mean of Positive Values (MPV) and Mean Index of Positive Values (MIPV).\n"
      ]
    },
    {
      "cell_type": "code",
      "execution_count": null,
      "id": "6CtAKJKaLIrm",
      "metadata": {
        "id": "6CtAKJKaLIrm"
      },
      "outputs": [],
      "source": [
        "class Rocket(Layer):\n",
        "\n",
        "    @staticmethod\n",
        "    def ppv(tensor):\n",
        "        \"\"\"\n",
        "        Compute the proportion of positive values in a tensor.\n",
        "        \"\"\"\n",
        "        mask_ = tf.cast(tensor > 0, tf.float32)\n",
        "        ppv = tf.reduce_sum(mask_, axis = 1)/sz\n",
        "        return tf.cast(ppv, tf.float32)\n",
        "\n",
        "    @staticmethod\n",
        "    def mpv(tensor):\n",
        "        \"\"\"\n",
        "        Compute the mean of positive values in a tensor.\n",
        "        \"\"\"\n",
        "        mask = tensor > 0\n",
        "        mask_ = tf.cast(mask, tf.float32)\n",
        "\n",
        "        sum_pos_vals = tf.reduce_sum(tf.where(mask, tensor, 0), axis = 1)\n",
        "        count_pos_vals = tf.reduce_sum(mask_, axis = 1)\n",
        "        mpv = sum_pos_vals/count_pos_vals\n",
        "        mpv = tf.where(tf.math.is_nan(mpv), tf.zeros_like(mpv), mpv)\n",
        "        return tf.cast(mpv, tf.float32)\n",
        "\n",
        "    @staticmethod\n",
        "    def mipv(tensor):\n",
        "        \"\"\"\n",
        "        Compute the mean of indices of positive values in a tensor.\n",
        "        \"\"\"\n",
        "        mask = tensor > 0\n",
        "        mask_ = tf.cast(mask, tf.int32)\n",
        "\n",
        "        indices = np.arange(mask.shape[1])\n",
        "        weighted_indices = mask_ * indices[:, np.newaxis]\n",
        "        positive_counts = tf.reduce_sum(mask_, axis=1)\n",
        "        total_positive_indices = tf.reduce_sum(weighted_indices, axis=1)\n",
        "        mipv = total_positive_indices / positive_counts\n",
        "        mipv = tf.where(tf.math.is_nan(mipv), tf.zeros_like(mipv), mipv)\n",
        "        return tf.cast(mipv, tf.float32)\n",
        "\n",
        "    def __init__(self, num_features = 10000, max_dilations_per_kernel = 32, **kwargs):\n",
        "        super().__init__(**kwargs)\n",
        "\n",
        "        # Define the Rocket kernel weights\n",
        "        self.w = tf.constant(w, dtype = tf.float32, name = \"weights\")\n",
        "\n",
        "        # We seek to produce num_features = 10,000 (by default) features, and no more than 32 unique dilations\n",
        "        self.num_features = num_features\n",
        "        self.max_dilations_per_kernel = max_dilations_per_kernel\n",
        "\n",
        "        # There are 84 kernels of size 9 by design\n",
        "        self.num_kernels = 84\n",
        "        self.kernel_sz = 9\n",
        "\n",
        "        # List of the convolutions in the Rocket\n",
        "        self.convs = []\n",
        "\n",
        "    def fit_dilations(self, input_length):\n",
        "        \"\"\"\n",
        "        A key step in the preparation of Mini-ROCKET is the construction of different dilation factors in the\n",
        "        log space given in the paper.\n",
        "\n",
        "        Smaller dilation factors ~ 1 are more common due to the log spacing. Therefore, more of the generated\n",
        "        features will have smaller dilation factors.\n",
        "\n",
        "        The outputs are the dilations and number of features per dilation for each kernel.\n",
        "        \"\"\"\n",
        "\n",
        "        #\n",
        "        # Credit code to: https://github.com/angus924/minirocket/blob/main/code/minirocket.py\n",
        "        #\n",
        "\n",
        "        # Each kernel can have no more than max_dilations_per_kernel, yet we need num_features_per_kernel features. Hence the multiplier.\n",
        "        num_features_per_kernel = (self.num_features /3 ) // self.num_kernels\n",
        "        true_max_dilations_per_kernel = min(num_features_per_kernel, self.max_dilations_per_kernel)\n",
        "        multiplier = num_features_per_kernel / true_max_dilations_per_kernel\n",
        "\n",
        "        # The maximum exponent is specified in the paper as below.\n",
        "        max_exponent = np.log2((input_length - 1) / (9 - 1))\n",
        "\n",
        "        # The dilations are distributed uniformly in the log space. We take the floor of the dilation (which\n",
        "        # must be a whole number), then, because these values will now no longer be unique, count up how many\n",
        "        # features there are per dilation.\n",
        "        unique_dilations, num_features_per_dilation = \\\n",
        "            np.unique(np.logspace(0, max_exponent, true_max_dilations_per_kernel, base=2).astype(np.int32),\n",
        "                      return_counts=True)\n",
        "\n",
        "        # The values in num_features_per_dilation sum to  true_max_dilations_per_kernel, but they need to sum to\n",
        "        # num_features_per_kernel. We apply the multiplier.\n",
        "        num_features_per_dilation = (num_features_per_dilation * multiplier).astype(np.int32)  # this is a vector\n",
        "\n",
        "        # We took the floor of the counts at 2 stages above, introducing a discrepancy/remainder which is now fixed\n",
        "        remainder = num_features_per_kernel - np.sum(num_features_per_dilation)\n",
        "        i = 0\n",
        "        while remainder > 0:\n",
        "            num_features_per_dilation[i] += 1\n",
        "            remainder -= 1\n",
        "            i = (i + 1) % len(num_features_per_dilation)\n",
        "\n",
        "        return unique_dilations, num_features_per_dilation\n",
        "\n",
        "    def build(self, input_shape):\n",
        "        dilations, num_features_per_dilation = self.fit_dilations(input_shape[1])\n",
        "\n",
        "        # Due to the log scaling, some dilations are repeated more than others.\n",
        "        self.all_dilations = np.repeat(dilations, num_features_per_dilation)\n",
        "\n",
        "        for rate in self.all_dilations:\n",
        "            # Build the convolution for each dilation\n",
        "            conv = Conv1D(filters = self.num_kernels,\n",
        "                          kernel_size = self.kernel_sz,\n",
        "                          strides = 1,\n",
        "                          padding = \"same\",\n",
        "                          dilation_rate = int(rate),\n",
        "                         )\n",
        "\n",
        "            # Original Rocket paper approach\n",
        "            self.b = tf.random.uniform(shape = (self.num_kernels,),\n",
        "                                       minval = -1,\n",
        "                                       maxval = 1)\n",
        "\n",
        "            conv.build((None, *input_shape[1:]))\n",
        "            conv.set_weights([self.w, self.b])\n",
        "            conv.trainable = False # Force the convolution layer to be non-trainable.\n",
        "            self.convs.append(conv)\n",
        "\n",
        "\n",
        "    def call(self, inputs):\n",
        "        conv_outputs = []\n",
        "\n",
        "        # Apply the convolution to each dilation in turn, then concatenate the outputs\n",
        "        for conv in self.convs:\n",
        "            conv_outputs.append(conv(inputs))\n",
        "        concatenated = tf.concat(conv_outputs, axis=-1)\n",
        "\n",
        "\n",
        "        ppv = Rocket.ppv(tensor = concatenated)\n",
        "        mpv = Rocket.mpv(tensor = concatenated)\n",
        "        mipv = Rocket.mipv(tensor = concatenated)\n",
        "        #pool = self.max_pool(concatenated)\n",
        "\n",
        "        output = tf.concat([ppv, mpv, mipv], axis = 1) #, pool], axis = 1)\n",
        "        return output"
      ]
    },
    {
      "cell_type": "markdown",
      "id": "jOzcU00XRdPv",
      "metadata": {
        "id": "jOzcU00XRdPv"
      },
      "source": [
        "## **Experiment: Rocket transformation with custom layer (bias from Uniform distribution)**"
      ]
    },
    {
      "cell_type": "markdown",
      "id": "dXbnIM-JRhCA",
      "metadata": {
        "id": "dXbnIM-JRhCA"
      },
      "source": [
        "Let's first try to build a model similar to the *sktime* implementation of the MiniRocket using our custom Rocket. We expect similar performance with the custom Rocket to the sktime implementation (which was based off that produced in the original paper)."
      ]
    },
    {
      "cell_type": "markdown",
      "id": "27kMj47qd9km",
      "metadata": {
        "id": "27kMj47qd9km"
      },
      "source": [
        "### **Without L2 loss penalty**"
      ]
    },
    {
      "cell_type": "code",
      "execution_count": null,
      "id": "hOC4x2jYSYGr",
      "metadata": {
        "id": "hOC4x2jYSYGr"
      },
      "outputs": [],
      "source": [
        "def ReperformedRocket(shape):\n",
        "    block1_input_layer = Input(shape=shape)\n",
        "    z = Rocket(name = \"Rocket1\")(block1_input_layer)\n",
        "    output_layer = Dense(C, activation=\"softmax\")(z)\n",
        "    return Model(inputs=block1_input_layer, outputs=output_layer)"
      ]
    },
    {
      "cell_type": "code",
      "execution_count": null,
      "id": "WTJ31zEiPNIh",
      "metadata": {
        "colab": {
          "base_uri": "https://localhost:8080/",
          "height": 230
        },
        "id": "WTJ31zEiPNIh",
        "outputId": "58d4445b-cbe2-4ca0-bb79-abec2cd14dea"
      },
      "outputs": [
        {
          "data": {
            "text/html": [
              "<pre style=\"white-space:pre;overflow-x:auto;line-height:normal;font-family:Menlo,'DejaVu Sans Mono',consolas,'Courier New',monospace\"><span style=\"font-weight: bold\">Model: \"functional\"</span>\n",
              "</pre>\n"
            ],
            "text/plain": [
              "\u001b[1mModel: \"functional\"\u001b[0m\n"
            ]
          },
          "metadata": {},
          "output_type": "display_data"
        },
        {
          "data": {
            "text/html": [
              "<pre style=\"white-space:pre;overflow-x:auto;line-height:normal;font-family:Menlo,'DejaVu Sans Mono',consolas,'Courier New',monospace\">┏━━━━━━━━━━━━━━━━━━━━━━━━━━━━━━━━━━━━━━┳━━━━━━━━━━━━━━━━━━━━━━━━━━━━━┳━━━━━━━━━━━━━━━━━┓\n",
              "┃<span style=\"font-weight: bold\"> Layer (type)                         </span>┃<span style=\"font-weight: bold\"> Output Shape                </span>┃<span style=\"font-weight: bold\">         Param # </span>┃\n",
              "┡━━━━━━━━━━━━━━━━━━━━━━━━━━━━━━━━━━━━━━╇━━━━━━━━━━━━━━━━━━━━━━━━━━━━━╇━━━━━━━━━━━━━━━━━┩\n",
              "│ input_layer (<span style=\"color: #0087ff; text-decoration-color: #0087ff\">InputLayer</span>)             │ (<span style=\"color: #00d7ff; text-decoration-color: #00d7ff\">None</span>, <span style=\"color: #00af00; text-decoration-color: #00af00\">500</span>, <span style=\"color: #00af00; text-decoration-color: #00af00\">6</span>)              │               <span style=\"color: #00af00; text-decoration-color: #00af00\">0</span> │\n",
              "├──────────────────────────────────────┼─────────────────────────────┼─────────────────┤\n",
              "│ Rocket1 (<span style=\"color: #0087ff; text-decoration-color: #0087ff\">Rocket</span>)                     │ (<span style=\"color: #00d7ff; text-decoration-color: #00d7ff\">None</span>, <span style=\"color: #00af00; text-decoration-color: #00af00\">9828</span>)                │         <span style=\"color: #00af00; text-decoration-color: #00af00\">180,180</span> │\n",
              "├──────────────────────────────────────┼─────────────────────────────┼─────────────────┤\n",
              "│ dense (<span style=\"color: #0087ff; text-decoration-color: #0087ff\">Dense</span>)                        │ (<span style=\"color: #00d7ff; text-decoration-color: #00d7ff\">None</span>, <span style=\"color: #00af00; text-decoration-color: #00af00\">31</span>)                  │         <span style=\"color: #00af00; text-decoration-color: #00af00\">304,699</span> │\n",
              "└──────────────────────────────────────┴─────────────────────────────┴─────────────────┘\n",
              "</pre>\n"
            ],
            "text/plain": [
              "┏━━━━━━━━━━━━━━━━━━━━━━━━━━━━━━━━━━━━━━┳━━━━━━━━━━━━━━━━━━━━━━━━━━━━━┳━━━━━━━━━━━━━━━━━┓\n",
              "┃\u001b[1m \u001b[0m\u001b[1mLayer (type)                        \u001b[0m\u001b[1m \u001b[0m┃\u001b[1m \u001b[0m\u001b[1mOutput Shape               \u001b[0m\u001b[1m \u001b[0m┃\u001b[1m \u001b[0m\u001b[1m        Param #\u001b[0m\u001b[1m \u001b[0m┃\n",
              "┡━━━━━━━━━━━━━━━━━━━━━━━━━━━━━━━━━━━━━━╇━━━━━━━━━━━━━━━━━━━━━━━━━━━━━╇━━━━━━━━━━━━━━━━━┩\n",
              "│ input_layer (\u001b[38;5;33mInputLayer\u001b[0m)             │ (\u001b[38;5;45mNone\u001b[0m, \u001b[38;5;34m500\u001b[0m, \u001b[38;5;34m6\u001b[0m)              │               \u001b[38;5;34m0\u001b[0m │\n",
              "├──────────────────────────────────────┼─────────────────────────────┼─────────────────┤\n",
              "│ Rocket1 (\u001b[38;5;33mRocket\u001b[0m)                     │ (\u001b[38;5;45mNone\u001b[0m, \u001b[38;5;34m9828\u001b[0m)                │         \u001b[38;5;34m180,180\u001b[0m │\n",
              "├──────────────────────────────────────┼─────────────────────────────┼─────────────────┤\n",
              "│ dense (\u001b[38;5;33mDense\u001b[0m)                        │ (\u001b[38;5;45mNone\u001b[0m, \u001b[38;5;34m31\u001b[0m)                  │         \u001b[38;5;34m304,699\u001b[0m │\n",
              "└──────────────────────────────────────┴─────────────────────────────┴─────────────────┘\n"
            ]
          },
          "metadata": {},
          "output_type": "display_data"
        },
        {
          "data": {
            "text/html": [
              "<pre style=\"white-space:pre;overflow-x:auto;line-height:normal;font-family:Menlo,'DejaVu Sans Mono',consolas,'Courier New',monospace\"><span style=\"font-weight: bold\"> Total params: </span><span style=\"color: #00af00; text-decoration-color: #00af00\">484,879</span> (1.85 MB)\n",
              "</pre>\n"
            ],
            "text/plain": [
              "\u001b[1m Total params: \u001b[0m\u001b[38;5;34m484,879\u001b[0m (1.85 MB)\n"
            ]
          },
          "metadata": {},
          "output_type": "display_data"
        },
        {
          "data": {
            "text/html": [
              "<pre style=\"white-space:pre;overflow-x:auto;line-height:normal;font-family:Menlo,'DejaVu Sans Mono',consolas,'Courier New',monospace\"><span style=\"font-weight: bold\"> Trainable params: </span><span style=\"color: #00af00; text-decoration-color: #00af00\">304,699</span> (1.16 MB)\n",
              "</pre>\n"
            ],
            "text/plain": [
              "\u001b[1m Trainable params: \u001b[0m\u001b[38;5;34m304,699\u001b[0m (1.16 MB)\n"
            ]
          },
          "metadata": {},
          "output_type": "display_data"
        },
        {
          "data": {
            "text/html": [
              "<pre style=\"white-space:pre;overflow-x:auto;line-height:normal;font-family:Menlo,'DejaVu Sans Mono',consolas,'Courier New',monospace\"><span style=\"font-weight: bold\"> Non-trainable params: </span><span style=\"color: #00af00; text-decoration-color: #00af00\">180,180</span> (703.83 KB)\n",
              "</pre>\n"
            ],
            "text/plain": [
              "\u001b[1m Non-trainable params: \u001b[0m\u001b[38;5;34m180,180\u001b[0m (703.83 KB)\n"
            ]
          },
          "metadata": {},
          "output_type": "display_data"
        }
      ],
      "source": [
        "ReperformedRocket_model = ReperformedRocket(shape = (sz, dim))\n",
        "ReperformedRocket_model.summary()"
      ]
    },
    {
      "cell_type": "code",
      "execution_count": null,
      "id": "sWujvKjyVXru",
      "metadata": {
        "colab": {
          "base_uri": "https://localhost:8080/"
        },
        "id": "sWujvKjyVXru",
        "outputId": "edbb3a25-11c8-4167-e2cf-a448a0db78bc"
      },
      "outputs": [
        {
          "name": "stdout",
          "output_type": "stream",
          "text": [
            "Epoch 1/100\n",
            "\u001b[1m48/48\u001b[0m \u001b[32m━━━━━━━━━━━━━━━━━━━━\u001b[0m\u001b[37m\u001b[0m \u001b[1m24s\u001b[0m 302ms/step - accuracy: 0.0361 - loss: 311354.8750 - val_accuracy: 0.0242 - val_loss: 515379.7500\n",
            "Epoch 2/100\n",
            "\u001b[1m48/48\u001b[0m \u001b[32m━━━━━━━━━━━━━━━━━━━━\u001b[0m\u001b[37m\u001b[0m \u001b[1m24s\u001b[0m 88ms/step - accuracy: 0.0421 - loss: 453903.3438 - val_accuracy: 0.0373 - val_loss: 308108.9062\n",
            "Epoch 3/100\n",
            "\u001b[1m48/48\u001b[0m \u001b[32m━━━━━━━━━━━━━━━━━━━━\u001b[0m\u001b[37m\u001b[0m \u001b[1m4s\u001b[0m 94ms/step - accuracy: 0.0600 - loss: 302455.5938 - val_accuracy: 0.0484 - val_loss: 263539.1562\n",
            "Epoch 4/100\n",
            "\u001b[1m48/48\u001b[0m \u001b[32m━━━━━━━━━━━━━━━━━━━━\u001b[0m\u001b[37m\u001b[0m \u001b[1m4s\u001b[0m 90ms/step - accuracy: 0.0572 - loss: 243898.2031 - val_accuracy: 0.0625 - val_loss: 104577.4844\n",
            "Epoch 5/100\n",
            "\u001b[1m48/48\u001b[0m \u001b[32m━━━━━━━━━━━━━━━━━━━━\u001b[0m\u001b[37m\u001b[0m \u001b[1m5s\u001b[0m 95ms/step - accuracy: 0.0874 - loss: 110551.8594 - val_accuracy: 0.0696 - val_loss: 104429.8906\n",
            "Epoch 6/100\n",
            "\u001b[1m48/48\u001b[0m \u001b[32m━━━━━━━━━━━━━━━━━━━━\u001b[0m\u001b[37m\u001b[0m \u001b[1m5s\u001b[0m 99ms/step - accuracy: 0.0866 - loss: 111190.0312 - val_accuracy: 0.1028 - val_loss: 88913.7969\n",
            "Epoch 7/100\n",
            "\u001b[1m48/48\u001b[0m \u001b[32m━━━━━━━━━━━━━━━━━━━━\u001b[0m\u001b[37m\u001b[0m \u001b[1m4s\u001b[0m 93ms/step - accuracy: 0.1027 - loss: 71896.6328 - val_accuracy: 0.1845 - val_loss: 59936.2227\n",
            "Epoch 8/100\n",
            "\u001b[1m48/48\u001b[0m \u001b[32m━━━━━━━━━━━━━━━━━━━━\u001b[0m\u001b[37m\u001b[0m \u001b[1m5s\u001b[0m 83ms/step - accuracy: 0.1151 - loss: 58400.2773 - val_accuracy: 0.0827 - val_loss: 43437.0000\n",
            "Epoch 9/100\n",
            "\u001b[1m48/48\u001b[0m \u001b[32m━━━━━━━━━━━━━━━━━━━━\u001b[0m\u001b[37m\u001b[0m \u001b[1m5s\u001b[0m 95ms/step - accuracy: 0.1341 - loss: 44306.7852 - val_accuracy: 0.1200 - val_loss: 39132.3789\n",
            "Epoch 10/100\n",
            "\u001b[1m48/48\u001b[0m \u001b[32m━━━━━━━━━━━━━━━━━━━━\u001b[0m\u001b[37m\u001b[0m \u001b[1m4s\u001b[0m 79ms/step - accuracy: 0.1195 - loss: 37112.6133 - val_accuracy: 0.1552 - val_loss: 28594.4023\n",
            "Epoch 11/100\n",
            "\u001b[1m48/48\u001b[0m \u001b[32m━━━━━━━━━━━━━━━━━━━━\u001b[0m\u001b[37m\u001b[0m \u001b[1m5s\u001b[0m 87ms/step - accuracy: 0.1872 - loss: 24225.0254 - val_accuracy: 0.2117 - val_loss: 17904.7871\n",
            "Epoch 12/100\n",
            "\u001b[1m48/48\u001b[0m \u001b[32m━━━━━━━━━━━━━━━━━━━━\u001b[0m\u001b[37m\u001b[0m \u001b[1m5s\u001b[0m 89ms/step - accuracy: 0.1985 - loss: 19204.6191 - val_accuracy: 0.2359 - val_loss: 16865.2266\n",
            "Epoch 13/100\n",
            "\u001b[1m48/48\u001b[0m \u001b[32m━━━━━━━━━━━━━━━━━━━━\u001b[0m\u001b[37m\u001b[0m \u001b[1m4s\u001b[0m 75ms/step - accuracy: 0.2124 - loss: 15396.0078 - val_accuracy: 0.1421 - val_loss: 13419.8535\n",
            "Epoch 14/100\n",
            "\u001b[1m48/48\u001b[0m \u001b[32m━━━━━━━━━━━━━━━━━━━━\u001b[0m\u001b[37m\u001b[0m \u001b[1m5s\u001b[0m 77ms/step - accuracy: 0.2561 - loss: 12845.2725 - val_accuracy: 0.1331 - val_loss: 16176.0234\n",
            "Epoch 15/100\n",
            "\u001b[1m48/48\u001b[0m \u001b[32m━━━━━━━━━━━━━━━━━━━━\u001b[0m\u001b[37m\u001b[0m \u001b[1m4s\u001b[0m 76ms/step - accuracy: 0.2372 - loss: 13613.3057 - val_accuracy: 0.2752 - val_loss: 11458.3525\n",
            "Epoch 16/100\n",
            "\u001b[1m48/48\u001b[0m \u001b[32m━━━━━━━━━━━━━━━━━━━━\u001b[0m\u001b[37m\u001b[0m \u001b[1m4s\u001b[0m 74ms/step - accuracy: 0.2502 - loss: 13703.1328 - val_accuracy: 0.2006 - val_loss: 12957.4922\n",
            "Epoch 17/100\n",
            "\u001b[1m48/48\u001b[0m \u001b[32m━━━━━━━━━━━━━━━━━━━━\u001b[0m\u001b[37m\u001b[0m \u001b[1m6s\u001b[0m 85ms/step - accuracy: 0.2795 - loss: 12302.6602 - val_accuracy: 0.2812 - val_loss: 12269.7041\n",
            "Epoch 18/100\n",
            "\u001b[1m48/48\u001b[0m \u001b[32m━━━━━━━━━━━━━━━━━━━━\u001b[0m\u001b[37m\u001b[0m \u001b[1m5s\u001b[0m 85ms/step - accuracy: 0.2730 - loss: 10725.8672 - val_accuracy: 0.2248 - val_loss: 9338.4062\n",
            "Epoch 19/100\n",
            "\u001b[1m48/48\u001b[0m \u001b[32m━━━━━━━━━━━━━━━━━━━━\u001b[0m\u001b[37m\u001b[0m \u001b[1m4s\u001b[0m 86ms/step - accuracy: 0.2836 - loss: 9647.1162 - val_accuracy: 0.2994 - val_loss: 9116.2158\n",
            "Epoch 20/100\n",
            "\u001b[1m48/48\u001b[0m \u001b[32m━━━━━━━━━━━━━━━━━━━━\u001b[0m\u001b[37m\u001b[0m \u001b[1m4s\u001b[0m 87ms/step - accuracy: 0.2847 - loss: 8444.7207 - val_accuracy: 0.1946 - val_loss: 9972.9619\n",
            "Epoch 21/100\n",
            "\u001b[1m48/48\u001b[0m \u001b[32m━━━━━━━━━━━━━━━━━━━━\u001b[0m\u001b[37m\u001b[0m \u001b[1m4s\u001b[0m 80ms/step - accuracy: 0.3251 - loss: 8737.2559 - val_accuracy: 0.2843 - val_loss: 8485.6699\n",
            "Epoch 22/100\n",
            "\u001b[1m48/48\u001b[0m \u001b[32m━━━━━━━━━━━━━━━━━━━━\u001b[0m\u001b[37m\u001b[0m \u001b[1m4s\u001b[0m 77ms/step - accuracy: 0.3350 - loss: 8345.6797 - val_accuracy: 0.3014 - val_loss: 7011.4395\n",
            "Epoch 23/100\n",
            "\u001b[1m48/48\u001b[0m \u001b[32m━━━━━━━━━━━━━━━━━━━━\u001b[0m\u001b[37m\u001b[0m \u001b[1m5s\u001b[0m 79ms/step - accuracy: 0.3260 - loss: 7483.8652 - val_accuracy: 0.2278 - val_loss: 9318.4941\n",
            "Epoch 24/100\n",
            "\u001b[1m48/48\u001b[0m \u001b[32m━━━━━━━━━━━━━━━━━━━━\u001b[0m\u001b[37m\u001b[0m \u001b[1m5s\u001b[0m 78ms/step - accuracy: 0.2912 - loss: 8863.5605 - val_accuracy: 0.2268 - val_loss: 9810.1523\n",
            "Epoch 25/100\n",
            "\u001b[1m48/48\u001b[0m \u001b[32m━━━━━━━━━━━━━━━━━━━━\u001b[0m\u001b[37m\u001b[0m \u001b[1m6s\u001b[0m 88ms/step - accuracy: 0.3092 - loss: 9183.8057 - val_accuracy: 0.2611 - val_loss: 7811.8052\n",
            "Epoch 26/100\n",
            "\u001b[1m48/48\u001b[0m \u001b[32m━━━━━━━━━━━━━━━━━━━━\u001b[0m\u001b[37m\u001b[0m \u001b[1m5s\u001b[0m 84ms/step - accuracy: 0.3603 - loss: 8230.6084 - val_accuracy: 0.2772 - val_loss: 9872.3721\n",
            "Epoch 27/100\n",
            "\u001b[1m48/48\u001b[0m \u001b[32m━━━━━━━━━━━━━━━━━━━━\u001b[0m\u001b[37m\u001b[0m \u001b[1m4s\u001b[0m 88ms/step - accuracy: 0.3207 - loss: 9061.5576 - val_accuracy: 0.2913 - val_loss: 8649.5684\n",
            "Epoch 28/100\n",
            "\u001b[1m48/48\u001b[0m \u001b[32m━━━━━━━━━━━━━━━━━━━━\u001b[0m\u001b[37m\u001b[0m \u001b[1m4s\u001b[0m 88ms/step - accuracy: 0.3416 - loss: 8917.5723 - val_accuracy: 0.2127 - val_loss: 9906.0635\n",
            "Epoch 29/100\n",
            "\u001b[1m48/48\u001b[0m \u001b[32m━━━━━━━━━━━━━━━━━━━━\u001b[0m\u001b[37m\u001b[0m \u001b[1m5s\u001b[0m 90ms/step - accuracy: 0.3146 - loss: 10035.1338 - val_accuracy: 0.2429 - val_loss: 8822.0908\n",
            "Epoch 30/100\n",
            "\u001b[1m48/48\u001b[0m \u001b[32m━━━━━━━━━━━━━━━━━━━━\u001b[0m\u001b[37m\u001b[0m \u001b[1m5s\u001b[0m 90ms/step - accuracy: 0.2869 - loss: 9651.3984 - val_accuracy: 0.1583 - val_loss: 11860.7812\n",
            "Epoch 31/100\n",
            "\u001b[1m48/48\u001b[0m \u001b[32m━━━━━━━━━━━━━━━━━━━━\u001b[0m\u001b[37m\u001b[0m \u001b[1m5s\u001b[0m 78ms/step - accuracy: 0.2720 - loss: 10877.0820 - val_accuracy: 0.2147 - val_loss: 11600.2539\n",
            "Epoch 32/100\n",
            "\u001b[1m48/48\u001b[0m \u001b[32m━━━━━━━━━━━━━━━━━━━━\u001b[0m\u001b[37m\u001b[0m \u001b[1m5s\u001b[0m 95ms/step - accuracy: 0.3287 - loss: 9743.9883 - val_accuracy: 0.3528 - val_loss: 9929.5576\n",
            "Epoch 33/100\n",
            "\u001b[1m48/48\u001b[0m \u001b[32m━━━━━━━━━━━━━━━━━━━━\u001b[0m\u001b[37m\u001b[0m \u001b[1m5s\u001b[0m 86ms/step - accuracy: 0.3468 - loss: 8688.8555 - val_accuracy: 0.2732 - val_loss: 9608.9551\n",
            "Epoch 34/100\n",
            "\u001b[1m48/48\u001b[0m \u001b[32m━━━━━━━━━━━━━━━━━━━━\u001b[0m\u001b[37m\u001b[0m \u001b[1m5s\u001b[0m 81ms/step - accuracy: 0.3023 - loss: 10126.2197 - val_accuracy: 0.3216 - val_loss: 7057.1978\n",
            "Epoch 35/100\n",
            "\u001b[1m48/48\u001b[0m \u001b[32m━━━━━━━━━━━━━━━━━━━━\u001b[0m\u001b[37m\u001b[0m \u001b[1m5s\u001b[0m 84ms/step - accuracy: 0.3584 - loss: 8647.0508 - val_accuracy: 0.2873 - val_loss: 8311.3447\n",
            "Epoch 36/100\n",
            "\u001b[1m48/48\u001b[0m \u001b[32m━━━━━━━━━━━━━━━━━━━━\u001b[0m\u001b[37m\u001b[0m \u001b[1m5s\u001b[0m 79ms/step - accuracy: 0.3523 - loss: 8444.7812 - val_accuracy: 0.3044 - val_loss: 11620.8848\n",
            "Epoch 37/100\n",
            "\u001b[1m48/48\u001b[0m \u001b[32m━━━━━━━━━━━━━━━━━━━━\u001b[0m\u001b[37m\u001b[0m \u001b[1m5s\u001b[0m 79ms/step - accuracy: 0.3332 - loss: 12303.0479 - val_accuracy: 0.3065 - val_loss: 10707.9678\n",
            "Epoch 38/100\n",
            "\u001b[1m48/48\u001b[0m \u001b[32m━━━━━━━━━━━━━━━━━━━━\u001b[0m\u001b[37m\u001b[0m \u001b[1m6s\u001b[0m 88ms/step - accuracy: 0.3097 - loss: 13300.5957 - val_accuracy: 0.2329 - val_loss: 16443.5703\n",
            "Epoch 39/100\n",
            "\u001b[1m48/48\u001b[0m \u001b[32m━━━━━━━━━━━━━━━━━━━━\u001b[0m\u001b[37m\u001b[0m \u001b[1m4s\u001b[0m 90ms/step - accuracy: 0.2853 - loss: 13624.0996 - val_accuracy: 0.3155 - val_loss: 11386.4092\n",
            "Epoch 40/100\n",
            "\u001b[1m48/48\u001b[0m \u001b[32m━━━━━━━━━━━━━━━━━━━━\u001b[0m\u001b[37m\u001b[0m \u001b[1m6s\u001b[0m 100ms/step - accuracy: 0.3183 - loss: 10360.0615 - val_accuracy: 0.2571 - val_loss: 10165.7637\n",
            "Epoch 41/100\n",
            "\u001b[1m48/48\u001b[0m \u001b[32m━━━━━━━━━━━━━━━━━━━━\u001b[0m\u001b[37m\u001b[0m \u001b[1m4s\u001b[0m 76ms/step - accuracy: 0.3249 - loss: 9709.6709 - val_accuracy: 0.2601 - val_loss: 12207.1758\n",
            "Epoch 42/100\n",
            "\u001b[1m48/48\u001b[0m \u001b[32m━━━━━━━━━━━━━━━━━━━━\u001b[0m\u001b[37m\u001b[0m \u001b[1m5s\u001b[0m 80ms/step - accuracy: 0.3188 - loss: 11438.4971 - val_accuracy: 0.1815 - val_loss: 13366.6611\n",
            "Epoch 43/100\n",
            "\u001b[1m48/48\u001b[0m \u001b[32m━━━━━━━━━━━━━━━━━━━━\u001b[0m\u001b[37m\u001b[0m \u001b[1m6s\u001b[0m 89ms/step - accuracy: 0.3409 - loss: 10900.4297 - val_accuracy: 0.3014 - val_loss: 12601.6758\n",
            "Epoch 44/100\n",
            "\u001b[1m48/48\u001b[0m \u001b[32m━━━━━━━━━━━━━━━━━━━━\u001b[0m\u001b[37m\u001b[0m \u001b[1m4s\u001b[0m 77ms/step - accuracy: 0.3351 - loss: 11968.2520 - val_accuracy: 0.2006 - val_loss: 16298.1924\n",
            "Epoch 45/100\n",
            "\u001b[1m48/48\u001b[0m \u001b[32m━━━━━━━━━━━━━━━━━━━━\u001b[0m\u001b[37m\u001b[0m \u001b[1m4s\u001b[0m 78ms/step - accuracy: 0.3317 - loss: 12453.2061 - val_accuracy: 0.2863 - val_loss: 11340.7285\n",
            "Epoch 46/100\n",
            "\u001b[1m48/48\u001b[0m \u001b[32m━━━━━━━━━━━━━━━━━━━━\u001b[0m\u001b[37m\u001b[0m \u001b[1m4s\u001b[0m 91ms/step - accuracy: 0.3486 - loss: 10009.0830 - val_accuracy: 0.3054 - val_loss: 14906.0420\n",
            "Epoch 47/100\n",
            "\u001b[1m48/48\u001b[0m \u001b[32m━━━━━━━━━━━━━━━━━━━━\u001b[0m\u001b[37m\u001b[0m \u001b[1m4s\u001b[0m 81ms/step - accuracy: 0.3516 - loss: 9816.4541 - val_accuracy: 0.3538 - val_loss: 10017.5303\n",
            "Epoch 48/100\n",
            "\u001b[1m48/48\u001b[0m \u001b[32m━━━━━━━━━━━━━━━━━━━━\u001b[0m\u001b[37m\u001b[0m \u001b[1m5s\u001b[0m 78ms/step - accuracy: 0.3586 - loss: 9536.0068 - val_accuracy: 0.3246 - val_loss: 10148.9131\n",
            "Epoch 49/100\n",
            "\u001b[1m48/48\u001b[0m \u001b[32m━━━━━━━━━━━━━━━━━━━━\u001b[0m\u001b[37m\u001b[0m \u001b[1m4s\u001b[0m 80ms/step - accuracy: 0.3580 - loss: 9427.4023 - val_accuracy: 0.3165 - val_loss: 8432.2539\n",
            "Epoch 50/100\n",
            "\u001b[1m48/48\u001b[0m \u001b[32m━━━━━━━━━━━━━━━━━━━━\u001b[0m\u001b[37m\u001b[0m \u001b[1m4s\u001b[0m 81ms/step - accuracy: 0.3463 - loss: 9161.2676 - val_accuracy: 0.2742 - val_loss: 14046.4150\n",
            "Epoch 51/100\n",
            "\u001b[1m48/48\u001b[0m \u001b[32m━━━━━━━━━━━━━━━━━━━━\u001b[0m\u001b[37m\u001b[0m \u001b[1m5s\u001b[0m 79ms/step - accuracy: 0.3550 - loss: 11205.8281 - val_accuracy: 0.2661 - val_loss: 14715.7012\n",
            "Epoch 52/100\n",
            "\u001b[1m48/48\u001b[0m \u001b[32m━━━━━━━━━━━━━━━━━━━━\u001b[0m\u001b[37m\u001b[0m \u001b[1m4s\u001b[0m 78ms/step - accuracy: 0.3543 - loss: 11640.1904 - val_accuracy: 0.2188 - val_loss: 17372.0762\n",
            "Epoch 53/100\n",
            "\u001b[1m48/48\u001b[0m \u001b[32m━━━━━━━━━━━━━━━━━━━━\u001b[0m\u001b[37m\u001b[0m \u001b[1m4s\u001b[0m 87ms/step - accuracy: 0.3349 - loss: 13598.7393 - val_accuracy: 0.2581 - val_loss: 20295.3145\n",
            "Epoch 54/100\n",
            "\u001b[1m48/48\u001b[0m \u001b[32m━━━━━━━━━━━━━━━━━━━━\u001b[0m\u001b[37m\u001b[0m \u001b[1m4s\u001b[0m 88ms/step - accuracy: 0.3036 - loss: 16066.2549 - val_accuracy: 0.2369 - val_loss: 16727.4492\n",
            "Epoch 55/100\n",
            "\u001b[1m48/48\u001b[0m \u001b[32m━━━━━━━━━━━━━━━━━━━━\u001b[0m\u001b[37m\u001b[0m \u001b[1m5s\u001b[0m 77ms/step - accuracy: 0.3549 - loss: 14249.7598 - val_accuracy: 0.3296 - val_loss: 10107.8604\n",
            "Epoch 56/100\n",
            "\u001b[1m48/48\u001b[0m \u001b[32m━━━━━━━━━━━━━━━━━━━━\u001b[0m\u001b[37m\u001b[0m \u001b[1m6s\u001b[0m 96ms/step - accuracy: 0.3748 - loss: 9798.6768 - val_accuracy: 0.2772 - val_loss: 12435.9424\n",
            "Epoch 57/100\n",
            "\u001b[1m48/48\u001b[0m \u001b[32m━━━━━━━━━━━━━━━━━━━━\u001b[0m\u001b[37m\u001b[0m \u001b[1m5s\u001b[0m 86ms/step - accuracy: 0.3772 - loss: 10653.6289 - val_accuracy: 0.3468 - val_loss: 9342.3096\n",
            "Epoch 58/100\n",
            "\u001b[1m48/48\u001b[0m \u001b[32m━━━━━━━━━━━━━━━━━━━━\u001b[0m\u001b[37m\u001b[0m \u001b[1m4s\u001b[0m 91ms/step - accuracy: 0.3875 - loss: 9026.0234 - val_accuracy: 0.3014 - val_loss: 8869.5986\n",
            "Epoch 59/100\n",
            "\u001b[1m48/48\u001b[0m \u001b[32m━━━━━━━━━━━━━━━━━━━━\u001b[0m\u001b[37m\u001b[0m \u001b[1m4s\u001b[0m 81ms/step - accuracy: 0.4010 - loss: 8467.8613 - val_accuracy: 0.2198 - val_loss: 12421.2500\n",
            "Epoch 60/100\n",
            "\u001b[1m48/48\u001b[0m \u001b[32m━━━━━━━━━━━━━━━━━━━━\u001b[0m\u001b[37m\u001b[0m \u001b[1m4s\u001b[0m 91ms/step - accuracy: 0.3760 - loss: 9764.7168 - val_accuracy: 0.2893 - val_loss: 10358.0830\n",
            "Epoch 61/100\n",
            "\u001b[1m48/48\u001b[0m \u001b[32m━━━━━━━━━━━━━━━━━━━━\u001b[0m\u001b[37m\u001b[0m \u001b[1m4s\u001b[0m 78ms/step - accuracy: 0.3646 - loss: 9119.0830 - val_accuracy: 0.2843 - val_loss: 12063.3740\n",
            "Epoch 62/100\n",
            "\u001b[1m48/48\u001b[0m \u001b[32m━━━━━━━━━━━━━━━━━━━━\u001b[0m\u001b[37m\u001b[0m \u001b[1m4s\u001b[0m 79ms/step - accuracy: 0.3610 - loss: 10405.4521 - val_accuracy: 0.3125 - val_loss: 11706.0029\n",
            "Epoch 63/100\n",
            "\u001b[1m48/48\u001b[0m \u001b[32m━━━━━━━━━━━━━━━━━━━━\u001b[0m\u001b[37m\u001b[0m \u001b[1m4s\u001b[0m 77ms/step - accuracy: 0.3755 - loss: 9238.5889 - val_accuracy: 0.2369 - val_loss: 14323.3018\n",
            "Epoch 64/100\n",
            "\u001b[1m48/48\u001b[0m \u001b[32m━━━━━━━━━━━━━━━━━━━━\u001b[0m\u001b[37m\u001b[0m \u001b[1m4s\u001b[0m 80ms/step - accuracy: 0.3951 - loss: 10287.6328 - val_accuracy: 0.2843 - val_loss: 13452.7539\n",
            "Epoch 65/100\n",
            "\u001b[1m48/48\u001b[0m \u001b[32m━━━━━━━━━━━━━━━━━━━━\u001b[0m\u001b[37m\u001b[0m \u001b[1m4s\u001b[0m 86ms/step - accuracy: 0.3405 - loss: 11093.4980 - val_accuracy: 0.2268 - val_loss: 13575.8662\n",
            "Epoch 66/100\n",
            "\u001b[1m48/48\u001b[0m \u001b[32m━━━━━━━━━━━━━━━━━━━━\u001b[0m\u001b[37m\u001b[0m \u001b[1m4s\u001b[0m 80ms/step - accuracy: 0.3608 - loss: 11833.4785 - val_accuracy: 0.2812 - val_loss: 14920.8604\n",
            "Epoch 67/100\n",
            "\u001b[1m48/48\u001b[0m \u001b[32m━━━━━━━━━━━━━━━━━━━━\u001b[0m\u001b[37m\u001b[0m \u001b[1m5s\u001b[0m 77ms/step - accuracy: 0.4028 - loss: 10788.8145 - val_accuracy: 0.3468 - val_loss: 11918.8564\n",
            "Epoch 68/100\n",
            "\u001b[1m48/48\u001b[0m \u001b[32m━━━━━━━━━━━━━━━━━━━━\u001b[0m\u001b[37m\u001b[0m \u001b[1m6s\u001b[0m 91ms/step - accuracy: 0.3868 - loss: 11416.7402 - val_accuracy: 0.3619 - val_loss: 11733.4053\n",
            "Epoch 69/100\n",
            "\u001b[1m48/48\u001b[0m \u001b[32m━━━━━━━━━━━━━━━━━━━━\u001b[0m\u001b[37m\u001b[0m \u001b[1m5s\u001b[0m 90ms/step - accuracy: 0.3336 - loss: 12493.5938 - val_accuracy: 0.2823 - val_loss: 18130.3008\n",
            "Epoch 70/100\n",
            "\u001b[1m48/48\u001b[0m \u001b[32m━━━━━━━━━━━━━━━━━━━━\u001b[0m\u001b[37m\u001b[0m \u001b[1m4s\u001b[0m 77ms/step - accuracy: 0.3629 - loss: 12808.2461 - val_accuracy: 0.2258 - val_loss: 15140.5986\n",
            "Epoch 71/100\n",
            "\u001b[1m48/48\u001b[0m \u001b[32m━━━━━━━━━━━━━━━━━━━━\u001b[0m\u001b[37m\u001b[0m \u001b[1m5s\u001b[0m 80ms/step - accuracy: 0.3704 - loss: 10237.7676 - val_accuracy: 0.3024 - val_loss: 12541.3701\n",
            "Epoch 72/100\n",
            "\u001b[1m48/48\u001b[0m \u001b[32m━━━━━━━━━━━━━━━━━━━━\u001b[0m\u001b[37m\u001b[0m \u001b[1m5s\u001b[0m 87ms/step - accuracy: 0.3966 - loss: 10551.1123 - val_accuracy: 0.2893 - val_loss: 14676.2979\n",
            "Epoch 73/100\n",
            "\u001b[1m48/48\u001b[0m \u001b[32m━━━━━━━━━━━━━━━━━━━━\u001b[0m\u001b[37m\u001b[0m \u001b[1m4s\u001b[0m 79ms/step - accuracy: 0.3942 - loss: 12145.8574 - val_accuracy: 0.2208 - val_loss: 19501.3086\n",
            "Epoch 74/100\n",
            "\u001b[1m48/48\u001b[0m \u001b[32m━━━━━━━━━━━━━━━━━━━━\u001b[0m\u001b[37m\u001b[0m \u001b[1m4s\u001b[0m 92ms/step - accuracy: 0.3773 - loss: 12775.5244 - val_accuracy: 0.3024 - val_loss: 12162.9443\n",
            "Epoch 75/100\n",
            "\u001b[1m48/48\u001b[0m \u001b[32m━━━━━━━━━━━━━━━━━━━━\u001b[0m\u001b[37m\u001b[0m \u001b[1m5s\u001b[0m 80ms/step - accuracy: 0.3818 - loss: 11069.7109 - val_accuracy: 0.3145 - val_loss: 14741.9150\n",
            "Epoch 76/100\n",
            "\u001b[1m48/48\u001b[0m \u001b[32m━━━━━━━━━━━━━━━━━━━━\u001b[0m\u001b[37m\u001b[0m \u001b[1m5s\u001b[0m 86ms/step - accuracy: 0.3782 - loss: 11612.1826 - val_accuracy: 0.2288 - val_loss: 16874.2734\n",
            "Epoch 77/100\n",
            "\u001b[1m48/48\u001b[0m \u001b[32m━━━━━━━━━━━━━━━━━━━━\u001b[0m\u001b[37m\u001b[0m \u001b[1m4s\u001b[0m 93ms/step - accuracy: 0.3566 - loss: 13891.1104 - val_accuracy: 0.3236 - val_loss: 17605.9434\n",
            "Epoch 78/100\n",
            "\u001b[1m48/48\u001b[0m \u001b[32m━━━━━━━━━━━━━━━━━━━━\u001b[0m\u001b[37m\u001b[0m \u001b[1m4s\u001b[0m 78ms/step - accuracy: 0.3715 - loss: 12795.9189 - val_accuracy: 0.2913 - val_loss: 18071.3047\n",
            "Epoch 79/100\n",
            "\u001b[1m48/48\u001b[0m \u001b[32m━━━━━━━━━━━━━━━━━━━━\u001b[0m\u001b[37m\u001b[0m \u001b[1m4s\u001b[0m 83ms/step - accuracy: 0.3570 - loss: 13767.6943 - val_accuracy: 0.2792 - val_loss: 18989.7129\n",
            "Epoch 80/100\n",
            "\u001b[1m48/48\u001b[0m \u001b[32m━━━━━━━━━━━━━━━━━━━━\u001b[0m\u001b[37m\u001b[0m \u001b[1m4s\u001b[0m 86ms/step - accuracy: 0.3497 - loss: 14639.9775 - val_accuracy: 0.2379 - val_loss: 15013.6006\n",
            "Epoch 81/100\n",
            "\u001b[1m48/48\u001b[0m \u001b[32m━━━━━━━━━━━━━━━━━━━━\u001b[0m\u001b[37m\u001b[0m \u001b[1m5s\u001b[0m 88ms/step - accuracy: 0.3603 - loss: 13065.8311 - val_accuracy: 0.3599 - val_loss: 18958.4141\n",
            "Epoch 82/100\n",
            "\u001b[1m48/48\u001b[0m \u001b[32m━━━━━━━━━━━━━━━━━━━━\u001b[0m\u001b[37m\u001b[0m \u001b[1m5s\u001b[0m 78ms/step - accuracy: 0.3583 - loss: 15534.8379 - val_accuracy: 0.2933 - val_loss: 17657.4082\n",
            "Epoch 83/100\n",
            "\u001b[1m48/48\u001b[0m \u001b[32m━━━━━━━━━━━━━━━━━━━━\u001b[0m\u001b[37m\u001b[0m \u001b[1m6s\u001b[0m 87ms/step - accuracy: 0.3571 - loss: 12654.1787 - val_accuracy: 0.2762 - val_loss: 17727.3340\n",
            "Epoch 84/100\n",
            "\u001b[1m48/48\u001b[0m \u001b[32m━━━━━━━━━━━━━━━━━━━━\u001b[0m\u001b[37m\u001b[0m \u001b[1m4s\u001b[0m 77ms/step - accuracy: 0.3685 - loss: 11886.2412 - val_accuracy: 0.2198 - val_loss: 17714.9531\n",
            "Epoch 85/100\n",
            "\u001b[1m48/48\u001b[0m \u001b[32m━━━━━━━━━━━━━━━━━━━━\u001b[0m\u001b[37m\u001b[0m \u001b[1m5s\u001b[0m 78ms/step - accuracy: 0.4014 - loss: 11311.8379 - val_accuracy: 0.2944 - val_loss: 12787.6445\n",
            "Epoch 86/100\n",
            "\u001b[1m48/48\u001b[0m \u001b[32m━━━━━━━━━━━━━━━━━━━━\u001b[0m\u001b[37m\u001b[0m \u001b[1m5s\u001b[0m 78ms/step - accuracy: 0.4095 - loss: 11181.6719 - val_accuracy: 0.3306 - val_loss: 11122.1006\n",
            "Epoch 87/100\n",
            "\u001b[1m48/48\u001b[0m \u001b[32m━━━━━━━━━━━━━━━━━━━━\u001b[0m\u001b[37m\u001b[0m \u001b[1m5s\u001b[0m 77ms/step - accuracy: 0.4019 - loss: 9580.2441 - val_accuracy: 0.2823 - val_loss: 15716.1953\n",
            "Epoch 88/100\n",
            "\u001b[1m48/48\u001b[0m \u001b[32m━━━━━━━━━━━━━━━━━━━━\u001b[0m\u001b[37m\u001b[0m \u001b[1m4s\u001b[0m 87ms/step - accuracy: 0.4272 - loss: 10892.3857 - val_accuracy: 0.3528 - val_loss: 12474.9980\n",
            "Epoch 89/100\n",
            "\u001b[1m48/48\u001b[0m \u001b[32m━━━━━━━━━━━━━━━━━━━━\u001b[0m\u001b[37m\u001b[0m \u001b[1m5s\u001b[0m 87ms/step - accuracy: 0.4260 - loss: 10255.2129 - val_accuracy: 0.3226 - val_loss: 14447.4287\n",
            "Epoch 90/100\n",
            "\u001b[1m48/48\u001b[0m \u001b[32m━━━━━━━━━━━━━━━━━━━━\u001b[0m\u001b[37m\u001b[0m \u001b[1m5s\u001b[0m 75ms/step - accuracy: 0.4152 - loss: 12096.3105 - val_accuracy: 0.3488 - val_loss: 19053.6465\n",
            "Epoch 91/100\n",
            "\u001b[1m48/48\u001b[0m \u001b[32m━━━━━━━━━━━━━━━━━━━━\u001b[0m\u001b[37m\u001b[0m \u001b[1m4s\u001b[0m 89ms/step - accuracy: 0.4353 - loss: 12974.2773 - val_accuracy: 0.3327 - val_loss: 12773.5576\n",
            "Epoch 92/100\n",
            "\u001b[1m48/48\u001b[0m \u001b[32m━━━━━━━━━━━━━━━━━━━━\u001b[0m\u001b[37m\u001b[0m \u001b[1m4s\u001b[0m 78ms/step - accuracy: 0.4259 - loss: 12560.9619 - val_accuracy: 0.3508 - val_loss: 11702.2539\n",
            "Epoch 93/100\n",
            "\u001b[1m48/48\u001b[0m \u001b[32m━━━━━━━━━━━━━━━━━━━━\u001b[0m\u001b[37m\u001b[0m \u001b[1m4s\u001b[0m 88ms/step - accuracy: 0.4163 - loss: 10292.2529 - val_accuracy: 0.3256 - val_loss: 15693.0732\n",
            "Epoch 94/100\n",
            "\u001b[1m48/48\u001b[0m \u001b[32m━━━━━━━━━━━━━━━━━━━━\u001b[0m\u001b[37m\u001b[0m \u001b[1m4s\u001b[0m 85ms/step - accuracy: 0.4046 - loss: 10206.4912 - val_accuracy: 0.2520 - val_loss: 13369.5566\n",
            "Epoch 95/100\n",
            "\u001b[1m48/48\u001b[0m \u001b[32m━━━━━━━━━━━━━━━━━━━━\u001b[0m\u001b[37m\u001b[0m \u001b[1m4s\u001b[0m 79ms/step - accuracy: 0.4506 - loss: 8828.9189 - val_accuracy: 0.3599 - val_loss: 12284.5029\n",
            "Epoch 96/100\n",
            "\u001b[1m48/48\u001b[0m \u001b[32m━━━━━━━━━━━━━━━━━━━━\u001b[0m\u001b[37m\u001b[0m \u001b[1m4s\u001b[0m 87ms/step - accuracy: 0.4701 - loss: 8470.2803 - val_accuracy: 0.2893 - val_loss: 12211.3828\n",
            "Epoch 97/100\n",
            "\u001b[1m48/48\u001b[0m \u001b[32m━━━━━━━━━━━━━━━━━━━━\u001b[0m\u001b[37m\u001b[0m \u001b[1m5s\u001b[0m 86ms/step - accuracy: 0.5078 - loss: 6795.0928 - val_accuracy: 0.3800 - val_loss: 10988.5654\n",
            "Epoch 98/100\n",
            "\u001b[1m48/48\u001b[0m \u001b[32m━━━━━━━━━━━━━━━━━━━━\u001b[0m\u001b[37m\u001b[0m \u001b[1m5s\u001b[0m 77ms/step - accuracy: 0.4469 - loss: 8019.2231 - val_accuracy: 0.3417 - val_loss: 12274.6553\n",
            "Epoch 99/100\n",
            "\u001b[1m48/48\u001b[0m \u001b[32m━━━━━━━━━━━━━━━━━━━━\u001b[0m\u001b[37m\u001b[0m \u001b[1m4s\u001b[0m 77ms/step - accuracy: 0.4452 - loss: 9874.4111 - val_accuracy: 0.3367 - val_loss: 14231.3760\n",
            "Epoch 100/100\n",
            "\u001b[1m48/48\u001b[0m \u001b[32m━━━━━━━━━━━━━━━━━━━━\u001b[0m\u001b[37m\u001b[0m \u001b[1m4s\u001b[0m 88ms/step - accuracy: 0.4808 - loss: 9183.4395 - val_accuracy: 0.3992 - val_loss: 10679.8643\n"
          ]
        }
      ],
      "source": [
        "ReperformedRocket_model = ReperformedRocket(shape = (sz, dim))\n",
        "ReperformedRocket_model.compile(optimizer=Adam(learning_rate=0.1, beta_1=0.99, beta_2=0.999, epsilon=1e-08), loss='categorical_crossentropy', metrics=['accuracy'])\n",
        "history_rr = ReperformedRocket_model.fit(train_ds, validation_data=val_ds, epochs=100, verbose = 1)"
      ]
    },
    {
      "cell_type": "markdown",
      "id": "C8dE6uYPrhsp",
      "metadata": {
        "id": "C8dE6uYPrhsp"
      },
      "source": [
        "The performance was competitive with most benchmark methods, but not with the sktime implementation. There were some significant differences between this custom implementation and the sktime implementation, notably that in the custom implementation padding was *always* applied, and the bias was sampled from the $Uniform(-1, 1)$ distribution rather than from a quantiles of a randomly selected training example."
      ]
    },
    {
      "cell_type": "markdown",
      "id": "tRXQJbAkeHeg",
      "metadata": {
        "id": "tRXQJbAkeHeg"
      },
      "source": [
        "### **With L2 loss penalty**"
      ]
    },
    {
      "cell_type": "markdown",
      "id": "N6yM5pR0qL66",
      "metadata": {
        "id": "N6yM5pR0qL66"
      },
      "source": [
        "The experiment above was repeated with the following regularisation penalty applied in the fully connected layer: `output_layer = Dense(C, activation=\"softmax\", kernel_regularizer = l2(10))(z)`. The parameter was set to 10 as this was the best hyperparameter found by the Cross Validation approach in the benchmark paper. Also tested were 0.1 and 1. All values of the hyperparameter resulted in substantially worse performance."
      ]
    },
    {
      "cell_type": "code",
      "execution_count": null,
      "id": "aXqqAVwNeN6Q",
      "metadata": {
        "id": "aXqqAVwNeN6Q"
      },
      "outputs": [],
      "source": [
        "def ReperformedRocketL1(shape):\n",
        "    block1_input_layer = Input(shape=shape)\n",
        "    z = Rocket(name = \"Rocket1\")(block1_input_layer)\n",
        "    output_layer = Dense(C, activation=\"softmax\", kernel_regularizer = l2(10))(z)\n",
        "    return Model(inputs=block1_input_layer, outputs=output_layer)"
      ]
    },
    {
      "cell_type": "code",
      "execution_count": null,
      "id": "bSyPjCdBeOG0",
      "metadata": {
        "colab": {
          "base_uri": "https://localhost:8080/",
          "height": 230
        },
        "id": "bSyPjCdBeOG0",
        "outputId": "294a28be-1b61-47a4-dff2-d7074e231a4b"
      },
      "outputs": [
        {
          "data": {
            "text/html": [
              "<pre style=\"white-space:pre;overflow-x:auto;line-height:normal;font-family:Menlo,'DejaVu Sans Mono',consolas,'Courier New',monospace\"><span style=\"font-weight: bold\">Model: \"functional_3\"</span>\n",
              "</pre>\n"
            ],
            "text/plain": [
              "\u001b[1mModel: \"functional_3\"\u001b[0m\n"
            ]
          },
          "metadata": {},
          "output_type": "display_data"
        },
        {
          "data": {
            "text/html": [
              "<pre style=\"white-space:pre;overflow-x:auto;line-height:normal;font-family:Menlo,'DejaVu Sans Mono',consolas,'Courier New',monospace\">┏━━━━━━━━━━━━━━━━━━━━━━━━━━━━━━━━━━━━━━┳━━━━━━━━━━━━━━━━━━━━━━━━━━━━━┳━━━━━━━━━━━━━━━━━┓\n",
              "┃<span style=\"font-weight: bold\"> Layer (type)                         </span>┃<span style=\"font-weight: bold\"> Output Shape                </span>┃<span style=\"font-weight: bold\">         Param # </span>┃\n",
              "┡━━━━━━━━━━━━━━━━━━━━━━━━━━━━━━━━━━━━━━╇━━━━━━━━━━━━━━━━━━━━━━━━━━━━━╇━━━━━━━━━━━━━━━━━┩\n",
              "│ input_layer_3 (<span style=\"color: #0087ff; text-decoration-color: #0087ff\">InputLayer</span>)           │ (<span style=\"color: #00d7ff; text-decoration-color: #00d7ff\">None</span>, <span style=\"color: #00af00; text-decoration-color: #00af00\">500</span>, <span style=\"color: #00af00; text-decoration-color: #00af00\">6</span>)              │               <span style=\"color: #00af00; text-decoration-color: #00af00\">0</span> │\n",
              "├──────────────────────────────────────┼─────────────────────────────┼─────────────────┤\n",
              "│ Rocket1 (<span style=\"color: #0087ff; text-decoration-color: #0087ff\">Rocket</span>)                     │ (<span style=\"color: #00d7ff; text-decoration-color: #00d7ff\">None</span>, <span style=\"color: #00af00; text-decoration-color: #00af00\">29988</span>)               │         <span style=\"color: #00af00; text-decoration-color: #00af00\">549,780</span> │\n",
              "├──────────────────────────────────────┼─────────────────────────────┼─────────────────┤\n",
              "│ dense_3 (<span style=\"color: #0087ff; text-decoration-color: #0087ff\">Dense</span>)                      │ (<span style=\"color: #00d7ff; text-decoration-color: #00d7ff\">None</span>, <span style=\"color: #00af00; text-decoration-color: #00af00\">31</span>)                  │         <span style=\"color: #00af00; text-decoration-color: #00af00\">929,659</span> │\n",
              "└──────────────────────────────────────┴─────────────────────────────┴─────────────────┘\n",
              "</pre>\n"
            ],
            "text/plain": [
              "┏━━━━━━━━━━━━━━━━━━━━━━━━━━━━━━━━━━━━━━┳━━━━━━━━━━━━━━━━━━━━━━━━━━━━━┳━━━━━━━━━━━━━━━━━┓\n",
              "┃\u001b[1m \u001b[0m\u001b[1mLayer (type)                        \u001b[0m\u001b[1m \u001b[0m┃\u001b[1m \u001b[0m\u001b[1mOutput Shape               \u001b[0m\u001b[1m \u001b[0m┃\u001b[1m \u001b[0m\u001b[1m        Param #\u001b[0m\u001b[1m \u001b[0m┃\n",
              "┡━━━━━━━━━━━━━━━━━━━━━━━━━━━━━━━━━━━━━━╇━━━━━━━━━━━━━━━━━━━━━━━━━━━━━╇━━━━━━━━━━━━━━━━━┩\n",
              "│ input_layer_3 (\u001b[38;5;33mInputLayer\u001b[0m)           │ (\u001b[38;5;45mNone\u001b[0m, \u001b[38;5;34m500\u001b[0m, \u001b[38;5;34m6\u001b[0m)              │               \u001b[38;5;34m0\u001b[0m │\n",
              "├──────────────────────────────────────┼─────────────────────────────┼─────────────────┤\n",
              "│ Rocket1 (\u001b[38;5;33mRocket\u001b[0m)                     │ (\u001b[38;5;45mNone\u001b[0m, \u001b[38;5;34m29988\u001b[0m)               │         \u001b[38;5;34m549,780\u001b[0m │\n",
              "├──────────────────────────────────────┼─────────────────────────────┼─────────────────┤\n",
              "│ dense_3 (\u001b[38;5;33mDense\u001b[0m)                      │ (\u001b[38;5;45mNone\u001b[0m, \u001b[38;5;34m31\u001b[0m)                  │         \u001b[38;5;34m929,659\u001b[0m │\n",
              "└──────────────────────────────────────┴─────────────────────────────┴─────────────────┘\n"
            ]
          },
          "metadata": {},
          "output_type": "display_data"
        },
        {
          "data": {
            "text/html": [
              "<pre style=\"white-space:pre;overflow-x:auto;line-height:normal;font-family:Menlo,'DejaVu Sans Mono',consolas,'Courier New',monospace\"><span style=\"font-weight: bold\"> Total params: </span><span style=\"color: #00af00; text-decoration-color: #00af00\">1,479,439</span> (5.64 MB)\n",
              "</pre>\n"
            ],
            "text/plain": [
              "\u001b[1m Total params: \u001b[0m\u001b[38;5;34m1,479,439\u001b[0m (5.64 MB)\n"
            ]
          },
          "metadata": {},
          "output_type": "display_data"
        },
        {
          "data": {
            "text/html": [
              "<pre style=\"white-space:pre;overflow-x:auto;line-height:normal;font-family:Menlo,'DejaVu Sans Mono',consolas,'Courier New',monospace\"><span style=\"font-weight: bold\"> Trainable params: </span><span style=\"color: #00af00; text-decoration-color: #00af00\">929,659</span> (3.55 MB)\n",
              "</pre>\n"
            ],
            "text/plain": [
              "\u001b[1m Trainable params: \u001b[0m\u001b[38;5;34m929,659\u001b[0m (3.55 MB)\n"
            ]
          },
          "metadata": {},
          "output_type": "display_data"
        },
        {
          "data": {
            "text/html": [
              "<pre style=\"white-space:pre;overflow-x:auto;line-height:normal;font-family:Menlo,'DejaVu Sans Mono',consolas,'Courier New',monospace\"><span style=\"font-weight: bold\"> Non-trainable params: </span><span style=\"color: #00af00; text-decoration-color: #00af00\">549,780</span> (2.10 MB)\n",
              "</pre>\n"
            ],
            "text/plain": [
              "\u001b[1m Non-trainable params: \u001b[0m\u001b[38;5;34m549,780\u001b[0m (2.10 MB)\n"
            ]
          },
          "metadata": {},
          "output_type": "display_data"
        }
      ],
      "source": [
        "ReperformedRocket_model_L1 = ReperformedRocketL1(shape = (sz, dim))\n",
        "ReperformedRocket_model_L1.summary()"
      ]
    },
    {
      "cell_type": "code",
      "execution_count": null,
      "id": "B1O3h6gFeOJr",
      "metadata": {
        "colab": {
          "base_uri": "https://localhost:8080/"
        },
        "id": "B1O3h6gFeOJr",
        "outputId": "3a1ddf44-5c09-4696-db7a-67cf690c5311"
      },
      "outputs": [
        {
          "name": "stdout",
          "output_type": "stream",
          "text": [
            "Epoch 1/50\n",
            "\u001b[1m48/48\u001b[0m \u001b[32m━━━━━━━━━━━━━━━━━━━━\u001b[0m\u001b[37m\u001b[0m \u001b[1m36s\u001b[0m 504ms/step - accuracy: 0.0401 - loss: 5489845.0000 - val_accuracy: 0.0484 - val_loss: 4808758.5000\n",
            "Epoch 2/50\n",
            "\u001b[1m48/48\u001b[0m \u001b[32m━━━━━━━━━━━━━━━━━━━━\u001b[0m\u001b[37m\u001b[0m \u001b[1m10s\u001b[0m 210ms/step - accuracy: 0.0394 - loss: 4160079.0000 - val_accuracy: 0.0383 - val_loss: 3883532.2500\n",
            "Epoch 3/50\n",
            "\u001b[1m48/48\u001b[0m \u001b[32m━━━━━━━━━━━━━━━━━━━━\u001b[0m\u001b[37m\u001b[0m \u001b[1m10s\u001b[0m 209ms/step - accuracy: 0.0395 - loss: 3568623.2500 - val_accuracy: 0.0232 - val_loss: 3121545.5000\n",
            "Epoch 4/50\n",
            "\u001b[1m48/48\u001b[0m \u001b[32m━━━━━━━━━━━━━━━━━━━━\u001b[0m\u001b[37m\u001b[0m \u001b[1m10s\u001b[0m 210ms/step - accuracy: 0.0338 - loss: 2925710.0000 - val_accuracy: 0.0474 - val_loss: 2478184.2500\n",
            "Epoch 5/50\n",
            "\u001b[1m48/48\u001b[0m \u001b[32m━━━━━━━━━━━━━━━━━━━━\u001b[0m\u001b[37m\u001b[0m \u001b[1m10s\u001b[0m 212ms/step - accuracy: 0.0379 - loss: 2592972.0000 - val_accuracy: 0.0474 - val_loss: 2475056.0000\n",
            "Epoch 6/50\n",
            "\u001b[1m48/48\u001b[0m \u001b[32m━━━━━━━━━━━━━━━━━━━━\u001b[0m\u001b[37m\u001b[0m \u001b[1m10s\u001b[0m 212ms/step - accuracy: 0.0307 - loss: 2309542.7500 - val_accuracy: 0.0242 - val_loss: 1929538.5000\n",
            "Epoch 7/50\n",
            "\u001b[1m48/48\u001b[0m \u001b[32m━━━━━━━━━━━━━━━━━━━━\u001b[0m\u001b[37m\u001b[0m \u001b[1m10s\u001b[0m 213ms/step - accuracy: 0.0264 - loss: 1881276.8750 - val_accuracy: 0.0323 - val_loss: 1647636.0000\n",
            "Epoch 8/50\n",
            "\u001b[1m 8/48\u001b[0m \u001b[32m━━━\u001b[0m\u001b[37m━━━━━━━━━━━━━━━━━\u001b[0m \u001b[1m6s\u001b[0m 161ms/step - accuracy: 0.0268 - loss: 1600693.2500"
          ]
        }
      ],
      "source": [
        "ReperformedRocket_model_L1 = ReperformedRocketL1(shape = (sz, dim))\n",
        "ReperformedRocket_model_L1.compile(optimizer=Adam(learning_rate=1.0, beta_1=0.99, beta_2=0.999, epsilon=1e-08), loss='categorical_crossentropy', metrics=['accuracy'])\n",
        "history_rrl1 = ReperformedRocket_model_L1.fit(train_ds, validation_data=val_ds, epochs=50, verbose = 1)"
      ]
    },
    {
      "cell_type": "markdown",
      "id": "CjU_-c8QM0oM",
      "metadata": {
        "id": "CjU_-c8QM0oM"
      },
      "source": [
        "## **Experiment: Rocket transformation with *sktime* implementation**"
      ]
    },
    {
      "cell_type": "markdown",
      "id": "cBpFxbSeXn9M",
      "metadata": {
        "id": "cBpFxbSeXn9M"
      },
      "source": [
        "### **Without L2 loss penalty**"
      ]
    },
    {
      "cell_type": "code",
      "execution_count": null,
      "id": "G8nOMQlpeOMS",
      "metadata": {
        "id": "G8nOMQlpeOMS"
      },
      "outputs": [],
      "source": [
        "def RocketSktime(shape):\n",
        "    block1_input_layer = Input(shape=shape)\n",
        "    output_layer = Dense(C, activation=\"softmax\")(block1_input_layer) #, kernel_regularizer = l2(10)\n",
        "    return Model(inputs=block1_input_layer, outputs=output_layer)"
      ]
    },
    {
      "cell_type": "code",
      "execution_count": null,
      "id": "zr_jvH1VVd4Z",
      "metadata": {
        "colab": {
          "base_uri": "https://localhost:8080/",
          "height": 197
        },
        "id": "zr_jvH1VVd4Z",
        "outputId": "3090d3c7-df31-474e-c18e-9277f47dc92b"
      },
      "outputs": [
        {
          "data": {
            "text/html": [
              "<pre style=\"white-space:pre;overflow-x:auto;line-height:normal;font-family:Menlo,'DejaVu Sans Mono',consolas,'Courier New',monospace\"><span style=\"font-weight: bold\">Model: \"functional\"</span>\n",
              "</pre>\n"
            ],
            "text/plain": [
              "\u001b[1mModel: \"functional\"\u001b[0m\n"
            ]
          },
          "metadata": {},
          "output_type": "display_data"
        },
        {
          "data": {
            "text/html": [
              "<pre style=\"white-space:pre;overflow-x:auto;line-height:normal;font-family:Menlo,'DejaVu Sans Mono',consolas,'Courier New',monospace\">┏━━━━━━━━━━━━━━━━━━━━━━━━━━━━━━━━━━━━━━┳━━━━━━━━━━━━━━━━━━━━━━━━━━━━━┳━━━━━━━━━━━━━━━━━┓\n",
              "┃<span style=\"font-weight: bold\"> Layer (type)                         </span>┃<span style=\"font-weight: bold\"> Output Shape                </span>┃<span style=\"font-weight: bold\">         Param # </span>┃\n",
              "┡━━━━━━━━━━━━━━━━━━━━━━━━━━━━━━━━━━━━━━╇━━━━━━━━━━━━━━━━━━━━━━━━━━━━━╇━━━━━━━━━━━━━━━━━┩\n",
              "│ input_layer (<span style=\"color: #0087ff; text-decoration-color: #0087ff\">InputLayer</span>)             │ (<span style=\"color: #00d7ff; text-decoration-color: #00d7ff\">None</span>, <span style=\"color: #00af00; text-decoration-color: #00af00\">9996</span>)                │               <span style=\"color: #00af00; text-decoration-color: #00af00\">0</span> │\n",
              "├──────────────────────────────────────┼─────────────────────────────┼─────────────────┤\n",
              "│ dense (<span style=\"color: #0087ff; text-decoration-color: #0087ff\">Dense</span>)                        │ (<span style=\"color: #00d7ff; text-decoration-color: #00d7ff\">None</span>, <span style=\"color: #00af00; text-decoration-color: #00af00\">31</span>)                  │         <span style=\"color: #00af00; text-decoration-color: #00af00\">309,907</span> │\n",
              "└──────────────────────────────────────┴─────────────────────────────┴─────────────────┘\n",
              "</pre>\n"
            ],
            "text/plain": [
              "┏━━━━━━━━━━━━━━━━━━━━━━━━━━━━━━━━━━━━━━┳━━━━━━━━━━━━━━━━━━━━━━━━━━━━━┳━━━━━━━━━━━━━━━━━┓\n",
              "┃\u001b[1m \u001b[0m\u001b[1mLayer (type)                        \u001b[0m\u001b[1m \u001b[0m┃\u001b[1m \u001b[0m\u001b[1mOutput Shape               \u001b[0m\u001b[1m \u001b[0m┃\u001b[1m \u001b[0m\u001b[1m        Param #\u001b[0m\u001b[1m \u001b[0m┃\n",
              "┡━━━━━━━━━━━━━━━━━━━━━━━━━━━━━━━━━━━━━━╇━━━━━━━━━━━━━━━━━━━━━━━━━━━━━╇━━━━━━━━━━━━━━━━━┩\n",
              "│ input_layer (\u001b[38;5;33mInputLayer\u001b[0m)             │ (\u001b[38;5;45mNone\u001b[0m, \u001b[38;5;34m9996\u001b[0m)                │               \u001b[38;5;34m0\u001b[0m │\n",
              "├──────────────────────────────────────┼─────────────────────────────┼─────────────────┤\n",
              "│ dense (\u001b[38;5;33mDense\u001b[0m)                        │ (\u001b[38;5;45mNone\u001b[0m, \u001b[38;5;34m31\u001b[0m)                  │         \u001b[38;5;34m309,907\u001b[0m │\n",
              "└──────────────────────────────────────┴─────────────────────────────┴─────────────────┘\n"
            ]
          },
          "metadata": {},
          "output_type": "display_data"
        },
        {
          "data": {
            "text/html": [
              "<pre style=\"white-space:pre;overflow-x:auto;line-height:normal;font-family:Menlo,'DejaVu Sans Mono',consolas,'Courier New',monospace\"><span style=\"font-weight: bold\"> Total params: </span><span style=\"color: #00af00; text-decoration-color: #00af00\">309,907</span> (1.18 MB)\n",
              "</pre>\n"
            ],
            "text/plain": [
              "\u001b[1m Total params: \u001b[0m\u001b[38;5;34m309,907\u001b[0m (1.18 MB)\n"
            ]
          },
          "metadata": {},
          "output_type": "display_data"
        },
        {
          "data": {
            "text/html": [
              "<pre style=\"white-space:pre;overflow-x:auto;line-height:normal;font-family:Menlo,'DejaVu Sans Mono',consolas,'Courier New',monospace\"><span style=\"font-weight: bold\"> Trainable params: </span><span style=\"color: #00af00; text-decoration-color: #00af00\">309,907</span> (1.18 MB)\n",
              "</pre>\n"
            ],
            "text/plain": [
              "\u001b[1m Trainable params: \u001b[0m\u001b[38;5;34m309,907\u001b[0m (1.18 MB)\n"
            ]
          },
          "metadata": {},
          "output_type": "display_data"
        },
        {
          "data": {
            "text/html": [
              "<pre style=\"white-space:pre;overflow-x:auto;line-height:normal;font-family:Menlo,'DejaVu Sans Mono',consolas,'Courier New',monospace\"><span style=\"font-weight: bold\"> Non-trainable params: </span><span style=\"color: #00af00; text-decoration-color: #00af00\">0</span> (0.00 B)\n",
              "</pre>\n"
            ],
            "text/plain": [
              "\u001b[1m Non-trainable params: \u001b[0m\u001b[38;5;34m0\u001b[0m (0.00 B)\n"
            ]
          },
          "metadata": {},
          "output_type": "display_data"
        }
      ],
      "source": [
        "rocketsktime = RocketSktime(shape = (9996,))\n",
        "rocketsktime.summary()"
      ]
    },
    {
      "cell_type": "code",
      "execution_count": null,
      "id": "WAerHo25Uhw4",
      "metadata": {
        "colab": {
          "base_uri": "https://localhost:8080/"
        },
        "id": "WAerHo25Uhw4",
        "outputId": "00d13c6d-8131-4aca-adc0-dc6838f8d801"
      },
      "outputs": [
        {
          "name": "stdout",
          "output_type": "stream",
          "text": [
            "Epoch 1/50\n",
            "\u001b[1m48/48\u001b[0m \u001b[32m━━━━━━━━━━━━━━━━━━━━\u001b[0m\u001b[37m\u001b[0m \u001b[1m2s\u001b[0m 16ms/step - accuracy: 0.0518 - loss: 13221.0527 - val_accuracy: 0.0504 - val_loss: 13282.5947\n",
            "Epoch 2/50\n",
            "\u001b[1m48/48\u001b[0m \u001b[32m━━━━━━━━━━━━━━━━━━━━\u001b[0m\u001b[37m\u001b[0m \u001b[1m1s\u001b[0m 16ms/step - accuracy: 0.1223 - loss: 12049.3262 - val_accuracy: 0.1179 - val_loss: 10221.6289\n",
            "Epoch 3/50\n",
            "\u001b[1m48/48\u001b[0m \u001b[32m━━━━━━━━━━━━━━━━━━━━\u001b[0m\u001b[37m\u001b[0m \u001b[1m1s\u001b[0m 17ms/step - accuracy: 0.1537 - loss: 8804.2402 - val_accuracy: 0.1673 - val_loss: 5977.6646\n",
            "Epoch 4/50\n",
            "\u001b[1m48/48\u001b[0m \u001b[32m━━━━━━━━━━━━━━━━━━━━\u001b[0m\u001b[37m\u001b[0m \u001b[1m1s\u001b[0m 15ms/step - accuracy: 0.2275 - loss: 5126.3472 - val_accuracy: 0.3458 - val_loss: 4285.4326\n",
            "Epoch 5/50\n",
            "\u001b[1m48/48\u001b[0m \u001b[32m━━━━━━━━━━━━━━━━━━━━\u001b[0m\u001b[37m\u001b[0m \u001b[1m1s\u001b[0m 10ms/step - accuracy: 0.3132 - loss: 3590.4050 - val_accuracy: 0.3317 - val_loss: 3069.1147\n",
            "Epoch 6/50\n",
            "\u001b[1m48/48\u001b[0m \u001b[32m━━━━━━━━━━━━━━━━━━━━\u001b[0m\u001b[37m\u001b[0m \u001b[1m1s\u001b[0m 10ms/step - accuracy: 0.3732 - loss: 2419.4194 - val_accuracy: 0.4335 - val_loss: 2128.5093\n",
            "Epoch 7/50\n",
            "\u001b[1m48/48\u001b[0m \u001b[32m━━━━━━━━━━━━━━━━━━━━\u001b[0m\u001b[37m\u001b[0m \u001b[1m1s\u001b[0m 9ms/step - accuracy: 0.4757 - loss: 1603.3622 - val_accuracy: 0.4929 - val_loss: 1241.1154\n",
            "Epoch 8/50\n",
            "\u001b[1m48/48\u001b[0m \u001b[32m━━━━━━━━━━━━━━━━━━━━\u001b[0m\u001b[37m\u001b[0m \u001b[1m1s\u001b[0m 10ms/step - accuracy: 0.5255 - loss: 921.8040 - val_accuracy: 0.5383 - val_loss: 616.9749\n",
            "Epoch 9/50\n",
            "\u001b[1m48/48\u001b[0m \u001b[32m━━━━━━━━━━━━━━━━━━━━\u001b[0m\u001b[37m\u001b[0m \u001b[1m0s\u001b[0m 9ms/step - accuracy: 0.6419 - loss: 531.2234 - val_accuracy: 0.5363 - val_loss: 790.3563\n",
            "Epoch 10/50\n",
            "\u001b[1m48/48\u001b[0m \u001b[32m━━━━━━━━━━━━━━━━━━━━\u001b[0m\u001b[37m\u001b[0m \u001b[1m1s\u001b[0m 12ms/step - accuracy: 0.6431 - loss: 491.0306 - val_accuracy: 0.5000 - val_loss: 720.0096\n",
            "Epoch 11/50\n",
            "\u001b[1m48/48\u001b[0m \u001b[32m━━━━━━━━━━━━━━━━━━━━\u001b[0m\u001b[37m\u001b[0m \u001b[1m1s\u001b[0m 10ms/step - accuracy: 0.6934 - loss: 379.8660 - val_accuracy: 0.5252 - val_loss: 645.4062\n",
            "Epoch 12/50\n",
            "\u001b[1m48/48\u001b[0m \u001b[32m━━━━━━━━━━━━━━━━━━━━\u001b[0m\u001b[37m\u001b[0m \u001b[1m1s\u001b[0m 9ms/step - accuracy: 0.7465 - loss: 261.8945 - val_accuracy: 0.6583 - val_loss: 358.8303\n",
            "Epoch 13/50\n",
            "\u001b[1m48/48\u001b[0m \u001b[32m━━━━━━━━━━━━━━━━━━━━\u001b[0m\u001b[37m\u001b[0m \u001b[1m1s\u001b[0m 10ms/step - accuracy: 0.7504 - loss: 206.3966 - val_accuracy: 0.6260 - val_loss: 473.7789\n",
            "Epoch 14/50\n",
            "\u001b[1m48/48\u001b[0m \u001b[32m━━━━━━━━━━━━━━━━━━━━\u001b[0m\u001b[37m\u001b[0m \u001b[1m1s\u001b[0m 10ms/step - accuracy: 0.8106 - loss: 165.8086 - val_accuracy: 0.7137 - val_loss: 294.8342\n",
            "Epoch 15/50\n",
            "\u001b[1m48/48\u001b[0m \u001b[32m━━━━━━━━━━━━━━━━━━━━\u001b[0m\u001b[37m\u001b[0m \u001b[1m1s\u001b[0m 10ms/step - accuracy: 0.8290 - loss: 174.2057 - val_accuracy: 0.6835 - val_loss: 399.1344\n",
            "Epoch 16/50\n",
            "\u001b[1m48/48\u001b[0m \u001b[32m━━━━━━━━━━━━━━━━━━━━\u001b[0m\u001b[37m\u001b[0m \u001b[1m0s\u001b[0m 10ms/step - accuracy: 0.8503 - loss: 110.8310 - val_accuracy: 0.6754 - val_loss: 407.7186\n",
            "Epoch 17/50\n",
            "\u001b[1m48/48\u001b[0m \u001b[32m━━━━━━━━━━━━━━━━━━━━\u001b[0m\u001b[37m\u001b[0m \u001b[1m0s\u001b[0m 10ms/step - accuracy: 0.8350 - loss: 129.9894 - val_accuracy: 0.6240 - val_loss: 534.7899\n",
            "Epoch 18/50\n",
            "\u001b[1m48/48\u001b[0m \u001b[32m━━━━━━━━━━━━━━━━━━━━\u001b[0m\u001b[37m\u001b[0m \u001b[1m0s\u001b[0m 10ms/step - accuracy: 0.8478 - loss: 193.7771 - val_accuracy: 0.6260 - val_loss: 463.8088\n",
            "Epoch 19/50\n",
            "\u001b[1m48/48\u001b[0m \u001b[32m━━━━━━━━━━━━━━━━━━━━\u001b[0m\u001b[37m\u001b[0m \u001b[1m1s\u001b[0m 10ms/step - accuracy: 0.8325 - loss: 161.6489 - val_accuracy: 0.7026 - val_loss: 259.9348\n",
            "Epoch 20/50\n",
            "\u001b[1m48/48\u001b[0m \u001b[32m━━━━━━━━━━━━━━━━━━━━\u001b[0m\u001b[37m\u001b[0m \u001b[1m0s\u001b[0m 10ms/step - accuracy: 0.9046 - loss: 54.6450 - val_accuracy: 0.7157 - val_loss: 255.3072\n",
            "Epoch 21/50\n",
            "\u001b[1m48/48\u001b[0m \u001b[32m━━━━━━━━━━━━━━━━━━━━\u001b[0m\u001b[37m\u001b[0m \u001b[1m0s\u001b[0m 10ms/step - accuracy: 0.9189 - loss: 37.6410 - val_accuracy: 0.6794 - val_loss: 320.8282\n",
            "Epoch 22/50\n",
            "\u001b[1m48/48\u001b[0m \u001b[32m━━━━━━━━━━━━━━━━━━━━\u001b[0m\u001b[37m\u001b[0m \u001b[1m1s\u001b[0m 15ms/step - accuracy: 0.9204 - loss: 40.4337 - val_accuracy: 0.6603 - val_loss: 312.7778\n",
            "Epoch 23/50\n",
            "\u001b[1m48/48\u001b[0m \u001b[32m━━━━━━━━━━━━━━━━━━━━\u001b[0m\u001b[37m\u001b[0m \u001b[1m1s\u001b[0m 16ms/step - accuracy: 0.9378 - loss: 26.3579 - val_accuracy: 0.6875 - val_loss: 405.0982\n",
            "Epoch 24/50\n",
            "\u001b[1m48/48\u001b[0m \u001b[32m━━━━━━━━━━━━━━━━━━━━\u001b[0m\u001b[37m\u001b[0m \u001b[1m1s\u001b[0m 16ms/step - accuracy: 0.9164 - loss: 52.4253 - val_accuracy: 0.6653 - val_loss: 420.6482\n",
            "Epoch 25/50\n",
            "\u001b[1m48/48\u001b[0m \u001b[32m━━━━━━━━━━━━━━━━━━━━\u001b[0m\u001b[37m\u001b[0m \u001b[1m1s\u001b[0m 10ms/step - accuracy: 0.9100 - loss: 63.4032 - val_accuracy: 0.6704 - val_loss: 327.3001\n",
            "Epoch 26/50\n",
            "\u001b[1m48/48\u001b[0m \u001b[32m━━━━━━━━━━━━━━━━━━━━\u001b[0m\u001b[37m\u001b[0m \u001b[1m1s\u001b[0m 10ms/step - accuracy: 0.9239 - loss: 48.5438 - val_accuracy: 0.7056 - val_loss: 289.7787\n",
            "Epoch 27/50\n",
            "\u001b[1m48/48\u001b[0m \u001b[32m━━━━━━━━━━━━━━━━━━━━\u001b[0m\u001b[37m\u001b[0m \u001b[1m1s\u001b[0m 10ms/step - accuracy: 0.9528 - loss: 24.1650 - val_accuracy: 0.7087 - val_loss: 240.9561\n",
            "Epoch 28/50\n",
            "\u001b[1m48/48\u001b[0m \u001b[32m━━━━━━━━━━━━━━━━━━━━\u001b[0m\u001b[37m\u001b[0m \u001b[1m1s\u001b[0m 10ms/step - accuracy: 0.9530 - loss: 23.2206 - val_accuracy: 0.6512 - val_loss: 427.9918\n",
            "Epoch 29/50\n",
            "\u001b[1m48/48\u001b[0m \u001b[32m━━━━━━━━━━━━━━━━━━━━\u001b[0m\u001b[37m\u001b[0m \u001b[1m1s\u001b[0m 10ms/step - accuracy: 0.9416 - loss: 36.4145 - val_accuracy: 0.6401 - val_loss: 408.5643\n",
            "Epoch 30/50\n",
            "\u001b[1m48/48\u001b[0m \u001b[32m━━━━━━━━━━━━━━━━━━━━\u001b[0m\u001b[37m\u001b[0m \u001b[1m1s\u001b[0m 19ms/step - accuracy: 0.9125 - loss: 53.0676 - val_accuracy: 0.6532 - val_loss: 487.9507\n",
            "Epoch 31/50\n",
            "\u001b[1m48/48\u001b[0m \u001b[32m━━━━━━━━━━━━━━━━━━━━\u001b[0m\u001b[37m\u001b[0m \u001b[1m0s\u001b[0m 10ms/step - accuracy: 0.9253 - loss: 47.3880 - val_accuracy: 0.6835 - val_loss: 501.1037\n",
            "Epoch 32/50\n",
            "\u001b[1m48/48\u001b[0m \u001b[32m━━━━━━━━━━━━━━━━━━━━\u001b[0m\u001b[37m\u001b[0m \u001b[1m1s\u001b[0m 9ms/step - accuracy: 0.9475 - loss: 54.3336 - val_accuracy: 0.7097 - val_loss: 576.9286\n",
            "Epoch 33/50\n",
            "\u001b[1m48/48\u001b[0m \u001b[32m━━━━━━━━━━━━━━━━━━━━\u001b[0m\u001b[37m\u001b[0m \u001b[1m1s\u001b[0m 10ms/step - accuracy: 0.9424 - loss: 93.2795 - val_accuracy: 0.6089 - val_loss: 475.1114\n",
            "Epoch 34/50\n",
            "\u001b[1m48/48\u001b[0m \u001b[32m━━━━━━━━━━━━━━━━━━━━\u001b[0m\u001b[37m\u001b[0m \u001b[1m1s\u001b[0m 10ms/step - accuracy: 0.9310 - loss: 60.8794 - val_accuracy: 0.6492 - val_loss: 486.4456\n",
            "Epoch 35/50\n",
            "\u001b[1m48/48\u001b[0m \u001b[32m━━━━━━━━━━━━━━━━━━━━\u001b[0m\u001b[37m\u001b[0m \u001b[1m1s\u001b[0m 9ms/step - accuracy: 0.8935 - loss: 60.4988 - val_accuracy: 0.6573 - val_loss: 548.2064\n",
            "Epoch 36/50\n",
            "\u001b[1m48/48\u001b[0m \u001b[32m━━━━━━━━━━━━━━━━━━━━\u001b[0m\u001b[37m\u001b[0m \u001b[1m1s\u001b[0m 11ms/step - accuracy: 0.8717 - loss: 94.9285 - val_accuracy: 0.6210 - val_loss: 730.1298\n",
            "Epoch 37/50\n",
            "\u001b[1m48/48\u001b[0m \u001b[32m━━━━━━━━━━━━━━━━━━━━\u001b[0m\u001b[37m\u001b[0m \u001b[1m0s\u001b[0m 9ms/step - accuracy: 0.8576 - loss: 132.6757 - val_accuracy: 0.5534 - val_loss: 850.3280\n",
            "Epoch 38/50\n",
            "\u001b[1m48/48\u001b[0m \u001b[32m━━━━━━━━━━━━━━━━━━━━\u001b[0m\u001b[37m\u001b[0m \u001b[1m1s\u001b[0m 10ms/step - accuracy: 0.8314 - loss: 200.5541 - val_accuracy: 0.6431 - val_loss: 748.7419\n",
            "Epoch 39/50\n",
            "\u001b[1m48/48\u001b[0m \u001b[32m━━━━━━━━━━━━━━━━━━━━\u001b[0m\u001b[37m\u001b[0m \u001b[1m1s\u001b[0m 10ms/step - accuracy: 0.8692 - loss: 151.6220 - val_accuracy: 0.6442 - val_loss: 648.3146\n",
            "Epoch 40/50\n",
            "\u001b[1m48/48\u001b[0m \u001b[32m━━━━━━━━━━━━━━━━━━━━\u001b[0m\u001b[37m\u001b[0m \u001b[1m1s\u001b[0m 11ms/step - accuracy: 0.8864 - loss: 112.4341 - val_accuracy: 0.6361 - val_loss: 952.7017\n",
            "Epoch 41/50\n",
            "\u001b[1m48/48\u001b[0m \u001b[32m━━━━━━━━━━━━━━━━━━━━\u001b[0m\u001b[37m\u001b[0m \u001b[1m1s\u001b[0m 17ms/step - accuracy: 0.8538 - loss: 203.7071 - val_accuracy: 0.6371 - val_loss: 911.5102\n",
            "Epoch 42/50\n",
            "\u001b[1m48/48\u001b[0m \u001b[32m━━━━━━━━━━━━━━━━━━━━\u001b[0m\u001b[37m\u001b[0m \u001b[1m1s\u001b[0m 20ms/step - accuracy: 0.8474 - loss: 225.2971 - val_accuracy: 0.5635 - val_loss: 969.3907\n",
            "Epoch 43/50\n",
            "\u001b[1m48/48\u001b[0m \u001b[32m━━━━━━━━━━━━━━━━━━━━\u001b[0m\u001b[37m\u001b[0m \u001b[1m1s\u001b[0m 17ms/step - accuracy: 0.8463 - loss: 306.4802 - val_accuracy: 0.6764 - val_loss: 418.7090\n",
            "Epoch 44/50\n",
            "\u001b[1m48/48\u001b[0m \u001b[32m━━━━━━━━━━━━━━━━━━━━\u001b[0m\u001b[37m\u001b[0m \u001b[1m2s\u001b[0m 24ms/step - accuracy: 0.8839 - loss: 162.2264 - val_accuracy: 0.6865 - val_loss: 510.1145\n",
            "Epoch 45/50\n",
            "\u001b[1m48/48\u001b[0m \u001b[32m━━━━━━━━━━━━━━━━━━━━\u001b[0m\u001b[37m\u001b[0m \u001b[1m1s\u001b[0m 23ms/step - accuracy: 0.8911 - loss: 188.2548 - val_accuracy: 0.6109 - val_loss: 931.5014\n",
            "Epoch 46/50\n",
            "\u001b[1m48/48\u001b[0m \u001b[32m━━━━━━━━━━━━━━━━━━━━\u001b[0m\u001b[37m\u001b[0m \u001b[1m1s\u001b[0m 13ms/step - accuracy: 0.8617 - loss: 234.4425 - val_accuracy: 0.5998 - val_loss: 870.9173\n",
            "Epoch 47/50\n",
            "\u001b[1m48/48\u001b[0m \u001b[32m━━━━━━━━━━━━━━━━━━━━\u001b[0m\u001b[37m\u001b[0m \u001b[1m1s\u001b[0m 16ms/step - accuracy: 0.8376 - loss: 296.3879 - val_accuracy: 0.6391 - val_loss: 485.6875\n",
            "Epoch 48/50\n",
            "\u001b[1m48/48\u001b[0m \u001b[32m━━━━━━━━━━━━━━━━━━━━\u001b[0m\u001b[37m\u001b[0m \u001b[1m1s\u001b[0m 13ms/step - accuracy: 0.8498 - loss: 186.0197 - val_accuracy: 0.6200 - val_loss: 706.6975\n",
            "Epoch 49/50\n",
            "\u001b[1m48/48\u001b[0m \u001b[32m━━━━━━━━━━━━━━━━━━━━\u001b[0m\u001b[37m\u001b[0m \u001b[1m1s\u001b[0m 10ms/step - accuracy: 0.8630 - loss: 143.3994 - val_accuracy: 0.6371 - val_loss: 792.4153\n",
            "Epoch 50/50\n",
            "\u001b[1m48/48\u001b[0m \u001b[32m━━━━━━━━━━━━━━━━━━━━\u001b[0m\u001b[37m\u001b[0m \u001b[1m1s\u001b[0m 10ms/step - accuracy: 0.8799 - loss: 84.2582 - val_accuracy: 0.6865 - val_loss: 604.3954\n"
          ]
        }
      ],
      "source": [
        "rocketsktime_model = RocketSktime(shape = (9996,))\n",
        "rocketsktime_model.compile(optimizer=Adam(learning_rate=1.0, beta_1=0.99, beta_2=0.999, epsilon=1e-08), loss='categorical_crossentropy', metrics=['accuracy'])\n",
        "history_sktime = rocketsktime_model.fit(train_rocket_ds, validation_data=val_rocket_ds, epochs=50, verbose = 1)"
      ]
    },
    {
      "cell_type": "code",
      "execution_count": null,
      "id": "zM5ORwQpfbb6",
      "metadata": {
        "colab": {
          "base_uri": "https://localhost:8080/"
        },
        "id": "zM5ORwQpfbb6",
        "outputId": "bfd25c6c-a918-440d-aca7-61a29f9bd787"
      },
      "outputs": [
        {
          "data": {
            "text/plain": [
              "20.238832"
            ]
          },
          "execution_count": 26,
          "metadata": {},
          "output_type": "execute_result"
        }
      ],
      "source": [
        "np.mean(np.abs(rocketsktime_model.get_weights()[0]))"
      ]
    },
    {
      "cell_type": "markdown",
      "id": "SnZnp8foX0YG",
      "metadata": {
        "id": "SnZnp8foX0YG"
      },
      "source": [
        "The average absolute value of the weights is very high, which may contribute to overfitting. We experiment with an L2 regularisation penalty applied."
      ]
    },
    {
      "cell_type": "markdown",
      "id": "QmT_KU-1f--4",
      "metadata": {
        "id": "QmT_KU-1f--4"
      },
      "source": [
        "### **With L2 penalty**"
      ]
    },
    {
      "cell_type": "code",
      "execution_count": null,
      "id": "yVs_dBDrfvIu",
      "metadata": {
        "id": "yVs_dBDrfvIu"
      },
      "outputs": [],
      "source": [
        "def RocketSktimeL2(shape):\n",
        "    block1_input_layer = Input(shape=shape)\n",
        "    output_layer = Dense(C, activation=\"softmax\", kernel_regularizer = l2(0.01))(block1_input_layer)\n",
        "    return Model(inputs=block1_input_layer, outputs=output_layer)"
      ]
    },
    {
      "cell_type": "code",
      "execution_count": null,
      "id": "ImLuNXUxgE72",
      "metadata": {
        "colab": {
          "base_uri": "https://localhost:8080/",
          "height": 197
        },
        "id": "ImLuNXUxgE72",
        "outputId": "a60252d1-f57d-4f87-b247-d48f254b311c"
      },
      "outputs": [
        {
          "data": {
            "text/html": [
              "<pre style=\"white-space:pre;overflow-x:auto;line-height:normal;font-family:Menlo,'DejaVu Sans Mono',consolas,'Courier New',monospace\"><span style=\"font-weight: bold\">Model: \"functional_3\"</span>\n",
              "</pre>\n"
            ],
            "text/plain": [
              "\u001b[1mModel: \"functional_3\"\u001b[0m\n"
            ]
          },
          "metadata": {},
          "output_type": "display_data"
        },
        {
          "data": {
            "text/html": [
              "<pre style=\"white-space:pre;overflow-x:auto;line-height:normal;font-family:Menlo,'DejaVu Sans Mono',consolas,'Courier New',monospace\">┏━━━━━━━━━━━━━━━━━━━━━━━━━━━━━━━━━━━━━━┳━━━━━━━━━━━━━━━━━━━━━━━━━━━━━┳━━━━━━━━━━━━━━━━━┓\n",
              "┃<span style=\"font-weight: bold\"> Layer (type)                         </span>┃<span style=\"font-weight: bold\"> Output Shape                </span>┃<span style=\"font-weight: bold\">         Param # </span>┃\n",
              "┡━━━━━━━━━━━━━━━━━━━━━━━━━━━━━━━━━━━━━━╇━━━━━━━━━━━━━━━━━━━━━━━━━━━━━╇━━━━━━━━━━━━━━━━━┩\n",
              "│ input_layer_3 (<span style=\"color: #0087ff; text-decoration-color: #0087ff\">InputLayer</span>)           │ (<span style=\"color: #00d7ff; text-decoration-color: #00d7ff\">None</span>, <span style=\"color: #00af00; text-decoration-color: #00af00\">9996</span>)                │               <span style=\"color: #00af00; text-decoration-color: #00af00\">0</span> │\n",
              "├──────────────────────────────────────┼─────────────────────────────┼─────────────────┤\n",
              "│ dense_3 (<span style=\"color: #0087ff; text-decoration-color: #0087ff\">Dense</span>)                      │ (<span style=\"color: #00d7ff; text-decoration-color: #00d7ff\">None</span>, <span style=\"color: #00af00; text-decoration-color: #00af00\">31</span>)                  │         <span style=\"color: #00af00; text-decoration-color: #00af00\">309,907</span> │\n",
              "└──────────────────────────────────────┴─────────────────────────────┴─────────────────┘\n",
              "</pre>\n"
            ],
            "text/plain": [
              "┏━━━━━━━━━━━━━━━━━━━━━━━━━━━━━━━━━━━━━━┳━━━━━━━━━━━━━━━━━━━━━━━━━━━━━┳━━━━━━━━━━━━━━━━━┓\n",
              "┃\u001b[1m \u001b[0m\u001b[1mLayer (type)                        \u001b[0m\u001b[1m \u001b[0m┃\u001b[1m \u001b[0m\u001b[1mOutput Shape               \u001b[0m\u001b[1m \u001b[0m┃\u001b[1m \u001b[0m\u001b[1m        Param #\u001b[0m\u001b[1m \u001b[0m┃\n",
              "┡━━━━━━━━━━━━━━━━━━━━━━━━━━━━━━━━━━━━━━╇━━━━━━━━━━━━━━━━━━━━━━━━━━━━━╇━━━━━━━━━━━━━━━━━┩\n",
              "│ input_layer_3 (\u001b[38;5;33mInputLayer\u001b[0m)           │ (\u001b[38;5;45mNone\u001b[0m, \u001b[38;5;34m9996\u001b[0m)                │               \u001b[38;5;34m0\u001b[0m │\n",
              "├──────────────────────────────────────┼─────────────────────────────┼─────────────────┤\n",
              "│ dense_3 (\u001b[38;5;33mDense\u001b[0m)                      │ (\u001b[38;5;45mNone\u001b[0m, \u001b[38;5;34m31\u001b[0m)                  │         \u001b[38;5;34m309,907\u001b[0m │\n",
              "└──────────────────────────────────────┴─────────────────────────────┴─────────────────┘\n"
            ]
          },
          "metadata": {},
          "output_type": "display_data"
        },
        {
          "data": {
            "text/html": [
              "<pre style=\"white-space:pre;overflow-x:auto;line-height:normal;font-family:Menlo,'DejaVu Sans Mono',consolas,'Courier New',monospace\"><span style=\"font-weight: bold\"> Total params: </span><span style=\"color: #00af00; text-decoration-color: #00af00\">309,907</span> (1.18 MB)\n",
              "</pre>\n"
            ],
            "text/plain": [
              "\u001b[1m Total params: \u001b[0m\u001b[38;5;34m309,907\u001b[0m (1.18 MB)\n"
            ]
          },
          "metadata": {},
          "output_type": "display_data"
        },
        {
          "data": {
            "text/html": [
              "<pre style=\"white-space:pre;overflow-x:auto;line-height:normal;font-family:Menlo,'DejaVu Sans Mono',consolas,'Courier New',monospace\"><span style=\"font-weight: bold\"> Trainable params: </span><span style=\"color: #00af00; text-decoration-color: #00af00\">309,907</span> (1.18 MB)\n",
              "</pre>\n"
            ],
            "text/plain": [
              "\u001b[1m Trainable params: \u001b[0m\u001b[38;5;34m309,907\u001b[0m (1.18 MB)\n"
            ]
          },
          "metadata": {},
          "output_type": "display_data"
        },
        {
          "data": {
            "text/html": [
              "<pre style=\"white-space:pre;overflow-x:auto;line-height:normal;font-family:Menlo,'DejaVu Sans Mono',consolas,'Courier New',monospace\"><span style=\"font-weight: bold\"> Non-trainable params: </span><span style=\"color: #00af00; text-decoration-color: #00af00\">0</span> (0.00 B)\n",
              "</pre>\n"
            ],
            "text/plain": [
              "\u001b[1m Non-trainable params: \u001b[0m\u001b[38;5;34m0\u001b[0m (0.00 B)\n"
            ]
          },
          "metadata": {},
          "output_type": "display_data"
        }
      ],
      "source": [
        "rocketsktimeL2 = RocketSktimeL2(shape = (9996,))\n",
        "rocketsktimeL2.summary()"
      ]
    },
    {
      "cell_type": "code",
      "execution_count": null,
      "id": "v-e9ZekqgNW_",
      "metadata": {
        "colab": {
          "base_uri": "https://localhost:8080/"
        },
        "id": "v-e9ZekqgNW_",
        "outputId": "da39873d-0f53-481c-9822-ffadc565b265"
      },
      "outputs": [
        {
          "name": "stdout",
          "output_type": "stream",
          "text": [
            "Epoch 1/50\n",
            "\u001b[1m48/48\u001b[0m \u001b[32m━━━━━━━━━━━━━━━━━━━━\u001b[0m\u001b[37m\u001b[0m \u001b[1m3s\u001b[0m 23ms/step - accuracy: 0.0451 - loss: 9609.8076 - val_accuracy: 0.0796 - val_loss: 9430.8994\n",
            "Epoch 2/50\n",
            "\u001b[1m48/48\u001b[0m \u001b[32m━━━━━━━━━━━━━━━━━━━━\u001b[0m\u001b[37m\u001b[0m \u001b[1m1s\u001b[0m 16ms/step - accuracy: 0.0393 - loss: 8301.2871 - val_accuracy: 0.0353 - val_loss: 6221.8452\n",
            "Epoch 3/50\n",
            "\u001b[1m48/48\u001b[0m \u001b[32m━━━━━━━━━━━━━━━━━━━━\u001b[0m\u001b[37m\u001b[0m \u001b[1m1s\u001b[0m 17ms/step - accuracy: 0.0465 - loss: 5808.1123 - val_accuracy: 0.0312 - val_loss: 3612.7710\n",
            "Epoch 4/50\n",
            "\u001b[1m48/48\u001b[0m \u001b[32m━━━━━━━━━━━━━━━━━━━━\u001b[0m\u001b[37m\u001b[0m \u001b[1m1s\u001b[0m 19ms/step - accuracy: 0.0567 - loss: 3832.7261 - val_accuracy: 0.0232 - val_loss: 3100.2510\n",
            "Epoch 5/50\n",
            "\u001b[1m48/48\u001b[0m \u001b[32m━━━━━━━━━━━━━━━━━━━━\u001b[0m\u001b[37m\u001b[0m \u001b[1m1s\u001b[0m 11ms/step - accuracy: 0.0545 - loss: 3103.2803 - val_accuracy: 0.0776 - val_loss: 2616.8306\n",
            "Epoch 6/50\n",
            "\u001b[1m48/48\u001b[0m \u001b[32m━━━━━━━━━━━━━━━━━━━━\u001b[0m\u001b[37m\u001b[0m \u001b[1m1s\u001b[0m 11ms/step - accuracy: 0.0518 - loss: 2518.8999 - val_accuracy: 0.0363 - val_loss: 1775.2327\n",
            "Epoch 7/50\n",
            "\u001b[1m48/48\u001b[0m \u001b[32m━━━━━━━━━━━━━━━━━━━━\u001b[0m\u001b[37m\u001b[0m \u001b[1m1s\u001b[0m 12ms/step - accuracy: 0.0537 - loss: 2065.2300 - val_accuracy: 0.0524 - val_loss: 2454.2278\n",
            "Epoch 8/50\n",
            "\u001b[1m48/48\u001b[0m \u001b[32m━━━━━━━━━━━━━━━━━━━━\u001b[0m\u001b[37m\u001b[0m \u001b[1m1s\u001b[0m 12ms/step - accuracy: 0.0435 - loss: 2354.8645 - val_accuracy: 0.0413 - val_loss: 1726.2705\n",
            "Epoch 9/50\n",
            "\u001b[1m48/48\u001b[0m \u001b[32m━━━━━━━━━━━━━━━━━━━━\u001b[0m\u001b[37m\u001b[0m \u001b[1m1s\u001b[0m 10ms/step - accuracy: 0.0720 - loss: 1860.1130 - val_accuracy: 0.0292 - val_loss: 2384.1179\n",
            "Epoch 10/50\n",
            "\u001b[1m48/48\u001b[0m \u001b[32m━━━━━━━━━━━━━━━━━━━━\u001b[0m\u001b[37m\u001b[0m \u001b[1m1s\u001b[0m 11ms/step - accuracy: 0.0481 - loss: 1951.1135 - val_accuracy: 0.0292 - val_loss: 2213.7043\n",
            "Epoch 11/50\n",
            "\u001b[1m48/48\u001b[0m \u001b[32m━━━━━━━━━━━━━━━━━━━━\u001b[0m\u001b[37m\u001b[0m \u001b[1m1s\u001b[0m 11ms/step - accuracy: 0.0447 - loss: 2314.3955 - val_accuracy: 0.0665 - val_loss: 2547.0134\n",
            "Epoch 12/50\n",
            "\u001b[1m48/48\u001b[0m \u001b[32m━━━━━━━━━━━━━━━━━━━━\u001b[0m\u001b[37m\u001b[0m \u001b[1m1s\u001b[0m 11ms/step - accuracy: 0.0451 - loss: 2293.0857 - val_accuracy: 0.0786 - val_loss: 2025.1030\n",
            "Epoch 13/50\n",
            "\u001b[1m48/48\u001b[0m \u001b[32m━━━━━━━━━━━━━━━━━━━━\u001b[0m\u001b[37m\u001b[0m \u001b[1m1s\u001b[0m 11ms/step - accuracy: 0.0552 - loss: 2027.0879 - val_accuracy: 0.0262 - val_loss: 2009.9221\n",
            "Epoch 14/50\n",
            "\u001b[1m48/48\u001b[0m \u001b[32m━━━━━━━━━━━━━━━━━━━━\u001b[0m\u001b[37m\u001b[0m \u001b[1m1s\u001b[0m 12ms/step - accuracy: 0.0390 - loss: 1934.1664 - val_accuracy: 0.0524 - val_loss: 1787.8550\n",
            "Epoch 15/50\n",
            "\u001b[1m48/48\u001b[0m \u001b[32m━━━━━━━━━━━━━━━━━━━━\u001b[0m\u001b[37m\u001b[0m \u001b[1m1s\u001b[0m 11ms/step - accuracy: 0.0511 - loss: 1922.8696 - val_accuracy: 0.0565 - val_loss: 2168.7212\n",
            "Epoch 16/50\n",
            "\u001b[1m48/48\u001b[0m \u001b[32m━━━━━━━━━━━━━━━━━━━━\u001b[0m\u001b[37m\u001b[0m \u001b[1m1s\u001b[0m 12ms/step - accuracy: 0.0590 - loss: 1914.6687 - val_accuracy: 0.0242 - val_loss: 2157.7471\n",
            "Epoch 17/50\n",
            "\u001b[1m48/48\u001b[0m \u001b[32m━━━━━━━━━━━━━━━━━━━━\u001b[0m\u001b[37m\u001b[0m \u001b[1m1s\u001b[0m 12ms/step - accuracy: 0.0423 - loss: 1928.8788 - val_accuracy: 0.0776 - val_loss: 1923.6921\n",
            "Epoch 18/50\n",
            "\u001b[1m48/48\u001b[0m \u001b[32m━━━━━━━━━━━━━━━━━━━━\u001b[0m\u001b[37m\u001b[0m \u001b[1m1s\u001b[0m 11ms/step - accuracy: 0.0514 - loss: 1809.8541 - val_accuracy: 0.0323 - val_loss: 1586.6251\n",
            "Epoch 19/50\n",
            "\u001b[1m48/48\u001b[0m \u001b[32m━━━━━━━━━━━━━━━━━━━━\u001b[0m\u001b[37m\u001b[0m \u001b[1m1s\u001b[0m 11ms/step - accuracy: 0.0474 - loss: 1683.6309 - val_accuracy: 0.0655 - val_loss: 1958.2300\n",
            "Epoch 20/50\n",
            "\u001b[1m48/48\u001b[0m \u001b[32m━━━━━━━━━━━━━━━━━━━━\u001b[0m\u001b[37m\u001b[0m \u001b[1m1s\u001b[0m 11ms/step - accuracy: 0.0518 - loss: 1915.9183 - val_accuracy: 0.0766 - val_loss: 1509.6323\n",
            "Epoch 21/50\n",
            "\u001b[1m48/48\u001b[0m \u001b[32m━━━━━━━━━━━━━━━━━━━━\u001b[0m\u001b[37m\u001b[0m \u001b[1m1s\u001b[0m 14ms/step - accuracy: 0.0583 - loss: 1551.7070 - val_accuracy: 0.0837 - val_loss: 1617.0057\n",
            "Epoch 22/50\n",
            "\u001b[1m48/48\u001b[0m \u001b[32m━━━━━━━━━━━━━━━━━━━━\u001b[0m\u001b[37m\u001b[0m \u001b[1m1s\u001b[0m 16ms/step - accuracy: 0.0634 - loss: 1562.7509 - val_accuracy: 0.0101 - val_loss: 1739.4930\n",
            "Epoch 23/50\n",
            "\u001b[1m48/48\u001b[0m \u001b[32m━━━━━━━━━━━━━━━━━━━━\u001b[0m\u001b[37m\u001b[0m \u001b[1m2s\u001b[0m 24ms/step - accuracy: 0.0698 - loss: 1767.9402 - val_accuracy: 0.0393 - val_loss: 1506.4236\n",
            "Epoch 24/50\n",
            "\u001b[1m48/48\u001b[0m \u001b[32m━━━━━━━━━━━━━━━━━━━━\u001b[0m\u001b[37m\u001b[0m \u001b[1m1s\u001b[0m 30ms/step - accuracy: 0.0615 - loss: 1792.6992 - val_accuracy: 0.0343 - val_loss: 2310.8997\n",
            "Epoch 25/50\n",
            "\u001b[1m48/48\u001b[0m \u001b[32m━━━━━━━━━━━━━━━━━━━━\u001b[0m\u001b[37m\u001b[0m \u001b[1m1s\u001b[0m 18ms/step - accuracy: 0.0554 - loss: 2154.6926 - val_accuracy: 0.0565 - val_loss: 1692.0425\n",
            "Epoch 26/50\n",
            "\u001b[1m48/48\u001b[0m \u001b[32m━━━━━━━━━━━━━━━━━━━━\u001b[0m\u001b[37m\u001b[0m \u001b[1m1s\u001b[0m 16ms/step - accuracy: 0.0651 - loss: 1948.2299 - val_accuracy: 0.0272 - val_loss: 1749.0731\n",
            "Epoch 27/50\n",
            "\u001b[1m48/48\u001b[0m \u001b[32m━━━━━━━━━━━━━━━━━━━━\u001b[0m\u001b[37m\u001b[0m \u001b[1m1s\u001b[0m 10ms/step - accuracy: 0.0560 - loss: 1901.7219 - val_accuracy: 0.0242 - val_loss: 2005.4532\n",
            "Epoch 28/50\n",
            "\u001b[1m48/48\u001b[0m \u001b[32m━━━━━━━━━━━━━━━━━━━━\u001b[0m\u001b[37m\u001b[0m \u001b[1m1s\u001b[0m 16ms/step - accuracy: 0.0504 - loss: 2024.1046 - val_accuracy: 0.0343 - val_loss: 2778.4141\n",
            "Epoch 29/50\n",
            "\u001b[1m48/48\u001b[0m \u001b[32m━━━━━━━━━━━━━━━━━━━━\u001b[0m\u001b[37m\u001b[0m \u001b[1m1s\u001b[0m 15ms/step - accuracy: 0.0508 - loss: 2329.2998 - val_accuracy: 0.0433 - val_loss: 2326.8250\n",
            "Epoch 30/50\n",
            "\u001b[1m48/48\u001b[0m \u001b[32m━━━━━━━━━━━━━━━━━━━━\u001b[0m\u001b[37m\u001b[0m \u001b[1m1s\u001b[0m 15ms/step - accuracy: 0.0452 - loss: 2003.2614 - val_accuracy: 0.1411 - val_loss: 1904.5797\n",
            "Epoch 31/50\n",
            "\u001b[1m48/48\u001b[0m \u001b[32m━━━━━━━━━━━━━━━━━━━━\u001b[0m\u001b[37m\u001b[0m \u001b[1m1s\u001b[0m 13ms/step - accuracy: 0.0635 - loss: 1917.1393 - val_accuracy: 0.0595 - val_loss: 1627.1963\n",
            "Epoch 32/50\n",
            "\u001b[1m48/48\u001b[0m \u001b[32m━━━━━━━━━━━━━━━━━━━━\u001b[0m\u001b[37m\u001b[0m \u001b[1m1s\u001b[0m 11ms/step - accuracy: 0.0568 - loss: 1676.8643 - val_accuracy: 0.0454 - val_loss: 1924.8276\n",
            "Epoch 33/50\n",
            "\u001b[1m48/48\u001b[0m \u001b[32m━━━━━━━━━━━━━━━━━━━━\u001b[0m\u001b[37m\u001b[0m \u001b[1m1s\u001b[0m 12ms/step - accuracy: 0.0605 - loss: 1826.0203 - val_accuracy: 0.1099 - val_loss: 1209.0503\n",
            "Epoch 34/50\n",
            "\u001b[1m48/48\u001b[0m \u001b[32m━━━━━━━━━━━━━━━━━━━━\u001b[0m\u001b[37m\u001b[0m \u001b[1m1s\u001b[0m 10ms/step - accuracy: 0.0740 - loss: 1544.3546 - val_accuracy: 0.0363 - val_loss: 1635.2931\n",
            "Epoch 35/50\n",
            "\u001b[1m48/48\u001b[0m \u001b[32m━━━━━━━━━━━━━━━━━━━━\u001b[0m\u001b[37m\u001b[0m \u001b[1m1s\u001b[0m 11ms/step - accuracy: 0.0490 - loss: 1717.2860 - val_accuracy: 0.0897 - val_loss: 1631.1639\n",
            "Epoch 36/50\n",
            "\u001b[1m48/48\u001b[0m \u001b[32m━━━━━━━━━━━━━━━━━━━━\u001b[0m\u001b[37m\u001b[0m \u001b[1m1s\u001b[0m 12ms/step - accuracy: 0.0597 - loss: 1646.9216 - val_accuracy: 0.0796 - val_loss: 1476.5635\n",
            "Epoch 37/50\n",
            "\u001b[1m48/48\u001b[0m \u001b[32m━━━━━━━━━━━━━━━━━━━━\u001b[0m\u001b[37m\u001b[0m \u001b[1m1s\u001b[0m 15ms/step - accuracy: 0.0521 - loss: 1765.5287 - val_accuracy: 0.0776 - val_loss: 2166.0315\n",
            "Epoch 38/50\n",
            "\u001b[1m48/48\u001b[0m \u001b[32m━━━━━━━━━━━━━━━━━━━━\u001b[0m\u001b[37m\u001b[0m \u001b[1m1s\u001b[0m 17ms/step - accuracy: 0.0481 - loss: 2035.4440 - val_accuracy: 0.0665 - val_loss: 1312.1608\n",
            "Epoch 39/50\n",
            "\u001b[1m48/48\u001b[0m \u001b[32m━━━━━━━━━━━━━━━━━━━━\u001b[0m\u001b[37m\u001b[0m \u001b[1m1s\u001b[0m 18ms/step - accuracy: 0.0470 - loss: 1768.7129 - val_accuracy: 0.1028 - val_loss: 1600.3003\n",
            "Epoch 40/50\n",
            "\u001b[1m48/48\u001b[0m \u001b[32m━━━━━━━━━━━━━━━━━━━━\u001b[0m\u001b[37m\u001b[0m \u001b[1m1s\u001b[0m 11ms/step - accuracy: 0.0560 - loss: 1739.9501 - val_accuracy: 0.0595 - val_loss: 1812.4708\n",
            "Epoch 41/50\n",
            "\u001b[1m48/48\u001b[0m \u001b[32m━━━━━━━━━━━━━━━━━━━━\u001b[0m\u001b[37m\u001b[0m \u001b[1m1s\u001b[0m 12ms/step - accuracy: 0.0561 - loss: 1937.8563 - val_accuracy: 0.0393 - val_loss: 2473.7026\n",
            "Epoch 42/50\n",
            "\u001b[1m48/48\u001b[0m \u001b[32m━━━━━━━━━━━━━━━━━━━━\u001b[0m\u001b[37m\u001b[0m \u001b[1m1s\u001b[0m 11ms/step - accuracy: 0.0517 - loss: 2181.3142 - val_accuracy: 0.0736 - val_loss: 2127.7390\n",
            "Epoch 43/50\n",
            "\u001b[1m48/48\u001b[0m \u001b[32m━━━━━━━━━━━━━━━━━━━━\u001b[0m\u001b[37m\u001b[0m \u001b[1m1s\u001b[0m 11ms/step - accuracy: 0.0491 - loss: 2220.5452 - val_accuracy: 0.0595 - val_loss: 2380.5483\n",
            "Epoch 44/50\n",
            "\u001b[1m48/48\u001b[0m \u001b[32m━━━━━━━━━━━━━━━━━━━━\u001b[0m\u001b[37m\u001b[0m \u001b[1m1s\u001b[0m 10ms/step - accuracy: 0.0460 - loss: 2120.6968 - val_accuracy: 0.0393 - val_loss: 2194.4666\n",
            "Epoch 45/50\n",
            "\u001b[1m48/48\u001b[0m \u001b[32m━━━━━━━━━━━━━━━━━━━━\u001b[0m\u001b[37m\u001b[0m \u001b[1m1s\u001b[0m 11ms/step - accuracy: 0.0460 - loss: 2219.1160 - val_accuracy: 0.0000e+00 - val_loss: 1942.0167\n",
            "Epoch 46/50\n",
            "\u001b[1m48/48\u001b[0m \u001b[32m━━━━━━━━━━━━━━━━━━━━\u001b[0m\u001b[37m\u001b[0m \u001b[1m1s\u001b[0m 11ms/step - accuracy: 0.0469 - loss: 1804.3463 - val_accuracy: 0.0585 - val_loss: 1915.1711\n",
            "Epoch 47/50\n",
            "\u001b[1m48/48\u001b[0m \u001b[32m━━━━━━━━━━━━━━━━━━━━\u001b[0m\u001b[37m\u001b[0m \u001b[1m1s\u001b[0m 11ms/step - accuracy: 0.0438 - loss: 1820.6879 - val_accuracy: 0.0867 - val_loss: 1530.1971\n",
            "Epoch 48/50\n",
            "\u001b[1m48/48\u001b[0m \u001b[32m━━━━━━━━━━━━━━━━━━━━\u001b[0m\u001b[37m\u001b[0m \u001b[1m1s\u001b[0m 10ms/step - accuracy: 0.0562 - loss: 1901.5465 - val_accuracy: 0.0685 - val_loss: 1913.1675\n",
            "Epoch 49/50\n",
            "\u001b[1m48/48\u001b[0m \u001b[32m━━━━━━━━━━━━━━━━━━━━\u001b[0m\u001b[37m\u001b[0m \u001b[1m1s\u001b[0m 14ms/step - accuracy: 0.0490 - loss: 1941.5110 - val_accuracy: 0.1240 - val_loss: 1671.1667\n",
            "Epoch 50/50\n",
            "\u001b[1m48/48\u001b[0m \u001b[32m━━━━━━━━━━━━━━━━━━━━\u001b[0m\u001b[37m\u001b[0m \u001b[1m1s\u001b[0m 10ms/step - accuracy: 0.0595 - loss: 1774.6097 - val_accuracy: 0.0232 - val_loss: 1910.5460\n"
          ]
        }
      ],
      "source": [
        "rocketsktime_modelL2 = RocketSktimeL2(shape = (9996,))\n",
        "rocketsktime_modelL2.compile(optimizer=Adam(learning_rate=1.0, beta_1=0.99, beta_2=0.999, epsilon=1e-08), loss='categorical_crossentropy', metrics=['accuracy'])\n",
        "history_sktimeL2 = rocketsktime_modelL2.fit(train_rocket_ds,  validation_data = val_rocket_ds, epochs=50, verbose = 1)"
      ]
    },
    {
      "cell_type": "markdown",
      "id": "RiUDwshjbEBU",
      "metadata": {
        "id": "RiUDwshjbEBU"
      },
      "source": [
        "For all regularisation penalties tested (0.01, 0.1, 1, 10, 100) the performance was markedly worse than when no regularisation penalty was applied."
      ]
    },
    {
      "cell_type": "markdown",
      "id": "z6mUL7FUYh46",
      "metadata": {
        "id": "z6mUL7FUYh46"
      },
      "source": [
        "## **Experiment: Rocket transformation with ensemble methods**"
      ]
    },
    {
      "cell_type": "markdown",
      "id": "30HLFBYPa9Hg",
      "metadata": {
        "id": "30HLFBYPa9Hg"
      },
      "source": [
        "### **Random Forest**"
      ]
    },
    {
      "cell_type": "markdown",
      "source": [
        "Random Forest has the ability to perform classification by picking a large number of decision trees and taking the prediction returned by the largest number of decision trees. Each decision tree includes a random subset of the total number of features in the dataset, so that no 2 trees are highly correlated (as they have been trained on different features). This is why Random Forest is a powerful ensembling method."
      ],
      "metadata": {
        "id": "-ZXviZXWS62s"
      },
      "id": "-ZXviZXWS62s"
    },
    {
      "cell_type": "code",
      "execution_count": null,
      "id": "R8ORakeAo_tG",
      "metadata": {
        "colab": {
          "base_uri": "https://localhost:8080/",
          "height": 226
        },
        "id": "R8ORakeAo_tG",
        "outputId": "9c9f0f7c-8f8d-46c1-8212-38dc07af5a29"
      },
      "outputs": [
        {
          "output_type": "stream",
          "name": "stdout",
          "text": [
            "Fitting 5 folds for each of 12 candidates, totalling 60 fits\n"
          ]
        },
        {
          "output_type": "stream",
          "name": "stderr",
          "text": [
            "/usr/local/lib/python3.10/dist-packages/joblib/externals/loky/backend/fork_exec.py:38: RuntimeWarning: os.fork() was called. os.fork() is incompatible with multithreaded code, and JAX is multithreaded, so this will likely lead to a deadlock.\n",
            "  pid = os.fork()\n",
            "/usr/local/lib/python3.10/dist-packages/joblib/externals/loky/backend/fork_exec.py:38: RuntimeWarning: os.fork() was called. os.fork() is incompatible with multithreaded code, and JAX is multithreaded, so this will likely lead to a deadlock.\n",
            "  pid = os.fork()\n"
          ]
        },
        {
          "output_type": "execute_result",
          "data": {
            "text/plain": [
              "GridSearchCV(cv=5, estimator=RandomForestClassifier(random_state=42), n_jobs=-1,\n",
              "             param_grid={'max_depth': [4, 5, 6, 7, 8, 9],\n",
              "                         'n_estimators': [1000, 1500]},\n",
              "             return_train_score=True, verbose=2)"
            ],
            "text/html": [
              "<style>#sk-container-id-1 {color: black;}#sk-container-id-1 pre{padding: 0;}#sk-container-id-1 div.sk-toggleable {background-color: white;}#sk-container-id-1 label.sk-toggleable__label {cursor: pointer;display: block;width: 100%;margin-bottom: 0;padding: 0.3em;box-sizing: border-box;text-align: center;}#sk-container-id-1 label.sk-toggleable__label-arrow:before {content: \"▸\";float: left;margin-right: 0.25em;color: #696969;}#sk-container-id-1 label.sk-toggleable__label-arrow:hover:before {color: black;}#sk-container-id-1 div.sk-estimator:hover label.sk-toggleable__label-arrow:before {color: black;}#sk-container-id-1 div.sk-toggleable__content {max-height: 0;max-width: 0;overflow: hidden;text-align: left;background-color: #f0f8ff;}#sk-container-id-1 div.sk-toggleable__content pre {margin: 0.2em;color: black;border-radius: 0.25em;background-color: #f0f8ff;}#sk-container-id-1 input.sk-toggleable__control:checked~div.sk-toggleable__content {max-height: 200px;max-width: 100%;overflow: auto;}#sk-container-id-1 input.sk-toggleable__control:checked~label.sk-toggleable__label-arrow:before {content: \"▾\";}#sk-container-id-1 div.sk-estimator input.sk-toggleable__control:checked~label.sk-toggleable__label {background-color: #d4ebff;}#sk-container-id-1 div.sk-label input.sk-toggleable__control:checked~label.sk-toggleable__label {background-color: #d4ebff;}#sk-container-id-1 input.sk-hidden--visually {border: 0;clip: rect(1px 1px 1px 1px);clip: rect(1px, 1px, 1px, 1px);height: 1px;margin: -1px;overflow: hidden;padding: 0;position: absolute;width: 1px;}#sk-container-id-1 div.sk-estimator {font-family: monospace;background-color: #f0f8ff;border: 1px dotted black;border-radius: 0.25em;box-sizing: border-box;margin-bottom: 0.5em;}#sk-container-id-1 div.sk-estimator:hover {background-color: #d4ebff;}#sk-container-id-1 div.sk-parallel-item::after {content: \"\";width: 100%;border-bottom: 1px solid gray;flex-grow: 1;}#sk-container-id-1 div.sk-label:hover label.sk-toggleable__label {background-color: #d4ebff;}#sk-container-id-1 div.sk-serial::before {content: \"\";position: absolute;border-left: 1px solid gray;box-sizing: border-box;top: 0;bottom: 0;left: 50%;z-index: 0;}#sk-container-id-1 div.sk-serial {display: flex;flex-direction: column;align-items: center;background-color: white;padding-right: 0.2em;padding-left: 0.2em;position: relative;}#sk-container-id-1 div.sk-item {position: relative;z-index: 1;}#sk-container-id-1 div.sk-parallel {display: flex;align-items: stretch;justify-content: center;background-color: white;position: relative;}#sk-container-id-1 div.sk-item::before, #sk-container-id-1 div.sk-parallel-item::before {content: \"\";position: absolute;border-left: 1px solid gray;box-sizing: border-box;top: 0;bottom: 0;left: 50%;z-index: -1;}#sk-container-id-1 div.sk-parallel-item {display: flex;flex-direction: column;z-index: 1;position: relative;background-color: white;}#sk-container-id-1 div.sk-parallel-item:first-child::after {align-self: flex-end;width: 50%;}#sk-container-id-1 div.sk-parallel-item:last-child::after {align-self: flex-start;width: 50%;}#sk-container-id-1 div.sk-parallel-item:only-child::after {width: 0;}#sk-container-id-1 div.sk-dashed-wrapped {border: 1px dashed gray;margin: 0 0.4em 0.5em 0.4em;box-sizing: border-box;padding-bottom: 0.4em;background-color: white;}#sk-container-id-1 div.sk-label label {font-family: monospace;font-weight: bold;display: inline-block;line-height: 1.2em;}#sk-container-id-1 div.sk-label-container {text-align: center;}#sk-container-id-1 div.sk-container {/* jupyter's `normalize.less` sets `[hidden] { display: none; }` but bootstrap.min.css set `[hidden] { display: none !important; }` so we also need the `!important` here to be able to override the default hidden behavior on the sphinx rendered scikit-learn.org. See: https://github.com/scikit-learn/scikit-learn/issues/21755 */display: inline-block !important;position: relative;}#sk-container-id-1 div.sk-text-repr-fallback {display: none;}</style><div id=\"sk-container-id-1\" class=\"sk-top-container\"><div class=\"sk-text-repr-fallback\"><pre>GridSearchCV(cv=5, estimator=RandomForestClassifier(random_state=42), n_jobs=-1,\n",
              "             param_grid={&#x27;max_depth&#x27;: [4, 5, 6, 7, 8, 9],\n",
              "                         &#x27;n_estimators&#x27;: [1000, 1500]},\n",
              "             return_train_score=True, verbose=2)</pre><b>In a Jupyter environment, please rerun this cell to show the HTML representation or trust the notebook. <br />On GitHub, the HTML representation is unable to render, please try loading this page with nbviewer.org.</b></div><div class=\"sk-container\" hidden><div class=\"sk-item sk-dashed-wrapped\"><div class=\"sk-label-container\"><div class=\"sk-label sk-toggleable\"><input class=\"sk-toggleable__control sk-hidden--visually\" id=\"sk-estimator-id-1\" type=\"checkbox\" ><label for=\"sk-estimator-id-1\" class=\"sk-toggleable__label sk-toggleable__label-arrow\">GridSearchCV</label><div class=\"sk-toggleable__content\"><pre>GridSearchCV(cv=5, estimator=RandomForestClassifier(random_state=42), n_jobs=-1,\n",
              "             param_grid={&#x27;max_depth&#x27;: [4, 5, 6, 7, 8, 9],\n",
              "                         &#x27;n_estimators&#x27;: [1000, 1500]},\n",
              "             return_train_score=True, verbose=2)</pre></div></div></div><div class=\"sk-parallel\"><div class=\"sk-parallel-item\"><div class=\"sk-item\"><div class=\"sk-label-container\"><div class=\"sk-label sk-toggleable\"><input class=\"sk-toggleable__control sk-hidden--visually\" id=\"sk-estimator-id-2\" type=\"checkbox\" ><label for=\"sk-estimator-id-2\" class=\"sk-toggleable__label sk-toggleable__label-arrow\">estimator: RandomForestClassifier</label><div class=\"sk-toggleable__content\"><pre>RandomForestClassifier(random_state=42)</pre></div></div></div><div class=\"sk-serial\"><div class=\"sk-item\"><div class=\"sk-estimator sk-toggleable\"><input class=\"sk-toggleable__control sk-hidden--visually\" id=\"sk-estimator-id-3\" type=\"checkbox\" ><label for=\"sk-estimator-id-3\" class=\"sk-toggleable__label sk-toggleable__label-arrow\">RandomForestClassifier</label><div class=\"sk-toggleable__content\"><pre>RandomForestClassifier(random_state=42)</pre></div></div></div></div></div></div></div></div></div></div>"
            ]
          },
          "metadata": {},
          "execution_count": 12
        }
      ],
      "source": [
        "# Define the parameter grid\n",
        "param_grid = {\n",
        "    'n_estimators': [1000, 1500],\n",
        "    'max_depth': [4, 5, 6, 7, 8, 9],\n",
        "}\n",
        "\n",
        "# Initialize the RandomForestClassifier\n",
        "rf = RandomForestClassifier(random_state=42)\n",
        "\n",
        "# Initialize GridSearchCV\n",
        "grid_search = GridSearchCV(estimator=rf, param_grid=param_grid, cv=5, n_jobs=-1, verbose=2, return_train_score=True)\n",
        "\n",
        "# Fit GridSearchCV\n",
        "grid_search.fit(rocket_np, y1s)"
      ]
    },
    {
      "cell_type": "code",
      "execution_count": null,
      "id": "rrzz8Kb7plIy",
      "metadata": {
        "id": "rrzz8Kb7plIy",
        "colab": {
          "base_uri": "https://localhost:8080/"
        },
        "outputId": "90a0483e-ba6f-4d01-ca22-3467650fb8f8"
      },
      "outputs": [
        {
          "output_type": "stream",
          "name": "stdout",
          "text": [
            "   param_n_estimators param_max_depth  mean_test_score  std_test_score  \\\n",
            "0                1000               4         0.730683        0.040010   \n",
            "1                1500               4         0.731925        0.039544   \n",
            "2                1000               5         0.825839        0.041188   \n",
            "3                1500               5         0.827329        0.039937   \n",
            "4                1000               6         0.889689        0.029787   \n",
            "5                1500               6         0.889689        0.033429   \n",
            "6                1000               7         0.919503        0.026705   \n",
            "7                1500               7         0.920000        0.026417   \n",
            "8                1000               8         0.956273        0.026133   \n",
            "9                1500               8         0.957019        0.027762   \n",
            "10               1000               9         0.976149        0.031567   \n",
            "11               1500               9         0.976398        0.031071   \n",
            "\n",
            "    mean_train_score  std_train_score  rank_test_score  \n",
            "0           0.800311         0.005057               12  \n",
            "1           0.803540         0.006244               11  \n",
            "2           0.881863         0.003146               10  \n",
            "3           0.882547         0.003026                9  \n",
            "4           0.931118         0.001908                7  \n",
            "5           0.931242         0.001674                7  \n",
            "6           0.964224         0.006206                6  \n",
            "7           0.963975         0.006183                5  \n",
            "8           0.994534         0.003314                4  \n",
            "9           0.994348         0.003001                3  \n",
            "10          0.999876         0.000152                2  \n",
            "11          0.999876         0.000152                1  \n"
          ]
        }
      ],
      "source": [
        "# Get the cv_results_\n",
        "cv_results = pd.DataFrame(grid_search.cv_results_)\n",
        "\n",
        "# Select and print specific columns for easier readability\n",
        "columns_to_display = ['param_n_estimators', 'param_max_depth', 'mean_test_score', 'std_test_score', 'mean_train_score', 'std_train_score', 'rank_test_score']\n",
        "print(cv_results[columns_to_display])"
      ]
    },
    {
      "cell_type": "code",
      "source": [
        "print(f\"Best parameters {grid_search.best_params_}\")\n",
        "print(f\"Best score {grid_search.best_score_}\")\n",
        "print(f\"Best estimator {grid_search.best_estimator_}\")\n",
        "print(f\"Best index {grid_search.best_index_}\")"
      ],
      "metadata": {
        "colab": {
          "base_uri": "https://localhost:8080/"
        },
        "id": "-zkBPkAL2r9E",
        "outputId": "6c052c88-9436-4715-9872-d657d7fb2842"
      },
      "id": "-zkBPkAL2r9E",
      "execution_count": null,
      "outputs": [
        {
          "output_type": "stream",
          "name": "stdout",
          "text": [
            "Best parameters {'max_depth': 9, 'n_estimators': 1500}\n",
            "Best score 0.9763975155279503\n",
            "Best estimator RandomForestClassifier(max_depth=9, n_estimators=1500, random_state=42)\n",
            "Best index 11\n"
          ]
        }
      ]
    },
    {
      "cell_type": "code",
      "source": [
        "# Finally, save to a Pandas dataframe.\n",
        "cv_results.to_csv(\"../models/Random Forest/Grid Search Random Forest.csv\")"
      ],
      "metadata": {
        "id": "Ypr2u2e8wLEc"
      },
      "id": "Ypr2u2e8wLEc",
      "execution_count": null,
      "outputs": []
    },
    {
      "cell_type": "markdown",
      "source": [
        "Of all the models tested so far, Random Forest applied to Rocket features has the strongest performance. As the depth increases, using the Grid Search, the performance increased to 97% on the test data (using a Grid Search cross validation approach) and ~100% on the train data.\n",
        "\n",
        "The performance does not appear to have peaked either; we could expect that increasing the depth could improve the validation performance further, and we experiment with this below.\n",
        "\n",
        "Increasing the number of sample estimators from 1,000 to 2,000 does not appear to significantly improve the performance of the Random Forest model. It is reasonable to discount exploring using *more* sample estimators, but worth exploring using *fewer* sample estimators."
      ],
      "metadata": {
        "id": "SWg6ZwweyYik"
      },
      "id": "SWg6ZwweyYik"
    },
    {
      "cell_type": "markdown",
      "source": [
        "We fit several more classifiers with `n_estimators` = $[1000, 500, 250, 200, 100]$. The model performance began dropping off only when `n_estimators` = 100, so we use `n_estimators` = 200 and then explore changing `max_depth`."
      ],
      "metadata": {
        "id": "da9CqA3k4JoF"
      },
      "id": "da9CqA3k4JoF"
    },
    {
      "cell_type": "code",
      "source": [
        "best_rf = RandomForestClassifier(n_estimators = 200, criterion = \"gini\", max_depth = 9, random_state=42)\n",
        "best_rf.fit(train_rocket_np, y1s_train)\n",
        "print(\"Best Random Forest Train Score {}\", best_rf.score(train_rocket_np, y1s_train))\n",
        "print(\"Best Random Forest Validation Score {}\", best_rf.score(val_rocket_np, y1s_val))"
      ],
      "metadata": {
        "colab": {
          "base_uri": "https://localhost:8080/"
        },
        "id": "5iyKrVvV3cNd",
        "outputId": "7b0d6753-c24e-44e1-9cd0-f16ba91e2c26"
      },
      "id": "5iyKrVvV3cNd",
      "execution_count": null,
      "outputs": [
        {
          "output_type": "stream",
          "name": "stdout",
          "text": [
            "Best Random Forest Train Score {} 0.9996702934388394\n",
            "Best Random Forest Validation Score {} 0.7399193548387096\n"
          ]
        }
      ]
    },
    {
      "cell_type": "markdown",
      "source": [
        "The performance began dropping off for `max_depth` = 10 and more so for `max_depth` = 11, and we observed from the Grid Search that the performance improved until `max_depth` = 9, so we use `max_depth` = 9."
      ],
      "metadata": {
        "id": "2PB5CkwW4l5X"
      },
      "id": "2PB5CkwW4l5X"
    },
    {
      "cell_type": "code",
      "source": [
        "higher_depth_rf = RandomForestClassifier(n_estimators = 200, criterion = \"gini\", max_depth = 11, random_state=42)\n",
        "higher_depth_rf.fit(train_rocket_np, y1s_train)\n",
        "print(\"Higher Depth Random Forest Score {}\", higher_depth_rf.score(val_rocket_np, y1s_val))"
      ],
      "metadata": {
        "colab": {
          "base_uri": "https://localhost:8080/"
        },
        "id": "SVgDpwxC4lCm",
        "outputId": "1f2e5602-36a0-4f7d-da3c-46e2ebbce962"
      },
      "id": "SVgDpwxC4lCm",
      "execution_count": null,
      "outputs": [
        {
          "output_type": "stream",
          "name": "stdout",
          "text": [
            "Higher Depth Random Forest Score {} 0.7167338709677419\n"
          ]
        }
      ]
    },
    {
      "cell_type": "markdown",
      "id": "0patBDYCiUzT",
      "metadata": {
        "id": "0patBDYCiUzT"
      },
      "source": [
        "### **Adaboost**"
      ]
    },
    {
      "cell_type": "markdown",
      "source": [
        "Adaboost is an example of a *boosting* method which creates a strong classifier from a large number of weak *base learners.* It starts off with a weak model, but builds successive models based on the errors from earlier models, over time minimising the error. Adaboost starts off with a decision tree base learner with exactly 1 level, known as a decision stump.\n",
        "\n",
        "Adaboost initially selects a training subset randomly, but iteratively adjusts the weights of training samples so as to assign higher weights to wrongly classified observations for the purposes of correctly classifying them in successive iterations. Moreover, the idea of weightings also applies at the level of the classifier. More accurate classifiers will get a higher weight in the ensemble of models."
      ],
      "metadata": {
        "id": "jkAca5m2Vyun"
      },
      "id": "jkAca5m2Vyun"
    },
    {
      "cell_type": "code",
      "execution_count": null,
      "id": "79dD-kaZYikd",
      "metadata": {
        "id": "79dD-kaZYikd",
        "colab": {
          "base_uri": "https://localhost:8080/"
        },
        "outputId": "89a14e4e-3b2f-4bb6-9896-12e6eb2480ba"
      },
      "outputs": [
        {
          "output_type": "stream",
          "name": "stdout",
          "text": [
            "AdaBoost Validation Score {} 0.1975806451612903\n"
          ]
        }
      ],
      "source": [
        "ada = AdaBoostClassifier(n_estimators=100, algorithm=\"SAMME\", random_state=0)\n",
        "ada.fit(train_rocket_np, y1s_train)\n",
        "print(\"AdaBoost Validation Score {}\", ada.score(val_rocket_np, y1s_val))"
      ]
    },
    {
      "cell_type": "markdown",
      "source": [
        "There are fewer parameters that can be manipulated with Adaboost compared to Random Forest. Tweaking `n_estimators` in the range $[100, 1000]$ did not make the model competitive with Random Forest."
      ],
      "metadata": {
        "id": "vRvNm1FXQf9D"
      },
      "id": "vRvNm1FXQf9D"
    },
    {
      "cell_type": "markdown",
      "source": [
        "### **Gradient Boosting**"
      ],
      "metadata": {
        "id": "kar96TfxRMXD"
      },
      "id": "kar96TfxRMXD"
    },
    {
      "cell_type": "markdown",
      "source": [
        "This method improves on AdaBoost, re-introducing many of the Random Forest parameters."
      ],
      "metadata": {
        "id": "NmS3zTzyRY6l"
      },
      "id": "NmS3zTzyRY6l"
    },
    {
      "cell_type": "code",
      "source": [
        "gb = GradientBoostingClassifier(n_estimators=200, learning_rate=1.0, max_depth = 9, loss = \"log_loss\")\n",
        "gb.fit(train_rocket_np, y1s_train)\n",
        "print(\"Gradient Boosting Validation Score {}\", gb.score(val_rocket_np, y1s_val))"
      ],
      "metadata": {
        "colab": {
          "base_uri": "https://localhost:8080/"
        },
        "id": "nKsvtMb6Rtmq",
        "outputId": "096ba763-d412-4190-ff21-4bff97d853fd"
      },
      "id": "nKsvtMb6Rtmq",
      "execution_count": null,
      "outputs": [
        {
          "output_type": "stream",
          "name": "stdout",
          "text": [
            "Gradient Boosting Validation Score {} 0.3538306451612903\n"
          ]
        }
      ]
    },
    {
      "cell_type": "markdown",
      "source": [
        "Gradient Boosting had amongst the slowest training time of the models tested, so it was not possible to perform a Grid Search over a large number of hyper-parameters. It was competitive with AdaBoost, but not with the best performing model, Random Forest."
      ],
      "metadata": {
        "id": "F1QU8n8rnM8D"
      },
      "id": "F1QU8n8rnM8D"
    },
    {
      "cell_type": "markdown",
      "id": "8332df49",
      "metadata": {
        "id": "8332df49"
      },
      "source": [
        "## **References**"
      ]
    },
    {
      "cell_type": "markdown",
      "source": [
        "This workbook is based on the Rocket, MiniRocket and MultiRocket papers:"
      ],
      "metadata": {
        "id": "6wk54MuCZ0LD"
      },
      "id": "6wk54MuCZ0LD"
    },
    {
      "cell_type": "markdown",
      "source": [
        "**Rocket**: Dempster, Angus, Franccois Petitjean and Geoffrey I. Webb. “ROCKET: exceptionally fast and accurate time series classification using random convolutional kernels.” Data Mining and Knowledge Discovery 34 (2019): 1454 - 1495."
      ],
      "metadata": {
        "id": "vHS7GKHFaI3m"
      },
      "id": "vHS7GKHFaI3m"
    },
    {
      "cell_type": "markdown",
      "source": [
        "**MiniRocket**: Dempster, Angus, Daniel F. Schmidt and Geoffrey I. Webb. “MiniRocket: A Very Fast (Almost) Deterministic Transform for Time Series Classification.” Proceedings of the 27th ACM SIGKDD Conference on Knowledge Discovery & Data Mining (2020): n. pag."
      ],
      "metadata": {
        "id": "kfD4KAfGaF2Q"
      },
      "id": "kfD4KAfGaF2Q"
    },
    {
      "cell_type": "markdown",
      "id": "dffb6c62",
      "metadata": {
        "id": "dffb6c62"
      },
      "source": [
        "**MultiRocket**: Tan, Chang Wei, Angus Dempster, C. Bergmeir and Geoffrey I. Webb. “MultiRocket: multiple pooling operators and transformations for fast and effective time series classification.” Data Mining and Knowledge Discovery 36 (2021): 1623 - 1646."
      ]
    }
  ],
  "metadata": {
    "colab": {
      "collapsed_sections": [
        "IIzoqESewKHr",
        "jOzcU00XRdPv",
        "27kMj47qd9km",
        "tRXQJbAkeHeg",
        "cBpFxbSeXn9M",
        "QmT_KU-1f--4",
        "30HLFBYPa9Hg",
        "0patBDYCiUzT"
      ],
      "provenance": []
    },
    "kernelspec": {
      "display_name": "Python 3",
      "name": "python3"
    },
    "language_info": {
      "codemirror_mode": {
        "name": "ipython",
        "version": 3
      },
      "file_extension": ".py",
      "mimetype": "text/x-python",
      "name": "python",
      "nbconvert_exporter": "python",
      "pygments_lexer": "ipython3",
      "version": "3.9.13"
    }
  },
  "nbformat": 4,
  "nbformat_minor": 5
}