{
 "cells": [
  {
   "cell_type": "code",
   "execution_count": 1,
   "id": "de5c5b6c",
   "metadata": {},
   "outputs": [],
   "source": [
    "# Colour arguments used for visualisations\n",
    "COLOURS = {\n",
    "\"white\": (255, 255, 255),\n",
    "\"primary-color\": (0, 80, 160),\n",
    "\"secondary-color\": (0, 140, 200),\n",
    "\"third-color\": (0, 175, 240),\n",
    "\"accent-orange\": (250, 150, 30),\n",
    "\"accent-blue-pale\": (230, 238, 249),\n",
    "\"accent-grey-dark-1\": (109, 110, 113),\n",
    "\"accent-grey-dark-2\": (128, 130, 133),\n",
    "\"accent-grey-dark-3\": (147, 149, 152),\n",
    "\"accent-grey-light-1\": (230, 231, 232),\n",
    "\"accent-grey-light-2\": (209, 211, 212),\n",
    "\"accent-grey-light-3\": (188, 190, 192),\n",
    "\"accent-grey-light-4\": (167, 169, 172),\n",
    "\"accent-blue-dark-1\": (14, 28, 66),\n",
    "\"accent-blue-dark-2\": (0, 69, 140),\n",
    "\"accent-blue-dark-3\": (0, 84, 166),\n",
    "\"accent-blue-light-1\": (171, 225, 250),\n",
    "\"accent-blue-light-2\": (109, 207, 246),\n",
    "\"accent-blue-light-3\": (0, 192, 243),\n",
    "\"accent-green-light-1\": (143, 250, 171),\n",
    "\"accent-red-light-1\": (250, 171, 171)\n",
    "}"
   ]
  },
  {
   "cell_type": "code",
   "execution_count": 2,
   "id": "cd1d28d0",
   "metadata": {},
   "outputs": [],
   "source": [
    "def scale_rgb(rgb : tuple):\n",
    "    \"\"\"\n",
    "    Parameters\n",
    "    ----------\n",
    "    rgb : tuple - e.g. (255,160,45)\n",
    "    Returns\n",
    "    -------\n",
    "    RGB tuple with each element scaled to [0,1]\n",
    "    \"\"\"\n",
    "    return tuple(map(lambda x: x/255.0, rgb)) "
   ]
  },
  {
   "cell_type": "code",
   "execution_count": null,
   "id": "6edc05d3",
   "metadata": {},
   "outputs": [],
   "source": [
    "ACTIVITY_MAPPING = {\n",
    "    0: \"No activity identified\",\n",
    "    1: \"Seated Cable Rows\",\n",
    "    2: \"One-Arm Dumbbell Row\",\n",
    "    3: \"Wide-Grip Pulldown Behind The Neck\",\n",
    "    4: \"Bent Over Barbell Row\",\n",
    "    5: \"Reverse Grip Bent-Over Row\",\n",
    "    6: \"Wide-Grip Front Pulldown\",\n",
    "    7: \"Bench Press\",\n",
    "    8: \"Incline Dumbbell Flyes\",\n",
    "    9: \"Incline Dumbbell Press\",\n",
    "    10: \"Dumbbell Flyes\",\n",
    "    11: \"Pushups\",\n",
    "    12: \"Leverage Chest Press\",\n",
    "    13: \"Close-Grip Barbell Bench Press\",\n",
    "    14: \"Bar Skullcrusher\",\n",
    "    15: \"Triceps Pushdown\",\n",
    "    16: \"Bench Dip / Dip\",\n",
    "    17: \"Overhead Triceps Extension\",\n",
    "    18: \"Tricep Dumbbell Kickback\",\n",
    "    19: \"Spider Curl\",\n",
    "    20: \"Dumbbell Alternate Bicep Curl\",\n",
    "    21: \"Incline Hammer Curl\",\n",
    "    22: \"Concentration Curl\",\n",
    "    23: \"Cable Curl\",\n",
    "    24: \"Hammer Curl\",\n",
    "    25: \"Upright Barbell Row\",\n",
    "    26: \"Side Lateral Raise\",\n",
    "    27: \"Front Dumbbell Raise\",\n",
    "    28: \"Seated Dumbbell Shoulder Press\",\n",
    "    29: \"Car Drivers\",\n",
    "    30: \"Lying Rear Delt Raise\"\n",
    "}"
   ]
  }
 ],
 "metadata": {
  "kernelspec": {
   "display_name": "Python 3 (ipykernel)",
   "language": "python",
   "name": "python3"
  },
  "language_info": {
   "codemirror_mode": {
    "name": "ipython",
    "version": 3
   },
   "file_extension": ".py",
   "mimetype": "text/x-python",
   "name": "python",
   "nbconvert_exporter": "python",
   "pygments_lexer": "ipython3",
   "version": "3.9.13"
  }
 },
 "nbformat": 4,
 "nbformat_minor": 5
}
