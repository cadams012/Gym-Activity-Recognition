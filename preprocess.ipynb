{
 "cells": [
  {
   "cell_type": "markdown",
   "id": "47af1cb0",
   "metadata": {},
   "source": [
    "# Load & preprocess MyoGym data"
   ]
  },
  {
   "cell_type": "code",
   "execution_count": 1,
   "id": "980b09f6",
   "metadata": {},
   "outputs": [],
   "source": [
    "from scipy.io import loadmat\n",
    "import pandas as pd\n",
    "import numpy as np"
   ]
  },
  {
   "cell_type": "markdown",
   "id": "03c62b8f",
   "metadata": {},
   "source": [
    "This notebook contains functions to load and preprocess the MyoGym dataset.\n",
    "\n",
    "The MyoGym dataset was first introduced in [1]. The dataset was collected using a Myo Armband worn on the forearm, which consists of 8 electromyogram (EMG) sensors and a 9-axis IMU containing a 3-axis gyroscope, 3-axis accelerometer and a 3-axis magnetometer. In our work, we discard the EMG sensor and magnetometer data and make use of only the gyroscope and accelerometer data. This results in 6 streams of data which collectively fully define the movement of the arm positionally and rotationally along the x, y and z axes (see below diagram of a MyoGym armband)."
   ]
  },
  {
   "cell_type": "markdown",
   "id": "6f586d24",
   "metadata": {},
   "source": [
    "There are 2 data labels. The 1st label column indexes the activity and the 2nd indexes the trainer. The labels are provided at the timestamp level, so that a workout has a sequence of activity labels. "
   ]
  },
  {
   "cell_type": "markdown",
   "id": "99de563e",
   "metadata": {},
   "source": [
    "## Load data"
   ]
  },
  {
   "cell_type": "code",
   "execution_count": 2,
   "id": "1cc42d62",
   "metadata": {},
   "outputs": [],
   "source": [
    "def load_MyoGym(path: str):\n",
    "    \"\"\"\n",
    "    Load the MyoGym data. \n",
    "    Identify and select out the accelerometer and gyroscope data columns we will use in this work.\n",
    "    Rename the 2 columns in the labels\n",
    "    Concatenate the data and labels\n",
    "    \"\"\"\n",
    "    datamat = loadmat(path)\n",
    "    \n",
    "    raw_data = pd.DataFrame(datamat[\"raw_data\"])\n",
    "    label_data = pd.DataFrame(datamat[\"raw_data_labels\"])\n",
    "\n",
    "    # Extract the accelerometer and gyroscope timestamps and features\n",
    "    raw_data.rename(columns={9: \"time_acc\", \n",
    "                             10: \"acc_x\",\n",
    "                             11: \"acc_y\",\n",
    "                             12: \"acc_z\", \n",
    "                             13: \"time_gyr\", \n",
    "                             14: \"gyr_x\",\n",
    "                             15: \"gyr_y\",\n",
    "                             16: \"gyr_z\"\n",
    "                            }, inplace=True)\n",
    "    \n",
    "    raw_data = raw_data[[\"time_acc\", \"acc_x\", \"acc_y\", \"acc_z\", \"time_gyr\", \"gyr_x\", \"gyr_y\", \"gyr_z\"]]\n",
    "    \n",
    "    # The 1st label column is the activity and the 2nd label column is the trainer performing the exercise\n",
    "    label_data.rename(columns={0:\"activity\", \n",
    "                               1: \"trainer\"\n",
    "                              }, inplace=True)\n",
    "\n",
    "    # Concatenate the raw_data and data labels\n",
    "    data = pd.concat([raw_data, label_data],  axis=1)\n",
    "\n",
    "    return data"
   ]
  },
  {
   "cell_type": "markdown",
   "id": "c94a22bb",
   "metadata": {},
   "source": [
    "## Synthesise *Time* column & remove duplicates"
   ]
  },
  {
   "cell_type": "markdown",
   "id": "dff56066",
   "metadata": {},
   "source": [
    "There are duplicate readings (with identical timestamps) arising from the buffering process which are removed. Sort by the trainer, then by the timestamp. "
   ]
  },
  {
   "cell_type": "code",
   "execution_count": 3,
   "id": "f6fdba09",
   "metadata": {},
   "outputs": [],
   "source": [
    "def sort_dedupe(data: pd.DataFrame):\n",
    "    \"\"\"\n",
    "    Sort data and remove duplicates\n",
    "    \"\"\"\n",
    "    data = data.sort_values(by=['trainer', 'time_acc'], ascending=True)\n",
    "    data = data.drop_duplicates()\n",
    "    return data"
   ]
  },
  {
   "cell_type": "markdown",
   "id": "09fb7bf6",
   "metadata": {},
   "source": [
    "The data are provided in continuous streams, an identifier for which is given in the *trainer* column. There is a *time_acc* column and *time_gyr* column to record the stream arrival times of the accelerometer and gyroscope sensor data respectively. The mechanism behind this is unclear, but the sensor data is buffered and streamed in packets, so the arrival times are not always equidistant. Both instruments record at 50 Hz. We create a synthetic time column for later use."
   ]
  },
  {
   "cell_type": "code",
   "execution_count": 4,
   "id": "930c2d4b",
   "metadata": {},
   "outputs": [],
   "source": [
    "def define_time(data: pd.DataFrame, fq: int = 50):\n",
    "    \"\"\"\n",
    "    Define a synthetic timestamp identifier and delete the sensor arrival times\n",
    "    \"\"\"\n",
    "    data[\"time\"] = data.groupby(\"trainer\").cumcount()\n",
    "    data[\"time\"] /= fq\n",
    "\n",
    "    data.drop(columns = [\"time_acc\", \"time_gyr\"], axis = 0, inplace=True)\n",
    "    data.set_index([\"trainer\", \"time\"], inplace=True)\n",
    "    return data"
   ]
  },
  {
   "cell_type": "markdown",
   "id": "576e4ea4",
   "metadata": {},
   "source": [
    "## Run Script"
   ]
  },
  {
   "cell_type": "code",
   "execution_count": null,
   "id": "e3068a44",
   "metadata": {},
   "outputs": [],
   "source": [
    "data = load_MyoGym(\"data/MyoGym.mat\")\n",
    "data = sort_dedupe(data)\n",
    "data = define_time(data)"
   ]
  },
  {
   "cell_type": "markdown",
   "id": "78053252",
   "metadata": {},
   "source": [
    "## References"
   ]
  },
  {
   "cell_type": "markdown",
   "id": "da7d57d5",
   "metadata": {},
   "source": [
    "[1] Koskimäki, Heli, Pekka Siirtola and Juha Röning. “MyoGym: introducing an open gym data set for activity recognition collected using myo armband.” Proceedings of the 2017 ACM International Joint Conference on Pervasive and Ubiquitous Computing and Proceedings of the 2017 ACM International Symposium on Wearable Computers (2017): n. pag."
   ]
  }
 ],
 "metadata": {
  "kernelspec": {
   "display_name": "Python 3 (ipykernel)",
   "language": "python",
   "name": "python3"
  },
  "language_info": {
   "codemirror_mode": {
    "name": "ipython",
    "version": 3
   },
   "file_extension": ".py",
   "mimetype": "text/x-python",
   "name": "python",
   "nbconvert_exporter": "python",
   "pygments_lexer": "ipython3",
   "version": "3.9.13"
  }
 },
 "nbformat": 4,
 "nbformat_minor": 5
}
