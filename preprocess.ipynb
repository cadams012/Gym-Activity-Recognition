{
 "cells": [
  {
   "cell_type": "markdown",
   "id": "984ac1ce",
   "metadata": {},
   "source": [
    "# Load & preprocess MyoGym data"
   ]
  },
  {
   "cell_type": "code",
   "execution_count": 1,
   "id": "980b09f6",
   "metadata": {},
   "outputs": [],
   "source": [
    "from scipy.io import loadmat\n",
    "import pandas as pd\n",
    "import numpy as np"
   ]
  },
  {
   "cell_type": "markdown",
   "id": "03c62b8f",
   "metadata": {},
   "source": [
    "This notebook contains functions to load and preprocess the MyoGym dataset.\n",
    "\n",
    "The MyoGym dataset was first introduced in [1]. The dataset was collected using a Myo Armband worn on the forearm, which consists of 8 electromyogram (EMG) sensors and a 9-axis IMU containing a 3-axis gyroscope, 3-axis accelerometer and a 3-axis magnetometer. In our work, we discard the EMG sensor and magnetometer data and make use of only the gyroscope and accelerometer data. This results in 6 streams of data which collectively fully define the movement of the arm positionally and rotationally along the x, y and z axes (see below diagram of a MyoGym armband)."
   ]
  },
  {
   "cell_type": "markdown",
   "id": "73b0654f",
   "metadata": {},
   "source": [
    "There are 2 data labels. The 1st label column indexes the activity and the 2nd indexes the trainer. The labels are provided at the timestamp level, so that a workout has a sequence of activity labels. "
   ]
  },
  {
   "cell_type": "markdown",
   "id": "03b188e8",
   "metadata": {},
   "source": [
    "## Load data"
   ]
  },
  {
   "cell_type": "code",
   "execution_count": 13,
   "id": "9cf34a05",
   "metadata": {},
   "outputs": [],
   "source": [
    "# Load the MyoGym data. \n",
    "datamat = loadmat(\"data/MyoGym.mat\")\n",
    "\n",
    "raw_data = pd.DataFrame(datamat[\"raw_data\"])\n",
    "label_data = pd.DataFrame(datamat[\"raw_data_labels\"])\n",
    "\n",
    "# Extract the accelerometer and gyroscope timestamps and features\n",
    "raw_data.rename(columns={9: \"time_acc\", \n",
    "                         10: \"acc_x\",\n",
    "                         11: \"acc_y\",\n",
    "                         12: \"acc_z\", \n",
    "                         13: \"time_gyr\", \n",
    "                         14: \"gyr_x\",\n",
    "                         15: \"gyr_y\",\n",
    "                         16: \"gyr_z\"\n",
    "                        }, inplace=True)\n",
    "\n",
    "raw_data = raw_data[[\"time_acc\", \"acc_x\", \"acc_y\", \"acc_z\", \"time_gyr\", \"gyr_x\", \"gyr_y\", \"gyr_z\"]]\n",
    "\n",
    "# Rename the 2 columns in the labels\n",
    "# The 1st label column is the activity and the 2nd label column is the trainer performing the exercise\n",
    "label_data.rename(columns={0:\"activity\", \n",
    "                           1: \"trainer\"\n",
    "                          }, inplace=True)\n",
    "\n",
    "# Concatenate the raw_data and data labels\n",
    "data = pd.concat([raw_data, label_data],  axis=1)"
   ]
  },
  {
   "cell_type": "markdown",
   "id": "db4fb80e",
   "metadata": {},
   "source": [
    "## Synthesise *Time* column & remove duplicates"
   ]
  },
  {
   "cell_type": "markdown",
   "id": "e333d365",
   "metadata": {},
   "source": [
    "There are duplicate readings (with identical timestamps) arising from the buffering process which are removed. Sort by the trainer, then by the timestamp. "
   ]
  },
  {
   "cell_type": "code",
   "execution_count": 16,
   "id": "1610082f",
   "metadata": {},
   "outputs": [],
   "source": [
    "# Sort data and remove duplicates\n",
    "data = data.sort_values(by=['trainer', 'time_acc'], ascending=True)\n",
    "data = data.drop_duplicates()"
   ]
  },
  {
   "cell_type": "markdown",
   "id": "5535ff92",
   "metadata": {},
   "source": [
    "The data are provided in continuous streams, an identifier for which is given in the *trainer* column. There is a *time_acc* column and *time_gyr* column to record the stream arrival times of the accelerometer and gyroscope sensor data respectively. The mechanism behind this is unclear, but the sensor data is buffered and streamed in packets, so the arrival times are not always equidistant. Both instruments record at 50 Hz. We create a synthetic time column for later use."
   ]
  },
  {
   "cell_type": "code",
   "execution_count": 17,
   "id": "c90ec7be",
   "metadata": {},
   "outputs": [],
   "source": [
    "# Define a synthetic timestamp identifier and delete the sensor arrival times\n",
    "    \n",
    "fq = 50\n",
    "\n",
    "data[\"time\"] = data.groupby(\"trainer\").cumcount()\n",
    "data[\"time\"] /= fq\n",
    "\n",
    "data.drop(columns = [\"time_acc\", \"time_gyr\"], axis = 0, inplace=True)\n",
    "#data.set_index([\"trainer\", \"time\"], inplace=True)"
   ]
  },
  {
   "cell_type": "code",
   "execution_count": 18,
   "id": "9fe5a09e",
   "metadata": {},
   "outputs": [
    {
     "data": {
      "text/html": [
       "<div>\n",
       "<style scoped>\n",
       "    .dataframe tbody tr th:only-of-type {\n",
       "        vertical-align: middle;\n",
       "    }\n",
       "\n",
       "    .dataframe tbody tr th {\n",
       "        vertical-align: top;\n",
       "    }\n",
       "\n",
       "    .dataframe thead th {\n",
       "        text-align: right;\n",
       "    }\n",
       "</style>\n",
       "<table border=\"1\" class=\"dataframe\">\n",
       "  <thead>\n",
       "    <tr style=\"text-align: right;\">\n",
       "      <th></th>\n",
       "      <th></th>\n",
       "      <th>acc_x</th>\n",
       "      <th>acc_y</th>\n",
       "      <th>acc_z</th>\n",
       "      <th>gyr_x</th>\n",
       "      <th>gyr_y</th>\n",
       "      <th>gyr_z</th>\n",
       "      <th>activity</th>\n",
       "    </tr>\n",
       "    <tr>\n",
       "      <th>trainer</th>\n",
       "      <th>time</th>\n",
       "      <th></th>\n",
       "      <th></th>\n",
       "      <th></th>\n",
       "      <th></th>\n",
       "      <th></th>\n",
       "      <th></th>\n",
       "      <th></th>\n",
       "    </tr>\n",
       "  </thead>\n",
       "  <tbody>\n",
       "    <tr>\n",
       "      <th rowspan=\"5\" valign=\"top\">1</th>\n",
       "      <th>0.00</th>\n",
       "      <td>-0.791504</td>\n",
       "      <td>0.595703</td>\n",
       "      <td>0.054199</td>\n",
       "      <td>38.5625</td>\n",
       "      <td>-15.9375</td>\n",
       "      <td>12.6250</td>\n",
       "      <td>99</td>\n",
       "    </tr>\n",
       "    <tr>\n",
       "      <th>0.02</th>\n",
       "      <td>-0.781250</td>\n",
       "      <td>0.603516</td>\n",
       "      <td>0.031250</td>\n",
       "      <td>44.8125</td>\n",
       "      <td>-19.5625</td>\n",
       "      <td>19.2500</td>\n",
       "      <td>99</td>\n",
       "    </tr>\n",
       "    <tr>\n",
       "      <th>0.04</th>\n",
       "      <td>-0.764648</td>\n",
       "      <td>0.622559</td>\n",
       "      <td>0.020020</td>\n",
       "      <td>48.5625</td>\n",
       "      <td>-21.3125</td>\n",
       "      <td>23.6875</td>\n",
       "      <td>99</td>\n",
       "    </tr>\n",
       "    <tr>\n",
       "      <th>0.06</th>\n",
       "      <td>-0.751465</td>\n",
       "      <td>0.649414</td>\n",
       "      <td>0.011719</td>\n",
       "      <td>50.6875</td>\n",
       "      <td>-22.3750</td>\n",
       "      <td>24.2500</td>\n",
       "      <td>99</td>\n",
       "    </tr>\n",
       "    <tr>\n",
       "      <th>0.08</th>\n",
       "      <td>-0.765137</td>\n",
       "      <td>0.670410</td>\n",
       "      <td>-0.008301</td>\n",
       "      <td>52.0625</td>\n",
       "      <td>-23.7500</td>\n",
       "      <td>21.0625</td>\n",
       "      <td>99</td>\n",
       "    </tr>\n",
       "    <tr>\n",
       "      <th>...</th>\n",
       "      <th>...</th>\n",
       "      <td>...</td>\n",
       "      <td>...</td>\n",
       "      <td>...</td>\n",
       "      <td>...</td>\n",
       "      <td>...</td>\n",
       "      <td>...</td>\n",
       "      <td>...</td>\n",
       "    </tr>\n",
       "    <tr>\n",
       "      <th rowspan=\"5\" valign=\"top\">10</th>\n",
       "      <th>2087.48</th>\n",
       "      <td>-0.645508</td>\n",
       "      <td>0.797363</td>\n",
       "      <td>-0.219238</td>\n",
       "      <td>10.1250</td>\n",
       "      <td>8.8125</td>\n",
       "      <td>-1.2500</td>\n",
       "      <td>99</td>\n",
       "    </tr>\n",
       "    <tr>\n",
       "      <th>2087.50</th>\n",
       "      <td>-0.628906</td>\n",
       "      <td>0.681641</td>\n",
       "      <td>-0.226563</td>\n",
       "      <td>-10.9375</td>\n",
       "      <td>3.0625</td>\n",
       "      <td>1.7500</td>\n",
       "      <td>99</td>\n",
       "    </tr>\n",
       "    <tr>\n",
       "      <th>2087.52</th>\n",
       "      <td>-0.678223</td>\n",
       "      <td>0.708008</td>\n",
       "      <td>-0.219238</td>\n",
       "      <td>-10.3750</td>\n",
       "      <td>-0.7500</td>\n",
       "      <td>2.0000</td>\n",
       "      <td>99</td>\n",
       "    </tr>\n",
       "    <tr>\n",
       "      <th>2087.54</th>\n",
       "      <td>-0.611328</td>\n",
       "      <td>0.641602</td>\n",
       "      <td>-0.176270</td>\n",
       "      <td>-17.2500</td>\n",
       "      <td>-4.7500</td>\n",
       "      <td>5.6875</td>\n",
       "      <td>99</td>\n",
       "    </tr>\n",
       "    <tr>\n",
       "      <th>2087.56</th>\n",
       "      <td>-0.656738</td>\n",
       "      <td>0.624023</td>\n",
       "      <td>-0.191895</td>\n",
       "      <td>2.3750</td>\n",
       "      <td>-2.6875</td>\n",
       "      <td>7.9375</td>\n",
       "      <td>99</td>\n",
       "    </tr>\n",
       "  </tbody>\n",
       "</table>\n",
       "<p>1608998 rows × 7 columns</p>\n",
       "</div>"
      ],
      "text/plain": [
       "                    acc_x     acc_y     acc_z    gyr_x    gyr_y    gyr_z  \\\n",
       "trainer time                                                               \n",
       "1       0.00    -0.791504  0.595703  0.054199  38.5625 -15.9375  12.6250   \n",
       "        0.02    -0.781250  0.603516  0.031250  44.8125 -19.5625  19.2500   \n",
       "        0.04    -0.764648  0.622559  0.020020  48.5625 -21.3125  23.6875   \n",
       "        0.06    -0.751465  0.649414  0.011719  50.6875 -22.3750  24.2500   \n",
       "        0.08    -0.765137  0.670410 -0.008301  52.0625 -23.7500  21.0625   \n",
       "...                   ...       ...       ...      ...      ...      ...   \n",
       "10      2087.48 -0.645508  0.797363 -0.219238  10.1250   8.8125  -1.2500   \n",
       "        2087.50 -0.628906  0.681641 -0.226563 -10.9375   3.0625   1.7500   \n",
       "        2087.52 -0.678223  0.708008 -0.219238 -10.3750  -0.7500   2.0000   \n",
       "        2087.54 -0.611328  0.641602 -0.176270 -17.2500  -4.7500   5.6875   \n",
       "        2087.56 -0.656738  0.624023 -0.191895   2.3750  -2.6875   7.9375   \n",
       "\n",
       "                 activity  \n",
       "trainer time               \n",
       "1       0.00           99  \n",
       "        0.02           99  \n",
       "        0.04           99  \n",
       "        0.06           99  \n",
       "        0.08           99  \n",
       "...                   ...  \n",
       "10      2087.48        99  \n",
       "        2087.50        99  \n",
       "        2087.52        99  \n",
       "        2087.54        99  \n",
       "        2087.56        99  \n",
       "\n",
       "[1608998 rows x 7 columns]"
      ]
     },
     "execution_count": 18,
     "metadata": {},
     "output_type": "execute_result"
    }
   ],
   "source": [
    "data"
   ]
  },
  {
   "cell_type": "markdown",
   "id": "4c21c6f4",
   "metadata": {},
   "source": [
    "## References"
   ]
  },
  {
   "cell_type": "markdown",
   "id": "0a557230",
   "metadata": {},
   "source": [
    "[1] Koskimäki, Heli, Pekka Siirtola and Juha Röning. “MyoGym: introducing an open gym data set for activity recognition collected using myo armband.” Proceedings of the 2017 ACM International Joint Conference on Pervasive and Ubiquitous Computing and Proceedings of the 2017 ACM International Symposium on Wearable Computers (2017): n. pag."
   ]
  }
 ],
 "metadata": {
  "kernelspec": {
   "display_name": "Python 3 (ipykernel)",
   "language": "python",
   "name": "python3"
  },
  "language_info": {
   "codemirror_mode": {
    "name": "ipython",
    "version": 3
   },
   "file_extension": ".py",
   "mimetype": "text/x-python",
   "name": "python",
   "nbconvert_exporter": "python",
   "pygments_lexer": "ipython3",
   "version": "3.9.13"
  }
 },
 "nbformat": 4,
 "nbformat_minor": 5
}
