{
 "cells": [
  {
   "cell_type": "markdown",
   "id": "dcc057d7",
   "metadata": {
    "id": "dcc057d7"
   },
   "source": [
    "# **Time Series Classification from Scratch with Deep Neural Networks: A Strong Baseline**"
   ]
  },
  {
   "cell_type": "markdown",
   "id": "vncatqcgcKDp",
   "metadata": {
    "id": "vncatqcgcKDp"
   },
   "source": [
    "In this workbook, we implement 3 basic neural network architectures introduced in the paper [1]: an MLP, a Fully Convolutional Network and a Residual Network."
   ]
  },
  {
   "cell_type": "code",
   "execution_count": 1,
   "id": "d28a1a27",
   "metadata": {
    "id": "d28a1a27"
   },
   "outputs": [],
   "source": [
    "import os\n",
    "import numpy as np\n",
    "import pickle\n",
    "import matplotlib.pyplot as plt\n",
    "import tensorflow as tf\n",
    "from keras.models import Model\n",
    "from keras.optimizers import Adadelta, Adam\n",
    "from tensorflow.keras import regularizers\n",
    "from tensorflow.keras.models import load_model\n",
    "from keras.layers import Input, Layer, Dropout, BatchNormalization, Conv1D, MaxPool1D, ReLU, Dense, Flatten, GlobalMaxPool2D, GlobalAveragePooling1D, GlobalMaxPooling1D"
   ]
  },
  {
   "cell_type": "code",
   "execution_count": 2,
   "id": "zeJFTnpccZ_o",
   "metadata": {
    "colab": {
     "base_uri": "https://localhost:8080/"
    },
    "id": "zeJFTnpccZ_o",
    "outputId": "695b965c-7cc6-4165-e5ff-5518086a3c0e"
   },
   "outputs": [
    {
     "name": "stdout",
     "output_type": "stream",
     "text": [
      "Mounted at /content/drive\n"
     ]
    }
   ],
   "source": [
    "#You MUST run this command before reading in any data from Google Drive\n",
    "from google.colab import files\n",
    "from google.colab import drive\n",
    "import pandas as pd\n",
    "drive.mount('/content/drive', force_remount=True)\n",
    "os.chdir('/content/drive/My Drive/Colab Notebooks/Thesis/benchmarks')\n",
    "\n",
    "%run ../sys_configs.ipynb"
   ]
  },
  {
   "cell_type": "code",
   "execution_count": 3,
   "id": "bb4e4bd7",
   "metadata": {
    "id": "bb4e4bd7"
   },
   "outputs": [],
   "source": [
    "with open('../data/1s_train.npy', 'rb') as f:\n",
    "    x1s_train = np.load(f)\n",
    "    y1s_train = np.load(f)\n",
    "sz, dim = x1s_train.shape[1:]\n",
    "\n",
    "with open('../data/1s_val.npy', 'rb') as f:\n",
    "    x1s_val = np.load(f)\n",
    "    y1s_val = np.load(f)"
   ]
  },
  {
   "cell_type": "code",
   "execution_count": 4,
   "id": "w6Bs188v9Dab",
   "metadata": {
    "id": "w6Bs188v9Dab"
   },
   "outputs": [],
   "source": [
    "# Convert the labels to tensors\n",
    "train_labels_tf = tf.one_hot(y1s_train, 31, dtype=tf.int32)\n",
    "val_labels_tf = tf.one_hot(y1s_val, 31, dtype=tf.int32)"
   ]
  },
  {
   "cell_type": "code",
   "execution_count": 5,
   "id": "XwBNjdd5vNU5",
   "metadata": {
    "id": "XwBNjdd5vNU5"
   },
   "outputs": [],
   "source": [
    "# Convert the dataset to tensors\n",
    "train_data_tf = tf.convert_to_tensor(x1s_train, dtype=tf.float32)\n",
    "val_data_tf = tf.convert_to_tensor(x1s_val, dtype=tf.float32)"
   ]
  },
  {
   "cell_type": "code",
   "execution_count": 6,
   "id": "SJTS-NF4wKyQ",
   "metadata": {
    "id": "SJTS-NF4wKyQ"
   },
   "outputs": [],
   "source": [
    "train_ds = tf.data.Dataset.from_tensor_slices((train_data_tf, train_labels_tf))\n",
    "val_ds = tf.data.Dataset.from_tensor_slices((val_data_tf, val_labels_tf))"
   ]
  },
  {
   "cell_type": "code",
   "execution_count": 7,
   "id": "ou7XdZm7wK6f",
   "metadata": {
    "id": "ou7XdZm7wK6f"
   },
   "outputs": [],
   "source": [
    "train_ds = train_ds.shuffle(500)\n",
    "\n",
    "train_ds = train_ds.padded_batch(16)\n",
    "val_ds = val_ds.padded_batch(16)"
   ]
  },
  {
   "cell_type": "markdown",
   "id": "OPgm_MAmW7UZ",
   "metadata": {
    "id": "OPgm_MAmW7UZ"
   },
   "source": [
    "Each architecture considered is evaluated using the Mean Per-Class Error (MPCE) to evaluate its average classification performance across classes.\n",
    "\n",
    "Suppose there are $K$ classes and the $k$th class has $c_{k}$ elements and the number which are incorrectly predicted is $e_{k}$.\n",
    "\n",
    "The MPCE is calculated by averaging the expected error rate for each class, and therefore treats every class with equal importance.\n",
    "\n",
    "The paper introduces the idea of a paired T-test on the PCE values which identifies whether the MPCE differences are significant across different classes."
   ]
  },
  {
   "cell_type": "markdown",
   "id": "hrwAXAFfbEpy",
   "metadata": {
    "id": "hrwAXAFfbEpy"
   },
   "source": [
    "<div style=\"text-align: center;\">\n",
    "$$\n",
    "\\begin{aligned}\n",
    "PCE_{k} & = \\frac{e_{k}}{c_{k}} \\\\\n",
    "MPCE_{k} & = \\frac{1}{K}\\Sigma_{k=1}^{K}PCE_{k}\n",
    "\\end{aligned}\n",
    "$$\n",
    "</div>"
   ]
  },
  {
   "cell_type": "code",
   "execution_count": 8,
   "id": "zi53qe5u91F8",
   "metadata": {
    "id": "zi53qe5u91F8"
   },
   "outputs": [],
   "source": [
    "class MPCE(tf.keras.metrics.Metric):\n",
    "    def __init__(self, name='MPCE', **kwargs):\n",
    "        super(MPCE, self).__init__(name=name, **kwargs)\n",
    "        self.total_error = self.add_weight(name='total_error', initializer='zeros')\n",
    "        self.count = self.add_weight(name='count', initializer='zeros')\n",
    "\n",
    "    def update_state(self, y_true, y_pred, sample_weight=None):\n",
    "        # Get the predicted class by taking the argmax\n",
    "        y_pred_classes = tf.cast(tf.argmax(y_pred, axis=-1), dtype = tf.int32)\n",
    "        y_true_classes = tf.cast(tf.argmax(y_true, axis=-1), dtype = tf.int32)\n",
    "\n",
    "        # Initialize variables to store the error rates for each class\n",
    "        unique_classes = tf.unique(y_true_classes)[0]\n",
    "        num_classes = len(tf.unique(y_true_classes)[0])\n",
    "\n",
    "        total_error = 0.0\n",
    "        neq = tf.not_equal(y_pred_classes, y_true_classes)\n",
    "        for c in unique_classes:\n",
    "            # Get the mask for the current class\n",
    "            mask = tf.equal(y_true_classes, c)\n",
    "\n",
    "            # Count the number of samples of the current class\n",
    "            class_count = tf.reduce_sum(tf.cast(mask, tf.float32))\n",
    "\n",
    "            # Compute the error rate for the current class\n",
    "            neq_class = neq & mask\n",
    "            class_errors = tf.reduce_sum(tf.cast(neq_class, tf.float32))\n",
    "\n",
    "            # The below correction is necessary if a class does not appear in the validation/test set (all classes appear in the train set)\n",
    "            class_error_rate = class_errors / (class_count + tf.keras.backend.epsilon())\n",
    "            total_error += class_error_rate\n",
    "\n",
    "        # Compute the mean error across all classes\n",
    "        mean_error = total_error / tf.cast(num_classes, tf.float32)\n",
    "\n",
    "        self.total_error.assign_add(mean_error)\n",
    "        self.count.assign_add(1.0)\n",
    "\n",
    "    def result(self):\n",
    "        return self.total_error / self.count\n",
    "\n",
    "    def reset_state(self):\n",
    "        self.total_error.assign(0.0)\n",
    "        self.count.assign(0.0)\n"
   ]
  },
  {
   "cell_type": "code",
   "execution_count": 9,
   "id": "pSvzBl4ngMfL",
   "metadata": {
    "id": "pSvzBl4ngMfL"
   },
   "outputs": [],
   "source": [
    "C = len(set(y1s_train)) # Number of classes"
   ]
  },
  {
   "cell_type": "markdown",
   "id": "d8fd8a6c",
   "metadata": {},
   "source": [
    "<figure>\n",
    "    <img src=\"../documentation/strong_baseline.png\" alt=\"Alt text\" width=\"500\" />\n",
    "    <figcaption style=\"text-align: center;\">Figure 1: Diagram of the baseline methods</figcaption>\n",
    "</figure>"
   ]
  },
  {
   "cell_type": "markdown",
   "id": "ZEh-F7Atc7V7",
   "metadata": {
    "id": "ZEh-F7Atc7V7"
   },
   "source": [
    "## **Multilayer Perceptron**"
   ]
  },
  {
   "cell_type": "markdown",
   "id": "cm-gi0eZT7hK",
   "metadata": {
    "id": "cm-gi0eZT7hK"
   },
   "source": [
    "In the MLP baseline, there are 3 fully connected layers each with 500 neurons with the ReLU activation function. Dropout regularisation is applied at each layer, which improves the network's ability to generalise. The MLP is trained with the Adadelta optimiser, learning rate 0.1, $\\rho$ =  0.95 and $\\epsilon$ = $10^{-8}$ in line with the paper."
   ]
  },
  {
   "cell_type": "code",
   "execution_count": 10,
   "id": "L3XAiO0rgMnc",
   "metadata": {
    "id": "L3XAiO0rgMnc"
   },
   "outputs": [],
   "source": [
    "def mlp_model(shape):\n",
    "    input_layer = Input(shape=shape)\n",
    "\n",
    "    # The input time series is multi-dimensional so that the matrix is N x T x D, but dense layers work with 2 dimenensions\n",
    "    layer = tf.keras.layers.TimeDistributed(Dense(units=1))(input_layer)\n",
    "    layer = tf.squeeze(layer, axis=-1)\n",
    "\n",
    "    # Retain the rest of the architecture\n",
    "    layer = Dropout(0.1)(layer)\n",
    "    layer = Dense(500, activation=None, kernel_regularizer=regularizers.L1(l1=0.05))(layer)\n",
    "    layer = ReLU()(layer)\n",
    "    layer = Dropout(0.2)(layer)\n",
    "    layer = Dense(500, kernel_regularizer=regularizers.L1(l1=0.05), activation=None)(layer)\n",
    "    layer = ReLU()(layer)\n",
    "    layer = Dropout(0.2)(layer)\n",
    "    layer = Dense(500, kernel_regularizer=regularizers.L1(l1=0.05), activation=None)(layer)\n",
    "    layer = ReLU()(layer)\n",
    "    layer = Dropout(0.3)(layer)\n",
    "    output_layer = Dense(C, activation='softmax')(layer)\n",
    "\n",
    "    return Model(inputs=input_layer, outputs=output_layer)\n"
   ]
  },
  {
   "cell_type": "code",
   "execution_count": 11,
   "id": "vCBGa-IjxOnJ",
   "metadata": {
    "colab": {
     "base_uri": "https://localhost:8080/"
    },
    "id": "vCBGa-IjxOnJ",
    "outputId": "7997f18b-d1ef-4245-c118-0cf44772df59"
   },
   "outputs": [
    {
     "name": "stdout",
     "output_type": "stream",
     "text": [
      "Model: \"model\"\n",
      "_________________________________________________________________\n",
      " Layer (type)                Output Shape              Param #   \n",
      "=================================================================\n",
      " input_1 (InputLayer)        [(None, 500, 6)]          0         \n",
      "                                                                 \n",
      " time_distributed (TimeDist  (None, 500, 1)            7         \n",
      " ributed)                                                        \n",
      "                                                                 \n",
      " tf.compat.v1.squeeze (TFOp  (None, 500)               0         \n",
      " Lambda)                                                         \n",
      "                                                                 \n",
      " dropout (Dropout)           (None, 500)               0         \n",
      "                                                                 \n",
      " dense_1 (Dense)             (None, 500)               250500    \n",
      "                                                                 \n",
      " re_lu (ReLU)                (None, 500)               0         \n",
      "                                                                 \n",
      " dropout_1 (Dropout)         (None, 500)               0         \n",
      "                                                                 \n",
      " dense_2 (Dense)             (None, 500)               250500    \n",
      "                                                                 \n",
      " re_lu_1 (ReLU)              (None, 500)               0         \n",
      "                                                                 \n",
      " dropout_2 (Dropout)         (None, 500)               0         \n",
      "                                                                 \n",
      " dense_3 (Dense)             (None, 500)               250500    \n",
      "                                                                 \n",
      " re_lu_2 (ReLU)              (None, 500)               0         \n",
      "                                                                 \n",
      " dropout_3 (Dropout)         (None, 500)               0         \n",
      "                                                                 \n",
      " dense_4 (Dense)             (None, 31)                15531     \n",
      "                                                                 \n",
      "=================================================================\n",
      "Total params: 767038 (2.93 MB)\n",
      "Trainable params: 767038 (2.93 MB)\n",
      "Non-trainable params: 0 (0.00 Byte)\n",
      "_________________________________________________________________\n"
     ]
    }
   ],
   "source": [
    "mlp_model = mlp_model(shape = (sz, dim))\n",
    "mlp_model.summary()"
   ]
  },
  {
   "cell_type": "code",
   "execution_count": 12,
   "id": "xwR20NoPxejJ",
   "metadata": {
    "colab": {
     "base_uri": "https://localhost:8080/"
    },
    "id": "xwR20NoPxejJ",
    "outputId": "bacc024f-f86a-4f04-84f8-fb019bd19399"
   },
   "outputs": [
    {
     "name": "stdout",
     "output_type": "stream",
     "text": [
      "Epoch 1/25\n",
      "190/190 [==============================] - 5s 10ms/step - loss: 1301.5569 - accuracy: 0.0382 - MPCE: 0.9593 - val_loss: 1142.5612 - val_accuracy: 0.0524 - val_MPCE: 0.9499\n",
      "Epoch 2/25\n",
      "190/190 [==============================] - 2s 9ms/step - loss: 987.8369 - accuracy: 0.0554 - MPCE: 0.9462 - val_loss: 832.3495 - val_accuracy: 0.0595 - val_MPCE: 0.9451\n",
      "Epoch 3/25\n",
      "190/190 [==============================] - 2s 11ms/step - loss: 687.1348 - accuracy: 0.0544 - MPCE: 0.9502 - val_loss: 544.8162 - val_accuracy: 0.0665 - val_MPCE: 0.9432\n",
      "Epoch 4/25\n",
      "190/190 [==============================] - 3s 15ms/step - loss: 419.1894 - accuracy: 0.0597 - MPCE: 0.9444 - val_loss: 300.6794 - val_accuracy: 0.0615 - val_MPCE: 0.9482\n",
      "Epoch 5/25\n",
      "190/190 [==============================] - 2s 11ms/step - loss: 205.9500 - accuracy: 0.0719 - MPCE: 0.9310 - val_loss: 122.8272 - val_accuracy: 0.1028 - val_MPCE: 0.9149\n",
      "Epoch 6/25\n",
      "190/190 [==============================] - 2s 9ms/step - loss: 70.3770 - accuracy: 0.0923 - MPCE: 0.9170 - val_loss: 33.4736 - val_accuracy: 0.1310 - val_MPCE: 0.8914\n",
      "Epoch 7/25\n",
      "190/190 [==============================] - 2s 9ms/step - loss: 19.8997 - accuracy: 0.0821 - MPCE: 0.9265 - val_loss: 11.5217 - val_accuracy: 0.0776 - val_MPCE: 0.9379\n",
      "Epoch 8/25\n",
      "190/190 [==============================] - 2s 9ms/step - loss: 8.4953 - accuracy: 0.0547 - MPCE: 0.9519 - val_loss: 6.5486 - val_accuracy: 0.0776 - val_MPCE: 0.9379\n",
      "Epoch 9/25\n",
      "190/190 [==============================] - 2s 11ms/step - loss: 5.8315 - accuracy: 0.0551 - MPCE: 0.9513 - val_loss: 5.4238 - val_accuracy: 0.0776 - val_MPCE: 0.9379\n",
      "Epoch 10/25\n",
      "190/190 [==============================] - 4s 23ms/step - loss: 5.3550 - accuracy: 0.0504 - MPCE: 0.9558 - val_loss: 5.3451 - val_accuracy: 0.0776 - val_MPCE: 0.9379\n",
      "Epoch 11/25\n",
      "190/190 [==============================] - 2s 10ms/step - loss: 5.3831 - accuracy: 0.0458 - MPCE: 0.9599 - val_loss: 5.4214 - val_accuracy: 0.0776 - val_MPCE: 0.9379\n",
      "Epoch 12/25\n",
      "190/190 [==============================] - 2s 9ms/step - loss: 5.4627 - accuracy: 0.0590 - MPCE: 0.9443 - val_loss: 5.5007 - val_accuracy: 0.0776 - val_MPCE: 0.9379\n",
      "Epoch 13/25\n",
      "190/190 [==============================] - 2s 9ms/step - loss: 5.5405 - accuracy: 0.0514 - MPCE: 0.9551 - val_loss: 5.5767 - val_accuracy: 0.0554 - val_MPCE: 0.9536\n",
      "Epoch 14/25\n",
      "190/190 [==============================] - 2s 8ms/step - loss: 5.6160 - accuracy: 0.0448 - MPCE: 0.9589 - val_loss: 5.6500 - val_accuracy: 0.0554 - val_MPCE: 0.9536\n",
      "Epoch 15/25\n",
      "190/190 [==============================] - 2s 9ms/step - loss: 5.6878 - accuracy: 0.0551 - MPCE: 0.9539 - val_loss: 5.7207 - val_accuracy: 0.0554 - val_MPCE: 0.9536\n",
      "Epoch 16/25\n",
      "190/190 [==============================] - 2s 10ms/step - loss: 5.7575 - accuracy: 0.0580 - MPCE: 0.9517 - val_loss: 5.7895 - val_accuracy: 0.0554 - val_MPCE: 0.9536\n",
      "Epoch 17/25\n",
      "190/190 [==============================] - 3s 13ms/step - loss: 5.8257 - accuracy: 0.0534 - MPCE: 0.9548 - val_loss: 5.8564 - val_accuracy: 0.0554 - val_MPCE: 0.9536\n",
      "Epoch 18/25\n",
      "190/190 [==============================] - 2s 9ms/step - loss: 5.8914 - accuracy: 0.0584 - MPCE: 0.9494 - val_loss: 5.9215 - val_accuracy: 0.0554 - val_MPCE: 0.9536\n",
      "Epoch 19/25\n",
      "190/190 [==============================] - 2s 8ms/step - loss: 5.9559 - accuracy: 0.0584 - MPCE: 0.9480 - val_loss: 5.9849 - val_accuracy: 0.0554 - val_MPCE: 0.9536\n",
      "Epoch 20/25\n",
      "190/190 [==============================] - 2s 9ms/step - loss: 6.0176 - accuracy: 0.0570 - MPCE: 0.9509 - val_loss: 6.0467 - val_accuracy: 0.0554 - val_MPCE: 0.9536\n",
      "Epoch 21/25\n",
      "190/190 [==============================] - 2s 9ms/step - loss: 6.0793 - accuracy: 0.0564 - MPCE: 0.9486 - val_loss: 6.1072 - val_accuracy: 0.0554 - val_MPCE: 0.9536\n",
      "Epoch 22/25\n",
      "190/190 [==============================] - 2s 8ms/step - loss: 6.1390 - accuracy: 0.0580 - MPCE: 0.9483 - val_loss: 6.1666 - val_accuracy: 0.0554 - val_MPCE: 0.9536\n",
      "Epoch 23/25\n",
      "190/190 [==============================] - 3s 13ms/step - loss: 6.1979 - accuracy: 0.0547 - MPCE: 0.9541 - val_loss: 6.2248 - val_accuracy: 0.0554 - val_MPCE: 0.9536\n",
      "Epoch 24/25\n",
      "190/190 [==============================] - 2s 9ms/step - loss: 6.2552 - accuracy: 0.0561 - MPCE: 0.9543 - val_loss: 6.2819 - val_accuracy: 0.0554 - val_MPCE: 0.9536\n",
      "Epoch 25/25\n",
      "190/190 [==============================] - 2s 10ms/step - loss: 6.3120 - accuracy: 0.0590 - MPCE: 0.9500 - val_loss: 6.3379 - val_accuracy: 0.0554 - val_MPCE: 0.9536\n"
     ]
    }
   ],
   "source": [
    "mlp_model.compile(optimizer=Adadelta(learning_rate=0.1, rho=0.95, epsilon=1e-08), loss='categorical_crossentropy', metrics=['accuracy', MPCE()])\n",
    "history = mlp_model.fit(train_ds, validation_data=val_ds, epochs=25)"
   ]
  },
  {
   "cell_type": "code",
   "execution_count": 20,
   "id": "PaBECcmecwU4",
   "metadata": {
    "id": "PaBECcmecwU4"
   },
   "outputs": [],
   "source": [
    "mlp_model.save('../models/mlp_model/mlp_model.h5')\n",
    "with open('../models/mlp_model/train_history.pkl', 'wb') as f:\n",
    "    pickle.dump(history.history, f)"
   ]
  },
  {
   "cell_type": "code",
   "execution_count": 10,
   "id": "x3BeSmFKei6q",
   "metadata": {
    "id": "x3BeSmFKei6q"
   },
   "outputs": [],
   "source": [
    "# Load the model\n",
    "custom_objects = {'MPCE': MPCE}\n",
    "mlp_model = load_model('../models/mlp_model/mlp_model.h5', custom_objects=custom_objects)\n",
    "\n",
    "# Load the training history\n",
    "with open('../models/mlp_model/train_history.pkl', 'rb') as f:\n",
    "    history = pickle.load(f)"
   ]
  },
  {
   "cell_type": "code",
   "execution_count": 23,
   "id": "ZX9coDfygkuc",
   "metadata": {
    "colab": {
     "base_uri": "https://localhost:8080/"
    },
    "id": "ZX9coDfygkuc",
    "outputId": "c8d7adcb-1f32-40ec-bc47-d75635397c53"
   },
   "outputs": [
    {
     "name": "stdout",
     "output_type": "stream",
     "text": [
      "31/31 [==============================] - 0s 6ms/step\n",
      "Manual Mean Per-Class Error: 0.9677419\n",
      "Keras Mean Per-Class Error: 0.953566312789917\n"
     ]
    }
   ],
   "source": [
    "# Get the predictions on the validation dataset\n",
    "mlp_predictions = mlp_model.predict(val_data_tf)\n",
    "\n",
    "# Calculate the MPCE custom loss metric that the paper uses on the validation data\n",
    "mlp_MPCE = MPCE()\n",
    "mlp_MPCE.update_state(val_labels_tf, mlp_predictions)\n",
    "print('Manual Mean Per-Class Error:', mlp_MPCE.result().numpy())\n",
    "print('Keras Mean Per-Class Error:', history['val_MPCE'][-1])"
   ]
  },
  {
   "cell_type": "code",
   "execution_count": 26,
   "id": "8J01NjdyiOHG",
   "metadata": {
    "colab": {
     "base_uri": "https://localhost:8080/"
    },
    "id": "8J01NjdyiOHG",
    "outputId": "be690e4f-10ce-44bb-c138-026d1028944b"
   },
   "outputs": [
    {
     "name": "stdout",
     "output_type": "stream",
     "text": [
      "62/62 [==============================] - 1s 8ms/step - loss: 6.3379 - accuracy: 0.0554 - MPCE: 0.9536\n",
      "Validation Loss: 6.3379292488098145\n",
      "Validation Accuracy: 0.055443547666072845\n",
      "Validation MPCE: 0.953566312789917\n"
     ]
    }
   ],
   "source": [
    "mlp_results = mlp_model.evaluate(val_ds, batch_size=128)\n",
    "print(\"Validation Loss: {}\\nValidation Accuracy: {}\\nValidation MPCE: {}\".format(*mlp_results))"
   ]
  },
  {
   "cell_type": "markdown",
   "id": "fjfmT7jAisKW",
   "metadata": {
    "id": "fjfmT7jAisKW"
   },
   "source": [
    "## **Fully Convolutional Neural Network**"
   ]
  },
  {
   "cell_type": "markdown",
   "id": "n0HN8zorizjk",
   "metadata": {
    "id": "n0HN8zorizjk"
   },
   "source": [
    "FCNs can be trained pixel-to-pixel for semantic segmentation annotation tasks, in line with the paper. The main idea behind FCNs is that convolutional layers are followed by batch normalisation, then by the ReLU activation function. The kernels used in the convolutions are 1D and they are non-striding. The penultimate step in the network is global max pooling; this requires 0 new weight parameters. This is the step which, more than any other, is the source of the network's name, as it is normal to first flatten the condensed image and then apply a fully connected layer. The final step is a classification layer.\n",
    "\n"
   ]
  },
  {
   "cell_type": "code",
   "execution_count": 14,
   "id": "wVtmbG8lbw5U",
   "metadata": {
    "id": "wVtmbG8lbw5U"
   },
   "outputs": [],
   "source": [
    "def fcn_model(shape):\n",
    "    input_layer = Input(shape=shape)\n",
    "\n",
    "    # The input time series is multi-dimensional so that the matrix is N x T x D. The Con1D layers preserve the time dimension).\n",
    "    layer = Conv1D(filters=128, kernel_size=8, padding=\"same\")(input_layer)\n",
    "    layer = BatchNormalization()(layer)\n",
    "    layer = ReLU()(layer)\n",
    "\n",
    "    layer = Conv1D(filters=256, kernel_size=5, padding=\"same\")(layer)\n",
    "    layer = BatchNormalization()(layer)\n",
    "    layer = ReLU()(layer)\n",
    "\n",
    "    layer = Conv1D(filters=128, kernel_size=3, padding=\"same\")(layer)\n",
    "    layer = BatchNormalization()(layer)\n",
    "    layer = ReLU()(layer)\n",
    "\n",
    "    layer = GlobalAveragePooling1D()(layer)\n",
    "    output_layer = Dense(C, activation=\"softmax\")(layer)\n",
    "\n",
    "    return Model(inputs=input_layer, outputs=output_layer)"
   ]
  },
  {
   "cell_type": "code",
   "execution_count": 15,
   "id": "Jmi7g3L9iy9R",
   "metadata": {
    "colab": {
     "base_uri": "https://localhost:8080/"
    },
    "id": "Jmi7g3L9iy9R",
    "outputId": "c352eb66-1d33-4044-ff52-de8d1f2d5d71"
   },
   "outputs": [
    {
     "name": "stdout",
     "output_type": "stream",
     "text": [
      "Model: \"model_1\"\n",
      "_________________________________________________________________\n",
      " Layer (type)                Output Shape              Param #   \n",
      "=================================================================\n",
      " input_2 (InputLayer)        [(None, 500, 6)]          0         \n",
      "                                                                 \n",
      " conv1d (Conv1D)             (None, 500, 128)          6272      \n",
      "                                                                 \n",
      " batch_normalization (Batch  (None, 500, 128)          512       \n",
      " Normalization)                                                  \n",
      "                                                                 \n",
      " re_lu_3 (ReLU)              (None, 500, 128)          0         \n",
      "                                                                 \n",
      " conv1d_1 (Conv1D)           (None, 500, 256)          164096    \n",
      "                                                                 \n",
      " batch_normalization_1 (Bat  (None, 500, 256)          1024      \n",
      " chNormalization)                                                \n",
      "                                                                 \n",
      " re_lu_4 (ReLU)              (None, 500, 256)          0         \n",
      "                                                                 \n",
      " conv1d_2 (Conv1D)           (None, 500, 128)          98432     \n",
      "                                                                 \n",
      " batch_normalization_2 (Bat  (None, 500, 128)          512       \n",
      " chNormalization)                                                \n",
      "                                                                 \n",
      " re_lu_5 (ReLU)              (None, 500, 128)          0         \n",
      "                                                                 \n",
      " global_average_pooling1d (  (None, 128)               0         \n",
      " GlobalAveragePooling1D)                                         \n",
      "                                                                 \n",
      " dense_5 (Dense)             (None, 31)                3999      \n",
      "                                                                 \n",
      "=================================================================\n",
      "Total params: 274847 (1.05 MB)\n",
      "Trainable params: 273823 (1.04 MB)\n",
      "Non-trainable params: 1024 (4.00 KB)\n",
      "_________________________________________________________________\n"
     ]
    }
   ],
   "source": [
    "fcn_model = fcn_model(shape = (sz, dim))\n",
    "fcn_model.summary()"
   ]
  },
  {
   "cell_type": "code",
   "execution_count": 16,
   "id": "mEiIvRxyiy_1",
   "metadata": {
    "colab": {
     "base_uri": "https://localhost:8080/"
    },
    "id": "mEiIvRxyiy_1",
    "outputId": "32a6acba-9321-417c-c90c-b9c38b9a06fa"
   },
   "outputs": [
    {
     "name": "stdout",
     "output_type": "stream",
     "text": [
      "Epoch 1/25\n",
      "190/190 [==============================] - 9s 16ms/step - loss: 2.1304 - accuracy: 0.3353 - MPCE: 0.6647 - val_loss: 9.6761 - val_accuracy: 0.2621 - val_MPCE: 0.7635\n",
      "Epoch 2/25\n",
      "190/190 [==============================] - 3s 18ms/step - loss: 1.2509 - accuracy: 0.5394 - MPCE: 0.4585 - val_loss: 2.8382 - val_accuracy: 0.4577 - val_MPCE: 0.5508\n",
      "Epoch 3/25\n",
      "190/190 [==============================] - 3s 16ms/step - loss: 1.0547 - accuracy: 0.6123 - MPCE: 0.3850 - val_loss: 3.5799 - val_accuracy: 0.4335 - val_MPCE: 0.5845\n",
      "Epoch 4/25\n",
      "190/190 [==============================] - 3s 14ms/step - loss: 0.9029 - accuracy: 0.6591 - MPCE: 0.3380 - val_loss: 2.1485 - val_accuracy: 0.5413 - val_MPCE: 0.4655\n",
      "Epoch 5/25\n",
      "190/190 [==============================] - 4s 19ms/step - loss: 0.8373 - accuracy: 0.6812 - MPCE: 0.3166 - val_loss: 2.6489 - val_accuracy: 0.5413 - val_MPCE: 0.4675\n",
      "Epoch 6/25\n",
      "190/190 [==============================] - 3s 14ms/step - loss: 0.7827 - accuracy: 0.7201 - MPCE: 0.2772 - val_loss: 1.5003 - val_accuracy: 0.5927 - val_MPCE: 0.4145\n",
      "Epoch 7/25\n",
      "190/190 [==============================] - 3s 13ms/step - loss: 0.6629 - accuracy: 0.7577 - MPCE: 0.2348 - val_loss: 1.5705 - val_accuracy: 0.5857 - val_MPCE: 0.4247\n",
      "Epoch 8/25\n",
      "190/190 [==============================] - 3s 14ms/step - loss: 0.5887 - accuracy: 0.7781 - MPCE: 0.2151 - val_loss: 1.1303 - val_accuracy: 0.6431 - val_MPCE: 0.3664\n",
      "Epoch 9/25\n",
      "190/190 [==============================] - 4s 19ms/step - loss: 0.6038 - accuracy: 0.7923 - MPCE: 0.2049 - val_loss: 1.8976 - val_accuracy: 0.6411 - val_MPCE: 0.3667\n",
      "Epoch 10/25\n",
      "190/190 [==============================] - 2s 13ms/step - loss: 0.5361 - accuracy: 0.8068 - MPCE: 0.1877 - val_loss: 1.8947 - val_accuracy: 0.6109 - val_MPCE: 0.3982\n",
      "Epoch 11/25\n",
      "190/190 [==============================] - 2s 13ms/step - loss: 0.5391 - accuracy: 0.8131 - MPCE: 0.1841 - val_loss: 1.8753 - val_accuracy: 0.6421 - val_MPCE: 0.3643\n",
      "Epoch 12/25\n",
      "190/190 [==============================] - 2s 13ms/step - loss: 0.5031 - accuracy: 0.8183 - MPCE: 0.1836 - val_loss: 1.4388 - val_accuracy: 0.6512 - val_MPCE: 0.3551\n",
      "Epoch 13/25\n",
      "190/190 [==============================] - 3s 14ms/step - loss: 0.4920 - accuracy: 0.8239 - MPCE: 0.1712 - val_loss: 1.4985 - val_accuracy: 0.7147 - val_MPCE: 0.2900\n",
      "Epoch 14/25\n",
      "190/190 [==============================] - 3s 17ms/step - loss: 0.4897 - accuracy: 0.8305 - MPCE: 0.1649 - val_loss: 2.0638 - val_accuracy: 0.6381 - val_MPCE: 0.3663\n",
      "Epoch 15/25\n",
      "190/190 [==============================] - 3s 13ms/step - loss: 0.3438 - accuracy: 0.8780 - MPCE: 0.1197 - val_loss: 2.4398 - val_accuracy: 0.6371 - val_MPCE: 0.3735\n",
      "Epoch 16/25\n",
      "190/190 [==============================] - 3s 14ms/step - loss: 0.3927 - accuracy: 0.8665 - MPCE: 0.1334 - val_loss: 1.5440 - val_accuracy: 0.6593 - val_MPCE: 0.3495\n",
      "Epoch 17/25\n",
      "190/190 [==============================] - 4s 19ms/step - loss: 0.4198 - accuracy: 0.8625 - MPCE: 0.1268 - val_loss: 2.0411 - val_accuracy: 0.6542 - val_MPCE: 0.3522\n",
      "Epoch 18/25\n",
      "190/190 [==============================] - 3s 14ms/step - loss: 0.4117 - accuracy: 0.8675 - MPCE: 0.1315 - val_loss: 2.1812 - val_accuracy: 0.6673 - val_MPCE: 0.3384\n",
      "Epoch 19/25\n",
      "190/190 [==============================] - 3s 15ms/step - loss: 0.3301 - accuracy: 0.8839 - MPCE: 0.1156 - val_loss: 1.5537 - val_accuracy: 0.6815 - val_MPCE: 0.3270\n",
      "Epoch 20/25\n",
      "190/190 [==============================] - 2s 13ms/step - loss: 0.3445 - accuracy: 0.8783 - MPCE: 0.1192 - val_loss: 2.4083 - val_accuracy: 0.5998 - val_MPCE: 0.4115\n",
      "Epoch 21/25\n",
      "190/190 [==============================] - 3s 16ms/step - loss: 0.2987 - accuracy: 0.8909 - MPCE: 0.1058 - val_loss: 1.9069 - val_accuracy: 0.6603 - val_MPCE: 0.3488\n",
      "Epoch 22/25\n",
      "190/190 [==============================] - 3s 13ms/step - loss: 0.3639 - accuracy: 0.8747 - MPCE: 0.1223 - val_loss: 2.1440 - val_accuracy: 0.6431 - val_MPCE: 0.3563\n",
      "Epoch 23/25\n",
      "190/190 [==============================] - 3s 15ms/step - loss: 0.3374 - accuracy: 0.8879 - MPCE: 0.1095 - val_loss: 2.3702 - val_accuracy: 0.6250 - val_MPCE: 0.3769\n",
      "Epoch 24/25\n",
      "190/190 [==============================] - 3s 17ms/step - loss: 0.3305 - accuracy: 0.8856 - MPCE: 0.1104 - val_loss: 2.3042 - val_accuracy: 0.6925 - val_MPCE: 0.3091\n",
      "Epoch 25/25\n",
      "190/190 [==============================] - 3s 15ms/step - loss: 0.3010 - accuracy: 0.9014 - MPCE: 0.0947 - val_loss: 2.1252 - val_accuracy: 0.6704 - val_MPCE: 0.3370\n"
     ]
    }
   ],
   "source": [
    "fcn_model.compile(optimizer=Adam(learning_rate=10e-2, beta_1=0.95, beta_2 = 0.99, epsilon=1e-7), loss='categorical_crossentropy', metrics=['accuracy', MPCE()])\n",
    "history2 = fcn_model.fit(train_ds, validation_data=val_ds, epochs=25)"
   ]
  },
  {
   "cell_type": "code",
   "execution_count": 21,
   "id": "VQ3C0-UUdM79",
   "metadata": {
    "colab": {
     "base_uri": "https://localhost:8080/"
    },
    "id": "VQ3C0-UUdM79",
    "outputId": "e9e061fc-3f64-4837-e6cf-69aa28503a00"
   },
   "outputs": [
    {
     "name": "stderr",
     "output_type": "stream",
     "text": [
      "/usr/local/lib/python3.10/dist-packages/keras/src/engine/training.py:3103: UserWarning: You are saving your model as an HDF5 file via `model.save()`. This file format is considered legacy. We recommend using instead the native Keras format, e.g. `model.save('my_model.keras')`.\n",
      "  saving_api.save_model(\n"
     ]
    }
   ],
   "source": [
    "fcn_model.save('../models/fcn_model/fcn_model.h5')\n",
    "with open('../models/fcn_model/train_history.pkl', 'wb') as f:\n",
    "    pickle.dump(history2.history, f)"
   ]
  },
  {
   "cell_type": "code",
   "execution_count": 11,
   "id": "Rub9wH0yfkmT",
   "metadata": {
    "id": "Rub9wH0yfkmT"
   },
   "outputs": [],
   "source": [
    "# Load the model\n",
    "custom_objects = {'MPCE': MPCE}\n",
    "fcn_model = load_model('../models/fcn_model/fcn_model.h5', custom_objects=custom_objects)\n",
    "\n",
    "# Load the training history\n",
    "with open('../models/fcn_model/train_history.pkl', 'rb') as f:\n",
    "    history2 = pickle.load(f)"
   ]
  },
  {
   "cell_type": "code",
   "execution_count": 28,
   "id": "HknYPwMbi3qg",
   "metadata": {
    "colab": {
     "base_uri": "https://localhost:8080/"
    },
    "id": "HknYPwMbi3qg",
    "outputId": "9783c57a-192c-48d1-842b-7da9d8a6d76b"
   },
   "outputs": [
    {
     "name": "stdout",
     "output_type": "stream",
     "text": [
      "31/31 [==============================] - 8s 255ms/step\n",
      "Manual Mean Per-Class Error: 0.32617262\n",
      "Keras Mean Per-Class Error: 0.3369916081428528\n"
     ]
    }
   ],
   "source": [
    "# Get the predictions on the validation dataset\n",
    "fcn_predictions = fcn_model.predict(val_data_tf)\n",
    "\n",
    "# Calculate the MPCE custom loss metric that the paper uses on the validation data\n",
    "fcn_MPCE = MPCE()\n",
    "fcn_MPCE.update_state(val_labels_tf, fcn_predictions)\n",
    "print('Manual Mean Per-Class Error:', fcn_MPCE.result().numpy())\n",
    "print('Keras Mean Per-Class Error:', history2['val_MPCE'][-1])"
   ]
  },
  {
   "cell_type": "code",
   "execution_count": 29,
   "id": "H6qObZ0Yi4O-",
   "metadata": {
    "colab": {
     "base_uri": "https://localhost:8080/"
    },
    "id": "H6qObZ0Yi4O-",
    "outputId": "92b9f71a-9e05-4b07-f502-34ad4053a32e"
   },
   "outputs": [
    {
     "name": "stdout",
     "output_type": "stream",
     "text": [
      "62/62 [==============================] - 7s 106ms/step - loss: 2.1252 - accuracy: 0.6704 - MPCE: 0.3370\n",
      "Validation Loss: 2.125164747238159\n",
      "Validation Accuracy: 0.6703628897666931\n",
      "Validation MPCE: 0.3369916081428528\n"
     ]
    }
   ],
   "source": [
    "fcn_results = fcn_model.evaluate(val_ds, batch_size=128)\n",
    "print(\"Validation Loss: {}\\nValidation Accuracy: {}\\nValidation MPCE: {}\".format(*fcn_results))"
   ]
  },
  {
   "cell_type": "code",
   "execution_count": 37,
   "id": "oCkH97Zpf6Fy",
   "metadata": {
    "colab": {
     "base_uri": "https://localhost:8080/"
    },
    "id": "oCkH97Zpf6Fy",
    "outputId": "f987575d-22b8-416d-fcc5-33250ada52b2"
   },
   "outputs": [
    {
     "name": "stdout",
     "output_type": "stream",
     "text": [
      "31/31 [==============================] - 7s 227ms/step\n",
      "Manual Accuracy: 0.6703629032258065\n"
     ]
    }
   ],
   "source": [
    "# Manually calculate the predicted class distribution\n",
    "fcn_val_predictions = fcn_model.predict(val_data_tf)\n",
    "\n",
    "# Find the class with the highest prediction value\n",
    "fcn_val_predictions_class = tf.argmax(fcn_val_predictions, axis = 1)\n",
    "fcn_val_labels_class = tf.argmax(val_labels_tf, axis = 1)\n",
    "\n",
    "matches = tf.equal(fcn_val_predictions_class, fcn_val_labels_class)\n",
    "manual_accuracy = tf.reduce_sum(tf.cast(matches, tf.int32))/len(fcn_val_labels_class)\n",
    "print(\"Manual Accuracy: {}\".format(manual_accuracy.numpy()))"
   ]
  },
  {
   "cell_type": "markdown",
   "id": "us0QXjjLf0kj",
   "metadata": {
    "id": "us0QXjjLf0kj"
   },
   "source": [
    "## **ResNet**"
   ]
  },
  {
   "cell_type": "markdown",
   "id": "dEcAjQXk03mx",
   "metadata": {
    "id": "dEcAjQXk03mx"
   },
   "source": [
    "The idea behind ResNets is to divide a convolutional network into blocks. Within each block, there is a *shortcut* connection that enables the gradient to flow directly from the block start layer.\n",
    "\n",
    "A single block is defined from the entire network given in the Fully Connected Network model introduced earlier, and the ResNet stacks 3 such residual blocks."
   ]
  },
  {
   "cell_type": "code",
   "execution_count": 9,
   "id": "g1TgS8i3aRZd",
   "metadata": {
    "id": "g1TgS8i3aRZd"
   },
   "outputs": [],
   "source": [
    "class ResidualBlock(Layer):\n",
    "\n",
    "    def __init__(self, units, **kwargs):\n",
    "        super().__init__(**kwargs)\n",
    "        self.units = units\n",
    "\n",
    "    def build(self, input_shape): # Tensorflow calls this method automatically when the object is defined\n",
    "        self.batch_norm_1 = BatchNormalization()\n",
    "        self.batch_norm_2 = BatchNormalization()\n",
    "        self.batch_norm_3 = BatchNormalization()\n",
    "\n",
    "        self.relu_1 = ReLU()\n",
    "        self.relu_2 = ReLU()\n",
    "        self.relu_3 = ReLU()\n",
    "\n",
    "        self.conv_1 = Conv1D(self.units, kernel_size=8, padding=\"same\")\n",
    "        self.conv_2 = Conv1D(self.units, kernel_size=5, padding=\"same\")\n",
    "        self.conv_3 = Conv1D(input_shape[-1], kernel_size=3, padding=\"same\") # Last dimension of the input shape must match with last dimension of output shape\n",
    "\n",
    "    def call(self, input):\n",
    "        x = self.conv_1(input)\n",
    "        x = self.batch_norm_1(x)\n",
    "        x = self.relu_1(x)\n",
    "\n",
    "        x = self.conv_2(x)\n",
    "        x = self.batch_norm_2(x)\n",
    "        x = self.relu_2(x)\n",
    "\n",
    "        x = self.conv_3(x)\n",
    "        x = self.batch_norm_3(x)\n",
    "        x = self.relu_3(x)\n",
    "\n",
    "        output = x + input\n",
    "        return output"
   ]
  },
  {
   "cell_type": "code",
   "execution_count": 11,
   "id": "_Hv0rzQ9E3XU",
   "metadata": {
    "id": "_Hv0rzQ9E3XU"
   },
   "outputs": [],
   "source": [
    "def resnet_model(shape):\n",
    "    input_layer = Input(shape=shape)\n",
    "\n",
    "    # The input time series is multi-dimensional so that the matrix is N x T x D. The Con1D layers preserve the time dimension).\n",
    "    layer = ResidualBlock(64, name='block1')(input_layer)\n",
    "    layer = ResidualBlock(128, name='block2')(layer)\n",
    "    layer = ResidualBlock(128, name='block3')(layer)\n",
    "\n",
    "    layer = GlobalMaxPooling1D()(layer)\n",
    "    output_layer = Dense(C, activation=\"softmax\")(layer)\n",
    "\n",
    "    return Model(inputs=input_layer, outputs=output_layer)"
   ]
  },
  {
   "cell_type": "code",
   "execution_count": 12,
   "id": "9VZjui3kE3gg",
   "metadata": {
    "colab": {
     "base_uri": "https://localhost:8080/"
    },
    "id": "9VZjui3kE3gg",
    "outputId": "8f6f418f-b45d-446c-8c10-beafac753e58"
   },
   "outputs": [
    {
     "name": "stdout",
     "output_type": "stream",
     "text": [
      "Model: \"model\"\n",
      "_________________________________________________________________\n",
      " Layer (type)                Output Shape              Param #   \n",
      "=================================================================\n",
      " input_1 (InputLayer)        [(None, 500, 6)]          0         \n",
      "                                                                 \n",
      " block1 (ResidualBlock)      (None, 500, 6)            25374     \n",
      "                                                                 \n",
      " block2 (ResidualBlock)      (None, 500, 6)            91678     \n",
      "                                                                 \n",
      " block3 (ResidualBlock)      (None, 500, 6)            91678     \n",
      "                                                                 \n",
      " global_max_pooling1d (Glob  (None, 6)                 0         \n",
      " alMaxPooling1D)                                                 \n",
      "                                                                 \n",
      " dense (Dense)               (None, 31)                217       \n",
      "                                                                 \n",
      "=================================================================\n",
      "Total params: 208947 (816.20 KB)\n",
      "Trainable params: 207631 (811.06 KB)\n",
      "Non-trainable params: 1316 (5.14 KB)\n",
      "_________________________________________________________________\n"
     ]
    }
   ],
   "source": [
    "resnet_model = resnet_model(shape = (sz, dim))\n",
    "resnet_model.summary()"
   ]
  },
  {
   "cell_type": "code",
   "execution_count": 13,
   "id": "DQfF-dBFoRKa",
   "metadata": {
    "id": "DQfF-dBFoRKa"
   },
   "outputs": [],
   "source": [
    "# We use early stopping as the ResNet is a high parameter network, so requires many epochs to train.\n",
    "earlystopping = tf.keras.callbacks.EarlyStopping(monitor='val_accuracy', patience=10)"
   ]
  },
  {
   "cell_type": "code",
   "execution_count": 14,
   "id": "AL_NbKQrE3mx",
   "metadata": {
    "colab": {
     "base_uri": "https://localhost:8080/"
    },
    "id": "AL_NbKQrE3mx",
    "outputId": "19b70b81-69da-49b2-ccd5-b58723444042"
   },
   "outputs": [
    {
     "name": "stdout",
     "output_type": "stream",
     "text": [
      "Epoch 1/50\n",
      "190/190 [==============================] - 15s 22ms/step - loss: 2.4710 - accuracy: 0.2984 - MPCE: 0.7055 - val_loss: 1.8043 - val_accuracy: 0.3488 - val_MPCE: 0.6437\n",
      "Epoch 2/50\n",
      "190/190 [==============================] - 3s 16ms/step - loss: 1.7785 - accuracy: 0.4191 - MPCE: 0.5810 - val_loss: 1.7930 - val_accuracy: 0.3216 - val_MPCE: 0.6618\n",
      "Epoch 3/50\n",
      "190/190 [==============================] - 3s 15ms/step - loss: 1.6432 - accuracy: 0.4543 - MPCE: 0.5428 - val_loss: 1.8941 - val_accuracy: 0.4002 - val_MPCE: 0.5858\n",
      "Epoch 4/50\n",
      "190/190 [==============================] - 3s 15ms/step - loss: 1.6556 - accuracy: 0.4613 - MPCE: 0.5368 - val_loss: 1.6866 - val_accuracy: 0.4425 - val_MPCE: 0.5387\n",
      "Epoch 5/50\n",
      "190/190 [==============================] - 3s 15ms/step - loss: 1.6247 - accuracy: 0.4764 - MPCE: 0.5254 - val_loss: 1.6020 - val_accuracy: 0.4183 - val_MPCE: 0.5724\n",
      "Epoch 6/50\n",
      "190/190 [==============================] - 3s 16ms/step - loss: 1.5904 - accuracy: 0.4880 - MPCE: 0.5091 - val_loss: 1.6692 - val_accuracy: 0.4425 - val_MPCE: 0.5583\n",
      "Epoch 7/50\n",
      "190/190 [==============================] - 3s 15ms/step - loss: 1.5652 - accuracy: 0.4955 - MPCE: 0.5007 - val_loss: 1.6871 - val_accuracy: 0.4073 - val_MPCE: 0.5841\n",
      "Epoch 8/50\n",
      "190/190 [==============================] - 3s 15ms/step - loss: 1.5496 - accuracy: 0.4962 - MPCE: 0.5091 - val_loss: 1.6990 - val_accuracy: 0.4083 - val_MPCE: 0.5776\n",
      "Epoch 9/50\n",
      "190/190 [==============================] - 3s 15ms/step - loss: 1.5682 - accuracy: 0.4975 - MPCE: 0.5007 - val_loss: 1.8513 - val_accuracy: 0.3730 - val_MPCE: 0.6101\n",
      "Epoch 10/50\n",
      "190/190 [==============================] - 3s 15ms/step - loss: 1.5765 - accuracy: 0.4903 - MPCE: 0.5103 - val_loss: 1.7699 - val_accuracy: 0.4163 - val_MPCE: 0.5726\n",
      "Epoch 11/50\n",
      "190/190 [==============================] - 3s 15ms/step - loss: 1.5329 - accuracy: 0.4896 - MPCE: 0.5130 - val_loss: 1.7565 - val_accuracy: 0.3730 - val_MPCE: 0.6178\n",
      "Epoch 12/50\n",
      "190/190 [==============================] - 3s 15ms/step - loss: 1.5428 - accuracy: 0.4998 - MPCE: 0.4993 - val_loss: 1.9969 - val_accuracy: 0.3720 - val_MPCE: 0.6140\n",
      "Epoch 13/50\n",
      "190/190 [==============================] - 3s 15ms/step - loss: 1.5336 - accuracy: 0.5008 - MPCE: 0.5061 - val_loss: 1.9749 - val_accuracy: 0.4093 - val_MPCE: 0.5834\n",
      "Epoch 14/50\n",
      "190/190 [==============================] - 3s 15ms/step - loss: 1.5558 - accuracy: 0.4988 - MPCE: 0.4976 - val_loss: 2.0326 - val_accuracy: 0.3982 - val_MPCE: 0.5961\n"
     ]
    }
   ],
   "source": [
    "resnet_model.compile(optimizer=Adam(learning_rate=10e-2, beta_1=0.95, beta_2 = 0.99, epsilon=1e-7), loss='categorical_crossentropy', metrics=['accuracy', MPCE()])\n",
    "history3 = resnet_model.fit(train_ds, validation_data=val_ds, epochs=50, callbacks=[earlystopping])"
   ]
  },
  {
   "cell_type": "code",
   "execution_count": 15,
   "id": "x5FHJaX2EfBi",
   "metadata": {
    "colab": {
     "base_uri": "https://localhost:8080/"
    },
    "id": "x5FHJaX2EfBi",
    "outputId": "16491c80-838d-499b-91e1-f01d1122cf5c"
   },
   "outputs": [
    {
     "name": "stderr",
     "output_type": "stream",
     "text": [
      "/usr/local/lib/python3.10/dist-packages/keras/src/engine/training.py:3103: UserWarning: You are saving your model as an HDF5 file via `model.save()`. This file format is considered legacy. We recommend using instead the native Keras format, e.g. `model.save('my_model.keras')`.\n",
      "  saving_api.save_model(\n"
     ]
    }
   ],
   "source": [
    "resnet_model.save('../models/resnet_model/resnet_model.h5')\n",
    "with open('../models/resnet_model/train_history.pkl', 'wb') as f:\n",
    "    pickle.dump(history3.history, f)"
   ]
  },
  {
   "cell_type": "code",
   "execution_count": 12,
   "id": "5RpFEuE6EfGH",
   "metadata": {
    "id": "5RpFEuE6EfGH"
   },
   "outputs": [],
   "source": [
    "# Load the model\n",
    "custom_objects = {'MPCE': MPCE, 'ResidualBlock': ResidualBlock}\n",
    "resnet_model = load_model('../models/resnet_model/resnet_model.h5', custom_objects=custom_objects)\n",
    "\n",
    "# Load the training history\n",
    "with open('../models/resnet_model/train_history.pkl', 'rb') as f:\n",
    "    history3 = pickle.load(f)"
   ]
  },
  {
   "cell_type": "code",
   "execution_count": 18,
   "id": "D_T89rdrGncu",
   "metadata": {
    "colab": {
     "base_uri": "https://localhost:8080/"
    },
    "id": "D_T89rdrGncu",
    "outputId": "e979af1e-b367-4618-a56a-eed7f01588a3"
   },
   "outputs": [
    {
     "name": "stdout",
     "output_type": "stream",
     "text": [
      "62/62 [==============================] - 1s 5ms/step - loss: 2.0326 - accuracy: 0.3982 - MPCE: 0.5961\n",
      "Validation Loss: 2.0325920581817627\n",
      "Validation Accuracy: 0.39818549156188965\n",
      "Validation MPCE: 0.5960676670074463\n"
     ]
    }
   ],
   "source": [
    "resnet_results = resnet_model.evaluate(val_ds, batch_size=128)\n",
    "print(\"Validation Loss: {}\\nValidation Accuracy: {}\\nValidation MPCE: {}\".format(*resnet_results))"
   ]
  },
  {
   "cell_type": "code",
   "execution_count": 19,
   "id": "f13RfGDbGnle",
   "metadata": {
    "colab": {
     "base_uri": "https://localhost:8080/"
    },
    "id": "f13RfGDbGnle",
    "outputId": "3433ab63-f500-4b40-e664-e2a9e55eaa8b"
   },
   "outputs": [
    {
     "name": "stdout",
     "output_type": "stream",
     "text": [
      "31/31 [==============================] - 1s 2ms/step\n",
      "Manual Accuracy: 0.39818548387096775\n"
     ]
    }
   ],
   "source": [
    "# Manually calculate the predicted class distribution\n",
    "resnet_val_predictions = resnet_model.predict(val_data_tf)\n",
    "\n",
    "# Find the class with the highest prediction value\n",
    "resnet_val_predictions_class = tf.argmax(resnet_val_predictions, axis = 1)\n",
    "resnet_val_labels_class = tf.argmax(val_labels_tf, axis = 1)\n",
    "\n",
    "matches = tf.equal(resnet_val_predictions_class, resnet_val_labels_class)\n",
    "manual_accuracy = tf.reduce_sum(tf.cast(matches, tf.int32))/len(resnet_val_labels_class)\n",
    "print(\"Manual Accuracy: {}\".format(manual_accuracy.numpy()))"
   ]
  },
  {
   "cell_type": "markdown",
   "id": "4mZs1zSYaSE4",
   "metadata": {
    "id": "4mZs1zSYaSE4"
   },
   "source": [
    "## **Plot epochs vs MPCE for each model**"
   ]
  },
  {
   "cell_type": "markdown",
   "id": "zBJV80RFgK0K",
   "metadata": {
    "id": "zBJV80RFgK0K"
   },
   "source": [
    "We conclude our analysis of the methods in this paper with plots of the MPCE for each model."
   ]
  },
  {
   "cell_type": "code",
   "execution_count": 34,
   "id": "Pj_xrdtrgKMM",
   "metadata": {
    "colab": {
     "base_uri": "https://localhost:8080/",
     "height": 371
    },
    "id": "Pj_xrdtrgKMM",
    "outputId": "daaed6b0-a418-4623-df9f-5f3fa4cf55db"
   },
   "outputs": [
    {
     "data": {
      "image/png": "[encoded data removed]",
      "text/plain": [
       "<Figure size 2500x1000 with 3 Axes>"
      ]
     },
     "metadata": {},
     "output_type": "display_data"
    }
   ],
   "source": [
    "n_rows, n_cols = 1, 3\n",
    "fig, axes = plt.subplots(n_rows, n_cols, sharex=True, figsize=(25,10))\n",
    "fig.subplots_adjust(hspace=0.0, wspace=0.3)\n",
    "\n",
    "axes[0].plot(history['MPCE'], color = scale_rgb(COLOURS.get(\"accent-blue-dark-3\")), linewidth=5, markersize=50, label='Train MPCE')\n",
    "axes[0].plot(history['val_MPCE'], color = scale_rgb(COLOURS.get(\"accent-orange\")), linewidth=5, markersize=50, label='Val MPCE')\n",
    "axes[0].set_title(\"MLP\", fontsize = 24)\n",
    "axes[0].set_ylim([0, 1])\n",
    "\n",
    "axes[1].plot(history2['MPCE'], color = scale_rgb(COLOURS.get(\"accent-blue-dark-3\")), linewidth=5, markersize=50, label='Train MPCE')\n",
    "axes[1].plot(history2['val_MPCE'], color = scale_rgb(COLOURS.get(\"accent-orange\")), linewidth=5, markersize=50, label='Val MPCE')\n",
    "axes[1].set_title(\"FCN\", fontsize = 24)\n",
    "axes[1].set_ylim([0, 1])\n",
    "\n",
    "axes[2].plot(history3['MPCE'], color = scale_rgb(COLOURS.get(\"accent-blue-dark-3\")), linewidth=5, markersize=50, label='Train MPCE')\n",
    "axes[2].plot(history3['val_MPCE'], color = scale_rgb(COLOURS.get(\"accent-orange\")), linewidth=5, markersize=50, label='Val MPCE')\n",
    "axes[2].set_title(\"ResNet\", fontsize = 24)\n",
    "axes[2].set_ylim([0, 1])\n",
    "\n",
    "handles, labels = axes[0].get_legend_handles_labels()\n",
    "fig.legend(handles, labels, loc='lower right', bbox_to_anchor=(0.99, 0.05), fontsize=14)\n",
    "\n",
    "plt.tight_layout()\n",
    "plt.show()"
   ]
  },
  {
   "cell_type": "markdown",
   "id": "fP8l08dJO8TR",
   "metadata": {
    "id": "fP8l08dJO8TR"
   },
   "source": [
    "The FCN network appears to have the strongest potential for learning the true underlying function. This may be because of the weight sharing inherent in the convolutional filters. This is also shared with the ResNet model, but the latter is much larger and more prone to overfitting."
   ]
  },
  {
   "cell_type": "markdown",
   "id": "8332df49",
   "metadata": {
    "id": "8332df49"
   },
   "source": [
    "## **References**"
   ]
  },
  {
   "cell_type": "markdown",
   "id": "dffb6c62",
   "metadata": {
    "id": "dffb6c62"
   },
   "source": [
    "[1] Wang, Zhiguang, Weizhong Yan and Tim Oates. “Time series classification from scratch with deep neural networks: A strong baseline.” 2017 International Joint Conference on Neural Networks (IJCNN) (2016): 1578-1585."
   ]
  }
 ],
 "metadata": {
  "colab": {
   "provenance": []
  },
  "kernelspec": {
   "display_name": "Python 3 (ipykernel)",
   "language": "python",
   "name": "python3"
  },
  "language_info": {
   "codemirror_mode": {
    "name": "ipython",
    "version": 3
   },
   "file_extension": ".py",
   "mimetype": "text/x-python",
   "name": "python",
   "nbconvert_exporter": "python",
   "pygments_lexer": "ipython3",
   "version": "3.9.13"
  }
 },
 "nbformat": 4,
 "nbformat_minor": 5
}
