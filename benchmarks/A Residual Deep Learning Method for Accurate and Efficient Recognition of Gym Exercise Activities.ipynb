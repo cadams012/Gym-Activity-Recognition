{
 "cells": [
  {
   "cell_type": "markdown",
   "id": "dcc057d7",
   "metadata": {
    "id": "dcc057d7"
   },
   "source": [
    "# **A Residual Deep Learning Method for Accurate and Efficient Recognition of Gym Exercise Activities**"
   ]
  },
  {
   "cell_type": "code",
   "execution_count": null,
   "id": "8R9a8pMzlk17",
   "metadata": {
    "id": "8R9a8pMzlk17"
   },
   "outputs": [],
   "source": [
    "import os\n",
    "import numpy as np\n",
    "import pickle\n",
    "from tqdm import tqdm\n",
    "import tensorflow as tf\n",
    "import matplotlib.pyplot as plt\n",
    "from keras.models import Model\n",
    "from keras.optimizers import Adam\n",
    "from keras.callbacks import EarlyStopping, ReduceLROnPlateau\n",
    "from tensorflow.keras.models import load_model\n",
    "from keras.layers import Input, Layer, Conv1D, MaxPool1D, ReLU, BatchNormalization, LayerNormalization, Dropout, Add, Dense, GlobalMaxPooling1D, Bidirectional, GRU"
   ]
  },
  {
   "cell_type": "code",
   "execution_count": null,
   "id": "6PHiGpI9_k54",
   "metadata": {
    "colab": {
     "base_uri": "https://localhost:8080/"
    },
    "id": "6PHiGpI9_k54",
    "outputId": "e3f621d1-3906-4c84-eab6-a060c1d67f38"
   },
   "outputs": [
    {
     "name": "stdout",
     "output_type": "stream",
     "text": [
      "Mounted at /content/drive\n"
     ]
    }
   ],
   "source": [
    "#You MUST run this command before reading in any data from Google Drive\n",
    "from google.colab import files\n",
    "from google.colab import drive\n",
    "import pandas as pd\n",
    "drive.mount('/content/drive', force_remount=True)\n",
    "os.chdir('/content/drive/My Drive/Colab Notebooks/Thesis/benchmarks')\n",
    "\n",
    "%run ../sys_configs.ipynb"
   ]
  },
  {
   "cell_type": "markdown",
   "id": "3SQDy6aYycC5",
   "metadata": {
    "id": "3SQDy6aYycC5"
   },
   "source": [
    "This paper is the only paper considered in this research that is tested on the MyoGym dataset. It introduces the CNN-ResBiGRU architecture which integrates *convolutional neural networks, residual connections,\n",
    "and bidirectional gated recurrent units*. The paper tests this method and a range of other benchmark methods on various permutations of the sensors available in the MyoGym data.\n",
    "\n",
    "The network begins with a convolutional block comprising a 1D convolutional layer, then a batch normalisation layer, then a max-pooling layer and finally a dropout layer.\n",
    "\n",
    "Next, the time series is read into the ResBiGRU block. The Gated Recurrent Unit (GRU) component of the block was originally developed for tackling the vanishing gradient problem by modelling long-range temporal contexts. The paper uses GRUs rather than LSTMs because LSTMs have high memory usafe and require dedicated memory cells, whereas GRUs only have update and reset gates that determine which information is kept and discarded. Because the value of the time series can be assumed to be dependent on both previous and succeeding events, this GRU model is *Bi*-directional.   \n",
    "\n",
    "Whilst GRUs do tackle the vanishing gradient problem, it returns when modelling several ResBiGRU blocks. Therefore, a residual component is included which adds the data before and after the GRU to help enable gradient flow. There are 2 GRU layers in a ResBiGRU block, and the second layer is succeeded by a layer normalisation layer.\n",
    "\n",
    "After the ResBiGRU blocks, the network applies a dense layer and a softmax function to output the final probabilities for each class."
   ]
  },
  {
   "cell_type": "code",
   "execution_count": null,
   "id": "Ug5PdJ8i_k_7",
   "metadata": {
    "id": "Ug5PdJ8i_k_7"
   },
   "outputs": [],
   "source": [
    "with open('../data/1s_train.npy', 'rb') as f:\n",
    "    x1s_train = np.load(f)\n",
    "    y1s_train = np.load(f)\n",
    "sz, dim = x1s_train.shape[1:]\n",
    "\n",
    "with open('../data/1s_val.npy', 'rb') as f:\n",
    "    x1s_val = np.load(f)\n",
    "    y1s_val = np.load(f)"
   ]
  },
  {
   "cell_type": "code",
   "execution_count": null,
   "id": "ZwDmf0p1_lCz",
   "metadata": {
    "id": "ZwDmf0p1_lCz"
   },
   "outputs": [],
   "source": [
    "# Convert the labels to tensors\n",
    "train_labels_tf = tf.one_hot(y1s_train, 31, dtype=tf.int32)\n",
    "val_labels_tf = tf.one_hot(y1s_val, 31, dtype=tf.int32)"
   ]
  },
  {
   "cell_type": "code",
   "execution_count": null,
   "id": "-7e0TsSU_lGc",
   "metadata": {
    "id": "-7e0TsSU_lGc"
   },
   "outputs": [],
   "source": [
    "# Convert the dataset to tensors\n",
    "train_data_tf = tf.convert_to_tensor(x1s_train, dtype=tf.float32)\n",
    "val_data_tf = tf.convert_to_tensor(x1s_val, dtype=tf.float32)"
   ]
  },
  {
   "cell_type": "code",
   "execution_count": null,
   "id": "qO7qSrQO_lJd",
   "metadata": {
    "id": "qO7qSrQO_lJd"
   },
   "outputs": [],
   "source": [
    "train_ds = tf.data.Dataset.from_tensor_slices((train_data_tf, train_labels_tf))\n",
    "val_ds = tf.data.Dataset.from_tensor_slices((val_data_tf, val_labels_tf))"
   ]
  },
  {
   "cell_type": "code",
   "execution_count": null,
   "id": "PeYR_CVI_lMV",
   "metadata": {
    "id": "PeYR_CVI_lMV"
   },
   "outputs": [],
   "source": [
    "train_ds = train_ds.shuffle(500)\n",
    "\n",
    "train_ds = train_ds.padded_batch(64)\n",
    "val_ds = val_ds.padded_batch(64)"
   ]
  },
  {
   "cell_type": "code",
   "execution_count": null,
   "id": "p78kXUqdMnX6",
   "metadata": {
    "id": "p78kXUqdMnX6"
   },
   "outputs": [],
   "source": [
    "C = len(set(y1s_train)) # Number of classes"
   ]
  },
  {
   "cell_type": "markdown",
   "id": "CssYsr1rMLPx",
   "metadata": {
    "id": "CssYsr1rMLPx"
   },
   "source": [
    "### **Architecture**"
   ]
  },
  {
   "cell_type": "markdown",
   "id": "fcb34a68",
   "metadata": {},
   "source": [
    "<div style=\"display: flex; justify-content: center; align-items: center;\">\n",
    "    <figure style=\"margin: 10px;\">\n",
    "        <img src=\"../documentation/CNNBiResGRU.png\" alt=\"Alt text\" width=\"500\" />\n",
    "        <figcaption style=\"text-align: center;\">CNN-ResBiGRU Network</figcaption>\n",
    "    </figure>\n",
    "    <figure style=\"margin: 10px;\">\n",
    "        <img src=\"../documentation/ResBiGRULayer.png\" alt=\"Alt text\" width=\"500\" />\n",
    "        <figcaption style=\"text-align: center;\">ResBiGRU Layer</figcaption>\n",
    "    </figure>\n",
    "</div>"
   ]
  },
  {
   "cell_type": "markdown",
   "id": "46f7ExykoEV1",
   "metadata": {
    "id": "46f7ExykoEV1"
   },
   "source": [
    "We first define the convolutional block. The paper does not specify appropriate hyperparameters to use, but there are 2 obvious hyperparameters in this block: `num_filters` and `kernel_size`."
   ]
  },
  {
   "cell_type": "code",
   "execution_count": null,
   "id": "hc1iNffTmJF5",
   "metadata": {
    "id": "hc1iNffTmJF5"
   },
   "outputs": [],
   "source": [
    "class ConvBlock(Layer):\n",
    "\n",
    "    def __init__(self, num_filters, **kwargs):\n",
    "        super().__init__(**kwargs)\n",
    "        self.num_filters = num_filters\n",
    "\n",
    "    def build(self, input_shape): # Tensorflow calls this method automatically when the object is defined\n",
    "        self.conv = Conv1D(self.num_filters, kernel_size=10, strides = 1, padding=\"same\")\n",
    "        self.batch_norm = BatchNormalization()\n",
    "        self.max_pool = MaxPool1D(pool_size=3, strides=1, padding=\"same\")\n",
    "        self.dropout = Dropout(0.25)\n",
    "\n",
    "    def call(self, input):\n",
    "        x = self.conv(input)\n",
    "        x = self.batch_norm(x)\n",
    "        x = self.max_pool(x)\n",
    "        output = self.dropout(x)\n",
    "        return output"
   ]
  },
  {
   "cell_type": "markdown",
   "id": "uyb3wFsBr_po",
   "metadata": {
    "id": "uyb3wFsBr_po"
   },
   "source": [
    "Define the ResBiGRU block which is the centerpiece idea of this benchmark method."
   ]
  },
  {
   "cell_type": "code",
   "execution_count": null,
   "id": "H-PiS4x-p7hF",
   "metadata": {
    "id": "H-PiS4x-p7hF"
   },
   "outputs": [],
   "source": [
    "class ResBiGRU(Layer):\n",
    "\n",
    "    def __init__(self, h1_units, h2_units, **kwargs):\n",
    "        super().__init__(**kwargs)\n",
    "        self.h1_units = h1_units\n",
    "        self.h2_units = h2_units\n",
    "\n",
    "    def build(self, input_shape): # Tensorflow calls this method automatically when the object is defined\n",
    "        self.gru_1 =  Bidirectional(GRU(self.h1_units, activation = None, return_sequences=True), merge_mode=None)\n",
    "        self.gru_2a = GRU(self.h2_units, activation = None, return_sequences=True)\n",
    "        self.gru_2b = GRU(self.h2_units, activation = None, return_sequences=True)\n",
    "        self.layer_norm = LayerNormalization()\n",
    "\n",
    "    def call(self, input):\n",
    "        # In the first (hidden) RNN layer, apply the forward and backward GRU layers concurrently\n",
    "        z_forward, z_backward = self.gru_1(input)\n",
    "\n",
    "        # In the second (hidden) RNN layer, apply the forward and backward GRU layers separately\n",
    "        z2_forward = self.gru_2a(z_forward)\n",
    "        z2_backward = self.gru_2b(z_backward)\n",
    "\n",
    "        # Add the output of the first RNN layer to the output of the second RNN layer\n",
    "        z_forward = Add()([z_forward, z2_forward])\n",
    "        z_backward = Add()([z_backward, z2_backward])\n",
    "\n",
    "        z_forward = self.layer_norm(z_forward)\n",
    "        z_backward = self.layer_norm(z_backward)\n",
    "\n",
    "        output = tf.concat([z_forward, z_backward], axis = 2)\n",
    "        return output"
   ]
  },
  {
   "cell_type": "markdown",
   "id": "7a2_SrY67sXO",
   "metadata": {
    "id": "7a2_SrY67sXO"
   },
   "source": [
    "Now, put together the network from the convolutional block, the ResBiGRU blocks and dense layers."
   ]
  },
  {
   "cell_type": "code",
   "execution_count": null,
   "id": "sfv8NWRvmJ3w",
   "metadata": {
    "id": "sfv8NWRvmJ3w"
   },
   "outputs": [],
   "source": [
    "# We use early stopping as CNNResBiGRU is a high parameter network, so requires many epochs to train.\n",
    "earlystopping = EarlyStopping(monitor='val_accuracy', patience=5)\n",
    "\n",
    "# The previous benchmark paper also made use of ReduceLROnPlateau which reduces the lesrning rate when the loss plateaus.\n",
    "reduce_lr = ReduceLROnPlateau(monitor='val_loss', factor=0.5, patience=2, min_lr=10e-5)"
   ]
  },
  {
   "cell_type": "markdown",
   "id": "tjWxbTjnhGaK",
   "metadata": {
    "id": "tjWxbTjnhGaK"
   },
   "source": [
    "We will test a few different models with slightly different configurations."
   ]
  },
  {
   "cell_type": "markdown",
   "id": "zpUMjVyWhGmJ",
   "metadata": {
    "id": "zpUMjVyWhGmJ"
   },
   "source": [
    "#### **Model 1**"
   ]
  },
  {
   "cell_type": "markdown",
   "id": "FR6-e9qqhWhX",
   "metadata": {
    "id": "FR6-e9qqhWhX"
   },
   "source": [
    "This model has 3 ResBiGRU blocks, each with the same number of hidden units. Each block has 32 hidden units."
   ]
  },
  {
   "cell_type": "code",
   "execution_count": null,
   "id": "fdNec671mJxQ",
   "metadata": {
    "id": "fdNec671mJxQ"
   },
   "outputs": [],
   "source": [
    "def CNNResBiGRU_1(shape):\n",
    "    block1_input_layer = Input(shape=shape)\n",
    "\n",
    "    layer = ConvBlock(num_filters = 32, name = \"ConvBlock\")(block1_input_layer)\n",
    "\n",
    "    # The ResBIGRU blocks is repeated several times; the architecture extensively factors in the gradient vanishing problem.\n",
    "    layer = ResBiGRU(h1_units = 32, h2_units = 32, name = \"ResBiGRU1\")(layer)\n",
    "    layer = ResBiGRU(h1_units = 32, h2_units = 32, name = \"ResBiGRU2\")(layer)\n",
    "    layer = ResBiGRU(h1_units = 32, h2_units = 32, name = \"ResBiGRU3\")(layer)\n",
    "\n",
    "    layer = GlobalMaxPooling1D()(layer)\n",
    "    output_layer = Dense(C, activation=\"softmax\")(layer)\n",
    "    return Model(inputs=block1_input_layer, outputs=output_layer)"
   ]
  },
  {
   "cell_type": "code",
   "execution_count": null,
   "id": "uNCZ_oFwNC1t",
   "metadata": {
    "colab": {
     "base_uri": "https://localhost:8080/",
     "height": 369
    },
    "id": "uNCZ_oFwNC1t",
    "outputId": "d28a8c92-4551-4b42-d3d5-b2ec3473924d"
   },
   "outputs": [
    {
     "data": {
      "text/html": [
       "<pre style=\"white-space:pre;overflow-x:auto;line-height:normal;font-family:Menlo,'DejaVu Sans Mono',consolas,'Courier New',monospace\"><span style=\"font-weight: bold\">Model: \"functional\"</span>\n",
       "</pre>\n"
      ],
      "text/plain": [
       "\u001b[1mModel: \"functional\"\u001b[0m\n"
      ]
     },
     "metadata": {},
     "output_type": "display_data"
    },
    {
     "data": {
      "text/html": [
       "<pre style=\"white-space:pre;overflow-x:auto;line-height:normal;font-family:Menlo,'DejaVu Sans Mono',consolas,'Courier New',monospace\">┏━━━━━━━━━━━━━━━━━━━━━━━━━━━━━━━━━━━━━━┳━━━━━━━━━━━━━━━━━━━━━━━━━━━━━┳━━━━━━━━━━━━━━━━━┓\n",
       "┃<span style=\"font-weight: bold\"> Layer (type)                         </span>┃<span style=\"font-weight: bold\"> Output Shape                </span>┃<span style=\"font-weight: bold\">         Param # </span>┃\n",
       "┡━━━━━━━━━━━━━━━━━━━━━━━━━━━━━━━━━━━━━━╇━━━━━━━━━━━━━━━━━━━━━━━━━━━━━╇━━━━━━━━━━━━━━━━━┩\n",
       "│ input_layer (<span style=\"color: #0087ff; text-decoration-color: #0087ff\">InputLayer</span>)             │ (<span style=\"color: #00d7ff; text-decoration-color: #00d7ff\">None</span>, <span style=\"color: #00af00; text-decoration-color: #00af00\">500</span>, <span style=\"color: #00af00; text-decoration-color: #00af00\">6</span>)              │               <span style=\"color: #00af00; text-decoration-color: #00af00\">0</span> │\n",
       "├──────────────────────────────────────┼─────────────────────────────┼─────────────────┤\n",
       "│ ConvBlock (<span style=\"color: #0087ff; text-decoration-color: #0087ff\">ConvBlock</span>)                │ (<span style=\"color: #00d7ff; text-decoration-color: #00d7ff\">None</span>, <span style=\"color: #00af00; text-decoration-color: #00af00\">500</span>, <span style=\"color: #00af00; text-decoration-color: #00af00\">32</span>)             │           <span style=\"color: #00af00; text-decoration-color: #00af00\">2,080</span> │\n",
       "├──────────────────────────────────────┼─────────────────────────────┼─────────────────┤\n",
       "│ ResBiGRU1 (<span style=\"color: #0087ff; text-decoration-color: #0087ff\">ResBiGRU</span>)                 │ (<span style=\"color: #00d7ff; text-decoration-color: #00d7ff\">None</span>, <span style=\"color: #00af00; text-decoration-color: #00af00\">500</span>, <span style=\"color: #00af00; text-decoration-color: #00af00\">64</span>)             │          <span style=\"color: #00af00; text-decoration-color: #00af00\">25,408</span> │\n",
       "├──────────────────────────────────────┼─────────────────────────────┼─────────────────┤\n",
       "│ ResBiGRU2 (<span style=\"color: #0087ff; text-decoration-color: #0087ff\">ResBiGRU</span>)                 │ (<span style=\"color: #00d7ff; text-decoration-color: #00d7ff\">None</span>, <span style=\"color: #00af00; text-decoration-color: #00af00\">500</span>, <span style=\"color: #00af00; text-decoration-color: #00af00\">64</span>)             │          <span style=\"color: #00af00; text-decoration-color: #00af00\">31,552</span> │\n",
       "├──────────────────────────────────────┼─────────────────────────────┼─────────────────┤\n",
       "│ ResBiGRU3 (<span style=\"color: #0087ff; text-decoration-color: #0087ff\">ResBiGRU</span>)                 │ (<span style=\"color: #00d7ff; text-decoration-color: #00d7ff\">None</span>, <span style=\"color: #00af00; text-decoration-color: #00af00\">500</span>, <span style=\"color: #00af00; text-decoration-color: #00af00\">64</span>)             │          <span style=\"color: #00af00; text-decoration-color: #00af00\">31,552</span> │\n",
       "├──────────────────────────────────────┼─────────────────────────────┼─────────────────┤\n",
       "│ global_max_pooling1d                 │ (<span style=\"color: #00d7ff; text-decoration-color: #00d7ff\">None</span>, <span style=\"color: #00af00; text-decoration-color: #00af00\">64</span>)                  │               <span style=\"color: #00af00; text-decoration-color: #00af00\">0</span> │\n",
       "│ (<span style=\"color: #0087ff; text-decoration-color: #0087ff\">GlobalMaxPooling1D</span>)                 │                             │                 │\n",
       "├──────────────────────────────────────┼─────────────────────────────┼─────────────────┤\n",
       "│ dense (<span style=\"color: #0087ff; text-decoration-color: #0087ff\">Dense</span>)                        │ (<span style=\"color: #00d7ff; text-decoration-color: #00d7ff\">None</span>, <span style=\"color: #00af00; text-decoration-color: #00af00\">31</span>)                  │           <span style=\"color: #00af00; text-decoration-color: #00af00\">2,015</span> │\n",
       "└──────────────────────────────────────┴─────────────────────────────┴─────────────────┘\n",
       "</pre>\n"
      ],
      "text/plain": [
       "┏━━━━━━━━━━━━━━━━━━━━━━━━━━━━━━━━━━━━━━┳━━━━━━━━━━━━━━━━━━━━━━━━━━━━━┳━━━━━━━━━━━━━━━━━┓\n",
       "┃\u001b[1m \u001b[0m\u001b[1mLayer (type)                        \u001b[0m\u001b[1m \u001b[0m┃\u001b[1m \u001b[0m\u001b[1mOutput Shape               \u001b[0m\u001b[1m \u001b[0m┃\u001b[1m \u001b[0m\u001b[1m        Param #\u001b[0m\u001b[1m \u001b[0m┃\n",
       "┡━━━━━━━━━━━━━━━━━━━━━━━━━━━━━━━━━━━━━━╇━━━━━━━━━━━━━━━━━━━━━━━━━━━━━╇━━━━━━━━━━━━━━━━━┩\n",
       "│ input_layer (\u001b[38;5;33mInputLayer\u001b[0m)             │ (\u001b[38;5;45mNone\u001b[0m, \u001b[38;5;34m500\u001b[0m, \u001b[38;5;34m6\u001b[0m)              │               \u001b[38;5;34m0\u001b[0m │\n",
       "├──────────────────────────────────────┼─────────────────────────────┼─────────────────┤\n",
       "│ ConvBlock (\u001b[38;5;33mConvBlock\u001b[0m)                │ (\u001b[38;5;45mNone\u001b[0m, \u001b[38;5;34m500\u001b[0m, \u001b[38;5;34m32\u001b[0m)             │           \u001b[38;5;34m2,080\u001b[0m │\n",
       "├──────────────────────────────────────┼─────────────────────────────┼─────────────────┤\n",
       "│ ResBiGRU1 (\u001b[38;5;33mResBiGRU\u001b[0m)                 │ (\u001b[38;5;45mNone\u001b[0m, \u001b[38;5;34m500\u001b[0m, \u001b[38;5;34m64\u001b[0m)             │          \u001b[38;5;34m25,408\u001b[0m │\n",
       "├──────────────────────────────────────┼─────────────────────────────┼─────────────────┤\n",
       "│ ResBiGRU2 (\u001b[38;5;33mResBiGRU\u001b[0m)                 │ (\u001b[38;5;45mNone\u001b[0m, \u001b[38;5;34m500\u001b[0m, \u001b[38;5;34m64\u001b[0m)             │          \u001b[38;5;34m31,552\u001b[0m │\n",
       "├──────────────────────────────────────┼─────────────────────────────┼─────────────────┤\n",
       "│ ResBiGRU3 (\u001b[38;5;33mResBiGRU\u001b[0m)                 │ (\u001b[38;5;45mNone\u001b[0m, \u001b[38;5;34m500\u001b[0m, \u001b[38;5;34m64\u001b[0m)             │          \u001b[38;5;34m31,552\u001b[0m │\n",
       "├──────────────────────────────────────┼─────────────────────────────┼─────────────────┤\n",
       "│ global_max_pooling1d                 │ (\u001b[38;5;45mNone\u001b[0m, \u001b[38;5;34m64\u001b[0m)                  │               \u001b[38;5;34m0\u001b[0m │\n",
       "│ (\u001b[38;5;33mGlobalMaxPooling1D\u001b[0m)                 │                             │                 │\n",
       "├──────────────────────────────────────┼─────────────────────────────┼─────────────────┤\n",
       "│ dense (\u001b[38;5;33mDense\u001b[0m)                        │ (\u001b[38;5;45mNone\u001b[0m, \u001b[38;5;34m31\u001b[0m)                  │           \u001b[38;5;34m2,015\u001b[0m │\n",
       "└──────────────────────────────────────┴─────────────────────────────┴─────────────────┘\n"
      ]
     },
     "metadata": {},
     "output_type": "display_data"
    },
    {
     "data": {
      "text/html": [
       "<pre style=\"white-space:pre;overflow-x:auto;line-height:normal;font-family:Menlo,'DejaVu Sans Mono',consolas,'Courier New',monospace\"><span style=\"font-weight: bold\"> Total params: </span><span style=\"color: #00af00; text-decoration-color: #00af00\">92,607</span> (361.75 KB)\n",
       "</pre>\n"
      ],
      "text/plain": [
       "\u001b[1m Total params: \u001b[0m\u001b[38;5;34m92,607\u001b[0m (361.75 KB)\n"
      ]
     },
     "metadata": {},
     "output_type": "display_data"
    },
    {
     "data": {
      "text/html": [
       "<pre style=\"white-space:pre;overflow-x:auto;line-height:normal;font-family:Menlo,'DejaVu Sans Mono',consolas,'Courier New',monospace\"><span style=\"font-weight: bold\"> Trainable params: </span><span style=\"color: #00af00; text-decoration-color: #00af00\">92,543</span> (361.50 KB)\n",
       "</pre>\n"
      ],
      "text/plain": [
       "\u001b[1m Trainable params: \u001b[0m\u001b[38;5;34m92,543\u001b[0m (361.50 KB)\n"
      ]
     },
     "metadata": {},
     "output_type": "display_data"
    },
    {
     "data": {
      "text/html": [
       "<pre style=\"white-space:pre;overflow-x:auto;line-height:normal;font-family:Menlo,'DejaVu Sans Mono',consolas,'Courier New',monospace\"><span style=\"font-weight: bold\"> Non-trainable params: </span><span style=\"color: #00af00; text-decoration-color: #00af00\">64</span> (256.00 B)\n",
       "</pre>\n"
      ],
      "text/plain": [
       "\u001b[1m Non-trainable params: \u001b[0m\u001b[38;5;34m64\u001b[0m (256.00 B)\n"
      ]
     },
     "metadata": {},
     "output_type": "display_data"
    }
   ],
   "source": [
    "CNNResBiGRU_model_1 = CNNResBiGRU_1(shape = (sz, dim))\n",
    "CNNResBiGRU_model_1.summary()"
   ]
  },
  {
   "cell_type": "code",
   "execution_count": null,
   "id": "KeyitodkmJ97",
   "metadata": {
    "colab": {
     "base_uri": "https://localhost:8080/"
    },
    "id": "KeyitodkmJ97",
    "outputId": "96f0b4d7-5603-46a6-8e4b-fc80a7037356"
   },
   "outputs": [
    {
     "name": "stdout",
     "output_type": "stream",
     "text": [
      "Epoch 1/25\n",
      "\u001b[1m48/48\u001b[0m \u001b[32m━━━━━━━━━━━━━━━━━━━━\u001b[0m\u001b[37m\u001b[0m \u001b[1m98s\u001b[0m 2s/step - accuracy: 0.2199 - loss: 3.1893 - val_accuracy: 0.5595 - val_loss: 1.7117\n",
      "Epoch 2/25\n",
      "\u001b[1m48/48\u001b[0m \u001b[32m━━━━━━━━━━━━━━━━━━━━\u001b[0m\u001b[37m\u001b[0m \u001b[1m56s\u001b[0m 1s/step - accuracy: 0.5890 - loss: 1.4328 - val_accuracy: 0.5524 - val_loss: 1.2529\n",
      "Epoch 3/25\n",
      "\u001b[1m48/48\u001b[0m \u001b[32m━━━━━━━━━━━━━━━━━━━━\u001b[0m\u001b[37m\u001b[0m \u001b[1m56s\u001b[0m 1s/step - accuracy: 0.7501 - loss: 0.9393 - val_accuracy: 0.6270 - val_loss: 0.9927\n",
      "Epoch 4/25\n",
      "\u001b[1m48/48\u001b[0m \u001b[32m━━━━━━━━━━━━━━━━━━━━\u001b[0m\u001b[37m\u001b[0m \u001b[1m56s\u001b[0m 1s/step - accuracy: 0.8495 - loss: 0.6236 - val_accuracy: 0.6764 - val_loss: 0.8877\n",
      "Epoch 5/25\n",
      "\u001b[1m48/48\u001b[0m \u001b[32m━━━━━━━━━━━━━━━━━━━━\u001b[0m\u001b[37m\u001b[0m \u001b[1m56s\u001b[0m 1s/step - accuracy: 0.9168 - loss: 0.4150 - val_accuracy: 0.7157 - val_loss: 0.7739\n",
      "Epoch 6/25\n",
      "\u001b[1m48/48\u001b[0m \u001b[32m━━━━━━━━━━━━━━━━━━━━\u001b[0m\u001b[37m\u001b[0m \u001b[1m56s\u001b[0m 1s/step - accuracy: 0.9555 - loss: 0.2728 - val_accuracy: 0.6683 - val_loss: 0.8218\n",
      "Epoch 7/25\n",
      "\u001b[1m48/48\u001b[0m \u001b[32m━━━━━━━━━━━━━━━━━━━━\u001b[0m\u001b[37m\u001b[0m \u001b[1m56s\u001b[0m 1s/step - accuracy: 0.9831 - loss: 0.1794 - val_accuracy: 0.6784 - val_loss: 0.8190\n",
      "Epoch 8/25\n",
      "\u001b[1m48/48\u001b[0m \u001b[32m━━━━━━━━━━━━━━━━━━━━\u001b[0m\u001b[37m\u001b[0m \u001b[1m56s\u001b[0m 1s/step - accuracy: 0.9847 - loss: 0.1286 - val_accuracy: 0.7308 - val_loss: 0.7516\n",
      "Epoch 9/25\n",
      "\u001b[1m48/48\u001b[0m \u001b[32m━━━━━━━━━━━━━━━━━━━━\u001b[0m\u001b[37m\u001b[0m \u001b[1m56s\u001b[0m 1s/step - accuracy: 0.9677 - loss: 0.1487 - val_accuracy: 0.7188 - val_loss: 0.7741\n",
      "Epoch 10/25\n",
      "\u001b[1m48/48\u001b[0m \u001b[32m━━━━━━━━━━━━━━━━━━━━\u001b[0m\u001b[37m\u001b[0m \u001b[1m56s\u001b[0m 1s/step - accuracy: 0.9934 - loss: 0.0618 - val_accuracy: 0.7379 - val_loss: 0.7334\n",
      "Epoch 11/25\n",
      "\u001b[1m48/48\u001b[0m \u001b[32m━━━━━━━━━━━━━━━━━━━━\u001b[0m\u001b[37m\u001b[0m \u001b[1m56s\u001b[0m 1s/step - accuracy: 0.9892 - loss: 0.0695 - val_accuracy: 0.7167 - val_loss: 0.7493\n",
      "Epoch 12/25\n",
      "\u001b[1m48/48\u001b[0m \u001b[32m━━━━━━━━━━━━━━━━━━━━\u001b[0m\u001b[37m\u001b[0m \u001b[1m56s\u001b[0m 1s/step - accuracy: 0.9981 - loss: 0.0372 - val_accuracy: 0.7409 - val_loss: 0.7597\n",
      "Epoch 13/25\n",
      "\u001b[1m48/48\u001b[0m \u001b[32m━━━━━━━━━━━━━━━━━━━━\u001b[0m\u001b[37m\u001b[0m \u001b[1m56s\u001b[0m 1s/step - accuracy: 0.9990 - loss: 0.0320 - val_accuracy: 0.7288 - val_loss: 0.7565\n",
      "Epoch 14/25\n",
      "\u001b[1m48/48\u001b[0m \u001b[32m━━━━━━━━━━━━━━━━━━━━\u001b[0m\u001b[37m\u001b[0m \u001b[1m56s\u001b[0m 1s/step - accuracy: 0.9975 - loss: 0.0308 - val_accuracy: 0.7661 - val_loss: 0.6802\n",
      "Epoch 15/25\n",
      "\u001b[1m48/48\u001b[0m \u001b[32m━━━━━━━━━━━━━━━━━━━━\u001b[0m\u001b[37m\u001b[0m \u001b[1m56s\u001b[0m 1s/step - accuracy: 1.0000 - loss: 0.0162 - val_accuracy: 0.7298 - val_loss: 0.8298\n",
      "Epoch 16/25\n",
      "\u001b[1m48/48\u001b[0m \u001b[32m━━━━━━━━━━━━━━━━━━━━\u001b[0m\u001b[37m\u001b[0m \u001b[1m56s\u001b[0m 1s/step - accuracy: 1.0000 - loss: 0.0118 - val_accuracy: 0.7450 - val_loss: 0.7636\n",
      "Epoch 17/25\n",
      "\u001b[1m48/48\u001b[0m \u001b[32m━━━━━━━━━━━━━━━━━━━━\u001b[0m\u001b[37m\u001b[0m \u001b[1m56s\u001b[0m 1s/step - accuracy: 1.0000 - loss: 0.0097 - val_accuracy: 0.7490 - val_loss: 0.7617\n",
      "Epoch 18/25\n",
      "\u001b[1m48/48\u001b[0m \u001b[32m━━━━━━━━━━━━━━━━━━━━\u001b[0m\u001b[37m\u001b[0m \u001b[1m56s\u001b[0m 1s/step - accuracy: 0.9986 - loss: 0.0119 - val_accuracy: 0.7389 - val_loss: 0.7611\n",
      "Epoch 19/25\n",
      "\u001b[1m48/48\u001b[0m \u001b[32m━━━━━━━━━━━━━━━━━━━━\u001b[0m\u001b[37m\u001b[0m \u001b[1m56s\u001b[0m 1s/step - accuracy: 0.9980 - loss: 0.0210 - val_accuracy: 0.7067 - val_loss: 0.8740\n",
      "Epoch 20/25\n",
      "\u001b[1m48/48\u001b[0m \u001b[32m━━━━━━━━━━━━━━━━━━━━\u001b[0m\u001b[37m\u001b[0m \u001b[1m56s\u001b[0m 1s/step - accuracy: 0.9983 - loss: 0.0130 - val_accuracy: 0.7339 - val_loss: 0.8616\n",
      "Epoch 21/25\n",
      "\u001b[1m48/48\u001b[0m \u001b[32m━━━━━━━━━━━━━━━━━━━━\u001b[0m\u001b[37m\u001b[0m \u001b[1m56s\u001b[0m 1s/step - accuracy: 1.0000 - loss: 0.0077 - val_accuracy: 0.7228 - val_loss: 0.8624\n",
      "Epoch 22/25\n",
      "\u001b[1m48/48\u001b[0m \u001b[32m━━━━━━━━━━━━━━━━━━━━\u001b[0m\u001b[37m\u001b[0m \u001b[1m56s\u001b[0m 1s/step - accuracy: 1.0000 - loss: 0.0052 - val_accuracy: 0.7359 - val_loss: 0.8364\n",
      "Epoch 23/25\n",
      "\u001b[1m48/48\u001b[0m \u001b[32m━━━━━━━━━━━━━━━━━━━━\u001b[0m\u001b[37m\u001b[0m \u001b[1m56s\u001b[0m 1s/step - accuracy: 0.9992 - loss: 0.0074 - val_accuracy: 0.7490 - val_loss: 0.7580\n",
      "Epoch 24/25\n",
      "\u001b[1m48/48\u001b[0m \u001b[32m━━━━━━━━━━━━━━━━━━━━\u001b[0m\u001b[37m\u001b[0m \u001b[1m56s\u001b[0m 1s/step - accuracy: 1.0000 - loss: 0.0079 - val_accuracy: 0.7389 - val_loss: 0.8470\n",
      "Epoch 25/25\n",
      "\u001b[1m48/48\u001b[0m \u001b[32m━━━━━━━━━━━━━━━━━━━━\u001b[0m\u001b[37m\u001b[0m \u001b[1m56s\u001b[0m 1s/step - accuracy: 0.9974 - loss: 0.0164 - val_accuracy: 0.7258 - val_loss: 1.0163\n"
     ]
    }
   ],
   "source": [
    "CNNResBiGRU_model_1 = CNNResBiGRU_1(shape = (sz, dim))\n",
    "CNNResBiGRU_model_1.compile(optimizer=Adam(learning_rate=0.001, beta_1=0.9, beta_2=0.999, epsilon=1e-08), loss='categorical_crossentropy', metrics=['accuracy'])\n",
    "history_1 = CNNResBiGRU_model_1.fit(train_ds, validation_data=val_ds, epochs=25, verbose = 1)"
   ]
  },
  {
   "cell_type": "code",
   "execution_count": null,
   "id": "Q6xNsL3WmKDs",
   "metadata": {
    "id": "Q6xNsL3WmKDs"
   },
   "outputs": [],
   "source": [
    "CNNResBiGRU_model_1.save('../models/CNNResBiGRU_model/CNNResBiGRU_model_1.keras')\n",
    "with open('../models/CNNResBiGRU_model/train_history_1.pkl', 'wb') as f:\n",
    "    pickle.dump(history_1.history, f)"
   ]
  },
  {
   "cell_type": "code",
   "execution_count": null,
   "id": "KJ2o_LCWmKKN",
   "metadata": {
    "colab": {
     "base_uri": "https://localhost:8080/"
    },
    "id": "KJ2o_LCWmKKN",
    "outputId": "ba533d27-d4a5-44e2-d037-4899fe3f2a61"
   },
   "outputs": [
    {
     "name": "stderr",
     "output_type": "stream",
     "text": [
      "/usr/local/lib/python3.10/dist-packages/keras/src/saving/saving_lib.py:576: UserWarning: Skipping variable loading for optimizer 'rmsprop', because it has 50 variables whereas the saved optimizer has 98 variables. \n",
      "  saveable.load_own_variables(weights_store.get(inner_path))\n"
     ]
    }
   ],
   "source": [
    "# Load the model\n",
    "custom_objects = {'ConvBlock': ConvBlock, 'ResBiGRU': ResBiGRU}\n",
    "CNNResBiGRU_model_1 = load_model('../models/CNNResBiGRU_model/CNNResBiGRU_model_1.keras', custom_objects=custom_objects)\n",
    "\n",
    "# Load the training history\n",
    "with open('../models/CNNResBiGRU_model/train_history_1.pkl', 'rb') as f:\n",
    "    history_1 = pickle.load(f)"
   ]
  },
  {
   "cell_type": "code",
   "execution_count": null,
   "id": "O8tbTjgwmKYh",
   "metadata": {
    "colab": {
     "base_uri": "https://localhost:8080/"
    },
    "id": "O8tbTjgwmKYh",
    "outputId": "fd5cdc71-a9b5-4cfb-8480-d04bcfc54d7b"
   },
   "outputs": [
    {
     "name": "stdout",
     "output_type": "stream",
     "text": [
      "\u001b[1m16/16\u001b[0m \u001b[32m━━━━━━━━━━━━━━━━━━━━\u001b[0m\u001b[37m\u001b[0m \u001b[1m10s\u001b[0m 319ms/step - accuracy: 0.7212 - loss: 1.0287\n",
      "Validation Loss: 1.0162723064422607\n",
      "Validation Accuracy: 0.725806474685669\n"
     ]
    }
   ],
   "source": [
    "CNNResBiGRU_1_results = CNNResBiGRU_model_1.evaluate(val_ds, batch_size=128)\n",
    "print(\"Validation Loss: {}\\nValidation Accuracy: {}\".format(*CNNResBiGRU_1_results))"
   ]
  },
  {
   "cell_type": "markdown",
   "id": "4MTWf_BCiSeq",
   "metadata": {
    "id": "4MTWf_BCiSeq"
   },
   "source": [
    "#### **Model 2**"
   ]
  },
  {
   "cell_type": "markdown",
   "id": "4ecQ9Priknrw",
   "metadata": {
    "id": "4ecQ9Priknrw"
   },
   "source": [
    "This model has just 2 ResBiGRU blocks, but each block has GRUs with more dimensions."
   ]
  },
  {
   "cell_type": "code",
   "execution_count": null,
   "id": "orci9KBziS0n",
   "metadata": {
    "id": "orci9KBziS0n"
   },
   "outputs": [],
   "source": [
    "def CNNResBiGRU_2(shape):\n",
    "    block1_input_layer = Input(shape=shape)\n",
    "\n",
    "    layer = ConvBlock(num_filters = 64, name = \"ConvBlock\")(block1_input_layer)\n",
    "\n",
    "    # The ResBIGRU blocks is repeated several times; the architecture extensively factors in the gradient vanishing problem.\n",
    "    layer = ResBiGRU(h1_units = 64, h2_units = 64, name = \"ResBiGRU1\")(layer)\n",
    "    layer = ResBiGRU(h1_units = 64, h2_units = 64, name = \"ResBiGRU2\")(layer)\n",
    "\n",
    "    layer = GlobalMaxPooling1D()(layer)\n",
    "    output_layer = Dense(C, activation=\"softmax\")(layer)\n",
    "    return Model(inputs=block1_input_layer, outputs=output_layer)"
   ]
  },
  {
   "cell_type": "code",
   "execution_count": null,
   "id": "r2DM8DBZiYpL",
   "metadata": {
    "colab": {
     "base_uri": "https://localhost:8080/",
     "height": 337
    },
    "id": "r2DM8DBZiYpL",
    "outputId": "c755f800-358c-4b04-df2e-23a7d0f79d85"
   },
   "outputs": [
    {
     "data": {
      "text/html": [
       "<pre style=\"white-space:pre;overflow-x:auto;line-height:normal;font-family:Menlo,'DejaVu Sans Mono',consolas,'Courier New',monospace\"><span style=\"font-weight: bold\">Model: \"functional\"</span>\n",
       "</pre>\n"
      ],
      "text/plain": [
       "\u001b[1mModel: \"functional\"\u001b[0m\n"
      ]
     },
     "metadata": {},
     "output_type": "display_data"
    },
    {
     "data": {
      "text/html": [
       "<pre style=\"white-space:pre;overflow-x:auto;line-height:normal;font-family:Menlo,'DejaVu Sans Mono',consolas,'Courier New',monospace\">┏━━━━━━━━━━━━━━━━━━━━━━━━━━━━━━━━━━━━━━┳━━━━━━━━━━━━━━━━━━━━━━━━━━━━━┳━━━━━━━━━━━━━━━━━┓\n",
       "┃<span style=\"font-weight: bold\"> Layer (type)                         </span>┃<span style=\"font-weight: bold\"> Output Shape                </span>┃<span style=\"font-weight: bold\">         Param # </span>┃\n",
       "┡━━━━━━━━━━━━━━━━━━━━━━━━━━━━━━━━━━━━━━╇━━━━━━━━━━━━━━━━━━━━━━━━━━━━━╇━━━━━━━━━━━━━━━━━┩\n",
       "│ input_layer_1 (<span style=\"color: #0087ff; text-decoration-color: #0087ff\">InputLayer</span>)           │ (<span style=\"color: #00d7ff; text-decoration-color: #00d7ff\">None</span>, <span style=\"color: #00af00; text-decoration-color: #00af00\">500</span>, <span style=\"color: #00af00; text-decoration-color: #00af00\">6</span>)              │               <span style=\"color: #00af00; text-decoration-color: #00af00\">0</span> │\n",
       "├──────────────────────────────────────┼─────────────────────────────┼─────────────────┤\n",
       "│ ConvBlock (<span style=\"color: #0087ff; text-decoration-color: #0087ff\">ConvBlock</span>)                │ (<span style=\"color: #00d7ff; text-decoration-color: #00d7ff\">None</span>, <span style=\"color: #00af00; text-decoration-color: #00af00\">500</span>, <span style=\"color: #00af00; text-decoration-color: #00af00\">64</span>)             │           <span style=\"color: #00af00; text-decoration-color: #00af00\">4,160</span> │\n",
       "├──────────────────────────────────────┼─────────────────────────────┼─────────────────┤\n",
       "│ ResBiGRU1 (<span style=\"color: #0087ff; text-decoration-color: #0087ff\">ResBiGRU</span>)                 │ (<span style=\"color: #00d7ff; text-decoration-color: #00d7ff\">None</span>, <span style=\"color: #00af00; text-decoration-color: #00af00\">500</span>, <span style=\"color: #00af00; text-decoration-color: #00af00\">128</span>)            │          <span style=\"color: #00af00; text-decoration-color: #00af00\">99,968</span> │\n",
       "├──────────────────────────────────────┼─────────────────────────────┼─────────────────┤\n",
       "│ ResBiGRU2 (<span style=\"color: #0087ff; text-decoration-color: #0087ff\">ResBiGRU</span>)                 │ (<span style=\"color: #00d7ff; text-decoration-color: #00d7ff\">None</span>, <span style=\"color: #00af00; text-decoration-color: #00af00\">500</span>, <span style=\"color: #00af00; text-decoration-color: #00af00\">128</span>)            │         <span style=\"color: #00af00; text-decoration-color: #00af00\">124,544</span> │\n",
       "├──────────────────────────────────────┼─────────────────────────────┼─────────────────┤\n",
       "│ global_max_pooling1d                 │ (<span style=\"color: #00d7ff; text-decoration-color: #00d7ff\">None</span>, <span style=\"color: #00af00; text-decoration-color: #00af00\">128</span>)                 │               <span style=\"color: #00af00; text-decoration-color: #00af00\">0</span> │\n",
       "│ (<span style=\"color: #0087ff; text-decoration-color: #0087ff\">GlobalMaxPooling1D</span>)                 │                             │                 │\n",
       "├──────────────────────────────────────┼─────────────────────────────┼─────────────────┤\n",
       "│ dense (<span style=\"color: #0087ff; text-decoration-color: #0087ff\">Dense</span>)                        │ (<span style=\"color: #00d7ff; text-decoration-color: #00d7ff\">None</span>, <span style=\"color: #00af00; text-decoration-color: #00af00\">31</span>)                  │           <span style=\"color: #00af00; text-decoration-color: #00af00\">3,999</span> │\n",
       "└──────────────────────────────────────┴─────────────────────────────┴─────────────────┘\n",
       "</pre>\n"
      ],
      "text/plain": [
       "┏━━━━━━━━━━━━━━━━━━━━━━━━━━━━━━━━━━━━━━┳━━━━━━━━━━━━━━━━━━━━━━━━━━━━━┳━━━━━━━━━━━━━━━━━┓\n",
       "┃\u001b[1m \u001b[0m\u001b[1mLayer (type)                        \u001b[0m\u001b[1m \u001b[0m┃\u001b[1m \u001b[0m\u001b[1mOutput Shape               \u001b[0m\u001b[1m \u001b[0m┃\u001b[1m \u001b[0m\u001b[1m        Param #\u001b[0m\u001b[1m \u001b[0m┃\n",
       "┡━━━━━━━━━━━━━━━━━━━━━━━━━━━━━━━━━━━━━━╇━━━━━━━━━━━━━━━━━━━━━━━━━━━━━╇━━━━━━━━━━━━━━━━━┩\n",
       "│ input_layer_1 (\u001b[38;5;33mInputLayer\u001b[0m)           │ (\u001b[38;5;45mNone\u001b[0m, \u001b[38;5;34m500\u001b[0m, \u001b[38;5;34m6\u001b[0m)              │               \u001b[38;5;34m0\u001b[0m │\n",
       "├──────────────────────────────────────┼─────────────────────────────┼─────────────────┤\n",
       "│ ConvBlock (\u001b[38;5;33mConvBlock\u001b[0m)                │ (\u001b[38;5;45mNone\u001b[0m, \u001b[38;5;34m500\u001b[0m, \u001b[38;5;34m64\u001b[0m)             │           \u001b[38;5;34m4,160\u001b[0m │\n",
       "├──────────────────────────────────────┼─────────────────────────────┼─────────────────┤\n",
       "│ ResBiGRU1 (\u001b[38;5;33mResBiGRU\u001b[0m)                 │ (\u001b[38;5;45mNone\u001b[0m, \u001b[38;5;34m500\u001b[0m, \u001b[38;5;34m128\u001b[0m)            │          \u001b[38;5;34m99,968\u001b[0m │\n",
       "├──────────────────────────────────────┼─────────────────────────────┼─────────────────┤\n",
       "│ ResBiGRU2 (\u001b[38;5;33mResBiGRU\u001b[0m)                 │ (\u001b[38;5;45mNone\u001b[0m, \u001b[38;5;34m500\u001b[0m, \u001b[38;5;34m128\u001b[0m)            │         \u001b[38;5;34m124,544\u001b[0m │\n",
       "├──────────────────────────────────────┼─────────────────────────────┼─────────────────┤\n",
       "│ global_max_pooling1d                 │ (\u001b[38;5;45mNone\u001b[0m, \u001b[38;5;34m128\u001b[0m)                 │               \u001b[38;5;34m0\u001b[0m │\n",
       "│ (\u001b[38;5;33mGlobalMaxPooling1D\u001b[0m)                 │                             │                 │\n",
       "├──────────────────────────────────────┼─────────────────────────────┼─────────────────┤\n",
       "│ dense (\u001b[38;5;33mDense\u001b[0m)                        │ (\u001b[38;5;45mNone\u001b[0m, \u001b[38;5;34m31\u001b[0m)                  │           \u001b[38;5;34m3,999\u001b[0m │\n",
       "└──────────────────────────────────────┴─────────────────────────────┴─────────────────┘\n"
      ]
     },
     "metadata": {},
     "output_type": "display_data"
    },
    {
     "data": {
      "text/html": [
       "<pre style=\"white-space:pre;overflow-x:auto;line-height:normal;font-family:Menlo,'DejaVu Sans Mono',consolas,'Courier New',monospace\"><span style=\"font-weight: bold\"> Total params: </span><span style=\"color: #00af00; text-decoration-color: #00af00\">232,671</span> (908.87 KB)\n",
       "</pre>\n"
      ],
      "text/plain": [
       "\u001b[1m Total params: \u001b[0m\u001b[38;5;34m232,671\u001b[0m (908.87 KB)\n"
      ]
     },
     "metadata": {},
     "output_type": "display_data"
    },
    {
     "data": {
      "text/html": [
       "<pre style=\"white-space:pre;overflow-x:auto;line-height:normal;font-family:Menlo,'DejaVu Sans Mono',consolas,'Courier New',monospace\"><span style=\"font-weight: bold\"> Trainable params: </span><span style=\"color: #00af00; text-decoration-color: #00af00\">232,543</span> (908.37 KB)\n",
       "</pre>\n"
      ],
      "text/plain": [
       "\u001b[1m Trainable params: \u001b[0m\u001b[38;5;34m232,543\u001b[0m (908.37 KB)\n"
      ]
     },
     "metadata": {},
     "output_type": "display_data"
    },
    {
     "data": {
      "text/html": [
       "<pre style=\"white-space:pre;overflow-x:auto;line-height:normal;font-family:Menlo,'DejaVu Sans Mono',consolas,'Courier New',monospace\"><span style=\"font-weight: bold\"> Non-trainable params: </span><span style=\"color: #00af00; text-decoration-color: #00af00\">128</span> (512.00 B)\n",
       "</pre>\n"
      ],
      "text/plain": [
       "\u001b[1m Non-trainable params: \u001b[0m\u001b[38;5;34m128\u001b[0m (512.00 B)\n"
      ]
     },
     "metadata": {},
     "output_type": "display_data"
    }
   ],
   "source": [
    "CNNResBiGRU_model_2 = CNNResBiGRU_2(shape = (sz, dim))\n",
    "CNNResBiGRU_model_2.summary()"
   ]
  },
  {
   "cell_type": "code",
   "execution_count": null,
   "id": "dxFG080kib_G",
   "metadata": {
    "colab": {
     "base_uri": "https://localhost:8080/"
    },
    "id": "dxFG080kib_G",
    "outputId": "2d084ab7-05d7-4d15-8085-390061245d6c"
   },
   "outputs": [
    {
     "name": "stdout",
     "output_type": "stream",
     "text": [
      "Epoch 1/25\n",
      "\u001b[1m48/48\u001b[0m \u001b[32m━━━━━━━━━━━━━━━━━━━━\u001b[0m\u001b[37m\u001b[0m \u001b[1m72s\u001b[0m 1s/step - accuracy: 0.3101 - loss: 2.6855 - val_accuracy: 0.5897 - val_loss: 1.2033\n",
      "Epoch 2/25\n",
      "\u001b[1m48/48\u001b[0m \u001b[32m━━━━━━━━━━━━━━━━━━━━\u001b[0m\u001b[37m\u001b[0m \u001b[1m40s\u001b[0m 844ms/step - accuracy: 0.7103 - loss: 0.9726 - val_accuracy: 0.7308 - val_loss: 0.7938\n",
      "Epoch 3/25\n",
      "\u001b[1m48/48\u001b[0m \u001b[32m━━━━━━━━━━━━━━━━━━━━\u001b[0m\u001b[37m\u001b[0m \u001b[1m40s\u001b[0m 842ms/step - accuracy: 0.8744 - loss: 0.5283 - val_accuracy: 0.7550 - val_loss: 0.7165\n",
      "Epoch 4/25\n",
      "\u001b[1m48/48\u001b[0m \u001b[32m━━━━━━━━━━━━━━━━━━━━\u001b[0m\u001b[37m\u001b[0m \u001b[1m40s\u001b[0m 842ms/step - accuracy: 0.9456 - loss: 0.2787 - val_accuracy: 0.7611 - val_loss: 0.6662\n",
      "Epoch 5/25\n",
      "\u001b[1m48/48\u001b[0m \u001b[32m━━━━━━━━━━━━━━━━━━━━\u001b[0m\u001b[37m\u001b[0m \u001b[1m41s\u001b[0m 847ms/step - accuracy: 0.9854 - loss: 0.1465 - val_accuracy: 0.7651 - val_loss: 0.6680\n",
      "Epoch 6/25\n",
      "\u001b[1m48/48\u001b[0m \u001b[32m━━━━━━━━━━━━━━━━━━━━\u001b[0m\u001b[37m\u001b[0m \u001b[1m40s\u001b[0m 842ms/step - accuracy: 0.9892 - loss: 0.0914 - val_accuracy: 0.7530 - val_loss: 0.6543\n",
      "Epoch 7/25\n",
      "\u001b[1m48/48\u001b[0m \u001b[32m━━━━━━━━━━━━━━━━━━━━\u001b[0m\u001b[37m\u001b[0m \u001b[1m41s\u001b[0m 846ms/step - accuracy: 0.9902 - loss: 0.0607 - val_accuracy: 0.7450 - val_loss: 0.8287\n",
      "Epoch 8/25\n",
      "\u001b[1m48/48\u001b[0m \u001b[32m━━━━━━━━━━━━━━━━━━━━\u001b[0m\u001b[37m\u001b[0m \u001b[1m40s\u001b[0m 843ms/step - accuracy: 0.9908 - loss: 0.0498 - val_accuracy: 0.7520 - val_loss: 0.6029\n",
      "Epoch 9/25\n",
      "\u001b[1m48/48\u001b[0m \u001b[32m━━━━━━━━━━━━━━━━━━━━\u001b[0m\u001b[37m\u001b[0m \u001b[1m40s\u001b[0m 841ms/step - accuracy: 0.9959 - loss: 0.0320 - val_accuracy: 0.7510 - val_loss: 0.6488\n",
      "Epoch 10/25\n",
      "\u001b[1m48/48\u001b[0m \u001b[32m━━━━━━━━━━━━━━━━━━━━\u001b[0m\u001b[37m\u001b[0m \u001b[1m40s\u001b[0m 843ms/step - accuracy: 0.9999 - loss: 0.0102 - val_accuracy: 0.7278 - val_loss: 0.8151\n",
      "Epoch 11/25\n",
      "\u001b[1m48/48\u001b[0m \u001b[32m━━━━━━━━━━━━━━━━━━━━\u001b[0m\u001b[37m\u001b[0m \u001b[1m40s\u001b[0m 844ms/step - accuracy: 0.9945 - loss: 0.0287 - val_accuracy: 0.7722 - val_loss: 0.6568\n",
      "Epoch 12/25\n",
      "\u001b[1m48/48\u001b[0m \u001b[32m━━━━━━━━━━━━━━━━━━━━\u001b[0m\u001b[37m\u001b[0m \u001b[1m40s\u001b[0m 840ms/step - accuracy: 0.9946 - loss: 0.0203 - val_accuracy: 0.7490 - val_loss: 0.6866\n",
      "Epoch 13/25\n",
      "\u001b[1m48/48\u001b[0m \u001b[32m━━━━━━━━━━━━━━━━━━━━\u001b[0m\u001b[37m\u001b[0m \u001b[1m40s\u001b[0m 844ms/step - accuracy: 1.0000 - loss: 0.0046 - val_accuracy: 0.7450 - val_loss: 0.6939\n",
      "Epoch 14/25\n",
      "\u001b[1m48/48\u001b[0m \u001b[32m━━━━━━━━━━━━━━━━━━━━\u001b[0m\u001b[37m\u001b[0m \u001b[1m41s\u001b[0m 846ms/step - accuracy: 1.0000 - loss: 0.0036 - val_accuracy: 0.7702 - val_loss: 0.6532\n",
      "Epoch 15/25\n",
      "\u001b[1m48/48\u001b[0m \u001b[32m━━━━━━━━━━━━━━━━━━━━\u001b[0m\u001b[37m\u001b[0m \u001b[1m40s\u001b[0m 844ms/step - accuracy: 0.9952 - loss: 0.0196 - val_accuracy: 0.7762 - val_loss: 0.7302\n",
      "Epoch 16/25\n",
      "\u001b[1m48/48\u001b[0m \u001b[32m━━━━━━━━━━━━━━━━━━━━\u001b[0m\u001b[37m\u001b[0m \u001b[1m40s\u001b[0m 843ms/step - accuracy: 0.9884 - loss: 0.0557 - val_accuracy: 0.7389 - val_loss: 0.8007\n",
      "Epoch 17/25\n",
      "\u001b[1m48/48\u001b[0m \u001b[32m━━━━━━━━━━━━━━━━━━━━\u001b[0m\u001b[37m\u001b[0m \u001b[1m41s\u001b[0m 848ms/step - accuracy: 1.0000 - loss: 0.0073 - val_accuracy: 0.7440 - val_loss: 0.8378\n",
      "Epoch 18/25\n",
      "\u001b[1m48/48\u001b[0m \u001b[32m━━━━━━━━━━━━━━━━━━━━\u001b[0m\u001b[37m\u001b[0m \u001b[1m40s\u001b[0m 845ms/step - accuracy: 1.0000 - loss: 0.0017 - val_accuracy: 0.7490 - val_loss: 0.8472\n",
      "Epoch 19/25\n",
      "\u001b[1m48/48\u001b[0m \u001b[32m━━━━━━━━━━━━━━━━━━━━\u001b[0m\u001b[37m\u001b[0m \u001b[1m40s\u001b[0m 843ms/step - accuracy: 1.0000 - loss: 0.0012 - val_accuracy: 0.7399 - val_loss: 0.8829\n",
      "Epoch 20/25\n",
      "\u001b[1m48/48\u001b[0m \u001b[32m━━━━━━━━━━━━━━━━━━━━\u001b[0m\u001b[37m\u001b[0m \u001b[1m41s\u001b[0m 846ms/step - accuracy: 1.0000 - loss: 9.7740e-04 - val_accuracy: 0.7480 - val_loss: 0.8711\n",
      "Epoch 21/25\n",
      "\u001b[1m48/48\u001b[0m \u001b[32m━━━━━━━━━━━━━━━━━━━━\u001b[0m\u001b[37m\u001b[0m \u001b[1m40s\u001b[0m 840ms/step - accuracy: 0.9996 - loss: 0.0035 - val_accuracy: 0.6744 - val_loss: 1.0364\n",
      "Epoch 22/25\n",
      "\u001b[1m48/48\u001b[0m \u001b[32m━━━━━━━━━━━━━━━━━━━━\u001b[0m\u001b[37m\u001b[0m \u001b[1m40s\u001b[0m 842ms/step - accuracy: 0.9860 - loss: 0.0605 - val_accuracy: 0.7329 - val_loss: 0.8054\n",
      "Epoch 23/25\n",
      "\u001b[1m48/48\u001b[0m \u001b[32m━━━━━━━━━━━━━━━━━━━━\u001b[0m\u001b[37m\u001b[0m \u001b[1m40s\u001b[0m 842ms/step - accuracy: 1.0000 - loss: 0.0060 - val_accuracy: 0.7641 - val_loss: 0.8307\n",
      "Epoch 24/25\n",
      "\u001b[1m48/48\u001b[0m \u001b[32m━━━━━━━━━━━━━━━━━━━━\u001b[0m\u001b[37m\u001b[0m \u001b[1m40s\u001b[0m 843ms/step - accuracy: 1.0000 - loss: 0.0016 - val_accuracy: 0.7631 - val_loss: 0.6919\n",
      "Epoch 25/25\n",
      "\u001b[1m48/48\u001b[0m \u001b[32m━━━━━━━━━━━━━━━━━━━━\u001b[0m\u001b[37m\u001b[0m \u001b[1m41s\u001b[0m 846ms/step - accuracy: 1.0000 - loss: 7.4701e-04 - val_accuracy: 0.7732 - val_loss: 0.7390\n"
     ]
    }
   ],
   "source": [
    "CNNResBiGRU_model_2 = CNNResBiGRU_2(shape = (sz, dim))\n",
    "CNNResBiGRU_model_2.compile(optimizer=Adam(learning_rate=0.001, beta_1=0.90, beta_2=0.99, epsilon=1e-08), loss='categorical_crossentropy', metrics=['accuracy'])\n",
    "history_2 = CNNResBiGRU_model_2.fit(train_ds, validation_data=val_ds, epochs=25, verbose = 1)"
   ]
  },
  {
   "cell_type": "code",
   "execution_count": null,
   "id": "2wmyfOajicKP",
   "metadata": {
    "id": "2wmyfOajicKP"
   },
   "outputs": [],
   "source": [
    "CNNResBiGRU_model_2.save('../models/CNNResBiGRU_model/CNNResBiGRU_model_2.keras')\n",
    "with open('../models/CNNResBiGRU_model/train_history_2.pkl', 'wb') as f:\n",
    "    pickle.dump(history_2.history, f)"
   ]
  },
  {
   "cell_type": "code",
   "execution_count": null,
   "id": "-sdo8Zgjig20",
   "metadata": {
    "id": "-sdo8Zgjig20"
   },
   "outputs": [],
   "source": [
    "# Load the model\n",
    "custom_objects = {'ConvBlock': ConvBlock, 'ResBiGRU': ResBiGRU}\n",
    "CNNResBiGRU_model_2 = load_model('../models/CNNResBiGRU_model/CNNResBiGRU_model_2.keras', custom_objects=custom_objects)\n",
    "\n",
    "# Load the training history\n",
    "with open('../models/CNNResBiGRU_model/train_history_2.pkl', 'rb') as f:\n",
    "    history_2 = pickle.load(f)"
   ]
  },
  {
   "cell_type": "code",
   "execution_count": null,
   "id": "TWdxu6KRijL4",
   "metadata": {
    "colab": {
     "base_uri": "https://localhost:8080/"
    },
    "id": "TWdxu6KRijL4",
    "outputId": "288e4895-751b-431d-e6fa-fa91e0679787"
   },
   "outputs": [
    {
     "name": "stdout",
     "output_type": "stream",
     "text": [
      "\u001b[1m16/16\u001b[0m \u001b[32m━━━━━━━━━━━━━━━━━━━━\u001b[0m\u001b[37m\u001b[0m \u001b[1m7s\u001b[0m 255ms/step - accuracy: 0.7827 - loss: 0.7457\n",
      "Validation Loss: 0.7390094995498657\n",
      "Validation Accuracy: 0.7731854915618896\n"
     ]
    }
   ],
   "source": [
    "CNNResBiGRU_2_results = CNNResBiGRU_model_2.evaluate(val_ds, batch_size=128)\n",
    "print(\"Validation Loss: {}\\nValidation Accuracy: {}\".format(*CNNResBiGRU_2_results))"
   ]
  },
  {
   "cell_type": "markdown",
   "id": "hAseinZOnqpE",
   "metadata": {
    "id": "hAseinZOnqpE"
   },
   "source": [
    "#### **Model 3**"
   ]
  },
  {
   "cell_type": "markdown",
   "id": "sIIsgMolnxMk",
   "metadata": {
    "id": "sIIsgMolnxMk"
   },
   "source": [
    "This model has fewer parameters than either model 1 or model 2, intended to encourage the model to learn a more compact feature representation."
   ]
  },
  {
   "cell_type": "code",
   "execution_count": null,
   "id": "189OQ3GTnwYI",
   "metadata": {
    "id": "189OQ3GTnwYI"
   },
   "outputs": [],
   "source": [
    "def CNNResBiGRU_3(shape):\n",
    "    block1_input_layer = Input(shape=shape)\n",
    "\n",
    "    layer = ConvBlock(num_filters = 32, name = \"ConvBlock\")(block1_input_layer)\n",
    "\n",
    "    # The ResBIGRU blocks is repeated several times; the architecture extensively factors in the gradient vanishing problem.\n",
    "    layer = ResBiGRU(h1_units = 32, h2_units = 32, name = \"ResBiGRU1\")(layer)\n",
    "\n",
    "    layer = GlobalMaxPooling1D()(layer)\n",
    "    output_layer = Dense(C, activation=\"softmax\")(layer)\n",
    "    return Model(inputs=block1_input_layer, outputs=output_layer)"
   ]
  },
  {
   "cell_type": "code",
   "execution_count": null,
   "id": "_O5e9RMfsmys",
   "metadata": {
    "colab": {
     "base_uri": "https://localhost:8080/",
     "height": 305
    },
    "id": "_O5e9RMfsmys",
    "outputId": "5f5092c9-37ac-44dd-ee25-4268ca32e53a"
   },
   "outputs": [
    {
     "data": {
      "text/html": [
       "<pre style=\"white-space:pre;overflow-x:auto;line-height:normal;font-family:Menlo,'DejaVu Sans Mono',consolas,'Courier New',monospace\"><span style=\"font-weight: bold\">Model: \"functional_2\"</span>\n",
       "</pre>\n"
      ],
      "text/plain": [
       "\u001b[1mModel: \"functional_2\"\u001b[0m\n"
      ]
     },
     "metadata": {},
     "output_type": "display_data"
    },
    {
     "data": {
      "text/html": [
       "<pre style=\"white-space:pre;overflow-x:auto;line-height:normal;font-family:Menlo,'DejaVu Sans Mono',consolas,'Courier New',monospace\">┏━━━━━━━━━━━━━━━━━━━━━━━━━━━━━━━━━━━━━━┳━━━━━━━━━━━━━━━━━━━━━━━━━━━━━┳━━━━━━━━━━━━━━━━━┓\n",
       "┃<span style=\"font-weight: bold\"> Layer (type)                         </span>┃<span style=\"font-weight: bold\"> Output Shape                </span>┃<span style=\"font-weight: bold\">         Param # </span>┃\n",
       "┡━━━━━━━━━━━━━━━━━━━━━━━━━━━━━━━━━━━━━━╇━━━━━━━━━━━━━━━━━━━━━━━━━━━━━╇━━━━━━━━━━━━━━━━━┩\n",
       "│ input_layer_3 (<span style=\"color: #0087ff; text-decoration-color: #0087ff\">InputLayer</span>)           │ (<span style=\"color: #00d7ff; text-decoration-color: #00d7ff\">None</span>, <span style=\"color: #00af00; text-decoration-color: #00af00\">500</span>, <span style=\"color: #00af00; text-decoration-color: #00af00\">6</span>)              │               <span style=\"color: #00af00; text-decoration-color: #00af00\">0</span> │\n",
       "├──────────────────────────────────────┼─────────────────────────────┼─────────────────┤\n",
       "│ ConvBlock (<span style=\"color: #0087ff; text-decoration-color: #0087ff\">ConvBlock</span>)                │ (<span style=\"color: #00d7ff; text-decoration-color: #00d7ff\">None</span>, <span style=\"color: #00af00; text-decoration-color: #00af00\">500</span>, <span style=\"color: #00af00; text-decoration-color: #00af00\">32</span>)             │           <span style=\"color: #00af00; text-decoration-color: #00af00\">2,080</span> │\n",
       "├──────────────────────────────────────┼─────────────────────────────┼─────────────────┤\n",
       "│ ResBiGRU1 (<span style=\"color: #0087ff; text-decoration-color: #0087ff\">ResBiGRU</span>)                 │ (<span style=\"color: #00d7ff; text-decoration-color: #00d7ff\">None</span>, <span style=\"color: #00af00; text-decoration-color: #00af00\">500</span>, <span style=\"color: #00af00; text-decoration-color: #00af00\">64</span>)             │          <span style=\"color: #00af00; text-decoration-color: #00af00\">25,408</span> │\n",
       "├──────────────────────────────────────┼─────────────────────────────┼─────────────────┤\n",
       "│ global_max_pooling1d_2               │ (<span style=\"color: #00d7ff; text-decoration-color: #00d7ff\">None</span>, <span style=\"color: #00af00; text-decoration-color: #00af00\">64</span>)                  │               <span style=\"color: #00af00; text-decoration-color: #00af00\">0</span> │\n",
       "│ (<span style=\"color: #0087ff; text-decoration-color: #0087ff\">GlobalMaxPooling1D</span>)                 │                             │                 │\n",
       "├──────────────────────────────────────┼─────────────────────────────┼─────────────────┤\n",
       "│ dense_2 (<span style=\"color: #0087ff; text-decoration-color: #0087ff\">Dense</span>)                      │ (<span style=\"color: #00d7ff; text-decoration-color: #00d7ff\">None</span>, <span style=\"color: #00af00; text-decoration-color: #00af00\">31</span>)                  │           <span style=\"color: #00af00; text-decoration-color: #00af00\">2,015</span> │\n",
       "└──────────────────────────────────────┴─────────────────────────────┴─────────────────┘\n",
       "</pre>\n"
      ],
      "text/plain": [
       "┏━━━━━━━━━━━━━━━━━━━━━━━━━━━━━━━━━━━━━━┳━━━━━━━━━━━━━━━━━━━━━━━━━━━━━┳━━━━━━━━━━━━━━━━━┓\n",
       "┃\u001b[1m \u001b[0m\u001b[1mLayer (type)                        \u001b[0m\u001b[1m \u001b[0m┃\u001b[1m \u001b[0m\u001b[1mOutput Shape               \u001b[0m\u001b[1m \u001b[0m┃\u001b[1m \u001b[0m\u001b[1m        Param #\u001b[0m\u001b[1m \u001b[0m┃\n",
       "┡━━━━━━━━━━━━━━━━━━━━━━━━━━━━━━━━━━━━━━╇━━━━━━━━━━━━━━━━━━━━━━━━━━━━━╇━━━━━━━━━━━━━━━━━┩\n",
       "│ input_layer_3 (\u001b[38;5;33mInputLayer\u001b[0m)           │ (\u001b[38;5;45mNone\u001b[0m, \u001b[38;5;34m500\u001b[0m, \u001b[38;5;34m6\u001b[0m)              │               \u001b[38;5;34m0\u001b[0m │\n",
       "├──────────────────────────────────────┼─────────────────────────────┼─────────────────┤\n",
       "│ ConvBlock (\u001b[38;5;33mConvBlock\u001b[0m)                │ (\u001b[38;5;45mNone\u001b[0m, \u001b[38;5;34m500\u001b[0m, \u001b[38;5;34m32\u001b[0m)             │           \u001b[38;5;34m2,080\u001b[0m │\n",
       "├──────────────────────────────────────┼─────────────────────────────┼─────────────────┤\n",
       "│ ResBiGRU1 (\u001b[38;5;33mResBiGRU\u001b[0m)                 │ (\u001b[38;5;45mNone\u001b[0m, \u001b[38;5;34m500\u001b[0m, \u001b[38;5;34m64\u001b[0m)             │          \u001b[38;5;34m25,408\u001b[0m │\n",
       "├──────────────────────────────────────┼─────────────────────────────┼─────────────────┤\n",
       "│ global_max_pooling1d_2               │ (\u001b[38;5;45mNone\u001b[0m, \u001b[38;5;34m64\u001b[0m)                  │               \u001b[38;5;34m0\u001b[0m │\n",
       "│ (\u001b[38;5;33mGlobalMaxPooling1D\u001b[0m)                 │                             │                 │\n",
       "├──────────────────────────────────────┼─────────────────────────────┼─────────────────┤\n",
       "│ dense_2 (\u001b[38;5;33mDense\u001b[0m)                      │ (\u001b[38;5;45mNone\u001b[0m, \u001b[38;5;34m31\u001b[0m)                  │           \u001b[38;5;34m2,015\u001b[0m │\n",
       "└──────────────────────────────────────┴─────────────────────────────┴─────────────────┘\n"
      ]
     },
     "metadata": {},
     "output_type": "display_data"
    },
    {
     "data": {
      "text/html": [
       "<pre style=\"white-space:pre;overflow-x:auto;line-height:normal;font-family:Menlo,'DejaVu Sans Mono',consolas,'Courier New',monospace\"><span style=\"font-weight: bold\"> Total params: </span><span style=\"color: #00af00; text-decoration-color: #00af00\">29,503</span> (115.25 KB)\n",
       "</pre>\n"
      ],
      "text/plain": [
       "\u001b[1m Total params: \u001b[0m\u001b[38;5;34m29,503\u001b[0m (115.25 KB)\n"
      ]
     },
     "metadata": {},
     "output_type": "display_data"
    },
    {
     "data": {
      "text/html": [
       "<pre style=\"white-space:pre;overflow-x:auto;line-height:normal;font-family:Menlo,'DejaVu Sans Mono',consolas,'Courier New',monospace\"><span style=\"font-weight: bold\"> Trainable params: </span><span style=\"color: #00af00; text-decoration-color: #00af00\">29,439</span> (115.00 KB)\n",
       "</pre>\n"
      ],
      "text/plain": [
       "\u001b[1m Trainable params: \u001b[0m\u001b[38;5;34m29,439\u001b[0m (115.00 KB)\n"
      ]
     },
     "metadata": {},
     "output_type": "display_data"
    },
    {
     "data": {
      "text/html": [
       "<pre style=\"white-space:pre;overflow-x:auto;line-height:normal;font-family:Menlo,'DejaVu Sans Mono',consolas,'Courier New',monospace\"><span style=\"font-weight: bold\"> Non-trainable params: </span><span style=\"color: #00af00; text-decoration-color: #00af00\">64</span> (256.00 B)\n",
       "</pre>\n"
      ],
      "text/plain": [
       "\u001b[1m Non-trainable params: \u001b[0m\u001b[38;5;34m64\u001b[0m (256.00 B)\n"
      ]
     },
     "metadata": {},
     "output_type": "display_data"
    }
   ],
   "source": [
    "CNNResBiGRU_model_3 = CNNResBiGRU_3(shape = (sz, dim))\n",
    "CNNResBiGRU_model_3.summary()"
   ]
  },
  {
   "cell_type": "code",
   "execution_count": null,
   "id": "ymDHlh94sm5k",
   "metadata": {
    "colab": {
     "base_uri": "https://localhost:8080/"
    },
    "id": "ymDHlh94sm5k",
    "outputId": "a376b994-1131-47dd-bb87-0e7cf02e57c7"
   },
   "outputs": [
    {
     "name": "stdout",
     "output_type": "stream",
     "text": [
      "Epoch 1/25\n",
      "\u001b[1m48/48\u001b[0m \u001b[32m━━━━━━━━━━━━━━━━━━━━\u001b[0m\u001b[37m\u001b[0m \u001b[1m37s\u001b[0m 544ms/step - accuracy: 0.1499 - loss: 3.6189 - val_accuracy: 0.4758 - val_loss: 2.1063\n",
      "Epoch 2/25\n",
      "\u001b[1m48/48\u001b[0m \u001b[32m━━━━━━━━━━━━━━━━━━━━\u001b[0m\u001b[37m\u001b[0m \u001b[1m19s\u001b[0m 400ms/step - accuracy: 0.4465 - loss: 1.8864 - val_accuracy: 0.6129 - val_loss: 1.5812\n",
      "Epoch 3/25\n",
      "\u001b[1m48/48\u001b[0m \u001b[32m━━━━━━━━━━━━━━━━━━━━\u001b[0m\u001b[37m\u001b[0m \u001b[1m19s\u001b[0m 399ms/step - accuracy: 0.5535 - loss: 1.4457 - val_accuracy: 0.6492 - val_loss: 1.2530\n",
      "Epoch 4/25\n",
      "\u001b[1m48/48\u001b[0m \u001b[32m━━━━━━━━━━━━━━━━━━━━\u001b[0m\u001b[37m\u001b[0m \u001b[1m19s\u001b[0m 400ms/step - accuracy: 0.6525 - loss: 1.1604 - val_accuracy: 0.6250 - val_loss: 1.0859\n",
      "Epoch 5/25\n",
      "\u001b[1m48/48\u001b[0m \u001b[32m━━━━━━━━━━━━━━━━━━━━\u001b[0m\u001b[37m\u001b[0m \u001b[1m19s\u001b[0m 396ms/step - accuracy: 0.7567 - loss: 0.9049 - val_accuracy: 0.6865 - val_loss: 0.9350\n",
      "Epoch 6/25\n",
      "\u001b[1m48/48\u001b[0m \u001b[32m━━━━━━━━━━━━━━━━━━━━\u001b[0m\u001b[37m\u001b[0m \u001b[1m19s\u001b[0m 397ms/step - accuracy: 0.8212 - loss: 0.7233 - val_accuracy: 0.7077 - val_loss: 0.8356\n",
      "Epoch 7/25\n",
      "\u001b[1m48/48\u001b[0m \u001b[32m━━━━━━━━━━━━━━━━━━━━\u001b[0m\u001b[37m\u001b[0m \u001b[1m19s\u001b[0m 397ms/step - accuracy: 0.8855 - loss: 0.5681 - val_accuracy: 0.7288 - val_loss: 0.7635\n",
      "Epoch 8/25\n",
      "\u001b[1m48/48\u001b[0m \u001b[32m━━━━━━━━━━━━━━━━━━━━\u001b[0m\u001b[37m\u001b[0m \u001b[1m19s\u001b[0m 396ms/step - accuracy: 0.9141 - loss: 0.4584 - val_accuracy: 0.7450 - val_loss: 0.6936\n",
      "Epoch 9/25\n",
      "\u001b[1m48/48\u001b[0m \u001b[32m━━━━━━━━━━━━━━━━━━━━\u001b[0m\u001b[37m\u001b[0m \u001b[1m19s\u001b[0m 397ms/step - accuracy: 0.9401 - loss: 0.3526 - val_accuracy: 0.7490 - val_loss: 0.6742\n",
      "Epoch 10/25\n",
      "\u001b[1m48/48\u001b[0m \u001b[32m━━━━━━━━━━━━━━━━━━━━\u001b[0m\u001b[37m\u001b[0m \u001b[1m19s\u001b[0m 397ms/step - accuracy: 0.9489 - loss: 0.2861 - val_accuracy: 0.7409 - val_loss: 0.6455\n",
      "Epoch 11/25\n",
      "\u001b[1m48/48\u001b[0m \u001b[32m━━━━━━━━━━━━━━━━━━━━\u001b[0m\u001b[37m\u001b[0m \u001b[1m19s\u001b[0m 396ms/step - accuracy: 0.9684 - loss: 0.2158 - val_accuracy: 0.7540 - val_loss: 0.6476\n",
      "Epoch 12/25\n",
      "\u001b[1m48/48\u001b[0m \u001b[32m━━━━━━━━━━━━━━━━━━━━\u001b[0m\u001b[37m\u001b[0m \u001b[1m19s\u001b[0m 397ms/step - accuracy: 0.9785 - loss: 0.1816 - val_accuracy: 0.7621 - val_loss: 0.6145\n",
      "Epoch 13/25\n",
      "\u001b[1m48/48\u001b[0m \u001b[32m━━━━━━━━━━━━━━━━━━━━\u001b[0m\u001b[37m\u001b[0m \u001b[1m19s\u001b[0m 398ms/step - accuracy: 0.9923 - loss: 0.1229 - val_accuracy: 0.7974 - val_loss: 0.5838\n",
      "Epoch 14/25\n",
      "\u001b[1m48/48\u001b[0m \u001b[32m━━━━━━━━━━━━━━━━━━━━\u001b[0m\u001b[37m\u001b[0m \u001b[1m19s\u001b[0m 398ms/step - accuracy: 0.9919 - loss: 0.0995 - val_accuracy: 0.7470 - val_loss: 0.6562\n",
      "Epoch 15/25\n",
      "\u001b[1m48/48\u001b[0m \u001b[32m━━━━━━━━━━━━━━━━━━━━\u001b[0m\u001b[37m\u001b[0m \u001b[1m19s\u001b[0m 396ms/step - accuracy: 0.9909 - loss: 0.0910 - val_accuracy: 0.7621 - val_loss: 0.6435\n",
      "Epoch 16/25\n",
      "\u001b[1m48/48\u001b[0m \u001b[32m━━━━━━━━━━━━━━━━━━━━\u001b[0m\u001b[37m\u001b[0m \u001b[1m19s\u001b[0m 398ms/step - accuracy: 0.9941 - loss: 0.0891 - val_accuracy: 0.7308 - val_loss: 0.6966\n",
      "Epoch 17/25\n",
      "\u001b[1m48/48\u001b[0m \u001b[32m━━━━━━━━━━━━━━━━━━━━\u001b[0m\u001b[37m\u001b[0m \u001b[1m19s\u001b[0m 397ms/step - accuracy: 0.9778 - loss: 0.1415 - val_accuracy: 0.7399 - val_loss: 0.7611\n",
      "Epoch 18/25\n",
      "\u001b[1m48/48\u001b[0m \u001b[32m━━━━━━━━━━━━━━━━━━━━\u001b[0m\u001b[37m\u001b[0m \u001b[1m19s\u001b[0m 396ms/step - accuracy: 0.9951 - loss: 0.0788 - val_accuracy: 0.7490 - val_loss: 0.6957\n",
      "Epoch 19/25\n",
      "\u001b[1m48/48\u001b[0m \u001b[32m━━━━━━━━━━━━━━━━━━━━\u001b[0m\u001b[37m\u001b[0m \u001b[1m19s\u001b[0m 397ms/step - accuracy: 0.9958 - loss: 0.0569 - val_accuracy: 0.7540 - val_loss: 0.6471\n",
      "Epoch 20/25\n",
      "\u001b[1m48/48\u001b[0m \u001b[32m━━━━━━━━━━━━━━━━━━━━\u001b[0m\u001b[37m\u001b[0m \u001b[1m19s\u001b[0m 395ms/step - accuracy: 0.9955 - loss: 0.0455 - val_accuracy: 0.7681 - val_loss: 0.6411\n",
      "Epoch 21/25\n",
      "\u001b[1m48/48\u001b[0m \u001b[32m━━━━━━━━━━━━━━━━━━━━\u001b[0m\u001b[37m\u001b[0m \u001b[1m19s\u001b[0m 398ms/step - accuracy: 0.9986 - loss: 0.0370 - val_accuracy: 0.7611 - val_loss: 0.6671\n",
      "Epoch 22/25\n",
      "\u001b[1m48/48\u001b[0m \u001b[32m━━━━━━━━━━━━━━━━━━━━\u001b[0m\u001b[37m\u001b[0m \u001b[1m19s\u001b[0m 397ms/step - accuracy: 0.9981 - loss: 0.0372 - val_accuracy: 0.7722 - val_loss: 0.6866\n",
      "Epoch 23/25\n",
      "\u001b[1m48/48\u001b[0m \u001b[32m━━━━━━━━━━━━━━━━━━━━\u001b[0m\u001b[37m\u001b[0m \u001b[1m19s\u001b[0m 397ms/step - accuracy: 0.9979 - loss: 0.0291 - val_accuracy: 0.7752 - val_loss: 0.6555\n",
      "Epoch 24/25\n",
      "\u001b[1m48/48\u001b[0m \u001b[32m━━━━━━━━━━━━━━━━━━━━\u001b[0m\u001b[37m\u001b[0m \u001b[1m19s\u001b[0m 396ms/step - accuracy: 0.9843 - loss: 0.0938 - val_accuracy: 0.7560 - val_loss: 0.7842\n",
      "Epoch 25/25\n",
      "\u001b[1m48/48\u001b[0m \u001b[32m━━━━━━━━━━━━━━━━━━━━\u001b[0m\u001b[37m\u001b[0m \u001b[1m19s\u001b[0m 397ms/step - accuracy: 0.9978 - loss: 0.0462 - val_accuracy: 0.7641 - val_loss: 0.7324\n"
     ]
    }
   ],
   "source": [
    "CNNResBiGRU_model_3 = CNNResBiGRU_3(shape = (sz, dim))\n",
    "CNNResBiGRU_model_3.compile(optimizer=Adam(learning_rate=0.001, beta_1=0.90, beta_2=0.99, epsilon=1e-08), loss='categorical_crossentropy', metrics=['accuracy'])\n",
    "history_3 = CNNResBiGRU_model_3.fit(train_ds, validation_data=val_ds, epochs=25, verbose = 1)"
   ]
  },
  {
   "cell_type": "code",
   "execution_count": null,
   "id": "xoMeW1L8sm-L",
   "metadata": {
    "id": "xoMeW1L8sm-L"
   },
   "outputs": [],
   "source": [
    "CNNResBiGRU_model_3.save('../models/CNNResBiGRU_model/CNNResBiGRU_model_3.keras')\n",
    "with open('../models/CNNResBiGRU_model/train_history_3.pkl', 'wb') as f:\n",
    "    pickle.dump(history_3.history, f)"
   ]
  },
  {
   "cell_type": "code",
   "execution_count": null,
   "id": "1cq6wHuVsnNs",
   "metadata": {
    "id": "1cq6wHuVsnNs"
   },
   "outputs": [],
   "source": [
    "# Load the model\n",
    "custom_objects = {'ConvBlock': ConvBlock, 'ResBiGRU': ResBiGRU}\n",
    "CNNResBiGRU_model_3 = load_model('../models/CNNResBiGRU_model/CNNResBiGRU_model_3.keras', custom_objects=custom_objects)\n",
    "\n",
    "# Load the training history\n",
    "with open('../models/CNNResBiGRU_model/train_history_3.pkl', 'rb') as f:\n",
    "    history_3 = pickle.load(f)"
   ]
  },
  {
   "cell_type": "code",
   "execution_count": null,
   "id": "AI2CT5u4s87Y",
   "metadata": {
    "colab": {
     "base_uri": "https://localhost:8080/"
    },
    "id": "AI2CT5u4s87Y",
    "outputId": "d8bbd4f1-0a98-4d50-d1a9-86ec8dbebeae"
   },
   "outputs": [
    {
     "name": "stdout",
     "output_type": "stream",
     "text": [
      "\u001b[1m16/16\u001b[0m \u001b[32m━━━━━━━━━━━━━━━━━━━━\u001b[0m\u001b[37m\u001b[0m \u001b[1m4s\u001b[0m 123ms/step - accuracy: 0.7603 - loss: 0.7365\n",
      "Validation Loss: 0.732425332069397\n",
      "Validation Accuracy: 0.7641128897666931\n"
     ]
    }
   ],
   "source": [
    "CNNResBiGRU_3_results = CNNResBiGRU_model_3.evaluate(val_ds, batch_size=128)\n",
    "print(\"Validation Loss: {}\\nValidation Accuracy: {}\".format(*CNNResBiGRU_3_results))"
   ]
  },
  {
   "cell_type": "markdown",
   "id": "77FYkuC-waOM",
   "metadata": {
    "id": "77FYkuC-waOM"
   },
   "source": [
    "#### **Model 4**"
   ]
  },
  {
   "cell_type": "markdown",
   "id": "NDRPxkN7wdd_",
   "metadata": {
    "id": "NDRPxkN7wdd_"
   },
   "source": [
    "The final model tested is the largest of the 4 models considered, and has 5 ResBiGRU blocks and an additional residual connection *between* consecutive blocks."
   ]
  },
  {
   "cell_type": "code",
   "execution_count": null,
   "id": "qkh9MxgEwak8",
   "metadata": {
    "id": "qkh9MxgEwak8"
   },
   "outputs": [],
   "source": [
    "def CNNResBiGRU_4(shape):\n",
    "    block1_input_layer = Input(shape=shape)\n",
    "\n",
    "    z = ConvBlock(num_filters = 64, name = \"ConvBlock\")(block1_input_layer)\n",
    "\n",
    "    # The ResBIGRU blocks is repeated several times; the architecture extensively factors in the gradient vanishing problem.\n",
    "    z1 = ResBiGRU(h1_units = 32, h2_units = 32, name = \"ResBiGRU1\")(z)\n",
    "    z = Add()([z, z1])\n",
    "\n",
    "    z2 = ResBiGRU(h1_units = 32, h2_units = 32, name = \"ResBiGRU2\")(z)\n",
    "    z = Add()([z, z2])\n",
    "\n",
    "    z3 = ResBiGRU(h1_units = 32, h2_units = 32, name = \"ResBiGRU3\")(z)\n",
    "    z = Add()([z, z3])\n",
    "\n",
    "    z4 = ResBiGRU(h1_units = 32, h2_units = 32, name = \"ResBiGRU4\")(z)\n",
    "    z = Add()([z, z4])\n",
    "\n",
    "    z5 = ResBiGRU(h1_units = 32, h2_units = 32, name = \"ResBiGRU5\")(z)\n",
    "    z = Add()([z, z5])\n",
    "\n",
    "    z = GlobalMaxPooling1D()(z)\n",
    "    output_layer = Dense(C, activation=\"softmax\")(z)\n",
    "    return Model(inputs=block1_input_layer, outputs=output_layer)"
   ]
  },
  {
   "cell_type": "code",
   "execution_count": null,
   "id": "ks-2wgTTwa0Y",
   "metadata": {
    "colab": {
     "base_uri": "https://localhost:8080/",
     "height": 689
    },
    "id": "ks-2wgTTwa0Y",
    "outputId": "9d952373-a1b8-4986-9e5f-b2bb708ae95c"
   },
   "outputs": [
    {
     "data": {
      "text/html": [
       "<pre style=\"white-space:pre;overflow-x:auto;line-height:normal;font-family:Menlo,'DejaVu Sans Mono',consolas,'Courier New',monospace\"><span style=\"font-weight: bold\">Model: \"functional_2\"</span>\n",
       "</pre>\n"
      ],
      "text/plain": [
       "\u001b[1mModel: \"functional_2\"\u001b[0m\n"
      ]
     },
     "metadata": {},
     "output_type": "display_data"
    },
    {
     "data": {
      "text/html": [
       "<pre style=\"white-space:pre;overflow-x:auto;line-height:normal;font-family:Menlo,'DejaVu Sans Mono',consolas,'Courier New',monospace\">┏━━━━━━━━━━━━━━━━━━━━━━━━━━━┳━━━━━━━━━━━━━━━━━━━━━━━━┳━━━━━━━━━━━━━━━━┳━━━━━━━━━━━━━━━━━━━━━━━━┓\n",
       "┃<span style=\"font-weight: bold\"> Layer (type)              </span>┃<span style=\"font-weight: bold\"> Output Shape           </span>┃<span style=\"font-weight: bold\">        Param # </span>┃<span style=\"font-weight: bold\"> Connected to           </span>┃\n",
       "┡━━━━━━━━━━━━━━━━━━━━━━━━━━━╇━━━━━━━━━━━━━━━━━━━━━━━━╇━━━━━━━━━━━━━━━━╇━━━━━━━━━━━━━━━━━━━━━━━━┩\n",
       "│ input_layer_11            │ (<span style=\"color: #00d7ff; text-decoration-color: #00d7ff\">None</span>, <span style=\"color: #00af00; text-decoration-color: #00af00\">500</span>, <span style=\"color: #00af00; text-decoration-color: #00af00\">6</span>)         │              <span style=\"color: #00af00; text-decoration-color: #00af00\">0</span> │ -                      │\n",
       "│ (<span style=\"color: #0087ff; text-decoration-color: #0087ff\">InputLayer</span>)              │                        │                │                        │\n",
       "├───────────────────────────┼────────────────────────┼────────────────┼────────────────────────┤\n",
       "│ ConvBlock (<span style=\"color: #0087ff; text-decoration-color: #0087ff\">ConvBlock</span>)     │ (<span style=\"color: #00d7ff; text-decoration-color: #00d7ff\">None</span>, <span style=\"color: #00af00; text-decoration-color: #00af00\">500</span>, <span style=\"color: #00af00; text-decoration-color: #00af00\">64</span>)        │          <span style=\"color: #00af00; text-decoration-color: #00af00\">4,160</span> │ input_layer_11[<span style=\"color: #00af00; text-decoration-color: #00af00\">0</span>][<span style=\"color: #00af00; text-decoration-color: #00af00\">0</span>]   │\n",
       "├───────────────────────────┼────────────────────────┼────────────────┼────────────────────────┤\n",
       "│ ResBiGRU1 (<span style=\"color: #0087ff; text-decoration-color: #0087ff\">ResBiGRU</span>)      │ (<span style=\"color: #00d7ff; text-decoration-color: #00d7ff\">None</span>, <span style=\"color: #00af00; text-decoration-color: #00af00\">500</span>, <span style=\"color: #00af00; text-decoration-color: #00af00\">64</span>)        │         <span style=\"color: #00af00; text-decoration-color: #00af00\">31,552</span> │ ConvBlock[<span style=\"color: #00af00; text-decoration-color: #00af00\">0</span>][<span style=\"color: #00af00; text-decoration-color: #00af00\">0</span>]        │\n",
       "├───────────────────────────┼────────────────────────┼────────────────┼────────────────────────┤\n",
       "│ add_84 (<span style=\"color: #0087ff; text-decoration-color: #0087ff\">Add</span>)              │ (<span style=\"color: #00d7ff; text-decoration-color: #00d7ff\">None</span>, <span style=\"color: #00af00; text-decoration-color: #00af00\">500</span>, <span style=\"color: #00af00; text-decoration-color: #00af00\">64</span>)        │              <span style=\"color: #00af00; text-decoration-color: #00af00\">0</span> │ ConvBlock[<span style=\"color: #00af00; text-decoration-color: #00af00\">0</span>][<span style=\"color: #00af00; text-decoration-color: #00af00\">0</span>],       │\n",
       "│                           │                        │                │ ResBiGRU1[<span style=\"color: #00af00; text-decoration-color: #00af00\">0</span>][<span style=\"color: #00af00; text-decoration-color: #00af00\">0</span>]        │\n",
       "├───────────────────────────┼────────────────────────┼────────────────┼────────────────────────┤\n",
       "│ ResBiGRU2 (<span style=\"color: #0087ff; text-decoration-color: #0087ff\">ResBiGRU</span>)      │ (<span style=\"color: #00d7ff; text-decoration-color: #00d7ff\">None</span>, <span style=\"color: #00af00; text-decoration-color: #00af00\">500</span>, <span style=\"color: #00af00; text-decoration-color: #00af00\">64</span>)        │         <span style=\"color: #00af00; text-decoration-color: #00af00\">31,552</span> │ add_84[<span style=\"color: #00af00; text-decoration-color: #00af00\">0</span>][<span style=\"color: #00af00; text-decoration-color: #00af00\">0</span>]           │\n",
       "├───────────────────────────┼────────────────────────┼────────────────┼────────────────────────┤\n",
       "│ add_87 (<span style=\"color: #0087ff; text-decoration-color: #0087ff\">Add</span>)              │ (<span style=\"color: #00d7ff; text-decoration-color: #00d7ff\">None</span>, <span style=\"color: #00af00; text-decoration-color: #00af00\">500</span>, <span style=\"color: #00af00; text-decoration-color: #00af00\">64</span>)        │              <span style=\"color: #00af00; text-decoration-color: #00af00\">0</span> │ add_84[<span style=\"color: #00af00; text-decoration-color: #00af00\">0</span>][<span style=\"color: #00af00; text-decoration-color: #00af00\">0</span>],          │\n",
       "│                           │                        │                │ ResBiGRU2[<span style=\"color: #00af00; text-decoration-color: #00af00\">0</span>][<span style=\"color: #00af00; text-decoration-color: #00af00\">0</span>]        │\n",
       "├───────────────────────────┼────────────────────────┼────────────────┼────────────────────────┤\n",
       "│ ResBiGRU3 (<span style=\"color: #0087ff; text-decoration-color: #0087ff\">ResBiGRU</span>)      │ (<span style=\"color: #00d7ff; text-decoration-color: #00d7ff\">None</span>, <span style=\"color: #00af00; text-decoration-color: #00af00\">500</span>, <span style=\"color: #00af00; text-decoration-color: #00af00\">64</span>)        │         <span style=\"color: #00af00; text-decoration-color: #00af00\">31,552</span> │ add_87[<span style=\"color: #00af00; text-decoration-color: #00af00\">0</span>][<span style=\"color: #00af00; text-decoration-color: #00af00\">0</span>]           │\n",
       "├───────────────────────────┼────────────────────────┼────────────────┼────────────────────────┤\n",
       "│ add_90 (<span style=\"color: #0087ff; text-decoration-color: #0087ff\">Add</span>)              │ (<span style=\"color: #00d7ff; text-decoration-color: #00d7ff\">None</span>, <span style=\"color: #00af00; text-decoration-color: #00af00\">500</span>, <span style=\"color: #00af00; text-decoration-color: #00af00\">64</span>)        │              <span style=\"color: #00af00; text-decoration-color: #00af00\">0</span> │ add_87[<span style=\"color: #00af00; text-decoration-color: #00af00\">0</span>][<span style=\"color: #00af00; text-decoration-color: #00af00\">0</span>],          │\n",
       "│                           │                        │                │ ResBiGRU3[<span style=\"color: #00af00; text-decoration-color: #00af00\">0</span>][<span style=\"color: #00af00; text-decoration-color: #00af00\">0</span>]        │\n",
       "├───────────────────────────┼────────────────────────┼────────────────┼────────────────────────┤\n",
       "│ ResBiGRU4 (<span style=\"color: #0087ff; text-decoration-color: #0087ff\">ResBiGRU</span>)      │ (<span style=\"color: #00d7ff; text-decoration-color: #00d7ff\">None</span>, <span style=\"color: #00af00; text-decoration-color: #00af00\">500</span>, <span style=\"color: #00af00; text-decoration-color: #00af00\">64</span>)        │         <span style=\"color: #00af00; text-decoration-color: #00af00\">31,552</span> │ add_90[<span style=\"color: #00af00; text-decoration-color: #00af00\">0</span>][<span style=\"color: #00af00; text-decoration-color: #00af00\">0</span>]           │\n",
       "├───────────────────────────┼────────────────────────┼────────────────┼────────────────────────┤\n",
       "│ add_93 (<span style=\"color: #0087ff; text-decoration-color: #0087ff\">Add</span>)              │ (<span style=\"color: #00d7ff; text-decoration-color: #00d7ff\">None</span>, <span style=\"color: #00af00; text-decoration-color: #00af00\">500</span>, <span style=\"color: #00af00; text-decoration-color: #00af00\">64</span>)        │              <span style=\"color: #00af00; text-decoration-color: #00af00\">0</span> │ add_90[<span style=\"color: #00af00; text-decoration-color: #00af00\">0</span>][<span style=\"color: #00af00; text-decoration-color: #00af00\">0</span>],          │\n",
       "│                           │                        │                │ ResBiGRU4[<span style=\"color: #00af00; text-decoration-color: #00af00\">0</span>][<span style=\"color: #00af00; text-decoration-color: #00af00\">0</span>]        │\n",
       "├───────────────────────────┼────────────────────────┼────────────────┼────────────────────────┤\n",
       "│ ResBiGRU5 (<span style=\"color: #0087ff; text-decoration-color: #0087ff\">ResBiGRU</span>)      │ (<span style=\"color: #00d7ff; text-decoration-color: #00d7ff\">None</span>, <span style=\"color: #00af00; text-decoration-color: #00af00\">500</span>, <span style=\"color: #00af00; text-decoration-color: #00af00\">64</span>)        │         <span style=\"color: #00af00; text-decoration-color: #00af00\">31,552</span> │ add_93[<span style=\"color: #00af00; text-decoration-color: #00af00\">0</span>][<span style=\"color: #00af00; text-decoration-color: #00af00\">0</span>]           │\n",
       "├───────────────────────────┼────────────────────────┼────────────────┼────────────────────────┤\n",
       "│ add_96 (<span style=\"color: #0087ff; text-decoration-color: #0087ff\">Add</span>)              │ (<span style=\"color: #00d7ff; text-decoration-color: #00d7ff\">None</span>, <span style=\"color: #00af00; text-decoration-color: #00af00\">500</span>, <span style=\"color: #00af00; text-decoration-color: #00af00\">64</span>)        │              <span style=\"color: #00af00; text-decoration-color: #00af00\">0</span> │ add_93[<span style=\"color: #00af00; text-decoration-color: #00af00\">0</span>][<span style=\"color: #00af00; text-decoration-color: #00af00\">0</span>],          │\n",
       "│                           │                        │                │ ResBiGRU5[<span style=\"color: #00af00; text-decoration-color: #00af00\">0</span>][<span style=\"color: #00af00; text-decoration-color: #00af00\">0</span>]        │\n",
       "├───────────────────────────┼────────────────────────┼────────────────┼────────────────────────┤\n",
       "│ global_max_pooling1d_2    │ (<span style=\"color: #00d7ff; text-decoration-color: #00d7ff\">None</span>, <span style=\"color: #00af00; text-decoration-color: #00af00\">64</span>)             │              <span style=\"color: #00af00; text-decoration-color: #00af00\">0</span> │ add_96[<span style=\"color: #00af00; text-decoration-color: #00af00\">0</span>][<span style=\"color: #00af00; text-decoration-color: #00af00\">0</span>]           │\n",
       "│ (<span style=\"color: #0087ff; text-decoration-color: #0087ff\">GlobalMaxPooling1D</span>)      │                        │                │                        │\n",
       "├───────────────────────────┼────────────────────────┼────────────────┼────────────────────────┤\n",
       "│ dense_4 (<span style=\"color: #0087ff; text-decoration-color: #0087ff\">Dense</span>)           │ (<span style=\"color: #00d7ff; text-decoration-color: #00d7ff\">None</span>, <span style=\"color: #00af00; text-decoration-color: #00af00\">31</span>)             │          <span style=\"color: #00af00; text-decoration-color: #00af00\">2,015</span> │ global_max_pooling1d_… │\n",
       "└───────────────────────────┴────────────────────────┴────────────────┴────────────────────────┘\n",
       "</pre>\n"
      ],
      "text/plain": [
       "┏━━━━━━━━━━━━━━━━━━━━━━━━━━━┳━━━━━━━━━━━━━━━━━━━━━━━━┳━━━━━━━━━━━━━━━━┳━━━━━━━━━━━━━━━━━━━━━━━━┓\n",
       "┃\u001b[1m \u001b[0m\u001b[1mLayer (type)             \u001b[0m\u001b[1m \u001b[0m┃\u001b[1m \u001b[0m\u001b[1mOutput Shape          \u001b[0m\u001b[1m \u001b[0m┃\u001b[1m \u001b[0m\u001b[1m       Param #\u001b[0m\u001b[1m \u001b[0m┃\u001b[1m \u001b[0m\u001b[1mConnected to          \u001b[0m\u001b[1m \u001b[0m┃\n",
       "┡━━━━━━━━━━━━━━━━━━━━━━━━━━━╇━━━━━━━━━━━━━━━━━━━━━━━━╇━━━━━━━━━━━━━━━━╇━━━━━━━━━━━━━━━━━━━━━━━━┩\n",
       "│ input_layer_11            │ (\u001b[38;5;45mNone\u001b[0m, \u001b[38;5;34m500\u001b[0m, \u001b[38;5;34m6\u001b[0m)         │              \u001b[38;5;34m0\u001b[0m │ -                      │\n",
       "│ (\u001b[38;5;33mInputLayer\u001b[0m)              │                        │                │                        │\n",
       "├───────────────────────────┼────────────────────────┼────────────────┼────────────────────────┤\n",
       "│ ConvBlock (\u001b[38;5;33mConvBlock\u001b[0m)     │ (\u001b[38;5;45mNone\u001b[0m, \u001b[38;5;34m500\u001b[0m, \u001b[38;5;34m64\u001b[0m)        │          \u001b[38;5;34m4,160\u001b[0m │ input_layer_11[\u001b[38;5;34m0\u001b[0m][\u001b[38;5;34m0\u001b[0m]   │\n",
       "├───────────────────────────┼────────────────────────┼────────────────┼────────────────────────┤\n",
       "│ ResBiGRU1 (\u001b[38;5;33mResBiGRU\u001b[0m)      │ (\u001b[38;5;45mNone\u001b[0m, \u001b[38;5;34m500\u001b[0m, \u001b[38;5;34m64\u001b[0m)        │         \u001b[38;5;34m31,552\u001b[0m │ ConvBlock[\u001b[38;5;34m0\u001b[0m][\u001b[38;5;34m0\u001b[0m]        │\n",
       "├───────────────────────────┼────────────────────────┼────────────────┼────────────────────────┤\n",
       "│ add_84 (\u001b[38;5;33mAdd\u001b[0m)              │ (\u001b[38;5;45mNone\u001b[0m, \u001b[38;5;34m500\u001b[0m, \u001b[38;5;34m64\u001b[0m)        │              \u001b[38;5;34m0\u001b[0m │ ConvBlock[\u001b[38;5;34m0\u001b[0m][\u001b[38;5;34m0\u001b[0m],       │\n",
       "│                           │                        │                │ ResBiGRU1[\u001b[38;5;34m0\u001b[0m][\u001b[38;5;34m0\u001b[0m]        │\n",
       "├───────────────────────────┼────────────────────────┼────────────────┼────────────────────────┤\n",
       "│ ResBiGRU2 (\u001b[38;5;33mResBiGRU\u001b[0m)      │ (\u001b[38;5;45mNone\u001b[0m, \u001b[38;5;34m500\u001b[0m, \u001b[38;5;34m64\u001b[0m)        │         \u001b[38;5;34m31,552\u001b[0m │ add_84[\u001b[38;5;34m0\u001b[0m][\u001b[38;5;34m0\u001b[0m]           │\n",
       "├───────────────────────────┼────────────────────────┼────────────────┼────────────────────────┤\n",
       "│ add_87 (\u001b[38;5;33mAdd\u001b[0m)              │ (\u001b[38;5;45mNone\u001b[0m, \u001b[38;5;34m500\u001b[0m, \u001b[38;5;34m64\u001b[0m)        │              \u001b[38;5;34m0\u001b[0m │ add_84[\u001b[38;5;34m0\u001b[0m][\u001b[38;5;34m0\u001b[0m],          │\n",
       "│                           │                        │                │ ResBiGRU2[\u001b[38;5;34m0\u001b[0m][\u001b[38;5;34m0\u001b[0m]        │\n",
       "├───────────────────────────┼────────────────────────┼────────────────┼────────────────────────┤\n",
       "│ ResBiGRU3 (\u001b[38;5;33mResBiGRU\u001b[0m)      │ (\u001b[38;5;45mNone\u001b[0m, \u001b[38;5;34m500\u001b[0m, \u001b[38;5;34m64\u001b[0m)        │         \u001b[38;5;34m31,552\u001b[0m │ add_87[\u001b[38;5;34m0\u001b[0m][\u001b[38;5;34m0\u001b[0m]           │\n",
       "├───────────────────────────┼────────────────────────┼────────────────┼────────────────────────┤\n",
       "│ add_90 (\u001b[38;5;33mAdd\u001b[0m)              │ (\u001b[38;5;45mNone\u001b[0m, \u001b[38;5;34m500\u001b[0m, \u001b[38;5;34m64\u001b[0m)        │              \u001b[38;5;34m0\u001b[0m │ add_87[\u001b[38;5;34m0\u001b[0m][\u001b[38;5;34m0\u001b[0m],          │\n",
       "│                           │                        │                │ ResBiGRU3[\u001b[38;5;34m0\u001b[0m][\u001b[38;5;34m0\u001b[0m]        │\n",
       "├───────────────────────────┼────────────────────────┼────────────────┼────────────────────────┤\n",
       "│ ResBiGRU4 (\u001b[38;5;33mResBiGRU\u001b[0m)      │ (\u001b[38;5;45mNone\u001b[0m, \u001b[38;5;34m500\u001b[0m, \u001b[38;5;34m64\u001b[0m)        │         \u001b[38;5;34m31,552\u001b[0m │ add_90[\u001b[38;5;34m0\u001b[0m][\u001b[38;5;34m0\u001b[0m]           │\n",
       "├───────────────────────────┼────────────────────────┼────────────────┼────────────────────────┤\n",
       "│ add_93 (\u001b[38;5;33mAdd\u001b[0m)              │ (\u001b[38;5;45mNone\u001b[0m, \u001b[38;5;34m500\u001b[0m, \u001b[38;5;34m64\u001b[0m)        │              \u001b[38;5;34m0\u001b[0m │ add_90[\u001b[38;5;34m0\u001b[0m][\u001b[38;5;34m0\u001b[0m],          │\n",
       "│                           │                        │                │ ResBiGRU4[\u001b[38;5;34m0\u001b[0m][\u001b[38;5;34m0\u001b[0m]        │\n",
       "├───────────────────────────┼────────────────────────┼────────────────┼────────────────────────┤\n",
       "│ ResBiGRU5 (\u001b[38;5;33mResBiGRU\u001b[0m)      │ (\u001b[38;5;45mNone\u001b[0m, \u001b[38;5;34m500\u001b[0m, \u001b[38;5;34m64\u001b[0m)        │         \u001b[38;5;34m31,552\u001b[0m │ add_93[\u001b[38;5;34m0\u001b[0m][\u001b[38;5;34m0\u001b[0m]           │\n",
       "├───────────────────────────┼────────────────────────┼────────────────┼────────────────────────┤\n",
       "│ add_96 (\u001b[38;5;33mAdd\u001b[0m)              │ (\u001b[38;5;45mNone\u001b[0m, \u001b[38;5;34m500\u001b[0m, \u001b[38;5;34m64\u001b[0m)        │              \u001b[38;5;34m0\u001b[0m │ add_93[\u001b[38;5;34m0\u001b[0m][\u001b[38;5;34m0\u001b[0m],          │\n",
       "│                           │                        │                │ ResBiGRU5[\u001b[38;5;34m0\u001b[0m][\u001b[38;5;34m0\u001b[0m]        │\n",
       "├───────────────────────────┼────────────────────────┼────────────────┼────────────────────────┤\n",
       "│ global_max_pooling1d_2    │ (\u001b[38;5;45mNone\u001b[0m, \u001b[38;5;34m64\u001b[0m)             │              \u001b[38;5;34m0\u001b[0m │ add_96[\u001b[38;5;34m0\u001b[0m][\u001b[38;5;34m0\u001b[0m]           │\n",
       "│ (\u001b[38;5;33mGlobalMaxPooling1D\u001b[0m)      │                        │                │                        │\n",
       "├───────────────────────────┼────────────────────────┼────────────────┼────────────────────────┤\n",
       "│ dense_4 (\u001b[38;5;33mDense\u001b[0m)           │ (\u001b[38;5;45mNone\u001b[0m, \u001b[38;5;34m31\u001b[0m)             │          \u001b[38;5;34m2,015\u001b[0m │ global_max_pooling1d_… │\n",
       "└───────────────────────────┴────────────────────────┴────────────────┴────────────────────────┘\n"
      ]
     },
     "metadata": {},
     "output_type": "display_data"
    },
    {
     "data": {
      "text/html": [
       "<pre style=\"white-space:pre;overflow-x:auto;line-height:normal;font-family:Menlo,'DejaVu Sans Mono',consolas,'Courier New',monospace\"><span style=\"font-weight: bold\"> Total params: </span><span style=\"color: #00af00; text-decoration-color: #00af00\">163,935</span> (640.37 KB)\n",
       "</pre>\n"
      ],
      "text/plain": [
       "\u001b[1m Total params: \u001b[0m\u001b[38;5;34m163,935\u001b[0m (640.37 KB)\n"
      ]
     },
     "metadata": {},
     "output_type": "display_data"
    },
    {
     "data": {
      "text/html": [
       "<pre style=\"white-space:pre;overflow-x:auto;line-height:normal;font-family:Menlo,'DejaVu Sans Mono',consolas,'Courier New',monospace\"><span style=\"font-weight: bold\"> Trainable params: </span><span style=\"color: #00af00; text-decoration-color: #00af00\">163,807</span> (639.87 KB)\n",
       "</pre>\n"
      ],
      "text/plain": [
       "\u001b[1m Trainable params: \u001b[0m\u001b[38;5;34m163,807\u001b[0m (639.87 KB)\n"
      ]
     },
     "metadata": {},
     "output_type": "display_data"
    },
    {
     "data": {
      "text/html": [
       "<pre style=\"white-space:pre;overflow-x:auto;line-height:normal;font-family:Menlo,'DejaVu Sans Mono',consolas,'Courier New',monospace\"><span style=\"font-weight: bold\"> Non-trainable params: </span><span style=\"color: #00af00; text-decoration-color: #00af00\">128</span> (512.00 B)\n",
       "</pre>\n"
      ],
      "text/plain": [
       "\u001b[1m Non-trainable params: \u001b[0m\u001b[38;5;34m128\u001b[0m (512.00 B)\n"
      ]
     },
     "metadata": {},
     "output_type": "display_data"
    }
   ],
   "source": [
    "CNNResBiGRU_model_4 = CNNResBiGRU_4(shape = (sz, dim))\n",
    "CNNResBiGRU_model_4.summary()"
   ]
  },
  {
   "cell_type": "code",
   "execution_count": null,
   "id": "PJt1lCwvwwvt",
   "metadata": {
    "colab": {
     "base_uri": "https://localhost:8080/"
    },
    "id": "PJt1lCwvwwvt",
    "outputId": "3c022db2-b021-4543-f37e-1582b0126464"
   },
   "outputs": [
    {
     "name": "stdout",
     "output_type": "stream",
     "text": [
      "Epoch 1/25\n",
      "\u001b[1m48/48\u001b[0m \u001b[32m━━━━━━━━━━━━━━━━━━━━\u001b[0m\u001b[37m\u001b[0m \u001b[1m160s\u001b[0m 2s/step - accuracy: 0.2178 - loss: 4.9431 - val_accuracy: 0.5071 - val_loss: 1.4391\n",
      "Epoch 2/25\n",
      "\u001b[1m48/48\u001b[0m \u001b[32m━━━━━━━━━━━━━━━━━━━━\u001b[0m\u001b[37m\u001b[0m \u001b[1m94s\u001b[0m 2s/step - accuracy: 0.7074 - loss: 0.8923 - val_accuracy: 0.6694 - val_loss: 0.8974\n",
      "Epoch 3/25\n",
      "\u001b[1m48/48\u001b[0m \u001b[32m━━━━━━━━━━━━━━━━━━━━\u001b[0m\u001b[37m\u001b[0m \u001b[1m94s\u001b[0m 2s/step - accuracy: 0.8927 - loss: 0.4118 - val_accuracy: 0.7137 - val_loss: 0.7776\n",
      "Epoch 4/25\n",
      "\u001b[1m48/48\u001b[0m \u001b[32m━━━━━━━━━━━━━━━━━━━━\u001b[0m\u001b[37m\u001b[0m \u001b[1m94s\u001b[0m 2s/step - accuracy: 0.9291 - loss: 0.2676 - val_accuracy: 0.7268 - val_loss: 0.6832\n",
      "Epoch 5/25\n",
      "\u001b[1m48/48\u001b[0m \u001b[32m━━━━━━━━━━━━━━━━━━━━\u001b[0m\u001b[37m\u001b[0m \u001b[1m94s\u001b[0m 2s/step - accuracy: 0.9833 - loss: 0.1284 - val_accuracy: 0.7712 - val_loss: 0.7113\n",
      "Epoch 6/25\n",
      "\u001b[1m48/48\u001b[0m \u001b[32m━━━━━━━━━━━━━━━━━━━━\u001b[0m\u001b[37m\u001b[0m \u001b[1m94s\u001b[0m 2s/step - accuracy: 0.9901 - loss: 0.0828 - val_accuracy: 0.7571 - val_loss: 0.7371\n",
      "Epoch 7/25\n",
      "\u001b[1m48/48\u001b[0m \u001b[32m━━━━━━━━━━━━━━━━━━━━\u001b[0m\u001b[37m\u001b[0m \u001b[1m94s\u001b[0m 2s/step - accuracy: 0.9909 - loss: 0.0552 - val_accuracy: 0.7591 - val_loss: 0.6783\n",
      "Epoch 8/25\n",
      "\u001b[1m48/48\u001b[0m \u001b[32m━━━━━━━━━━━━━━━━━━━━\u001b[0m\u001b[37m\u001b[0m \u001b[1m94s\u001b[0m 2s/step - accuracy: 0.9989 - loss: 0.0273 - val_accuracy: 0.7671 - val_loss: 0.6149\n",
      "Epoch 9/25\n",
      "\u001b[1m48/48\u001b[0m \u001b[32m━━━━━━━━━━━━━━━━━━━━\u001b[0m\u001b[37m\u001b[0m \u001b[1m94s\u001b[0m 2s/step - accuracy: 0.9988 - loss: 0.0215 - val_accuracy: 0.7571 - val_loss: 0.6103\n",
      "Epoch 10/25\n",
      "\u001b[1m48/48\u001b[0m \u001b[32m━━━━━━━━━━━━━━━━━━━━\u001b[0m\u001b[37m\u001b[0m \u001b[1m94s\u001b[0m 2s/step - accuracy: 0.9973 - loss: 0.0229 - val_accuracy: 0.7470 - val_loss: 0.8522\n",
      "Epoch 11/25\n",
      "\u001b[1m48/48\u001b[0m \u001b[32m━━━━━━━━━━━━━━━━━━━━\u001b[0m\u001b[37m\u001b[0m \u001b[1m94s\u001b[0m 2s/step - accuracy: 0.9943 - loss: 0.0313 - val_accuracy: 0.7268 - val_loss: 0.8495\n",
      "Epoch 12/25\n",
      "\u001b[1m48/48\u001b[0m \u001b[32m━━━━━━━━━━━━━━━━━━━━\u001b[0m\u001b[37m\u001b[0m \u001b[1m94s\u001b[0m 2s/step - accuracy: 0.9981 - loss: 0.0206 - val_accuracy: 0.7591 - val_loss: 0.7093\n",
      "Epoch 13/25\n",
      "\u001b[1m48/48\u001b[0m \u001b[32m━━━━━━━━━━━━━━━━━━━━\u001b[0m\u001b[37m\u001b[0m \u001b[1m94s\u001b[0m 2s/step - accuracy: 0.9937 - loss: 0.0242 - val_accuracy: 0.7843 - val_loss: 0.7241\n",
      "Epoch 14/25\n",
      "\u001b[1m48/48\u001b[0m \u001b[32m━━━━━━━━━━━━━━━━━━━━\u001b[0m\u001b[37m\u001b[0m \u001b[1m94s\u001b[0m 2s/step - accuracy: 0.9941 - loss: 0.0219 - val_accuracy: 0.7359 - val_loss: 0.8106\n",
      "Epoch 15/25\n",
      "\u001b[1m48/48\u001b[0m \u001b[32m━━━━━━━━━━━━━━━━━━━━\u001b[0m\u001b[37m\u001b[0m \u001b[1m94s\u001b[0m 2s/step - accuracy: 0.9959 - loss: 0.0181 - val_accuracy: 0.7409 - val_loss: 0.8764\n",
      "Epoch 16/25\n",
      "\u001b[1m48/48\u001b[0m \u001b[32m━━━━━━━━━━━━━━━━━━━━\u001b[0m\u001b[37m\u001b[0m \u001b[1m94s\u001b[0m 2s/step - accuracy: 1.0000 - loss: 0.0071 - val_accuracy: 0.7843 - val_loss: 0.6546\n",
      "Epoch 17/25\n",
      "\u001b[1m48/48\u001b[0m \u001b[32m━━━━━━━━━━━━━━━━━━━━\u001b[0m\u001b[37m\u001b[0m \u001b[1m94s\u001b[0m 2s/step - accuracy: 0.9964 - loss: 0.0162 - val_accuracy: 0.7591 - val_loss: 0.8528\n",
      "Epoch 18/25\n",
      "\u001b[1m48/48\u001b[0m \u001b[32m━━━━━━━━━━━━━━━━━━━━\u001b[0m\u001b[37m\u001b[0m \u001b[1m94s\u001b[0m 2s/step - accuracy: 0.9909 - loss: 0.0278 - val_accuracy: 0.7641 - val_loss: 0.7385\n",
      "Epoch 19/25\n",
      "\u001b[1m48/48\u001b[0m \u001b[32m━━━━━━━━━━━━━━━━━━━━\u001b[0m\u001b[37m\u001b[0m \u001b[1m94s\u001b[0m 2s/step - accuracy: 0.9956 - loss: 0.0243 - val_accuracy: 0.7460 - val_loss: 0.8874\n",
      "Epoch 20/25\n",
      "\u001b[1m48/48\u001b[0m \u001b[32m━━━━━━━━━━━━━━━━━━━━\u001b[0m\u001b[37m\u001b[0m \u001b[1m94s\u001b[0m 2s/step - accuracy: 0.9998 - loss: 0.0064 - val_accuracy: 0.7490 - val_loss: 0.8773\n",
      "Epoch 21/25\n",
      "\u001b[1m48/48\u001b[0m \u001b[32m━━━━━━━━━━━━━━━━━━━━\u001b[0m\u001b[37m\u001b[0m \u001b[1m94s\u001b[0m 2s/step - accuracy: 1.0000 - loss: 0.0024 - val_accuracy: 0.7581 - val_loss: 0.9233\n",
      "Epoch 22/25\n",
      "\u001b[1m48/48\u001b[0m \u001b[32m━━━━━━━━━━━━━━━━━━━━\u001b[0m\u001b[37m\u001b[0m \u001b[1m94s\u001b[0m 2s/step - accuracy: 0.9993 - loss: 0.0053 - val_accuracy: 0.7732 - val_loss: 0.8300\n",
      "Epoch 23/25\n",
      "\u001b[1m48/48\u001b[0m \u001b[32m━━━━━━━━━━━━━━━━━━━━\u001b[0m\u001b[37m\u001b[0m \u001b[1m94s\u001b[0m 2s/step - accuracy: 1.0000 - loss: 0.0019 - val_accuracy: 0.7419 - val_loss: 0.8454\n",
      "Epoch 24/25\n",
      "\u001b[1m48/48\u001b[0m \u001b[32m━━━━━━━━━━━━━━━━━━━━\u001b[0m\u001b[37m\u001b[0m \u001b[1m94s\u001b[0m 2s/step - accuracy: 1.0000 - loss: 0.0017 - val_accuracy: 0.7762 - val_loss: 0.8263\n",
      "Epoch 25/25\n",
      "\u001b[1m48/48\u001b[0m \u001b[32m━━━━━━━━━━━━━━━━━━━━\u001b[0m\u001b[37m\u001b[0m \u001b[1m94s\u001b[0m 2s/step - accuracy: 0.9996 - loss: 0.0038 - val_accuracy: 0.7752 - val_loss: 0.9278\n"
     ]
    }
   ],
   "source": [
    "CNNResBiGRU_model_4 = CNNResBiGRU_4(shape = (sz, dim))\n",
    "CNNResBiGRU_model_4.compile(optimizer=Adam(learning_rate=0.001, beta_1=0.95, beta_2=0.99, epsilon=1e-08), loss='categorical_crossentropy', metrics=['accuracy'])\n",
    "history_4 = CNNResBiGRU_model_4.fit(train_ds, validation_data=val_ds, epochs=25, verbose = 1)"
   ]
  },
  {
   "cell_type": "code",
   "execution_count": null,
   "id": "SzUEsmlVww6r",
   "metadata": {
    "id": "SzUEsmlVww6r"
   },
   "outputs": [],
   "source": [
    "CNNResBiGRU_model_4.save('../models/CNNResBiGRU_model/CNNResBiGRU_model_4.keras')\n",
    "with open('../models/CNNResBiGRU_model/train_history_4.pkl', 'wb') as f:\n",
    "    pickle.dump(history_4.history, f)"
   ]
  },
  {
   "cell_type": "code",
   "execution_count": null,
   "id": "5-4hKTROw6Hd",
   "metadata": {
    "id": "5-4hKTROw6Hd"
   },
   "outputs": [],
   "source": [
    "# Load the model\n",
    "custom_objects = {'ConvBlock': ConvBlock, 'ResBiGRU': ResBiGRU}\n",
    "CNNResBiGRU_model_4 = load_model('../models/CNNResBiGRU_model/CNNResBiGRU_model_4.keras', custom_objects=custom_objects)\n",
    "\n",
    "# Load the training history\n",
    "with open('../models/CNNResBiGRU_model/train_history_4.pkl', 'rb') as f:\n",
    "    history_4 = pickle.load(f)"
   ]
  },
  {
   "cell_type": "code",
   "execution_count": null,
   "id": "dkk9kwbmwxBY",
   "metadata": {
    "colab": {
     "base_uri": "https://localhost:8080/"
    },
    "id": "dkk9kwbmwxBY",
    "outputId": "30cdc3a4-ca65-444c-d59c-612a43bb7e47"
   },
   "outputs": [
    {
     "name": "stdout",
     "output_type": "stream",
     "text": [
      "\u001b[1m16/16\u001b[0m \u001b[32m━━━━━━━━━━━━━━━━━━━━\u001b[0m\u001b[37m\u001b[0m \u001b[1m17s\u001b[0m 531ms/step - accuracy: 0.7723 - loss: 0.9675\n",
      "Validation Loss: 0.9277955293655396\n",
      "Validation Accuracy: 0.7752016186714172\n"
     ]
    }
   ],
   "source": [
    "CNNResBiGRU_4_results = CNNResBiGRU_model_4.evaluate(val_ds, batch_size=128)\n",
    "print(\"Validation Loss: {}\\nValidation Accuracy: {}\".format(*CNNResBiGRU_4_results))"
   ]
  },
  {
   "cell_type": "markdown",
   "id": "nCrqh81qBTLh",
   "metadata": {
    "id": "nCrqh81qBTLh"
   },
   "source": [
    "The takeaway from models 1-4 is that the larger models do not generalise better than small models. There is no obvious benefit to stacking more than 2 ResBiGRU blocks on the validation loss or accuracy."
   ]
  },
  {
   "cell_type": "markdown",
   "id": "8332df49",
   "metadata": {
    "id": "8332df49"
   },
   "source": [
    "## **References**"
   ]
  },
  {
   "cell_type": "markdown",
   "id": "dffb6c62",
   "metadata": {
    "id": "dffb6c62"
   },
   "source": [
    "[1] Mekruksavanich, Sakorn and Anuchit Jitpattanakul. “A Residual Deep Learning Method for Accurate and Efficient Recognition of Gym Exercise Activities Using Electromyography and IMU Sensors.” Applied System Innovation (2024): n. pag."
   ]
  }
 ],
 "metadata": {
  "colab": {
   "provenance": []
  },
  "kernelspec": {
   "display_name": "Python 3 (ipykernel)",
   "language": "python",
   "name": "python3"
  },
  "language_info": {
   "codemirror_mode": {
    "name": "ipython",
    "version": 3
   },
   "file_extension": ".py",
   "mimetype": "text/x-python",
   "name": "python",
   "nbconvert_exporter": "python",
   "pygments_lexer": "ipython3",
   "version": "3.9.13"
  }
 },
 "nbformat": 4,
 "nbformat_minor": 5
}
