{
 "cells": [
  {
   "cell_type": "markdown",
   "id": "dcc057d7",
   "metadata": {
    "id": "dcc057d7"
   },
   "source": [
    "# **(Re-)Imag(in)ing Price Trends Paper**"
   ]
  },
  {
   "cell_type": "code",
   "execution_count": 2,
   "id": "d28a1a27",
   "metadata": {
    "id": "d28a1a27"
   },
   "outputs": [],
   "source": [
    "import os\n",
    "import numpy as np\n",
    "import matplotlib.pyplot as plt\n",
    "import scipy.stats\n",
    "import tensorflow as tf\n",
    "\n",
    "from tensorflow.keras import Sequential\n",
    "from tensorflow.keras.layers import Conv2D, MaxPool2D, LeakyReLU, Dense, Flatten, GlobalMaxPool2D"
   ]
  },
  {
   "cell_type": "code",
   "execution_count": 3,
   "id": "zeJFTnpccZ_o",
   "metadata": {
    "colab": {
     "base_uri": "https://localhost:8080/"
    },
    "id": "zeJFTnpccZ_o",
    "outputId": "ddcb5e41-c797-480c-ccc7-19ea7b7d7d75"
   },
   "outputs": [
    {
     "name": "stdout",
     "output_type": "stream",
     "text": [
      "Mounted at /content/drive\n"
     ]
    }
   ],
   "source": [
    "#You MUST run this command before reading in any data from Google Drive\n",
    "from google.colab import files\n",
    "from google.colab import drive\n",
    "import pandas as pd\n",
    "drive.mount('/content/drive', force_remount=True)\n",
    "os.chdir('/content/drive/My Drive/Colab Notebooks/Thesis/benchmarks')\n",
    "\n",
    "%run ../sys_configs.ipynb"
   ]
  },
  {
   "cell_type": "code",
   "execution_count": 4,
   "id": "bb4e4bd7",
   "metadata": {
    "id": "bb4e4bd7"
   },
   "outputs": [],
   "source": [
    "with open('../data/1s_train.npy', 'rb') as f:\n",
    "    x1s_train = np.load(f)\n",
    "    y1s_train = np.load(f)\n",
    "sz, dim = x1s_train.shape[1:]\n",
    "\n",
    "with open('../data/1s_val.npy', 'rb') as f:\n",
    "    x1s_val = np.load(f)\n",
    "    y1s_val = np.load(f)"
   ]
  },
  {
   "cell_type": "markdown",
   "id": "0ab7673f",
   "metadata": {
    "id": "0ab7673f"
   },
   "source": [
    "In the paper [1], Jiang et al. approach their problem instance of stock market return prediction using an imagistic representation of a time series and running a CNN over this image. The input is the plot of past market prices which are represented as a matrix of black and white pixels, where the location along the x-axis corresponds to the time and the location along the y-axis corresponds to the price level.\n",
    "\n",
    "Black is used as the background colour and white is used to denote where the price level is. This eases the data storage requirements; a black pixel can be represented by (0,0,0) while white pixels are represented by (255,255,255).\n",
    "\n",
    "In the GAR problem instance, there are 6 channels, so we set up 6 greyscale images.\n",
    "\n",
    "The paper introduces basic CNN architectures. We run these architectures over the train and validation sets using window technique 1, as the architectures use (local) max pooling."
   ]
  },
  {
   "cell_type": "markdown",
   "id": "1df66d1e",
   "metadata": {
    "id": "1df66d1e"
   },
   "source": [
    "## **Transform data to images**"
   ]
  },
  {
   "cell_type": "code",
   "execution_count": 5,
   "id": "eb0d8533",
   "metadata": {
    "id": "eb0d8533"
   },
   "outputs": [],
   "source": [
    "h = 50 # Number of discrete blocks in which to divide the level of the time series up\n",
    "w = 500 # Length of the time series\n",
    "\n",
    "N_train = len(x1s_train) # Number of elements in the train dataset\n",
    "N_val = len(x1s_val) # Number of elements in the validation dataset"
   ]
  },
  {
   "cell_type": "code",
   "execution_count": 6,
   "id": "68ef2eed",
   "metadata": {
    "id": "68ef2eed"
   },
   "outputs": [],
   "source": [
    "# The data are already normalised to have mean 0 and std 1, so we map each value to be between 0 and 1 using the CDF function\n",
    "train = scipy.stats.norm.cdf(x1s_train)\n",
    "val = scipy.stats.norm.cdf(x1s_val)\n",
    "\n",
    "# Map the data to be between 0 and h (the value denotes the row index which will be populated)\n",
    "train_idxs = np.floor(train * h).astype(int)\n",
    "val_idxs = np.floor(val * h).astype(int)\n",
    "\n",
    "# Whilst this line should be redundant, the data is clipped to account for any anomalies outside the range (0, h - 1)\n",
    "train_idxs = np.clip(train_idxs, 0, h - 1)\n",
    "val_idxs = np.clip(val_idxs, 0, h - 1)"
   ]
  },
  {
   "cell_type": "code",
   "execution_count": 7,
   "id": "d56be50f",
   "metadata": {
    "id": "d56be50f"
   },
   "outputs": [],
   "source": [
    "# Transpose the images so the height dimension comes second (rather than fourth)\n",
    "train_images = np.eye(h)[train_idxs].transpose((0, 3, 1, 2))\n",
    "val_images = np.eye(h)[val_idxs].transpose((0, 3, 1, 2))"
   ]
  },
  {
   "cell_type": "code",
   "execution_count": 8,
   "id": "60a7e032",
   "metadata": {
    "colab": {
     "base_uri": "https://localhost:8080/"
    },
    "id": "60a7e032",
    "outputId": "72af1055-d411-45f6-ec2e-74869fdc0244"
   },
   "outputs": [
    {
     "name": "stdout",
     "output_type": "stream",
     "text": [
      "The train data shape is (3033, 500, 6) and the validation data shape is (992, 500, 6)\n"
     ]
    }
   ],
   "source": [
    "print(\"The train data shape is {} and the validation data shape is {}\".format(train_idxs.shape, val_idxs.shape))"
   ]
  },
  {
   "cell_type": "markdown",
   "id": "cbb57dda",
   "metadata": {
    "id": "cbb57dda"
   },
   "source": [
    "#### **Explanation of Indexing in `np.eye(num_bins)[discretized_indices]`**\n",
    "\n",
    "1. **Creating an Identity Matrix:**\n",
    "   - `np.eye(h)` creates an identity matrix of size `h x h`.\n",
    "\n",
    "2. **Generating Discretised Indices:**\n",
    "   - `train_idxs` and `val_idxs` are 3D arrays where each element represents an index in the range `[0, h-1]`. These elements were derived by mapping the initial normalised values through the CDF function and scaling to `[0, h-1]`.\n",
    "\n",
    "3. **Advanced Indexing with the Identity Matrix:**\n",
    "   - `np.eye(h)[train_idxs]` uses the values in `train_idxs` to select rows from the identity matrix.\n",
    "   - For each element in `train_idxs`, the corresponding row from the identity matrix is taken."
   ]
  },
  {
   "cell_type": "code",
   "execution_count": 9,
   "id": "12801821",
   "metadata": {
    "id": "12801821"
   },
   "outputs": [],
   "source": [
    "# Convert the labels to tensors\n",
    "train_labels_tf = tf.convert_to_tensor(y1s_train, dtype = tf.int32)\n",
    "val_labels_tf = tf.convert_to_tensor(y1s_val, dtype = tf.int32)"
   ]
  },
  {
   "cell_type": "markdown",
   "id": "sf_BTCFM3KRf",
   "metadata": {
    "id": "sf_BTCFM3KRf"
   },
   "source": [
    "### **Input 1: Greyscale Images (separate channels)**"
   ]
  },
  {
   "cell_type": "code",
   "execution_count": 10,
   "id": "3f71742c",
   "metadata": {
    "id": "3f71742c"
   },
   "outputs": [],
   "source": [
    "# Convert the dataset to tensors\n",
    "train_images_tf1 = tf.convert_to_tensor(train_images, dtype=tf.int8)\n",
    "val_images_tf1 = tf.convert_to_tensor(val_images, dtype=tf.int8)"
   ]
  },
  {
   "cell_type": "code",
   "execution_count": 11,
   "id": "44adc366",
   "metadata": {
    "id": "44adc366"
   },
   "outputs": [],
   "source": [
    "train_ds1 = tf.data.Dataset.from_tensor_slices((train_images_tf1, train_labels_tf))\n",
    "val_ds1 = tf.data.Dataset.from_tensor_slices((val_images_tf1, val_labels_tf))"
   ]
  },
  {
   "cell_type": "code",
   "execution_count": 12,
   "id": "5082ebf6",
   "metadata": {
    "id": "5082ebf6"
   },
   "outputs": [],
   "source": [
    "train_ds1 = train_ds1.shuffle(500)\n",
    "\n",
    "train_ds1 = train_ds1.padded_batch(16)\n",
    "val_ds1 = val_ds1.padded_batch(16)"
   ]
  },
  {
   "cell_type": "markdown",
   "id": "Q3TZuBws3hML",
   "metadata": {
    "id": "Q3TZuBws3hML"
   },
   "source": [
    "### **Input 2: Greyscale Images (combined channel)**"
   ]
  },
  {
   "cell_type": "code",
   "execution_count": 13,
   "id": "zOOE2_lj3nN5",
   "metadata": {
    "id": "zOOE2_lj3nN5"
   },
   "outputs": [],
   "source": [
    "# Combine the different channels into a single image using np.any. No more than 6 (but possibly fewer) pixels should be activated in each column\n",
    "train_images2 = np.any(train_images, axis=3).astype(int)\n",
    "val_images2 = np.any(val_images, axis=3).astype(int)"
   ]
  },
  {
   "cell_type": "code",
   "execution_count": 14,
   "id": "A_8YdIV83nQu",
   "metadata": {
    "id": "A_8YdIV83nQu"
   },
   "outputs": [],
   "source": [
    "train_images_tf2 = tf.convert_to_tensor(train_images2, dtype=tf.int8)\n",
    "val_images_tf2 = tf.convert_to_tensor(val_images2, dtype=tf.int8)\n",
    "\n",
    "# The images now only have 3 components. Use tf.expand_dims to add the fourth channel\n",
    "train_images_tf2 = tf.expand_dims(train_images_tf2, axis=-1)\n",
    "val_images_tf2 = tf.expand_dims(val_images_tf2, axis=-1)"
   ]
  },
  {
   "cell_type": "code",
   "execution_count": 15,
   "id": "I-9UUb-V3nTq",
   "metadata": {
    "id": "I-9UUb-V3nTq"
   },
   "outputs": [],
   "source": [
    "train_ds2 = tf.data.Dataset.from_tensor_slices((train_images_tf2, train_labels_tf))\n",
    "val_ds2 = tf.data.Dataset.from_tensor_slices((val_images_tf2, val_labels_tf))"
   ]
  },
  {
   "cell_type": "code",
   "execution_count": 16,
   "id": "CIaWEKwb7-dF",
   "metadata": {
    "id": "CIaWEKwb7-dF"
   },
   "outputs": [],
   "source": [
    "train_ds2 = train_ds2.shuffle(500)\n",
    "\n",
    "train_ds2 = train_ds2.padded_batch(16)\n",
    "val_ds2 = val_ds2.padded_batch(16)"
   ]
  },
  {
   "cell_type": "markdown",
   "id": "FVCPKLRxnAgz",
   "metadata": {
    "id": "FVCPKLRxnAgz"
   },
   "source": [
    "## **Visualise Images**"
   ]
  },
  {
   "cell_type": "code",
   "execution_count": 17,
   "id": "Q_N8KfgEnGcm",
   "metadata": {
    "id": "Q_N8KfgEnGcm"
   },
   "outputs": [],
   "source": [
    "def plot_sample_1(data):\n",
    "    \"\"\"\n",
    "    Plots the discretised form of each component of a single random sample from the dataset. Recall the dataset\n",
    "    was normalised during the training test split.\n",
    "    \"\"\"\n",
    "\n",
    "    # Randomly generate an index\n",
    "    idx = np.random.randint(0, len(data))\n",
    "\n",
    "    # Titles (one per component)\n",
    "    titles = ['Acceleration (x component)', 'Acceleration (y component)', 'Acceleration (z component)',\n",
    "              'Gyroscope (x component)', 'Gyroscope (y component)', 'Gyroscope (z component)']\n",
    "\n",
    "    # Create a figure with a 2x3 grid of subplots\n",
    "    fig, axes = plt.subplots(2, 3, sharex=True, figsize=(15,3))\n",
    "    #fig.subplots_adjust(hspace=0.3, wspace=0.05)\n",
    "\n",
    "    # Iterate over the 6 components\n",
    "    for n, i in enumerate(range(2*3)):\n",
    "        row = n // 3\n",
    "        col = n % 3\n",
    "\n",
    "        data_ = data[idx, :, :, n]\n",
    "\n",
    "        axes[row, col].imshow(data_, cmap='Greys')\n",
    "        axes[row, col].text(0.5, -0.175, f'{titles[n]}', transform=axes[row, col].transAxes, verticalalignment=\"center\", horizontalalignment = \"center\")\n",
    "\n",
    "        axes[row, col].get_xaxis().set_visible(False)\n",
    "        axes[row, col].get_yaxis().set_visible(False)\n",
    "        axes[row, col].axis('off')\n",
    "\n",
    "    plt.tight_layout()\n",
    "    plt.show()\n",
    "\n",
    "def plot_sample_2(data):\n",
    "    \"\"\"\n",
    "    Plots the discretised form of each component of a single random sample from the dataset on the same axis.\n",
    "    Recall the dataset was normalised during the training test split.\n",
    "    \"\"\"\n",
    "\n",
    "    # Randomly generate an index\n",
    "    idx = np.random.randint(0, len(data))\n",
    "\n",
    "    data_ = data[idx]\n",
    "\n",
    "    fig, ax = plt.subplots()\n",
    "    ax.imshow(data_, cmap='Greys')\n",
    "    ax.axis('off')  # Turn off the axis\n",
    "\n",
    "    # Display the plot\n",
    "    plt.show()"
   ]
  },
  {
   "cell_type": "code",
   "execution_count": 17,
   "id": "eCb0ro_-x5BP",
   "metadata": {
    "colab": {
     "base_uri": "https://localhost:8080/",
     "height": 131
    },
    "id": "eCb0ro_-x5BP",
    "outputId": "6843c9b6-bcce-4581-8713-da49ad2899e6"
   },
   "outputs": [
    {
     "data": {
      "image/png": "[encoded data removed]",
      "text/plain": [
       "<Figure size 1500x300 with 6 Axes>"
      ]
     },
     "metadata": {},
     "output_type": "display_data"
    }
   ],
   "source": [
    "plot_sample_1(train_images_tf1)"
   ]
  },
  {
   "cell_type": "code",
   "execution_count": 18,
   "id": "d9pgsFYv9Nkt",
   "metadata": {
    "colab": {
     "base_uri": "https://localhost:8080/",
     "height": 86
    },
    "id": "d9pgsFYv9Nkt",
    "outputId": "b52adebd-e782-460d-afdc-bb6809a867e6"
   },
   "outputs": [
    {
     "data": {
      "image/png": "[encoded data removed]",
      "text/plain": [
       "<Figure size 640x480 with 1 Axes>"
      ]
     },
     "metadata": {},
     "output_type": "display_data"
    }
   ],
   "source": [
    "plot_sample_2(train_images_tf2)"
   ]
  },
  {
   "cell_type": "markdown",
   "id": "d07ac208",
   "metadata": {
    "id": "d07ac208"
   },
   "source": [
    "### **Train Networks**"
   ]
  },
  {
   "cell_type": "markdown",
   "id": "a3a9bb64",
   "metadata": {
    "id": "a3a9bb64"
   },
   "source": [
    "The architectures the authors tested are shown in the below diagram taken from their paper. We will test the middle architectures, staying faithful to the design, but dropping the (green) fully connected layers and adding a GlobalMaxPooling layer."
   ]
  },
  {
   "cell_type": "markdown",
   "id": "4ad12eca",
   "metadata": {
    "id": "4ad12eca"
   },
   "source": [
    "<figure>\n",
    "    <img src=\"../documentation/reimaginingpricetrends.png\" alt=\"Alt text\" width=\"500\" />\n",
    "    <figcaption style=\"text-align: center;\">Figure 1: Diagram of CNN models</figcaption>\n",
    "</figure>"
   ]
  },
  {
   "cell_type": "code",
   "execution_count": 20,
   "id": "79d36578",
   "metadata": {
    "colab": {
     "base_uri": "https://localhost:8080/"
    },
    "id": "79d36578",
    "outputId": "b91556cb-641e-4527-a853-0c6635bfeffe"
   },
   "outputs": [
    {
     "name": "stdout",
     "output_type": "stream",
     "text": [
      "Model: \"sequential_1\"\n",
      "_________________________________________________________________\n",
      " Layer (type)                Output Shape              Param #   \n",
      "=================================================================\n",
      " conv2d_3 (Conv2D)           (None, 46, 498, 64)       5824      \n",
      "                                                                 \n",
      " leaky_re_lu_3 (LeakyReLU)   (None, 46, 498, 64)       0         \n",
      "                                                                 \n",
      " max_pooling2d_3 (MaxPoolin  (None, 23, 498, 64)       0         \n",
      " g2D)                                                            \n",
      "                                                                 \n",
      " conv2d_4 (Conv2D)           (None, 19, 496, 128)      123008    \n",
      "                                                                 \n",
      " leaky_re_lu_4 (LeakyReLU)   (None, 19, 496, 128)      0         \n",
      "                                                                 \n",
      " max_pooling2d_4 (MaxPoolin  (None, 9, 496, 128)       0         \n",
      " g2D)                                                            \n",
      "                                                                 \n",
      " conv2d_5 (Conv2D)           (None, 5, 494, 256)       491776    \n",
      "                                                                 \n",
      " leaky_re_lu_5 (LeakyReLU)   (None, 5, 494, 256)       0         \n",
      "                                                                 \n",
      " max_pooling2d_5 (MaxPoolin  (None, 2, 494, 256)       0         \n",
      " g2D)                                                            \n",
      "                                                                 \n",
      " global_max_pooling2d_1 (Gl  (None, 256)               0         \n",
      " obalMaxPooling2D)                                               \n",
      "                                                                 \n",
      " flatten_1 (Flatten)         (None, 256)               0         \n",
      "                                                                 \n",
      " dense_1 (Dense)             (None, 31)                7967      \n",
      "                                                                 \n",
      "=================================================================\n",
      "Total params: 628575 (2.40 MB)\n",
      "Trainable params: 628575 (2.40 MB)\n",
      "Non-trainable params: 0 (0.00 Byte)\n",
      "_________________________________________________________________\n"
     ]
    }
   ],
   "source": [
    "model_arc1_1 = Sequential([\n",
    "    Conv2D(64, (5, 3), activation=None, input_shape=(50, 500, 6)),\n",
    "    LeakyReLU(),\n",
    "    MaxPool2D((2, 1)),\n",
    "    Conv2D(128, (5, 3), activation=None),\n",
    "    LeakyReLU(),\n",
    "    MaxPool2D((2, 1)),\n",
    "    Conv2D(256, (5, 3), activation=None),\n",
    "    LeakyReLU(),\n",
    "    MaxPool2D((2, 1)),\n",
    "    GlobalMaxPool2D(),\n",
    "    Flatten(),\n",
    "    #Dense(46080), # This is too computationally expensive to include\n",
    "    Dense(31),\n",
    "])\n",
    "\n",
    "model_arc1_1.summary()"
   ]
  },
  {
   "cell_type": "code",
   "execution_count": 21,
   "id": "122d9037",
   "metadata": {
    "colab": {
     "base_uri": "https://localhost:8080/"
    },
    "id": "122d9037",
    "outputId": "f8c59146-9639-425e-ca2f-9d535af96a77"
   },
   "outputs": [
    {
     "name": "stdout",
     "output_type": "stream",
     "text": [
      "Epoch 1/10\n",
      "190/190 [==============================] - 11s 20ms/step - loss: nan - accuracy: 0.0452 - val_loss: nan - val_accuracy: 0.0333\n",
      "Epoch 2/10\n",
      "190/190 [==============================] - 2s 12ms/step - loss: nan - accuracy: 0.0402 - val_loss: nan - val_accuracy: 0.0333\n",
      "Epoch 3/10\n",
      "190/190 [==============================] - 2s 12ms/step - loss: nan - accuracy: 0.0402 - val_loss: nan - val_accuracy: 0.0333\n",
      "Epoch 4/10\n",
      "190/190 [==============================] - 2s 12ms/step - loss: nan - accuracy: 0.0402 - val_loss: nan - val_accuracy: 0.0333\n",
      "Epoch 5/10\n",
      "190/190 [==============================] - 2s 12ms/step - loss: nan - accuracy: 0.0402 - val_loss: nan - val_accuracy: 0.0333\n",
      "Epoch 6/10\n",
      "190/190 [==============================] - 2s 12ms/step - loss: nan - accuracy: 0.0402 - val_loss: nan - val_accuracy: 0.0333\n",
      "Epoch 7/10\n",
      "190/190 [==============================] - 2s 12ms/step - loss: nan - accuracy: 0.0402 - val_loss: nan - val_accuracy: 0.0333\n",
      "Epoch 8/10\n",
      "190/190 [==============================] - 2s 12ms/step - loss: nan - accuracy: 0.0402 - val_loss: nan - val_accuracy: 0.0333\n",
      "Epoch 9/10\n",
      "190/190 [==============================] - 2s 12ms/step - loss: nan - accuracy: 0.0402 - val_loss: nan - val_accuracy: 0.0333\n",
      "Epoch 10/10\n",
      "190/190 [==============================] - 2s 12ms/step - loss: nan - accuracy: 0.0402 - val_loss: nan - val_accuracy: 0.0333\n"
     ]
    }
   ],
   "source": [
    "model_arc1_1.compile(optimizer='adam', loss='sparse_categorical_crossentropy', metrics=['accuracy'])\n",
    "history = model_arc1_1.fit(train_ds1, validation_data=val_ds1, epochs=10)"
   ]
  },
  {
   "cell_type": "code",
   "execution_count": 19,
   "id": "Pb5Dhkm7_yrc",
   "metadata": {
    "colab": {
     "base_uri": "https://localhost:8080/"
    },
    "id": "Pb5Dhkm7_yrc",
    "outputId": "ca742f2e-45e1-4a3d-9f51-ec4a0a2d0af1"
   },
   "outputs": [
    {
     "name": "stdout",
     "output_type": "stream",
     "text": [
      "Model: \"sequential\"\n",
      "_________________________________________________________________\n",
      " Layer (type)                Output Shape              Param #   \n",
      "=================================================================\n",
      " conv2d (Conv2D)             (None, 46, 498, 64)       1024      \n",
      "                                                                 \n",
      " leaky_re_lu (LeakyReLU)     (None, 46, 498, 64)       0         \n",
      "                                                                 \n",
      " max_pooling2d (MaxPooling2  (None, 23, 498, 64)       0         \n",
      " D)                                                              \n",
      "                                                                 \n",
      " conv2d_1 (Conv2D)           (None, 19, 496, 128)      123008    \n",
      "                                                                 \n",
      " leaky_re_lu_1 (LeakyReLU)   (None, 19, 496, 128)      0         \n",
      "                                                                 \n",
      " max_pooling2d_1 (MaxPoolin  (None, 9, 496, 128)       0         \n",
      " g2D)                                                            \n",
      "                                                                 \n",
      " conv2d_2 (Conv2D)           (None, 5, 494, 256)       491776    \n",
      "                                                                 \n",
      " leaky_re_lu_2 (LeakyReLU)   (None, 5, 494, 256)       0         \n",
      "                                                                 \n",
      " max_pooling2d_2 (MaxPoolin  (None, 2, 494, 256)       0         \n",
      " g2D)                                                            \n",
      "                                                                 \n",
      " global_max_pooling2d (Glob  (None, 256)               0         \n",
      " alMaxPooling2D)                                                 \n",
      "                                                                 \n",
      " flatten (Flatten)           (None, 256)               0         \n",
      "                                                                 \n",
      " dense (Dense)               (None, 31)                7967      \n",
      "                                                                 \n",
      "=================================================================\n",
      "Total params: 623775 (2.38 MB)\n",
      "Trainable params: 623775 (2.38 MB)\n",
      "Non-trainable params: 0 (0.00 Byte)\n",
      "_________________________________________________________________\n"
     ]
    }
   ],
   "source": [
    "model_arc1_2 = Sequential([\n",
    "    Conv2D(64, (5, 3), activation=None, input_shape=(50, 500, 1)),\n",
    "    LeakyReLU(),\n",
    "    MaxPool2D((2, 1)),\n",
    "    Conv2D(128, (5, 3), activation=None),\n",
    "    LeakyReLU(),\n",
    "    MaxPool2D((2, 1)),\n",
    "    Conv2D(256, (5, 3), activation=None),\n",
    "    LeakyReLU(),\n",
    "    MaxPool2D((2, 1)),\n",
    "    GlobalMaxPool2D(),\n",
    "    Flatten(),\n",
    "    #Dense(46080), # This is too computationally expensive to include\n",
    "    Dense(31),\n",
    "])\n",
    "\n",
    "model_arc1_2.summary()"
   ]
  },
  {
   "cell_type": "code",
   "execution_count": 20,
   "id": "fb2ead4c",
   "metadata": {
    "colab": {
     "base_uri": "https://localhost:8080/"
    },
    "id": "fb2ead4c",
    "outputId": "b68c66b1-8b02-4d71-8e3c-a7b4fb7a0fde"
   },
   "outputs": [
    {
     "name": "stdout",
     "output_type": "stream",
     "text": [
      "Epoch 1/10\n",
      "190/190 [==============================] - 10s 17ms/step - loss: nan - accuracy: 0.0343 - val_loss: nan - val_accuracy: 0.0383\n",
      "Epoch 2/10\n",
      "190/190 [==============================] - 2s 10ms/step - loss: nan - accuracy: 0.0346 - val_loss: nan - val_accuracy: 0.0383\n",
      "Epoch 3/10\n",
      "190/190 [==============================] - 2s 10ms/step - loss: nan - accuracy: 0.0346 - val_loss: nan - val_accuracy: 0.0383\n",
      "Epoch 4/10\n",
      "190/190 [==============================] - 2s 10ms/step - loss: nan - accuracy: 0.0346 - val_loss: nan - val_accuracy: 0.0383\n",
      "Epoch 5/10\n",
      "190/190 [==============================] - 2s 10ms/step - loss: nan - accuracy: 0.0346 - val_loss: nan - val_accuracy: 0.0383\n",
      "Epoch 6/10\n",
      "190/190 [==============================] - 2s 10ms/step - loss: nan - accuracy: 0.0346 - val_loss: nan - val_accuracy: 0.0383\n",
      "Epoch 7/10\n",
      "190/190 [==============================] - 2s 10ms/step - loss: nan - accuracy: 0.0346 - val_loss: nan - val_accuracy: 0.0383\n",
      "Epoch 8/10\n",
      "190/190 [==============================] - 2s 10ms/step - loss: nan - accuracy: 0.0346 - val_loss: nan - val_accuracy: 0.0383\n",
      "Epoch 9/10\n",
      "190/190 [==============================] - 2s 10ms/step - loss: nan - accuracy: 0.0346 - val_loss: nan - val_accuracy: 0.0383\n",
      "Epoch 10/10\n",
      "190/190 [==============================] - 2s 10ms/step - loss: nan - accuracy: 0.0346 - val_loss: nan - val_accuracy: 0.0383\n"
     ]
    }
   ],
   "source": [
    "model_arc1_2.compile(optimizer='adam', loss='sparse_categorical_crossentropy', metrics=['accuracy'])\n",
    "history2 = model_arc1_2.fit(train_ds2, validation_data=val_ds2, epochs=10)"
   ]
  },
  {
   "cell_type": "markdown",
   "id": "xaJRVQaaSHqO",
   "metadata": {
    "id": "xaJRVQaaSHqO"
   },
   "source": [
    "This method performed on par with or worse than a random guess. There is lots of redundancy in this input data, where the level of the time series is inferred by the vertical position of the only pixel per column that is white (multi-channeled) or one of $\\leq$ 6 pixels per column that are white (single channelled)."
   ]
  },
  {
   "cell_type": "markdown",
   "id": "8332df49",
   "metadata": {
    "id": "8332df49"
   },
   "source": [
    "## **References**"
   ]
  },
  {
   "cell_type": "markdown",
   "id": "dffb6c62",
   "metadata": {
    "id": "dffb6c62"
   },
   "source": [
    "[1] Jiang, Jingwen, Bryan T. Kelly and Dacheng Xiu. “(Re-)Imag(in)ing Price Trends.” Capital Markets: Asset Pricing & Valuation eJournal (2020): n. pag."
   ]
  }
 ],
 "metadata": {
  "accelerator": "GPU",
  "colab": {
   "gpuType": "A100",
   "provenance": []
  },
  "kernelspec": {
   "display_name": "Python 3 (ipykernel)",
   "language": "python",
   "name": "python3"
  },
  "language_info": {
   "codemirror_mode": {
    "name": "ipython",
    "version": 3
   },
   "file_extension": ".py",
   "mimetype": "text/x-python",
   "name": "python",
   "nbconvert_exporter": "python",
   "pygments_lexer": "ipython3",
   "version": "3.9.13"
  }
 },
 "nbformat": 4,
 "nbformat_minor": 5
}
