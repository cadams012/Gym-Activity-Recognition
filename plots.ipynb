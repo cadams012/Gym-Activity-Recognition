{
 "cells": [
  {
   "cell_type": "markdown",
   "id": "bebeedb5",
   "metadata": {},
   "source": [
    "# Define plots applicable to all methods"
   ]
  },
  {
   "cell_type": "code",
   "execution_count": 8,
   "id": "0f4272d7",
   "metadata": {},
   "outputs": [],
   "source": [
    "import numpy as np\n",
    "import matplotlib.pyplot as plt\n",
    "import seaborn as sns\n",
    "from matplotlib.colors import LinearSegmentedColormap"
   ]
  },
  {
   "cell_type": "markdown",
   "id": "8396ebfd",
   "metadata": {},
   "source": [
    "#### Plot 1: Plot a selection of samples; overlay targets and predictions"
   ]
  },
  {
   "cell_type": "markdown",
   "id": "67ea43df",
   "metadata": {},
   "source": [
    "The below code will be used to visualise a random sample of the time series, the true labels and the label predicted by the method."
   ]
  },
  {
   "cell_type": "code",
   "execution_count": 2,
   "id": "4a68d9f1",
   "metadata": {},
   "outputs": [],
   "source": [
    "def plot_samples(data, labels, predictions, save = False, name = None):\n",
    "    N = len(data)\n",
    "    \n",
    "    n_rows, n_cols = 5, 2\n",
    "    random_idx = np.random.choice(N, n_rows * n_cols, replace=False)\n",
    "    fig, axes = plt.subplots(n_rows, n_cols, sharex=True, figsize=(25,10))\n",
    "    fig.subplots_adjust(hspace=0.3, wspace=0.05)\n",
    "\n",
    "    for n, i in enumerate(random_idx):\n",
    "        data_ = data[i, :, :]\n",
    "        label = ACTIVITY_MAPPING.get(labels[i])\n",
    "        prediction = ACTIVITY_MAPPING.get(predictions[i])\n",
    "\n",
    "        row = n // n_cols\n",
    "        col = n % n_cols\n",
    "        # accelerometer channel data\n",
    "        axes[row, col].plot(data_[:, 0], color = scale_rgb(COLOURS.get(\"accent-blue-dark-3\")))\n",
    "        axes[row, col].plot(data_[:, 1], color = scale_rgb(COLOURS.get(\"accent-blue-light-3\")))\n",
    "        axes[row, col].plot(data_[:, 2], color = scale_rgb(COLOURS.get(\"accent-blue-light-1\")))\n",
    "\n",
    "        # gyroscope channel data\n",
    "        axes[row, col].plot(data_[:, 3], color = scale_rgb(COLOURS.get(\"accent-grey-dark-1\")))\n",
    "        axes[row, col].plot(data_[:, 4], color = scale_rgb(COLOURS.get(\"accent-grey-light-3\")))\n",
    "        axes[row, col].plot(data_[:, 5], color = scale_rgb(COLOURS.get(\"accent-grey-light-1\")))\n",
    "\n",
    "        axes[row, col].get_xaxis().set_visible(False)\n",
    "        axes[row, col].get_yaxis().set_visible(False)\n",
    "        axes[row, col].text(0.5, -0.125, f'Target:{label}\\nPrediction:{prediction}', transform=axes[row, col].transAxes, verticalalignment=\"center\", horizontalalignment = \"center\")\n",
    "\n",
    "    if save:\n",
    "        plt.savefig(name + '.pdf', dpi = 1000, format = 'pdf', bbox_inches = 'tight')\n",
    "    plt.show()"
   ]
  },
  {
   "cell_type": "markdown",
   "id": "acbfe601",
   "metadata": {},
   "source": [
    "#### Plot 2: Plot confusion matrix"
   ]
  },
  {
   "cell_type": "code",
   "execution_count": 7,
   "id": "9ce7378a",
   "metadata": {},
   "outputs": [],
   "source": [
    "COLOURSCHEME = [\n",
    "          scale_rgb(COLOURS.get(\"white\")),\n",
    "          scale_rgb(COLOURS.get(\"accent-blue-pale\")),\n",
    "          scale_rgb(COLOURS.get(\"accent-blue-light-1\")),\n",
    "          scale_rgb(COLOURS.get(\"accent-blue-light-3\")),\n",
    "          scale_rgb(COLOURS.get(\"secondary-color\")),\n",
    "          scale_rgb(COLOURS.get(\"primary-color\")), \n",
    "          scale_rgb(COLOURS.get(\"accent-blue-dark-2\")),\n",
    "          scale_rgb(COLOURS.get(\"accent-blue-dark-3\"))\n",
    "]\n",
    "cmap = LinearSegmentedColormap.from_list(\"custom_cmap\", COLOURSCHEME)"
   ]
  },
  {
   "cell_type": "code",
   "execution_count": 9,
   "id": "b3de862c",
   "metadata": {},
   "outputs": [],
   "source": [
    "def plot_confusion_matrix(cm, x_ticks = True, y_ticks = True, save = False, title = None):\n",
    "    # Only > 0 values in the confusion matrix should be labelled. This is the purpose of the mask.\n",
    "    annot_mask = cm > 0\n",
    "    annot_labels = cm.astype(str)\n",
    "    annot_labels = np.where(annot_mask, cm, \"\")\n",
    "\n",
    "    plt.figure(figsize=(7.5, 7.5))\n",
    "    \n",
    "    # Plot the heatmap\n",
    "    # The maximum and minimum values that trigger the colour scheme are provided as arguments. They need to be consistent across visualisations.\n",
    "    ax = sns.heatmap(cm, \n",
    "        annot=annot_labels, \n",
    "        fmt=\"\", \n",
    "        cmap=cmap, \n",
    "        cbar=False, \n",
    "        annot_kws={\"size\": 9}, \n",
    "        linewidths=.7, \n",
    "        linecolor='grey',\n",
    "        xticklabels=[ACTIVITY_MAPPING[c] for c in classes] if x_ticks else [], \n",
    "        yticklabels=[ACTIVITY_MAPPING[c] for c in classes] if y_ticks else [],\n",
    "        vmin=0, \n",
    "        vmax=100,\n",
    "        square = True\n",
    "    )\n",
    "    ax.set_title(title)\n",
    "    \n",
    "    # Append a suffix of \"\", \"x\", \"y\" or \"xy\" depending on which axes are shown.\n",
    "    suffix = \"\"\n",
    "    if x_ticks:\n",
    "        suffix += \"x\"\n",
    "    if y_ticks:\n",
    "        suffix += \"y\"\n",
    "    \n",
    "    if save:\n",
    "        plt.savefig(title + \"_\" + suffix + '.pdf', dpi = 1000, format = 'pdf', bbox_inches = 'tight')\n",
    "        \n",
    "    plt.show()\n"
   ]
  }
 ],
 "metadata": {
  "kernelspec": {
   "display_name": "Python 3 (ipykernel)",
   "language": "python",
   "name": "python3"
  },
  "language_info": {
   "codemirror_mode": {
    "name": "ipython",
    "version": 3
   },
   "file_extension": ".py",
   "mimetype": "text/x-python",
   "name": "python",
   "nbconvert_exporter": "python",
   "pygments_lexer": "ipython3",
   "version": "3.9.13"
  }
 },
 "nbformat": 4,
 "nbformat_minor": 5
}
