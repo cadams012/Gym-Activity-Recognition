{
 "cells": [
  {
   "cell_type": "markdown",
   "id": "8956138c",
   "metadata": {},
   "source": [
    "# Split & prepare train & test data"
   ]
  },
  {
   "cell_type": "code",
   "execution_count": 1,
   "id": "292dcc86",
   "metadata": {},
   "outputs": [],
   "source": [
    "%run preprocess.ipynb\n",
    "%run sys_configs.ipynb"
   ]
  },
  {
   "cell_type": "code",
   "execution_count": 2,
   "id": "980b09f6",
   "metadata": {},
   "outputs": [],
   "source": [
    "import pandas as pd\n",
    "import numpy as np\n",
    "from sklearn.preprocessing import StandardScaler\n",
    "np.random.seed(123)"
   ]
  },
  {
   "cell_type": "markdown",
   "id": "03c62b8f",
   "metadata": {},
   "source": [
    "This notebook contains functions to split the MyoGym dataset into train and test sets and prepare it for time series classification tasks."
   ]
  },
  {
   "cell_type": "markdown",
   "id": "b2fc5bd1",
   "metadata": {},
   "source": [
    "## Train-test split"
   ]
  },
  {
   "cell_type": "markdown",
   "id": "bd92de88",
   "metadata": {},
   "source": [
    "The train-test split could be applied to each time series, using the minor portion at the end as test data and the major portion that starts at the beginning as train data. However, the aim of this project is to demonstrate real time prediction of labels throughout a workout and to be able to generalise this to unseen trainers. Therefore the train-test split is by trainer."
   ]
  },
  {
   "cell_type": "code",
   "execution_count": 16,
   "id": "443c1e55",
   "metadata": {},
   "outputs": [],
   "source": [
    "def train_test_split(data: pd.DataFrame, test = 0.2):\n",
    "    index = data.index.get_level_values(\"trainer\").unique().tolist()\n",
    "    n = len(index)\n",
    "    \n",
    "    # Shuffle the samples\n",
    "    np.random.shuffle(index)\n",
    "    \n",
    "    # Get the trainers who will be in the train set and the test set respectively\n",
    "    train_trainers, test_trainers = index[:int((1 - test)*n)], index[int((1 - test)*n):]\n",
    "    \n",
    "    # Split to train and test sets\n",
    "    train = data.loc[data.index.get_level_values('trainer').isin(train_trainers)]\n",
    "    test = data.loc[data.index.get_level_values('trainer').isin(test_trainers)]\n",
    "    \n",
    "    # Finally, split to x and y\n",
    "    col = \"activity\"\n",
    "    x_train, y_train = train.drop(col, axis = 1), train[[col]]\n",
    "    x_test, y_test = test.drop(col, axis = 1), test[[col]]\n",
    "    \n",
    "    return x_train, x_test, y_train, y_test"
   ]
  },
  {
   "cell_type": "code",
   "execution_count": 17,
   "id": "a7dd73fc",
   "metadata": {},
   "outputs": [],
   "source": [
    "x_train, x_test, y_train, y_test = train_test_split(data)"
   ]
  },
  {
   "cell_type": "markdown",
   "id": "fe214249",
   "metadata": {},
   "source": [
    "## Data normalisation"
   ]
  },
  {
   "cell_type": "markdown",
   "id": "fcf71f80",
   "metadata": {},
   "source": [
    "Data normalisation is essential to the process of adjusting all channels to an identical range. Many time series classification techniques that we will study, for example Dynamic Time Warping, use distance metrics that depend on each dimension having the same scale. We will use sklearn's StandardScalar.\n",
    "\n",
    "The use of a standard scaling allows us to more easily identify outliers and to more rigorously quantify the extent of these outliers using hypothesis tests of a normal distribution."
   ]
  },
  {
   "cell_type": "code",
   "execution_count": 5,
   "id": "4a4528c2",
   "metadata": {},
   "outputs": [],
   "source": [
    "scaler = StandardScaler()\n",
    "x_train = pd.DataFrame(scaler.fit_transform(x_train), columns = x_train.columns, index = x_train.index)\n",
    "x_test = pd.DataFrame(scaler.transform(x_test), columns = x_test.columns, index = x_test.index)"
   ]
  },
  {
   "cell_type": "markdown",
   "id": "9c24515f",
   "metadata": {},
   "source": [
    "## Apply windows"
   ]
  },
  {
   "cell_type": "markdown",
   "id": "5ff810af",
   "metadata": {},
   "source": [
    "There are 2 windowing techniques we will deploy for GAR tasks; \n",
    "\n",
    "- Window technique 1: incorporates only a fixed number of the most recent observations, if there is no activity changepoint in the window.\n",
    "- Window technique 2: incorporates all time steps from the beginning of the time series for an activity up to the current time step, until the minimum of:\n",
    "    - the end of the time series for that activity or;\n",
    "    - a maximum time series length\n",
    "\n",
    "Window technique 1 is used for the benchmark methods, while window technique 2 is used for methods in this research which incorporate historical information. Window technique 1 is implemented as a precomputed Numpy matrix, while window technique 2 is implemented as a generator owing to its size. Pictorial representations of each windowing technique are shown below.\n",
    "\n",
    "**Note that both window techniques break on reaching an activity change point. Every window should have a single class during the train stage.**"
   ]
  },
  {
   "cell_type": "code",
   "execution_count": null,
   "id": "7ade7ca8",
   "metadata": {},
   "outputs": [],
   "source": [
    "x_train, y_train"
   ]
  },
  {
   "cell_type": "code",
   "execution_count": 23,
   "id": "4d399684",
   "metadata": {},
   "outputs": [],
   "source": [
    "label_mask = y_train['activity'].ne(y_train['activity'].shift())\n",
    "labels = y_train.join(label_mask, rsuffix = \"_mask\")"
   ]
  },
  {
   "cell_type": "code",
   "execution_count": 26,
   "id": "bae23f91",
   "metadata": {},
   "outputs": [],
   "source": [
    "labels.to_csv(\"hehe.csv\")"
   ]
  },
  {
   "cell_type": "code",
   "execution_count": 6,
   "id": "0a653965",
   "metadata": {},
   "outputs": [],
   "source": [
    "def window_method_1(data, labels, sz = 250, step = 50):\n",
    "    \"\"\"\n",
    "    Computes windows for each time series stream from the data and labels. \n",
    "    If there is a label change in the window then the entire window is discarded.\n",
    "    We seek windows which have unambiguous non-conflicting class labels.\n",
    "    \"\"\"\n",
    "    # Create a mask for where the activity changes. Join to the activity.\n",
    "    label_mask = labels['activity'].ne(labels['activity'].shift())\n",
    "    labels = labels.join(label_mask, rsuffix = \"_mask\")\n",
    "    \n",
    "    # Combine the data and labels\n",
    "    comb = data.join(labels)\n",
    "    \n",
    "    data_list = []\n",
    "    label_list = []\n",
    "    \n",
    "    for t in comb.index.get_level_values('trainer').unique():\n",
    "        # Get all the data for this trainer\n",
    "        trainer_data = comb.loc[comb.index.get_level_values('trainer') == t]\n",
    "        \n",
    "        # Obtain a list of all windows\n",
    "        for start in range(0, len(trainer_data) - sz + 1, step):\n",
    "            # Filter for the current window\n",
    "            window = trainer_data.iloc[start:start + sz]\n",
    "            \n",
    "            if window.isna().values.any():\n",
    "                # Skip windows with NaN values (the first and last few windows)\n",
    "                continue\n",
    "            \n",
    "            if window.loc[:, \"activity_mask\"].values.any():\n",
    "                # Skip windows where the activity changes during that window\n",
    "                continue\n",
    "            \n",
    "            window_data = window.loc[:, [\"acc_x\", \"acc_y\", \"acc_z\", \"gyr_x\", \"gyr_y\", \"gyr_z\"]]\n",
    "            window_label = window.loc[:, \"activity\"].unique()[0]\n",
    "            \n",
    "            data_list.append(window_data)\n",
    "            label_list.append(window_label)\n",
    "            \n",
    "    # Conver to Numpy arrays\n",
    "    data_np = np.array(data_list)\n",
    "    label_np = np.array(label_list)\n",
    "    \n",
    "    return data_np, label_np            "
   ]
  },
  {
   "cell_type": "code",
   "execution_count": 7,
   "id": "67f9544c",
   "metadata": {},
   "outputs": [],
   "source": [
    "x1_train, y1_train = window_method_1(x_train, y_train, sz = 500, step = 50)\n",
    "x1_test, y1_test = window_method_1(x_test, y_test, sz = 500, step = 50)"
   ]
  },
  {
   "cell_type": "code",
   "execution_count": 8,
   "id": "a38e07e7",
   "metadata": {},
   "outputs": [],
   "source": [
    "with open('data/1_train.npy', 'wb') as f:\n",
    "    np.save(f, x1_train)\n",
    "    np.save(f, y1_train)\n",
    "    \n",
    "with open('data/1_test.npy', 'wb') as f:\n",
    "    np.save(f, x1_test)\n",
    "    np.save(f, y1_test)"
   ]
  },
  {
   "cell_type": "code",
   "execution_count": 9,
   "id": "87938f67",
   "metadata": {},
   "outputs": [
    {
     "name": "stdout",
     "output_type": "stream",
     "text": [
      "Window Method 1: There are 21926 samples of window length 500 and dimensionality 6.\n"
     ]
    }
   ],
   "source": [
    "print(\"Window Method 1: There are %s samples of window length %s and dimensionality %s.\" % (x1_train.shape))"
   ]
  },
  {
   "cell_type": "code",
   "execution_count": 10,
   "id": "ad8f2ffe",
   "metadata": {},
   "outputs": [],
   "source": [
    "## References#\n",
    "# Placeholder for windowing method 2\n",
    "#"
   ]
  },
  {
   "cell_type": "code",
   "execution_count": null,
   "id": "880b7f13",
   "metadata": {},
   "outputs": [],
   "source": []
  },
  {
   "cell_type": "markdown",
   "id": "84845ec9",
   "metadata": {},
   "source": [
    "## Sample background activity class"
   ]
  },
  {
   "cell_type": "markdown",
   "id": "5b65ba43",
   "metadata": {},
   "source": [
    "According to the paper [1] which introduced the MyoGym dataset, the background activity class, which it describes as the null class, accounts for 77% of the dataset, a number which dwarves the remaining 30 classes. Most of the techniques we explore are sensitive to class imbalanaces or to dataset sizes. Therefore, we sample some windows from this background activity class."
   ]
  },
  {
   "cell_type": "code",
   "execution_count": 11,
   "id": "b460589b",
   "metadata": {},
   "outputs": [],
   "source": [
    "train_labels, train_counts = np.unique(y1_train, return_counts = True)\n",
    "test_labels, test_counts = np.unique(y1_test, return_counts = True)\n",
    "\n",
    "train_label_counts = pd.DataFrame(np.hstack([train_labels[:, np.newaxis], train_counts[:, np.newaxis]]), columns = [\"Label\", \"Train Count\"])\n",
    "test_label_counts = pd.DataFrame(np.hstack([test_labels[:, np.newaxis], test_counts[:, np.newaxis]]), columns = [\"Label\", \"Test Count\"])"
   ]
  },
  {
   "cell_type": "code",
   "execution_count": 12,
   "id": "ce0b0a3c",
   "metadata": {},
   "outputs": [
    {
     "data": {
      "text/html": [
       "<div>\n",
       "<style scoped>\n",
       "    .dataframe tbody tr th:only-of-type {\n",
       "        vertical-align: middle;\n",
       "    }\n",
       "\n",
       "    .dataframe tbody tr th {\n",
       "        vertical-align: top;\n",
       "    }\n",
       "\n",
       "    .dataframe thead th {\n",
       "        text-align: right;\n",
       "    }\n",
       "</style>\n",
       "<table border=\"1\" class=\"dataframe\">\n",
       "  <thead>\n",
       "    <tr style=\"text-align: right;\">\n",
       "      <th></th>\n",
       "      <th>Train Count</th>\n",
       "      <th>Test Count</th>\n",
       "    </tr>\n",
       "    <tr>\n",
       "      <th>Label</th>\n",
       "      <th></th>\n",
       "      <th></th>\n",
       "    </tr>\n",
       "  </thead>\n",
       "  <tbody>\n",
       "    <tr>\n",
       "      <th>No activity identified</th>\n",
       "      <td>18093</td>\n",
       "      <td>3566</td>\n",
       "    </tr>\n",
       "    <tr>\n",
       "      <th>Dumbbell Alternate Bicep Curl</th>\n",
       "      <td>244</td>\n",
       "      <td>31</td>\n",
       "    </tr>\n",
       "    <tr>\n",
       "      <th>Front Dumbbell Raise</th>\n",
       "      <td>223</td>\n",
       "      <td>27</td>\n",
       "    </tr>\n",
       "    <tr>\n",
       "      <th>Dumbbell Flyes</th>\n",
       "      <td>205</td>\n",
       "      <td>14</td>\n",
       "    </tr>\n",
       "    <tr>\n",
       "      <th>Incline Dumbbell Flyes</th>\n",
       "      <td>190</td>\n",
       "      <td>23</td>\n",
       "    </tr>\n",
       "    <tr>\n",
       "      <th>Hammer Curl</th>\n",
       "      <td>184</td>\n",
       "      <td>36</td>\n",
       "    </tr>\n",
       "    <tr>\n",
       "      <th>Incline Dumbbell Press</th>\n",
       "      <td>154</td>\n",
       "      <td>19</td>\n",
       "    </tr>\n",
       "    <tr>\n",
       "      <th>Spider Curl</th>\n",
       "      <td>154</td>\n",
       "      <td>24</td>\n",
       "    </tr>\n",
       "    <tr>\n",
       "      <th>Incline Hammer Curl</th>\n",
       "      <td>145</td>\n",
       "      <td>24</td>\n",
       "    </tr>\n",
       "    <tr>\n",
       "      <th>Bar Skullcrusher</th>\n",
       "      <td>141</td>\n",
       "      <td>30</td>\n",
       "    </tr>\n",
       "    <tr>\n",
       "      <th>Wide-Grip Pulldown Behind The Neck</th>\n",
       "      <td>138</td>\n",
       "      <td>25</td>\n",
       "    </tr>\n",
       "    <tr>\n",
       "      <th>Wide-Grip Front Pulldown</th>\n",
       "      <td>136</td>\n",
       "      <td>9</td>\n",
       "    </tr>\n",
       "    <tr>\n",
       "      <th>Seated Cable Rows</th>\n",
       "      <td>133</td>\n",
       "      <td>20</td>\n",
       "    </tr>\n",
       "    <tr>\n",
       "      <th>Concentration Curl</th>\n",
       "      <td>120</td>\n",
       "      <td>13</td>\n",
       "    </tr>\n",
       "    <tr>\n",
       "      <th>Seated Dumbbell Shoulder Press</th>\n",
       "      <td>119</td>\n",
       "      <td>13</td>\n",
       "    </tr>\n",
       "    <tr>\n",
       "      <th>Cable Curl</th>\n",
       "      <td>116</td>\n",
       "      <td>18</td>\n",
       "    </tr>\n",
       "    <tr>\n",
       "      <th>Leverage Chest Press</th>\n",
       "      <td>114</td>\n",
       "      <td>19</td>\n",
       "    </tr>\n",
       "    <tr>\n",
       "      <th>Close-Grip Barbell Bench Press</th>\n",
       "      <td>114</td>\n",
       "      <td>9</td>\n",
       "    </tr>\n",
       "    <tr>\n",
       "      <th>Overhead Triceps Extension</th>\n",
       "      <td>113</td>\n",
       "      <td>20</td>\n",
       "    </tr>\n",
       "    <tr>\n",
       "      <th>Triceps Pushdown</th>\n",
       "      <td>111</td>\n",
       "      <td>14</td>\n",
       "    </tr>\n",
       "    <tr>\n",
       "      <th>Side Lateral Raise</th>\n",
       "      <td>111</td>\n",
       "      <td>23</td>\n",
       "    </tr>\n",
       "    <tr>\n",
       "      <th>Upright Barbell Row</th>\n",
       "      <td>110</td>\n",
       "      <td>14</td>\n",
       "    </tr>\n",
       "    <tr>\n",
       "      <th>One-Arm Dumbbell Row</th>\n",
       "      <td>105</td>\n",
       "      <td>16</td>\n",
       "    </tr>\n",
       "    <tr>\n",
       "      <th>Tricep Dumbbell Kickback</th>\n",
       "      <td>97</td>\n",
       "      <td>17</td>\n",
       "    </tr>\n",
       "    <tr>\n",
       "      <th>Lying Rear Delt Raise</th>\n",
       "      <td>93</td>\n",
       "      <td>22</td>\n",
       "    </tr>\n",
       "    <tr>\n",
       "      <th>Bench Press</th>\n",
       "      <td>89</td>\n",
       "      <td>17</td>\n",
       "    </tr>\n",
       "    <tr>\n",
       "      <th>Bench Dip / Dip</th>\n",
       "      <td>89</td>\n",
       "      <td>21</td>\n",
       "    </tr>\n",
       "    <tr>\n",
       "      <th>Pushups</th>\n",
       "      <td>73</td>\n",
       "      <td>4</td>\n",
       "    </tr>\n",
       "    <tr>\n",
       "      <th>Bent Over Barbell Row</th>\n",
       "      <td>72</td>\n",
       "      <td>12</td>\n",
       "    </tr>\n",
       "    <tr>\n",
       "      <th>Car Drivers</th>\n",
       "      <td>71</td>\n",
       "      <td>28</td>\n",
       "    </tr>\n",
       "    <tr>\n",
       "      <th>Reverse Grip Bent-Over Row</th>\n",
       "      <td>69</td>\n",
       "      <td>13</td>\n",
       "    </tr>\n",
       "  </tbody>\n",
       "</table>\n",
       "</div>"
      ],
      "text/plain": [
       "                                    Train Count  Test Count\n",
       "Label                                                      \n",
       "No activity identified                    18093        3566\n",
       "Dumbbell Alternate Bicep Curl               244          31\n",
       "Front Dumbbell Raise                        223          27\n",
       "Dumbbell Flyes                              205          14\n",
       "Incline Dumbbell Flyes                      190          23\n",
       "Hammer Curl                                 184          36\n",
       "Incline Dumbbell Press                      154          19\n",
       "Spider Curl                                 154          24\n",
       "Incline Hammer Curl                         145          24\n",
       "Bar Skullcrusher                            141          30\n",
       "Wide-Grip Pulldown Behind The Neck          138          25\n",
       "Wide-Grip Front Pulldown                    136           9\n",
       "Seated Cable Rows                           133          20\n",
       "Concentration Curl                          120          13\n",
       "Seated Dumbbell Shoulder Press              119          13\n",
       "Cable Curl                                  116          18\n",
       "Leverage Chest Press                        114          19\n",
       "Close-Grip Barbell Bench Press              114           9\n",
       "Overhead Triceps Extension                  113          20\n",
       "Triceps Pushdown                            111          14\n",
       "Side Lateral Raise                          111          23\n",
       "Upright Barbell Row                         110          14\n",
       "One-Arm Dumbbell Row                        105          16\n",
       "Tricep Dumbbell Kickback                     97          17\n",
       "Lying Rear Delt Raise                        93          22\n",
       "Bench Press                                  89          17\n",
       "Bench Dip / Dip                              89          21\n",
       "Pushups                                      73           4\n",
       "Bent Over Barbell Row                        72          12\n",
       "Car Drivers                                  71          28\n",
       "Reverse Grip Bent-Over Row                   69          13"
      ]
     },
     "execution_count": 12,
     "metadata": {},
     "output_type": "execute_result"
    }
   ],
   "source": [
    "label_counts = train_label_counts.merge(test_label_counts, on = \"Label\")\n",
    "label_counts[\"Label\"] = label_counts[\"Label\"].map(ACTIVITY_MAPPING)\n",
    "label_counts = label_counts.set_index(\"Label\")\n",
    "label_counts.sort_values([\"Train Count\"], ascending=[False])"
   ]
  },
  {
   "cell_type": "code",
   "execution_count": 13,
   "id": "0d6534d2",
   "metadata": {},
   "outputs": [],
   "source": [
    "def sample_noise_class(data: np.array, labels: np.array, sz: int):\n",
    "    \"\"\"\n",
    "    Removes most samples from the dominant noise class, down to a sample size (sz) specified in this function.  \n",
    "    \"\"\"\n",
    "    # Identify indices of the noise class and signal class\n",
    "    noise_idx = np.where(labels == 99)[0]\n",
    "    signal_idx = np.where(labels != 99)[0]\n",
    "\n",
    "    # Choose a sample from the noise class\n",
    "    sample_idx = np.random.choice(noise_idx, size = sz, replace=False)\n",
    "\n",
    "    # Combine the sampled indices with the other class indices\n",
    "    combined_idx = np.concatenate([signal_idx, sample_idx])\n",
    "\n",
    "    # Apply the indexes to the data and labels\n",
    "    data_sample = x1_train[combined_idx, :, :]\n",
    "    labels_sample = labels[combined_idx]\n",
    "    \n",
    "    return data_sample, labels_sample"
   ]
  },
  {
   "cell_type": "code",
   "execution_count": 14,
   "id": "3ca4b828",
   "metadata": {},
   "outputs": [],
   "source": [
    "x1s_train, y1s_train = sample_noise_class(data = x1_train, labels = y1_train, sz = 250)\n",
    "x1s_test, y1s_test = sample_noise_class(data = x1_test, labels = y1_test, sz = 50)"
   ]
  },
  {
   "cell_type": "code",
   "execution_count": 15,
   "id": "18753437",
   "metadata": {},
   "outputs": [],
   "source": [
    "with open('data/1s_train.npy', 'wb') as f:\n",
    "    np.save(f, x1s_train)\n",
    "    np.save(f, y1s_train)\n",
    "    \n",
    "with open('data/1s_test.npy', 'wb') as f:\n",
    "    np.save(f, x1s_test)\n",
    "    np.save(f, y1s_test)"
   ]
  },
  {
   "cell_type": "markdown",
   "id": "bfa883d4",
   "metadata": {},
   "source": [
    "## References"
   ]
  },
  {
   "cell_type": "markdown",
   "id": "378b982c",
   "metadata": {},
   "source": [
    "[1] Koskimäki, Heli, Pekka Siirtola and Juha Röning. “MyoGym: introducing an open gym data set for activity recognition collected using myo armband.” Proceedings of the 2017 ACM International Joint Conference on Pervasive and Ubiquitous Computing and Proceedings of the 2017 ACM International Symposium on Wearable Computers (2017): n. pag."
   ]
  }
 ],
 "metadata": {
  "kernelspec": {
   "display_name": "Python 3 (ipykernel)",
   "language": "python",
   "name": "python3"
  },
  "language_info": {
   "codemirror_mode": {
    "name": "ipython",
    "version": 3
   },
   "file_extension": ".py",
   "mimetype": "text/x-python",
   "name": "python",
   "nbconvert_exporter": "python",
   "pygments_lexer": "ipython3",
   "version": "3.9.13"
  }
 },
 "nbformat": 4,
 "nbformat_minor": 5
}
