{
  "cells": [
    {
      "cell_type": "markdown",
      "id": "dcc057d7",
      "metadata": {
        "id": "dcc057d7"
      },
      "source": [
        "# **Hybrid Rocket**"
      ]
    },
    {
      "cell_type": "markdown",
      "source": [
        "In this workbook, we introduce a hybrid training approach that can pick the most informative features from the CNN-ResBiGRU network and the Mini-Rocket transformation."
      ],
      "metadata": {
        "id": "Lo2s5QMjrfHJ"
      },
      "id": "Lo2s5QMjrfHJ"
    },
    {
      "cell_type": "markdown",
      "id": "nUB3qukkVz4e",
      "metadata": {
        "id": "nUB3qukkVz4e"
      },
      "source": [
        "## **Initialisation**"
      ]
    },
    {
      "cell_type": "code",
      "execution_count": 2,
      "id": "Rnoi2AD9umez",
      "metadata": {
        "colab": {
          "base_uri": "https://localhost:8080/"
        },
        "id": "Rnoi2AD9umez",
        "outputId": "f24de8d6-9fa3-45eb-a5b3-319f755a8500"
      },
      "outputs": [
        {
          "output_type": "stream",
          "name": "stdout",
          "text": [
            "Collecting sktime==0.31.0\n",
            "  Downloading sktime-0.31.0-py3-none-any.whl.metadata (31 kB)\n",
            "Requirement already satisfied: joblib<1.5,>=1.2.0 in /usr/local/lib/python3.10/dist-packages (from sktime==0.31.0) (1.4.2)\n",
            "Requirement already satisfied: numpy<2.1,>=1.21 in /usr/local/lib/python3.10/dist-packages (from sktime==0.31.0) (1.26.4)\n",
            "Requirement already satisfied: packaging in /usr/local/lib/python3.10/dist-packages (from sktime==0.31.0) (24.1)\n",
            "Requirement already satisfied: pandas<2.3.0,>=1.1 in /usr/local/lib/python3.10/dist-packages (from sktime==0.31.0) (2.1.4)\n",
            "Collecting scikit-base<0.9.0,>=0.6.1 (from sktime==0.31.0)\n",
            "  Downloading scikit_base-0.8.3-py3-none-any.whl.metadata (8.5 kB)\n",
            "Requirement already satisfied: scikit-learn<1.6.0,>=0.24 in /usr/local/lib/python3.10/dist-packages (from sktime==0.31.0) (1.3.2)\n",
            "Requirement already satisfied: scipy<2.0.0,>=1.2 in /usr/local/lib/python3.10/dist-packages (from sktime==0.31.0) (1.13.1)\n",
            "Requirement already satisfied: python-dateutil>=2.8.2 in /usr/local/lib/python3.10/dist-packages (from pandas<2.3.0,>=1.1->sktime==0.31.0) (2.8.2)\n",
            "Requirement already satisfied: pytz>=2020.1 in /usr/local/lib/python3.10/dist-packages (from pandas<2.3.0,>=1.1->sktime==0.31.0) (2024.1)\n",
            "Requirement already satisfied: tzdata>=2022.1 in /usr/local/lib/python3.10/dist-packages (from pandas<2.3.0,>=1.1->sktime==0.31.0) (2024.1)\n",
            "Requirement already satisfied: threadpoolctl>=2.0.0 in /usr/local/lib/python3.10/dist-packages (from scikit-learn<1.6.0,>=0.24->sktime==0.31.0) (3.5.0)\n",
            "Requirement already satisfied: six>=1.5 in /usr/local/lib/python3.10/dist-packages (from python-dateutil>=2.8.2->pandas<2.3.0,>=1.1->sktime==0.31.0) (1.16.0)\n",
            "Downloading sktime-0.31.0-py3-none-any.whl (24.0 MB)\n",
            "\u001b[2K   \u001b[90m━━━━━━━━━━━━━━━━━━━━━━━━━━━━━━━━━━━━━━━━\u001b[0m \u001b[32m24.0/24.0 MB\u001b[0m \u001b[31m39.2 MB/s\u001b[0m eta \u001b[36m0:00:00\u001b[0m\n",
            "\u001b[?25hDownloading scikit_base-0.8.3-py3-none-any.whl (136 kB)\n",
            "\u001b[2K   \u001b[90m━━━━━━━━━━━━━━━━━━━━━━━━━━━━━━━━━━━━━━━━\u001b[0m \u001b[32m136.2/136.2 kB\u001b[0m \u001b[31m7.4 MB/s\u001b[0m eta \u001b[36m0:00:00\u001b[0m\n",
            "\u001b[?25hInstalling collected packages: scikit-base, sktime\n",
            "Successfully installed scikit-base-0.8.3 sktime-0.31.0\n"
          ]
        }
      ],
      "source": [
        "pip install sktime==0.31.0"
      ]
    },
    {
      "cell_type": "code",
      "execution_count": 24,
      "id": "8R9a8pMzlk17",
      "metadata": {
        "id": "8R9a8pMzlk17"
      },
      "outputs": [],
      "source": [
        "import os\n",
        "import numpy as np\n",
        "import pickle\n",
        "import itertools\n",
        "from tqdm import tqdm\n",
        "import tensorflow as tf\n",
        "import matplotlib.pyplot as plt\n",
        "from matplotlib.colors import LinearSegmentedColormap\n",
        "import seaborn as sns\n",
        "from sklearn.ensemble import RandomForestClassifier\n",
        "from sklearn.model_selection import GridSearchCV\n",
        "from sklearn.metrics import classification_report\n",
        "from sklearn.decomposition import PCA\n",
        "from sklearn.metrics import confusion_matrix\n",
        "from sktime.transformations.panel.rocket import MiniRocketMultivariate\n",
        "from keras.models import Model\n",
        "from keras.losses import CategoricalCrossentropy\n",
        "from keras.metrics import Accuracy\n",
        "from keras.optimizers import Adam\n",
        "from keras.callbacks import EarlyStopping, ReduceLROnPlateau\n",
        "from tensorflow.keras.models import load_model\n",
        "from tensorflow.keras.regularizers import l2\n",
        "from keras.layers import Input, Layer, Concatenate, Lambda, Conv1D, MaxPool1D, ReLU, BatchNormalization, LayerNormalization, Dropout, Add, Dense, GlobalMaxPooling1D, Bidirectional, GRU\n",
        "\n",
        "np.random.seed(123)"
      ]
    },
    {
      "cell_type": "code",
      "execution_count": 4,
      "id": "6PHiGpI9_k54",
      "metadata": {
        "colab": {
          "base_uri": "https://localhost:8080/"
        },
        "id": "6PHiGpI9_k54",
        "outputId": "5df0a9ba-3a99-45c4-cf93-706af2832151"
      },
      "outputs": [
        {
          "output_type": "stream",
          "name": "stdout",
          "text": [
            "Mounted at /content/drive\n"
          ]
        }
      ],
      "source": [
        "#You MUST run this command before reading in any data from Google Drive\n",
        "from google.colab import files\n",
        "from google.colab import drive\n",
        "import pandas as pd\n",
        "drive.mount('/content/drive', force_remount=True)\n",
        "os.chdir('/content/drive/My Drive/Colab Notebooks/Thesis')\n",
        "\n",
        "%run sys_configs.ipynb\n",
        "%run plots.ipynb"
      ]
    },
    {
      "cell_type": "code",
      "execution_count": 9,
      "id": "Ug5PdJ8i_k_7",
      "metadata": {
        "id": "Ug5PdJ8i_k_7"
      },
      "outputs": [],
      "source": [
        "with open('data/train.npy', 'rb') as f:\n",
        "    x_train = np.load(f)\n",
        "    y_train = np.load(f).astype(np.int64)\n",
        "sz, dim = x_train.shape[1:]\n",
        "\n",
        "with open('data/val.npy', 'rb') as f:\n",
        "    x_val = np.load(f)\n",
        "    y_val = np.load(f).astype(np.int64)\n",
        "\n",
        "with open('data/test.npy', 'rb') as f:\n",
        "    x_test = np.load(f)\n",
        "    y_test = np.load(f).astype(np.int64)\n",
        "\n",
        "classes = np.unique(y_train)\n",
        "\n",
        "N_train = len(y_train)\n",
        "N_val = len(y_val)\n",
        "N_test = len(y_test)"
      ]
    },
    {
      "cell_type": "code",
      "execution_count": 10,
      "id": "ZwDmf0p1_lCz",
      "metadata": {
        "id": "ZwDmf0p1_lCz"
      },
      "outputs": [],
      "source": [
        "# Convert the labels to tensors\n",
        "train_labels_tf = tf.one_hot(y_train, 31, dtype=tf.float32)\n",
        "val_labels_tf = tf.one_hot(y_val, 31, dtype=tf.float32)\n",
        "test_labels_tf = tf.one_hot(y_test, 31, dtype=tf.float32)"
      ]
    },
    {
      "cell_type": "code",
      "execution_count": 11,
      "id": "p78kXUqdMnX6",
      "metadata": {
        "id": "p78kXUqdMnX6"
      },
      "outputs": [],
      "source": [
        "C = len(set(y_train)) # Number of classes"
      ]
    },
    {
      "cell_type": "markdown",
      "id": "mMb_l-U2WC5i",
      "metadata": {
        "id": "mMb_l-U2WC5i"
      },
      "source": [
        "#### **Prepare train & validation datasets**"
      ]
    },
    {
      "cell_type": "markdown",
      "source": [
        "We first produce the raw and first order differenced datasets."
      ],
      "metadata": {
        "id": "0X6PFC_AdyHm"
      },
      "id": "0X6PFC_AdyHm"
    },
    {
      "cell_type": "code",
      "execution_count": 12,
      "id": "-7e0TsSU_lGc",
      "metadata": {
        "id": "-7e0TsSU_lGc"
      },
      "outputs": [],
      "source": [
        "# Convert the raw dataset to tensors\n",
        "train_raw_tf = tf.convert_to_tensor(x_train[:, :-1, :], dtype=tf.float32)\n",
        "val_raw_tf = tf.convert_to_tensor(x_val[:, :-1, :], dtype=tf.float32)\n",
        "test_raw_tf = tf.convert_to_tensor(x_test[:, :-1, :], dtype=tf.float32)"
      ]
    },
    {
      "cell_type": "markdown",
      "source": [
        "#### **Prepare Rocket transformation train & validation datasets**"
      ],
      "metadata": {
        "id": "r6wy5uIVdkZS"
      },
      "id": "r6wy5uIVdkZS"
    },
    {
      "cell_type": "markdown",
      "source": [
        "We use the *sktime* MiniRocket implementation, which is the same implementation introduced in the MiniRocket paper."
      ],
      "metadata": {
        "id": "rdvXwpQRoNPr"
      },
      "id": "rdvXwpQRoNPr"
    },
    {
      "cell_type": "code",
      "source": [
        "# Transpose the train and validation data as the format needs to be N x D x (T - 1)\n",
        "x_train_ = x_train[:, :-1, :].transpose((0, 2, 1))\n",
        "x_val_ = x_val[:, :-1, :].transpose((0, 2, 1))\n",
        "x_test_ = x_test[:, :-1, :].transpose((0, 2, 1))"
      ],
      "metadata": {
        "id": "EORM8hHjiaV1"
      },
      "id": "EORM8hHjiaV1",
      "execution_count": 13,
      "outputs": []
    },
    {
      "cell_type": "code",
      "source": [
        "# Compute the MiniRocket transform and transform to tensors\n",
        "minirocket_multi = MiniRocketMultivariate(num_kernels = 10000, max_dilations_per_kernel = 32)\n",
        "minirocket_multi.fit(x_train_)\n",
        "\n",
        "train_rocket_np = minirocket_multi.transform(x_train_)\n",
        "val_rocket_np = minirocket_multi.transform(x_val_)\n",
        "test_rocket_np = minirocket_multi.transform(x_test_)\n",
        "\n",
        "train_rocket_tf = tf.convert_to_tensor(train_rocket_np, dtype = tf.float32)\n",
        "val_rocket_tf = tf.convert_to_tensor(val_rocket_np, dtype = tf.float32)\n",
        "test_rocket_tf = tf.convert_to_tensor(test_rocket_np, dtype = tf.float32)"
      ],
      "metadata": {
        "id": "e7pQcYbXdlbs"
      },
      "id": "e7pQcYbXdlbs",
      "execution_count": 14,
      "outputs": []
    },
    {
      "cell_type": "markdown",
      "source": [
        "#### **Prepare PCA transformation train & validation datasets**"
      ],
      "metadata": {
        "id": "JwLhlSX26lhy"
      },
      "id": "JwLhlSX26lhy"
    },
    {
      "cell_type": "code",
      "source": [
        "pca_rocket = PCA(n_components=128)\n",
        "pca_rocket.fit(train_rocket_np)"
      ],
      "metadata": {
        "id": "Oa2tEy5qLGdv",
        "colab": {
          "base_uri": "https://localhost:8080/",
          "height": 74
        },
        "outputId": "ddc3b443-8210-4f2c-8f1d-5976358dc311"
      },
      "execution_count": 15,
      "outputs": [
        {
          "output_type": "execute_result",
          "data": {
            "text/plain": [
              "PCA(n_components=128)"
            ],
            "text/html": [
              "<style>#sk-container-id-1 {color: black;}#sk-container-id-1 pre{padding: 0;}#sk-container-id-1 div.sk-toggleable {background-color: white;}#sk-container-id-1 label.sk-toggleable__label {cursor: pointer;display: block;width: 100%;margin-bottom: 0;padding: 0.3em;box-sizing: border-box;text-align: center;}#sk-container-id-1 label.sk-toggleable__label-arrow:before {content: \"▸\";float: left;margin-right: 0.25em;color: #696969;}#sk-container-id-1 label.sk-toggleable__label-arrow:hover:before {color: black;}#sk-container-id-1 div.sk-estimator:hover label.sk-toggleable__label-arrow:before {color: black;}#sk-container-id-1 div.sk-toggleable__content {max-height: 0;max-width: 0;overflow: hidden;text-align: left;background-color: #f0f8ff;}#sk-container-id-1 div.sk-toggleable__content pre {margin: 0.2em;color: black;border-radius: 0.25em;background-color: #f0f8ff;}#sk-container-id-1 input.sk-toggleable__control:checked~div.sk-toggleable__content {max-height: 200px;max-width: 100%;overflow: auto;}#sk-container-id-1 input.sk-toggleable__control:checked~label.sk-toggleable__label-arrow:before {content: \"▾\";}#sk-container-id-1 div.sk-estimator input.sk-toggleable__control:checked~label.sk-toggleable__label {background-color: #d4ebff;}#sk-container-id-1 div.sk-label input.sk-toggleable__control:checked~label.sk-toggleable__label {background-color: #d4ebff;}#sk-container-id-1 input.sk-hidden--visually {border: 0;clip: rect(1px 1px 1px 1px);clip: rect(1px, 1px, 1px, 1px);height: 1px;margin: -1px;overflow: hidden;padding: 0;position: absolute;width: 1px;}#sk-container-id-1 div.sk-estimator {font-family: monospace;background-color: #f0f8ff;border: 1px dotted black;border-radius: 0.25em;box-sizing: border-box;margin-bottom: 0.5em;}#sk-container-id-1 div.sk-estimator:hover {background-color: #d4ebff;}#sk-container-id-1 div.sk-parallel-item::after {content: \"\";width: 100%;border-bottom: 1px solid gray;flex-grow: 1;}#sk-container-id-1 div.sk-label:hover label.sk-toggleable__label {background-color: #d4ebff;}#sk-container-id-1 div.sk-serial::before {content: \"\";position: absolute;border-left: 1px solid gray;box-sizing: border-box;top: 0;bottom: 0;left: 50%;z-index: 0;}#sk-container-id-1 div.sk-serial {display: flex;flex-direction: column;align-items: center;background-color: white;padding-right: 0.2em;padding-left: 0.2em;position: relative;}#sk-container-id-1 div.sk-item {position: relative;z-index: 1;}#sk-container-id-1 div.sk-parallel {display: flex;align-items: stretch;justify-content: center;background-color: white;position: relative;}#sk-container-id-1 div.sk-item::before, #sk-container-id-1 div.sk-parallel-item::before {content: \"\";position: absolute;border-left: 1px solid gray;box-sizing: border-box;top: 0;bottom: 0;left: 50%;z-index: -1;}#sk-container-id-1 div.sk-parallel-item {display: flex;flex-direction: column;z-index: 1;position: relative;background-color: white;}#sk-container-id-1 div.sk-parallel-item:first-child::after {align-self: flex-end;width: 50%;}#sk-container-id-1 div.sk-parallel-item:last-child::after {align-self: flex-start;width: 50%;}#sk-container-id-1 div.sk-parallel-item:only-child::after {width: 0;}#sk-container-id-1 div.sk-dashed-wrapped {border: 1px dashed gray;margin: 0 0.4em 0.5em 0.4em;box-sizing: border-box;padding-bottom: 0.4em;background-color: white;}#sk-container-id-1 div.sk-label label {font-family: monospace;font-weight: bold;display: inline-block;line-height: 1.2em;}#sk-container-id-1 div.sk-label-container {text-align: center;}#sk-container-id-1 div.sk-container {/* jupyter's `normalize.less` sets `[hidden] { display: none; }` but bootstrap.min.css set `[hidden] { display: none !important; }` so we also need the `!important` here to be able to override the default hidden behavior on the sphinx rendered scikit-learn.org. See: https://github.com/scikit-learn/scikit-learn/issues/21755 */display: inline-block !important;position: relative;}#sk-container-id-1 div.sk-text-repr-fallback {display: none;}</style><div id=\"sk-container-id-1\" class=\"sk-top-container\"><div class=\"sk-text-repr-fallback\"><pre>PCA(n_components=128)</pre><b>In a Jupyter environment, please rerun this cell to show the HTML representation or trust the notebook. <br />On GitHub, the HTML representation is unable to render, please try loading this page with nbviewer.org.</b></div><div class=\"sk-container\" hidden><div class=\"sk-item\"><div class=\"sk-estimator sk-toggleable\"><input class=\"sk-toggleable__control sk-hidden--visually\" id=\"sk-estimator-id-1\" type=\"checkbox\" checked><label for=\"sk-estimator-id-1\" class=\"sk-toggleable__label sk-toggleable__label-arrow\">PCA</label><div class=\"sk-toggleable__content\"><pre>PCA(n_components=128)</pre></div></div></div></div></div>"
            ]
          },
          "metadata": {},
          "execution_count": 15
        }
      ],
      "id": "Oa2tEy5qLGdv"
    },
    {
      "cell_type": "code",
      "source": [
        "train_pca_np = pca_rocket.transform(train_rocket_np)\n",
        "val_pca_np = pca_rocket.transform(val_rocket_np)\n",
        "test_pca_np = pca_rocket.transform(test_rocket_np)"
      ],
      "metadata": {
        "id": "OJX0_kPuLGom"
      },
      "execution_count": 16,
      "outputs": [],
      "id": "OJX0_kPuLGom"
    },
    {
      "cell_type": "code",
      "source": [
        "train_pca_tf = tf.convert_to_tensor(train_pca_np, dtype = tf.float32)\n",
        "val_pca_tf = tf.convert_to_tensor(val_pca_np, dtype = tf.float32)\n",
        "test_pca_tf = tf.convert_to_tensor(test_pca_np, dtype = tf.float32)"
      ],
      "metadata": {
        "id": "0x12zoXd6lpZ"
      },
      "id": "0x12zoXd6lpZ",
      "execution_count": 17,
      "outputs": []
    },
    {
      "cell_type": "markdown",
      "source": [
        "#### **Combine input datasets**"
      ],
      "metadata": {
        "id": "KdO95KhEdktU"
      },
      "id": "KdO95KhEdktU"
    },
    {
      "cell_type": "markdown",
      "source": [
        "We now prepare different Tensorflow datasets for the experiments in this workbook."
      ],
      "metadata": {
        "id": "xHQxuz3tivHn"
      },
      "id": "xHQxuz3tivHn"
    },
    {
      "cell_type": "markdown",
      "source": [
        "**Dataset 1: Raw + Rocket Transformation Time Series**"
      ],
      "metadata": {
        "id": "iNITLE8GVFJv"
      },
      "id": "iNITLE8GVFJv"
    },
    {
      "cell_type": "code",
      "source": [
        "train_rr_ds = tf.data.Dataset.from_tensor_slices((train_raw_tf, train_rocket_tf, train_labels_tf))\n",
        "val_rr_ds = tf.data.Dataset.from_tensor_slices((val_raw_tf, val_rocket_tf, val_labels_tf))\n",
        "test_rr_ds = tf.data.Dataset.from_tensor_slices((test_raw_tf, test_rocket_tf, test_labels_tf))\n",
        "\n",
        "# Map function to process the dataset elements\n",
        "def map_rr(raw, rocket, label):\n",
        "    return {\"raw\": raw, \"rocket\": rocket}, label\n",
        "\n",
        "# Apply the mapping function\n",
        "train_rr_ds = train_rr_ds.map(map_rr)\n",
        "val_rr_ds = val_rr_ds.map(map_rr)\n",
        "test_rr_ds = test_rr_ds.map(map_rr)\n",
        "\n",
        "train_rr_ds = train_rr_ds.shuffle(500)\n",
        "\n",
        "train_rr_ds = train_rr_ds.padded_batch(64)\n",
        "val_rr_ds = val_rr_ds.padded_batch(64)\n",
        "test_rr_ds = test_rr_ds.padded_batch(64)"
      ],
      "metadata": {
        "id": "69YuZ2dslkNP"
      },
      "id": "69YuZ2dslkNP",
      "execution_count": 18,
      "outputs": []
    },
    {
      "cell_type": "markdown",
      "source": [
        "**Dataset 2: Raw + Rocket PCA Transformation Time Series**"
      ],
      "metadata": {
        "id": "nUhOpczNlkBw"
      },
      "id": "nUhOpczNlkBw"
    },
    {
      "cell_type": "code",
      "source": [
        "train_rp_ds = tf.data.Dataset.from_tensor_slices((train_raw_tf, train_pca_tf, train_labels_tf))\n",
        "val_rp_ds = tf.data.Dataset.from_tensor_slices((val_raw_tf, val_pca_tf, val_labels_tf))\n",
        "test_rp_ds = tf.data.Dataset.from_tensor_slices((test_raw_tf, test_pca_tf, test_labels_tf))\n",
        "\n",
        "# Map function to process the dataset elements\n",
        "def map_rp(raw, pca, label):\n",
        "    return {\"raw\": raw, \"pca\": pca}, label\n",
        "\n",
        "# Apply the mapping function\n",
        "train_rp_ds = train_rp_ds.map(map_rp)\n",
        "val_rp_ds = val_rp_ds.map(map_rp)\n",
        "test_rp_ds = test_rp_ds.map(map_rp)\n",
        "\n",
        "train_rp_ds = train_rp_ds.shuffle(500)\n",
        "\n",
        "train_rp_ds = train_rp_ds.padded_batch(64)\n",
        "val_rp_ds = val_rp_ds.padded_batch(64)\n",
        "test_rp_ds = test_rp_ds.padded_batch(64)"
      ],
      "metadata": {
        "id": "W-69HJsmVNwf"
      },
      "id": "W-69HJsmVNwf",
      "execution_count": 19,
      "outputs": []
    },
    {
      "cell_type": "markdown",
      "source": [
        "## **Set up standard CNN-ResBiGRU blocks**"
      ],
      "metadata": {
        "id": "mygoc72Tw4UF"
      },
      "id": "mygoc72Tw4UF"
    },
    {
      "cell_type": "code",
      "source": [
        "class ConvBlock(Layer):\n",
        "\n",
        "    def __init__(self, num_filters, **kwargs):\n",
        "        super().__init__(**kwargs)\n",
        "        self.num_filters = num_filters\n",
        "\n",
        "    def build(self, input_shape): # Tensorflow calls this method automatically when the object is defined\n",
        "        self.conv = Conv1D(self.num_filters, kernel_size=10, strides = 1, padding=\"same\")\n",
        "        self.batch_norm = BatchNormalization()\n",
        "        self.max_pool = MaxPool1D(pool_size=3, strides=1, padding=\"same\")\n",
        "        self.dropout = Dropout(0.25)\n",
        "\n",
        "    def call(self, input):\n",
        "        x = self.conv(input)\n",
        "        x = self.batch_norm(x)\n",
        "        x = self.max_pool(x)\n",
        "        output = self.dropout(x)\n",
        "        return output"
      ],
      "metadata": {
        "id": "LaU2REfIw_ZO"
      },
      "id": "LaU2REfIw_ZO",
      "execution_count": 20,
      "outputs": []
    },
    {
      "cell_type": "code",
      "source": [
        "class ResBiGRU(Layer):\n",
        "\n",
        "    def __init__(self, h1_units, h2_units, **kwargs):\n",
        "        super().__init__(**kwargs)\n",
        "        self.h1_units = h1_units\n",
        "        self.h2_units = h2_units\n",
        "\n",
        "    def build(self, input_shape): # Tensorflow calls this method automatically when the object is defined\n",
        "        self.gru_1 =  Bidirectional(GRU(self.h1_units, activation = None, return_sequences=True), merge_mode=None)\n",
        "        self.gru_2a = GRU(self.h2_units, activation = None, return_sequences=True)\n",
        "        self.gru_2b = GRU(self.h2_units, activation = None, return_sequences=True)\n",
        "        self.layer_norm = LayerNormalization()\n",
        "\n",
        "    def call(self, input):\n",
        "        # In the first (hidden) RNN layer, apply the forward and backward GRU layers concurrently\n",
        "        z_forward, z_backward = self.gru_1(input)\n",
        "\n",
        "        # In the second (hidden) RNN layer, apply the forward and backward GRU layers separately\n",
        "        z2_forward = self.gru_2a(z_forward)\n",
        "        z2_backward = self.gru_2b(z_backward)\n",
        "\n",
        "        # Add the output of the first RNN layer to the output of the second RNN layer\n",
        "        z_forward = Add()([z_forward, z2_forward])\n",
        "        z_backward = Add()([z_backward, z2_backward])\n",
        "\n",
        "        z_forward = self.layer_norm(z_forward)\n",
        "        z_backward = self.layer_norm(z_backward)\n",
        "\n",
        "        output = tf.concat([z_forward, z_backward], axis = 2)\n",
        "        return output"
      ],
      "metadata": {
        "id": "_zVlv_6hxMkZ"
      },
      "id": "_zVlv_6hxMkZ",
      "execution_count": 21,
      "outputs": []
    },
    {
      "cell_type": "code",
      "source": [
        "# We use early stopping as CNNResBiGRU is a high parameter network, so requires many epochs to train.\n",
        "earlystopping = EarlyStopping(monitor='val_accuracy', patience=10)\n",
        "\n",
        "# The previous benchmark paper also made use of ReduceLROnPlateau which reduces the lesrning rate when the loss plateaus.\n",
        "reduce_lr = ReduceLROnPlateau(monitor='val_loss', factor=0.5, patience=3, min_lr=10e-5)"
      ],
      "metadata": {
        "id": "LuvmG_I-xOAU"
      },
      "id": "LuvmG_I-xOAU",
      "execution_count": 22,
      "outputs": []
    },
    {
      "cell_type": "markdown",
      "source": [
        "## **Train all weights at once (PCA)**"
      ],
      "metadata": {
        "id": "eqCIedXGp9l_"
      },
      "id": "eqCIedXGp9l_"
    },
    {
      "cell_type": "markdown",
      "source": [
        "In this experiment, we apply batch normalisation to both the component acting on the raw time series and the component acting on the Rocket.\n",
        "\n",
        "In a since discarded experiment, we consider concatenating the two components and adding an additional fully connected layer on the combined fields.\n",
        "\n",
        "In the experiment shown below, we follow up on the Rocket batch normalisation with a fully connected layer of 64 dimensions, in order to condense the 9,996 Rocket features into a more compact representation. This replaced the additional fully connected layer on the combined fields."
      ],
      "metadata": {
        "id": "yFAa3K-p0DFY"
      },
      "id": "yFAa3K-p0DFY"
    },
    {
      "cell_type": "code",
      "source": [
        "def RocketCNNResBiGRU(ts_raw_shape, pca_raw_shape):\n",
        "    ts_raw_input = Input(shape=ts_raw_shape, name = \"raw\")\n",
        "    pca_raw_input = Input(shape=pca_raw_shape, name = \"pca\")\n",
        "\n",
        "    ts_layer = ConvBlock(num_filters = 32, name = \"ConvBlock\")(ts_raw_input)\n",
        "    ts_layer = ConvBlock(num_filters = 32, name = \"ConvBlock2\")(ts_layer)\n",
        "    ts_layer = ResBiGRU(h1_units = 32, h2_units = 32, name = \"ResBiGRU1\")(ts_layer)\n",
        "    ts_layer = GlobalMaxPooling1D()(ts_layer)\n",
        "\n",
        "    pca_layer = BatchNormalization()(pca_raw_input)\n",
        "    pca_layer = Dense(64, activation=\"sigmoid\")(pca_layer) # Compress the information into 32 dimensions\n",
        "\n",
        "    combined_layer = Concatenate(axis = 1)([pca_layer, ts_layer])\n",
        "\n",
        "    output_layer = Dense(C, activation=\"softmax\")(combined_layer)\n",
        "    return Model(inputs=[pca_raw_input, ts_raw_input], outputs=output_layer)"
      ],
      "metadata": {
        "id": "7VsU4_7kLtWE"
      },
      "id": "7VsU4_7kLtWE",
      "execution_count": 23,
      "outputs": []
    },
    {
      "cell_type": "code",
      "source": [
        "RocketCNNResBiGRU_model = RocketCNNResBiGRU(ts_raw_shape = (sz - 1, dim), pca_raw_shape = (128,))\n",
        "RocketCNNResBiGRU_model.summary()"
      ],
      "metadata": {
        "colab": {
          "base_uri": "https://localhost:8080/",
          "height": 492
        },
        "id": "b5Tv3JfHXF7a",
        "outputId": "aef5895e-d08a-4189-bfd7-37ccc1de3607"
      },
      "id": "b5Tv3JfHXF7a",
      "execution_count": 24,
      "outputs": [
        {
          "output_type": "display_data",
          "data": {
            "text/plain": [
              "\u001b[1mModel: \"functional\"\u001b[0m\n"
            ],
            "text/html": [
              "<pre style=\"white-space:pre;overflow-x:auto;line-height:normal;font-family:Menlo,'DejaVu Sans Mono',consolas,'Courier New',monospace\"><span style=\"font-weight: bold\">Model: \"functional\"</span>\n",
              "</pre>\n"
            ]
          },
          "metadata": {}
        },
        {
          "output_type": "display_data",
          "data": {
            "text/plain": [
              "┏━━━━━━━━━━━━━━━━━━━━━━━━━━━┳━━━━━━━━━━━━━━━━━━━━━━━━┳━━━━━━━━━━━━━━━━┳━━━━━━━━━━━━━━━━━━━━━━━━┓\n",
              "┃\u001b[1m \u001b[0m\u001b[1mLayer (type)             \u001b[0m\u001b[1m \u001b[0m┃\u001b[1m \u001b[0m\u001b[1mOutput Shape          \u001b[0m\u001b[1m \u001b[0m┃\u001b[1m \u001b[0m\u001b[1m       Param #\u001b[0m\u001b[1m \u001b[0m┃\u001b[1m \u001b[0m\u001b[1mConnected to          \u001b[0m\u001b[1m \u001b[0m┃\n",
              "┡━━━━━━━━━━━━━━━━━━━━━━━━━━━╇━━━━━━━━━━━━━━━━━━━━━━━━╇━━━━━━━━━━━━━━━━╇━━━━━━━━━━━━━━━━━━━━━━━━┩\n",
              "│ raw (\u001b[38;5;33mInputLayer\u001b[0m)          │ (\u001b[38;5;45mNone\u001b[0m, \u001b[38;5;34m149\u001b[0m, \u001b[38;5;34m6\u001b[0m)         │              \u001b[38;5;34m0\u001b[0m │ -                      │\n",
              "├───────────────────────────┼────────────────────────┼────────────────┼────────────────────────┤\n",
              "│ ConvBlock (\u001b[38;5;33mConvBlock\u001b[0m)     │ (\u001b[38;5;45mNone\u001b[0m, \u001b[38;5;34m149\u001b[0m, \u001b[38;5;34m32\u001b[0m)        │          \u001b[38;5;34m2,080\u001b[0m │ raw[\u001b[38;5;34m0\u001b[0m][\u001b[38;5;34m0\u001b[0m]              │\n",
              "├───────────────────────────┼────────────────────────┼────────────────┼────────────────────────┤\n",
              "│ pca (\u001b[38;5;33mInputLayer\u001b[0m)          │ (\u001b[38;5;45mNone\u001b[0m, \u001b[38;5;34m128\u001b[0m)            │              \u001b[38;5;34m0\u001b[0m │ -                      │\n",
              "├───────────────────────────┼────────────────────────┼────────────────┼────────────────────────┤\n",
              "│ ConvBlock2 (\u001b[38;5;33mConvBlock\u001b[0m)    │ (\u001b[38;5;45mNone\u001b[0m, \u001b[38;5;34m149\u001b[0m, \u001b[38;5;34m32\u001b[0m)        │         \u001b[38;5;34m10,400\u001b[0m │ ConvBlock[\u001b[38;5;34m0\u001b[0m][\u001b[38;5;34m0\u001b[0m]        │\n",
              "├───────────────────────────┼────────────────────────┼────────────────┼────────────────────────┤\n",
              "│ batch_normalization_2     │ (\u001b[38;5;45mNone\u001b[0m, \u001b[38;5;34m128\u001b[0m)            │            \u001b[38;5;34m512\u001b[0m │ pca[\u001b[38;5;34m0\u001b[0m][\u001b[38;5;34m0\u001b[0m]              │\n",
              "│ (\u001b[38;5;33mBatchNormalization\u001b[0m)      │                        │                │                        │\n",
              "├───────────────────────────┼────────────────────────┼────────────────┼────────────────────────┤\n",
              "│ ResBiGRU1 (\u001b[38;5;33mResBiGRU\u001b[0m)      │ (\u001b[38;5;45mNone\u001b[0m, \u001b[38;5;34m149\u001b[0m, \u001b[38;5;34m64\u001b[0m)        │         \u001b[38;5;34m25,408\u001b[0m │ ConvBlock2[\u001b[38;5;34m0\u001b[0m][\u001b[38;5;34m0\u001b[0m]       │\n",
              "├───────────────────────────┼────────────────────────┼────────────────┼────────────────────────┤\n",
              "│ dense (\u001b[38;5;33mDense\u001b[0m)             │ (\u001b[38;5;45mNone\u001b[0m, \u001b[38;5;34m64\u001b[0m)             │          \u001b[38;5;34m8,256\u001b[0m │ batch_normalization_2… │\n",
              "├───────────────────────────┼────────────────────────┼────────────────┼────────────────────────┤\n",
              "│ global_max_pooling1d      │ (\u001b[38;5;45mNone\u001b[0m, \u001b[38;5;34m64\u001b[0m)             │              \u001b[38;5;34m0\u001b[0m │ ResBiGRU1[\u001b[38;5;34m0\u001b[0m][\u001b[38;5;34m0\u001b[0m]        │\n",
              "│ (\u001b[38;5;33mGlobalMaxPooling1D\u001b[0m)      │                        │                │                        │\n",
              "├───────────────────────────┼────────────────────────┼────────────────┼────────────────────────┤\n",
              "│ concatenate (\u001b[38;5;33mConcatenate\u001b[0m) │ (\u001b[38;5;45mNone\u001b[0m, \u001b[38;5;34m128\u001b[0m)            │              \u001b[38;5;34m0\u001b[0m │ dense[\u001b[38;5;34m0\u001b[0m][\u001b[38;5;34m0\u001b[0m],           │\n",
              "│                           │                        │                │ global_max_pooling1d[\u001b[38;5;34m…\u001b[0m │\n",
              "├───────────────────────────┼────────────────────────┼────────────────┼────────────────────────┤\n",
              "│ dense_1 (\u001b[38;5;33mDense\u001b[0m)           │ (\u001b[38;5;45mNone\u001b[0m, \u001b[38;5;34m31\u001b[0m)             │          \u001b[38;5;34m3,999\u001b[0m │ concatenate[\u001b[38;5;34m0\u001b[0m][\u001b[38;5;34m0\u001b[0m]      │\n",
              "└───────────────────────────┴────────────────────────┴────────────────┴────────────────────────┘\n"
            ],
            "text/html": [
              "<pre style=\"white-space:pre;overflow-x:auto;line-height:normal;font-family:Menlo,'DejaVu Sans Mono',consolas,'Courier New',monospace\">┏━━━━━━━━━━━━━━━━━━━━━━━━━━━┳━━━━━━━━━━━━━━━━━━━━━━━━┳━━━━━━━━━━━━━━━━┳━━━━━━━━━━━━━━━━━━━━━━━━┓\n",
              "┃<span style=\"font-weight: bold\"> Layer (type)              </span>┃<span style=\"font-weight: bold\"> Output Shape           </span>┃<span style=\"font-weight: bold\">        Param # </span>┃<span style=\"font-weight: bold\"> Connected to           </span>┃\n",
              "┡━━━━━━━━━━━━━━━━━━━━━━━━━━━╇━━━━━━━━━━━━━━━━━━━━━━━━╇━━━━━━━━━━━━━━━━╇━━━━━━━━━━━━━━━━━━━━━━━━┩\n",
              "│ raw (<span style=\"color: #0087ff; text-decoration-color: #0087ff\">InputLayer</span>)          │ (<span style=\"color: #00d7ff; text-decoration-color: #00d7ff\">None</span>, <span style=\"color: #00af00; text-decoration-color: #00af00\">149</span>, <span style=\"color: #00af00; text-decoration-color: #00af00\">6</span>)         │              <span style=\"color: #00af00; text-decoration-color: #00af00\">0</span> │ -                      │\n",
              "├───────────────────────────┼────────────────────────┼────────────────┼────────────────────────┤\n",
              "│ ConvBlock (<span style=\"color: #0087ff; text-decoration-color: #0087ff\">ConvBlock</span>)     │ (<span style=\"color: #00d7ff; text-decoration-color: #00d7ff\">None</span>, <span style=\"color: #00af00; text-decoration-color: #00af00\">149</span>, <span style=\"color: #00af00; text-decoration-color: #00af00\">32</span>)        │          <span style=\"color: #00af00; text-decoration-color: #00af00\">2,080</span> │ raw[<span style=\"color: #00af00; text-decoration-color: #00af00\">0</span>][<span style=\"color: #00af00; text-decoration-color: #00af00\">0</span>]              │\n",
              "├───────────────────────────┼────────────────────────┼────────────────┼────────────────────────┤\n",
              "│ pca (<span style=\"color: #0087ff; text-decoration-color: #0087ff\">InputLayer</span>)          │ (<span style=\"color: #00d7ff; text-decoration-color: #00d7ff\">None</span>, <span style=\"color: #00af00; text-decoration-color: #00af00\">128</span>)            │              <span style=\"color: #00af00; text-decoration-color: #00af00\">0</span> │ -                      │\n",
              "├───────────────────────────┼────────────────────────┼────────────────┼────────────────────────┤\n",
              "│ ConvBlock2 (<span style=\"color: #0087ff; text-decoration-color: #0087ff\">ConvBlock</span>)    │ (<span style=\"color: #00d7ff; text-decoration-color: #00d7ff\">None</span>, <span style=\"color: #00af00; text-decoration-color: #00af00\">149</span>, <span style=\"color: #00af00; text-decoration-color: #00af00\">32</span>)        │         <span style=\"color: #00af00; text-decoration-color: #00af00\">10,400</span> │ ConvBlock[<span style=\"color: #00af00; text-decoration-color: #00af00\">0</span>][<span style=\"color: #00af00; text-decoration-color: #00af00\">0</span>]        │\n",
              "├───────────────────────────┼────────────────────────┼────────────────┼────────────────────────┤\n",
              "│ batch_normalization_2     │ (<span style=\"color: #00d7ff; text-decoration-color: #00d7ff\">None</span>, <span style=\"color: #00af00; text-decoration-color: #00af00\">128</span>)            │            <span style=\"color: #00af00; text-decoration-color: #00af00\">512</span> │ pca[<span style=\"color: #00af00; text-decoration-color: #00af00\">0</span>][<span style=\"color: #00af00; text-decoration-color: #00af00\">0</span>]              │\n",
              "│ (<span style=\"color: #0087ff; text-decoration-color: #0087ff\">BatchNormalization</span>)      │                        │                │                        │\n",
              "├───────────────────────────┼────────────────────────┼────────────────┼────────────────────────┤\n",
              "│ ResBiGRU1 (<span style=\"color: #0087ff; text-decoration-color: #0087ff\">ResBiGRU</span>)      │ (<span style=\"color: #00d7ff; text-decoration-color: #00d7ff\">None</span>, <span style=\"color: #00af00; text-decoration-color: #00af00\">149</span>, <span style=\"color: #00af00; text-decoration-color: #00af00\">64</span>)        │         <span style=\"color: #00af00; text-decoration-color: #00af00\">25,408</span> │ ConvBlock2[<span style=\"color: #00af00; text-decoration-color: #00af00\">0</span>][<span style=\"color: #00af00; text-decoration-color: #00af00\">0</span>]       │\n",
              "├───────────────────────────┼────────────────────────┼────────────────┼────────────────────────┤\n",
              "│ dense (<span style=\"color: #0087ff; text-decoration-color: #0087ff\">Dense</span>)             │ (<span style=\"color: #00d7ff; text-decoration-color: #00d7ff\">None</span>, <span style=\"color: #00af00; text-decoration-color: #00af00\">64</span>)             │          <span style=\"color: #00af00; text-decoration-color: #00af00\">8,256</span> │ batch_normalization_2… │\n",
              "├───────────────────────────┼────────────────────────┼────────────────┼────────────────────────┤\n",
              "│ global_max_pooling1d      │ (<span style=\"color: #00d7ff; text-decoration-color: #00d7ff\">None</span>, <span style=\"color: #00af00; text-decoration-color: #00af00\">64</span>)             │              <span style=\"color: #00af00; text-decoration-color: #00af00\">0</span> │ ResBiGRU1[<span style=\"color: #00af00; text-decoration-color: #00af00\">0</span>][<span style=\"color: #00af00; text-decoration-color: #00af00\">0</span>]        │\n",
              "│ (<span style=\"color: #0087ff; text-decoration-color: #0087ff\">GlobalMaxPooling1D</span>)      │                        │                │                        │\n",
              "├───────────────────────────┼────────────────────────┼────────────────┼────────────────────────┤\n",
              "│ concatenate (<span style=\"color: #0087ff; text-decoration-color: #0087ff\">Concatenate</span>) │ (<span style=\"color: #00d7ff; text-decoration-color: #00d7ff\">None</span>, <span style=\"color: #00af00; text-decoration-color: #00af00\">128</span>)            │              <span style=\"color: #00af00; text-decoration-color: #00af00\">0</span> │ dense[<span style=\"color: #00af00; text-decoration-color: #00af00\">0</span>][<span style=\"color: #00af00; text-decoration-color: #00af00\">0</span>],           │\n",
              "│                           │                        │                │ global_max_pooling1d[<span style=\"color: #00af00; text-decoration-color: #00af00\">…</span> │\n",
              "├───────────────────────────┼────────────────────────┼────────────────┼────────────────────────┤\n",
              "│ dense_1 (<span style=\"color: #0087ff; text-decoration-color: #0087ff\">Dense</span>)           │ (<span style=\"color: #00d7ff; text-decoration-color: #00d7ff\">None</span>, <span style=\"color: #00af00; text-decoration-color: #00af00\">31</span>)             │          <span style=\"color: #00af00; text-decoration-color: #00af00\">3,999</span> │ concatenate[<span style=\"color: #00af00; text-decoration-color: #00af00\">0</span>][<span style=\"color: #00af00; text-decoration-color: #00af00\">0</span>]      │\n",
              "└───────────────────────────┴────────────────────────┴────────────────┴────────────────────────┘\n",
              "</pre>\n"
            ]
          },
          "metadata": {}
        },
        {
          "output_type": "display_data",
          "data": {
            "text/plain": [
              "\u001b[1m Total params: \u001b[0m\u001b[38;5;34m50,655\u001b[0m (197.87 KB)\n"
            ],
            "text/html": [
              "<pre style=\"white-space:pre;overflow-x:auto;line-height:normal;font-family:Menlo,'DejaVu Sans Mono',consolas,'Courier New',monospace\"><span style=\"font-weight: bold\"> Total params: </span><span style=\"color: #00af00; text-decoration-color: #00af00\">50,655</span> (197.87 KB)\n",
              "</pre>\n"
            ]
          },
          "metadata": {}
        },
        {
          "output_type": "display_data",
          "data": {
            "text/plain": [
              "\u001b[1m Trainable params: \u001b[0m\u001b[38;5;34m50,271\u001b[0m (196.37 KB)\n"
            ],
            "text/html": [
              "<pre style=\"white-space:pre;overflow-x:auto;line-height:normal;font-family:Menlo,'DejaVu Sans Mono',consolas,'Courier New',monospace\"><span style=\"font-weight: bold\"> Trainable params: </span><span style=\"color: #00af00; text-decoration-color: #00af00\">50,271</span> (196.37 KB)\n",
              "</pre>\n"
            ]
          },
          "metadata": {}
        },
        {
          "output_type": "display_data",
          "data": {
            "text/plain": [
              "\u001b[1m Non-trainable params: \u001b[0m\u001b[38;5;34m384\u001b[0m (1.50 KB)\n"
            ],
            "text/html": [
              "<pre style=\"white-space:pre;overflow-x:auto;line-height:normal;font-family:Menlo,'DejaVu Sans Mono',consolas,'Courier New',monospace\"><span style=\"font-weight: bold\"> Non-trainable params: </span><span style=\"color: #00af00; text-decoration-color: #00af00\">384</span> (1.50 KB)\n",
              "</pre>\n"
            ]
          },
          "metadata": {}
        }
      ]
    },
    {
      "cell_type": "code",
      "execution_count": 25,
      "id": "WAerHo25Uhw4",
      "metadata": {
        "colab": {
          "base_uri": "https://localhost:8080/"
        },
        "id": "WAerHo25Uhw4",
        "outputId": "4de7411a-7793-4240-9c72-bd007d465638"
      },
      "outputs": [
        {
          "output_type": "stream",
          "name": "stdout",
          "text": [
            "Epoch 1/50\n",
            "\u001b[1m68/68\u001b[0m \u001b[32m━━━━━━━━━━━━━━━━━━━━\u001b[0m\u001b[37m\u001b[0m \u001b[1m35s\u001b[0m 278ms/step - accuracy: 0.2168 - loss: 3.0384 - val_accuracy: 0.5101 - val_loss: 1.7556 - learning_rate: 0.0010\n",
            "Epoch 2/50\n",
            "\u001b[1m68/68\u001b[0m \u001b[32m━━━━━━━━━━━━━━━━━━━━\u001b[0m\u001b[37m\u001b[0m \u001b[1m8s\u001b[0m 117ms/step - accuracy: 0.6026 - loss: 1.5013 - val_accuracy: 0.6638 - val_loss: 1.1915 - learning_rate: 0.0010\n",
            "Epoch 3/50\n",
            "\u001b[1m68/68\u001b[0m \u001b[32m━━━━━━━━━━━━━━━━━━━━\u001b[0m\u001b[37m\u001b[0m \u001b[1m8s\u001b[0m 120ms/step - accuracy: 0.7418 - loss: 1.0211 - val_accuracy: 0.7263 - val_loss: 0.9075 - learning_rate: 0.0010\n",
            "Epoch 4/50\n",
            "\u001b[1m68/68\u001b[0m \u001b[32m━━━━━━━━━━━━━━━━━━━━\u001b[0m\u001b[37m\u001b[0m \u001b[1m8s\u001b[0m 119ms/step - accuracy: 0.8238 - loss: 0.7343 - val_accuracy: 0.7364 - val_loss: 0.7838 - learning_rate: 0.0010\n",
            "Epoch 5/50\n",
            "\u001b[1m68/68\u001b[0m \u001b[32m━━━━━━━━━━━━━━━━━━━━\u001b[0m\u001b[37m\u001b[0m \u001b[1m11s\u001b[0m 125ms/step - accuracy: 0.8741 - loss: 0.5530 - val_accuracy: 0.7378 - val_loss: 0.7225 - learning_rate: 0.0010\n",
            "Epoch 6/50\n",
            "\u001b[1m68/68\u001b[0m \u001b[32m━━━━━━━━━━━━━━━━━━━━\u001b[0m\u001b[37m\u001b[0m \u001b[1m10s\u001b[0m 116ms/step - accuracy: 0.9161 - loss: 0.4248 - val_accuracy: 0.7241 - val_loss: 0.7075 - learning_rate: 0.0010\n",
            "Epoch 7/50\n",
            "\u001b[1m68/68\u001b[0m \u001b[32m━━━━━━━━━━━━━━━━━━━━\u001b[0m\u001b[37m\u001b[0m \u001b[1m11s\u001b[0m 121ms/step - accuracy: 0.9402 - loss: 0.3320 - val_accuracy: 0.7428 - val_loss: 0.6379 - learning_rate: 0.0010\n",
            "Epoch 8/50\n",
            "\u001b[1m68/68\u001b[0m \u001b[32m━━━━━━━━━━━━━━━━━━━━\u001b[0m\u001b[37m\u001b[0m \u001b[1m10s\u001b[0m 121ms/step - accuracy: 0.9458 - loss: 0.2674 - val_accuracy: 0.7493 - val_loss: 0.6272 - learning_rate: 0.0010\n",
            "Epoch 9/50\n",
            "\u001b[1m68/68\u001b[0m \u001b[32m━━━━━━━━━━━━━━━━━━━━\u001b[0m\u001b[37m\u001b[0m \u001b[1m8s\u001b[0m 113ms/step - accuracy: 0.9681 - loss: 0.2116 - val_accuracy: 0.7514 - val_loss: 0.6343 - learning_rate: 0.0010\n",
            "Epoch 10/50\n",
            "\u001b[1m68/68\u001b[0m \u001b[32m━━━━━━━━━━━━━━━━━━━━\u001b[0m\u001b[37m\u001b[0m \u001b[1m11s\u001b[0m 123ms/step - accuracy: 0.9737 - loss: 0.1743 - val_accuracy: 0.7421 - val_loss: 0.6490 - learning_rate: 0.0010\n",
            "Epoch 11/50\n",
            "\u001b[1m68/68\u001b[0m \u001b[32m━━━━━━━━━━━━━━━━━━━━\u001b[0m\u001b[37m\u001b[0m \u001b[1m8s\u001b[0m 118ms/step - accuracy: 0.9736 - loss: 0.1554 - val_accuracy: 0.7443 - val_loss: 0.6574 - learning_rate: 0.0010\n",
            "Epoch 12/50\n",
            "\u001b[1m68/68\u001b[0m \u001b[32m━━━━━━━━━━━━━━━━━━━━\u001b[0m\u001b[37m\u001b[0m \u001b[1m10s\u001b[0m 115ms/step - accuracy: 0.9859 - loss: 0.1173 - val_accuracy: 0.7478 - val_loss: 0.6303 - learning_rate: 5.0000e-04\n",
            "Epoch 13/50\n",
            "\u001b[1m68/68\u001b[0m \u001b[32m━━━━━━━━━━━━━━━━━━━━\u001b[0m\u001b[37m\u001b[0m \u001b[1m8s\u001b[0m 121ms/step - accuracy: 0.9870 - loss: 0.1061 - val_accuracy: 0.7557 - val_loss: 0.6299 - learning_rate: 5.0000e-04\n",
            "Epoch 14/50\n",
            "\u001b[1m68/68\u001b[0m \u001b[32m━━━━━━━━━━━━━━━━━━━━\u001b[0m\u001b[37m\u001b[0m \u001b[1m8s\u001b[0m 118ms/step - accuracy: 0.9915 - loss: 0.0967 - val_accuracy: 0.7306 - val_loss: 0.6626 - learning_rate: 5.0000e-04\n",
            "Epoch 15/50\n",
            "\u001b[1m68/68\u001b[0m \u001b[32m━━━━━━━━━━━━━━━━━━━━\u001b[0m\u001b[37m\u001b[0m \u001b[1m10s\u001b[0m 114ms/step - accuracy: 0.9875 - loss: 0.0918 - val_accuracy: 0.7371 - val_loss: 0.6599 - learning_rate: 2.5000e-04\n",
            "Epoch 16/50\n",
            "\u001b[1m68/68\u001b[0m \u001b[32m━━━━━━━━━━━━━━━━━━━━\u001b[0m\u001b[37m\u001b[0m \u001b[1m8s\u001b[0m 122ms/step - accuracy: 0.9889 - loss: 0.0888 - val_accuracy: 0.7443 - val_loss: 0.6461 - learning_rate: 2.5000e-04\n",
            "Epoch 17/50\n",
            "\u001b[1m68/68\u001b[0m \u001b[32m━━━━━━━━━━━━━━━━━━━━\u001b[0m\u001b[37m\u001b[0m \u001b[1m10s\u001b[0m 122ms/step - accuracy: 0.9894 - loss: 0.0807 - val_accuracy: 0.7443 - val_loss: 0.6543 - learning_rate: 2.5000e-04\n",
            "Epoch 18/50\n",
            "\u001b[1m68/68\u001b[0m \u001b[32m━━━━━━━━━━━━━━━━━━━━\u001b[0m\u001b[37m\u001b[0m \u001b[1m10s\u001b[0m 114ms/step - accuracy: 0.9945 - loss: 0.0760 - val_accuracy: 0.7471 - val_loss: 0.6532 - learning_rate: 1.2500e-04\n",
            "Epoch 19/50\n",
            "\u001b[1m68/68\u001b[0m \u001b[32m━━━━━━━━━━━━━━━━━━━━\u001b[0m\u001b[37m\u001b[0m \u001b[1m10s\u001b[0m 118ms/step - accuracy: 0.9955 - loss: 0.0701 - val_accuracy: 0.7421 - val_loss: 0.6682 - learning_rate: 1.2500e-04\n",
            "Epoch 20/50\n",
            "\u001b[1m68/68\u001b[0m \u001b[32m━━━━━━━━━━━━━━━━━━━━\u001b[0m\u001b[37m\u001b[0m \u001b[1m11s\u001b[0m 123ms/step - accuracy: 0.9941 - loss: 0.0716 - val_accuracy: 0.7443 - val_loss: 0.6554 - learning_rate: 1.2500e-04\n",
            "Epoch 21/50\n",
            "\u001b[1m68/68\u001b[0m \u001b[32m━━━━━━━━━━━━━━━━━━━━\u001b[0m\u001b[37m\u001b[0m \u001b[1m10s\u001b[0m 120ms/step - accuracy: 0.9928 - loss: 0.0711 - val_accuracy: 0.7435 - val_loss: 0.6681 - learning_rate: 1.0000e-04\n",
            "Epoch 22/50\n",
            "\u001b[1m68/68\u001b[0m \u001b[32m━━━━━━━━━━━━━━━━━━━━\u001b[0m\u001b[37m\u001b[0m \u001b[1m10s\u001b[0m 114ms/step - accuracy: 0.9956 - loss: 0.0679 - val_accuracy: 0.7414 - val_loss: 0.6618 - learning_rate: 1.0000e-04\n",
            "Epoch 23/50\n",
            "\u001b[1m68/68\u001b[0m \u001b[32m━━━━━━━━━━━━━━━━━━━━\u001b[0m\u001b[37m\u001b[0m \u001b[1m11s\u001b[0m 118ms/step - accuracy: 0.9950 - loss: 0.0672 - val_accuracy: 0.7450 - val_loss: 0.6525 - learning_rate: 1.0000e-04\n"
          ]
        }
      ],
      "source": [
        "RocketCNNResBiGRU_model = RocketCNNResBiGRU(ts_raw_shape = (sz - 1, dim), pca_raw_shape = (128,))\n",
        "RocketCNNResBiGRU_model.compile(optimizer=Adam(learning_rate=0.001, beta_1=0.90, beta_2=0.999, epsilon=1e-08), loss='categorical_crossentropy', metrics=['accuracy'])\n",
        "historyR1 = RocketCNNResBiGRU_model.fit(train_rp_ds, validation_data=val_rp_ds, epochs=50, verbose = 1, callbacks = [reduce_lr, earlystopping])"
      ]
    },
    {
      "cell_type": "code",
      "source": [
        "RocketCNNResBiGRU_results_val = RocketCNNResBiGRU_model.evaluate(val_rp_ds, batch_size=128)\n",
        "RocketCNNResBiGRU_results_test = RocketCNNResBiGRU_model.evaluate(test_rp_ds, batch_size=128)\n",
        "print(\"Validation Loss: {}\\nValidation Accuracy: {}\".format(*RocketCNNResBiGRU_results_val))\n",
        "print(\"Test Loss: {}\\nTest Accuracy: {}\".format(*RocketCNNResBiGRU_results_test))"
      ],
      "metadata": {
        "colab": {
          "base_uri": "https://localhost:8080/"
        },
        "id": "O8o3cbNUxPGE",
        "outputId": "d69641ad-d8f4-4fa8-d5c7-b1d30ba2d9fb"
      },
      "id": "O8o3cbNUxPGE",
      "execution_count": 26,
      "outputs": [
        {
          "output_type": "stream",
          "name": "stdout",
          "text": [
            "\u001b[1m22/22\u001b[0m \u001b[32m━━━━━━━━━━━━━━━━━━━━\u001b[0m\u001b[37m\u001b[0m \u001b[1m1s\u001b[0m 28ms/step - accuracy: 0.7343 - loss: 0.7034\n",
            "\u001b[1m17/17\u001b[0m \u001b[32m━━━━━━━━━━━━━━━━━━━━\u001b[0m\u001b[37m\u001b[0m \u001b[1m1s\u001b[0m 86ms/step - accuracy: 0.7670 - loss: 0.6780\n",
            "Validation Loss: 0.6525087356567383\n",
            "Validation Accuracy: 0.7449712753295898\n",
            "Test Loss: 0.673008382320404\n",
            "Test Accuracy: 0.7649857401847839\n"
          ]
        }
      ]
    },
    {
      "cell_type": "code",
      "source": [
        "predictions_combined_val = RocketCNNResBiGRU_model.predict((val_pca_tf, val_raw_tf), batch_size=128)\n",
        "predictions_combined_test = RocketCNNResBiGRU_model.predict((test_pca_tf, test_raw_tf), batch_size=128)\n",
        "\n",
        "predictions_combined_val =tf.argmax(predictions_combined_val, axis = 1)\n",
        "predictions_combined_test = tf.argmax(predictions_combined_test, axis = 1)"
      ],
      "metadata": {
        "colab": {
          "base_uri": "https://localhost:8080/"
        },
        "id": "Ppzcg7maxPU8",
        "outputId": "cd3eb699-5745-4d66-e6b3-f6cfefc9d522"
      },
      "id": "Ppzcg7maxPU8",
      "execution_count": 27,
      "outputs": [
        {
          "output_type": "stream",
          "name": "stdout",
          "text": [
            "\u001b[1m11/11\u001b[0m \u001b[32m━━━━━━━━━━━━━━━━━━━━\u001b[0m\u001b[37m\u001b[0m \u001b[1m4s\u001b[0m 255ms/step\n",
            "\u001b[1m9/9\u001b[0m \u001b[32m━━━━━━━━━━━━━━━━━━━━\u001b[0m\u001b[37m\u001b[0m \u001b[1m1s\u001b[0m 169ms/step\n"
          ]
        }
      ]
    },
    {
      "cell_type": "code",
      "source": [
        "# Compare predictions against the targets\n",
        "print(\"Validation Data - Total predictions made: %s. Number of correct predictions: %s\" % (len(predictions_combined_val), sum(np.equal(predictions_combined_val, y_val))))\n",
        "print(\"Test Data - Total predictions made: %s. Number of correct predictions: %s\" % (len(predictions_combined_test), sum(np.equal(predictions_combined_test, y_test))))"
      ],
      "metadata": {
        "colab": {
          "base_uri": "https://localhost:8080/"
        },
        "id": "viT8i2mXxPe2",
        "outputId": "f132b015-118a-4c69-9175-0f3f75d3769c"
      },
      "id": "viT8i2mXxPe2",
      "execution_count": 28,
      "outputs": [
        {
          "output_type": "stream",
          "name": "stdout",
          "text": [
            "Validation Data - Total predictions made: 1392. Number of correct predictions: 1037\n",
            "Test Data - Total predictions made: 1051. Number of correct predictions: 804\n"
          ]
        }
      ]
    },
    {
      "cell_type": "code",
      "source": [
        "with open('combination_weights.npy', 'wb') as f:\n",
        "    np.save(f, RocketCNNResBiGRU_model.layers[-1].get_weights()[0])\n",
        "    np.save(f, RocketCNNResBiGRU_model.layers[-1].get_weights()[1])"
      ],
      "metadata": {
        "id": "rsWBMdYN31W-"
      },
      "id": "rsWBMdYN31W-",
      "execution_count": 41,
      "outputs": []
    },
    {
      "cell_type": "code",
      "source": [
        "with open('combination_weights.npy', 'rb') as f:\n",
        "    weights = np.load(f)\n",
        "    biases = np.load(f)\n",
        "    print(weights.shape)\n",
        "    print(biases.shape)"
      ],
      "metadata": {
        "colab": {
          "base_uri": "https://localhost:8080/"
        },
        "id": "nt_suZww4n-6",
        "outputId": "494e1bd6-7133-4cbc-88a7-1d912a54af6e"
      },
      "id": "nt_suZww4n-6",
      "execution_count": 5,
      "outputs": [
        {
          "output_type": "stream",
          "name": "stdout",
          "text": [
            "(128, 31)\n",
            "(31,)\n"
          ]
        }
      ]
    },
    {
      "cell_type": "markdown",
      "source": [
        "Visualizing weights from the final dense layer after concatenating the CNN-ResBiGRU and MiniRocket Components\n"
      ],
      "metadata": {
        "id": "H8pl9wAo_uIB"
      },
      "id": "H8pl9wAo_uIB"
    },
    {
      "cell_type": "code",
      "source": [
        "# Define custom colors\n",
        "custom_colors = [\"#6d6e71\", \"#808285\", \"#939598\", \"#a7a9ac\", \"#d1d3d4\", \"#e6e7e8\", \"#e6eef9\", \"#abe1fa\", \"#6dcff6\", \"#00c0f3\", \"#00aff0\", \"#008cc8\", \"#0050a0\", \"#0054a6\", \"#00458c\"]\n",
        "\n",
        "# Create a custom colormap\n",
        "custom_cmap = LinearSegmentedColormap.from_list(\"custom_cmap\", custom_colors)\n",
        "\n",
        "plt.figure(figsize=(10, 5))\n",
        "sns.heatmap(weights, cmap=custom_cmap, cbar=True)  # Use custom colormap\n",
        "\n",
        "plt.title('Combining Components - Learned weights')\n",
        "plt.xlabel(\"Activities\")\n",
        "plt.ylabel('Channels in components')\n",
        "plt.xticks([])\n",
        "plt.yticks([])\n",
        "middle_row = weights.shape[0] // 2\n",
        "plt.axhline(middle_row, color='#fa961e', linewidth=4)\n",
        "\n",
        "plt.savefig(\"LearnedWeights.pdf\", dpi = 1000, format = 'pdf', bbox_inches = 'tight')\n",
        "plt.show()"
      ],
      "metadata": {
        "colab": {
          "base_uri": "https://localhost:8080/",
          "height": 463
        },
        "id": "jHPZd4Fx5P8u",
        "outputId": "e868525e-d380-4201-f256-7189d963cbdc"
      },
      "id": "jHPZd4Fx5P8u",
      "execution_count": 28,
      "outputs": [
        {
          "output_type": "display_data",
          "data": {
            "text/plain": [
              "<Figure size 1000x500 with 2 Axes>"
            ],
            "image/png": "[encoded data removed]"
          },
          "metadata": {}
        }
      ]
    },
    {
      "cell_type": "code",
      "source": [],
      "metadata": {
        "id": "SGWCh5H48Tnk"
      },
      "id": "SGWCh5H48Tnk",
      "execution_count": null,
      "outputs": []
    }
  ],
  "metadata": {
    "colab": {
      "collapsed_sections": [
        "r6wy5uIVdkZS",
        "JwLhlSX26lhy",
        "KdO95KhEdktU",
        "mygoc72Tw4UF"
      ],
      "provenance": []
    },
    "kernelspec": {
      "display_name": "Python 3",
      "name": "python3"
    },
    "language_info": {
      "codemirror_mode": {
        "name": "ipython",
        "version": 3
      },
      "file_extension": ".py",
      "mimetype": "text/x-python",
      "name": "python",
      "nbconvert_exporter": "python",
      "pygments_lexer": "ipython3",
      "version": "3.9.13"
    }
  },
  "nbformat": 4,
  "nbformat_minor": 5
}