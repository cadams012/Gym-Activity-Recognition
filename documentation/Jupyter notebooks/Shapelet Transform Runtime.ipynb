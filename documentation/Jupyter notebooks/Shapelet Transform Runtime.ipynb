{
 "cells": [
  {
   "cell_type": "markdown",
   "id": "f1dd6930",
   "metadata": {},
   "source": [
    "# Shapelet Transform Runtime"
   ]
  },
  {
   "cell_type": "markdown",
   "id": "c77e243d",
   "metadata": {},
   "source": [
    "This script must be run from the same directory as the scripts which it imports."
   ]
  },
  {
   "cell_type": "code",
   "execution_count": 6,
   "id": "1cab0655",
   "metadata": {},
   "outputs": [],
   "source": [
    "import time\n",
    "import numpy as np\n",
    "import matplotlib.pyplot as plt\n",
    "from tqdm import tqdm\n",
    "from pyts.transformation import ShapeletTransform\n",
    "\n",
    "%run sys_configs.ipynb"
   ]
  },
  {
   "cell_type": "code",
   "execution_count": 2,
   "id": "c62ce408",
   "metadata": {},
   "outputs": [],
   "source": [
    "with open('data/train.npy', 'rb') as f:\n",
    "    x_train = np.load(f)\n",
    "    y_train = np.load(f)\n",
    "sz, dim = x_train.shape[1:]\n",
    "      \n",
    "N_train = len(y_train)"
   ]
  },
  {
   "cell_type": "markdown",
   "id": "6555ada9",
   "metadata": {},
   "source": [
    "### Train data size vs compute times"
   ]
  },
  {
   "cell_type": "markdown",
   "id": "96c0a8cc",
   "metadata": {},
   "source": [
    "Shapelets transforms are the most computationally expensive of the techniques we will study in this work. We first explore with a small experiment how the train size affects the compute time."
   ]
  },
  {
   "cell_type": "code",
   "execution_count": 3,
   "id": "fe9a0d5b",
   "metadata": {},
   "outputs": [],
   "source": [
    "sizes = np.arange(10, 100, step = 2)"
   ]
  },
  {
   "cell_type": "code",
   "execution_count": 4,
   "id": "6d48f374",
   "metadata": {},
   "outputs": [
    {
     "name": "stderr",
     "output_type": "stream",
     "text": [
      "Fitting Shapelet Transform Model: 100%|████████████████████████████████████████████████| 45/45 [07:38<00:00, 10.19s/it]\n"
     ]
    }
   ],
   "source": [
    "fit_times = []\n",
    "\n",
    "for s in tqdm(sizes, desc = \"Fitting Shapelet Transform Model: \"):\n",
    "    start_time = time.time()\n",
    "    st_example = ShapeletTransform(n_shapelets = 10, window_sizes=[5], criterion = \"anova\", remove_similar = True, verbose = 0)\n",
    "    st_example.fit(x_train[:s, :, 0], y_train[:s]) # Use the x-component of the acceleration; the component is not important.\n",
    "    \n",
    "    t = time.time() - start_time\n",
    "    fit_times.append(t) "
   ]
  },
  {
   "cell_type": "code",
   "execution_count": 11,
   "id": "1888e166",
   "metadata": {},
   "outputs": [],
   "source": [
    "burn = 1"
   ]
  },
  {
   "cell_type": "code",
   "execution_count": 12,
   "id": "9709be3c",
   "metadata": {},
   "outputs": [],
   "source": [
    "sizes = sizes[burn:]\n",
    "fit_times = fit_times[burn:]"
   ]
  },
  {
   "cell_type": "code",
   "execution_count": 22,
   "id": "734c4e9d",
   "metadata": {},
   "outputs": [],
   "source": [
    "# Fit a quadratic curve (2nd degree polynomial) to the data. We will overlay this onto the plot.\n",
    "coefficients = np.polyfit(sizes, fit_times, 2)\n",
    "quadratic_fit = np.polyval(coefficients, sizes)"
   ]
  },
  {
   "cell_type": "code",
   "execution_count": 30,
   "id": "70c3c346",
   "metadata": {},
   "outputs": [
    {
     "data": {
      "image/png": "[encoded data removed]",
      "text/plain": [
       "<Figure size 400x400 with 1 Axes>"
      ]
     },
     "metadata": {},
     "output_type": "display_data"
    }
   ],
   "source": [
    "fig, ax = plt.subplots(figsize=(4, 4))\n",
    "\n",
    "ax.plot(sizes, quadratic_fit, color=scale_rgb(COLOURS.get(\"accent-orange\")), linestyle=\"--\", linewidth=2)\n",
    "ax.plot(sizes, fit_times, color=scale_rgb(COLOURS.get(\"primary-color\")), linewidth=2)\n",
    "\n",
    "ax.tick_params(axis='x', labelsize=8)\n",
    "ax.tick_params(axis='y', labelsize=8)\n",
    "\n",
    "plt.title(\"Shapelet Transform Runtime\", size = 12)\n",
    "ax.set_xlabel(\"Train Size\", size = 10)\n",
    "ax.set_ylabel(\"Train Time/Second\", size = 10)\n",
    "fig.tight_layout()\n",
    "plt.savefig('ShapeletRuntime.pdf', dpi = 1000, format = 'pdf', bbox_inches = 'tight')\n",
    "plt.show()"
   ]
  },
  {
   "cell_type": "markdown",
   "id": "f836a38b",
   "metadata": {},
   "source": [
    "The train data size is $\\approx 4,000 = 40 x 100$. Therefore the projected runtime is $25*40^{2}$ = $40,000$ seconds $\\approx 11$ hours. We therefore choose a sample from our train dataset such that the cumulative train time can be kept to a reasonable time."
   ]
  }
 ],
 "metadata": {
  "kernelspec": {
   "display_name": "Python 3 (ipykernel)",
   "language": "python",
   "name": "python3"
  },
  "language_info": {
   "codemirror_mode": {
    "name": "ipython",
    "version": 3
   },
   "file_extension": ".py",
   "mimetype": "text/x-python",
   "name": "python",
   "nbconvert_exporter": "python",
   "pygments_lexer": "ipython3",
   "version": "3.9.13"
  }
 },
 "nbformat": 4,
 "nbformat_minor": 5
}
