{
 "cells": [
  {
   "cell_type": "code",
   "execution_count": 2,
   "id": "fa5b10d5",
   "metadata": {},
   "outputs": [],
   "source": [
    "import matplotlib.pyplot as plt\n",
    "import pandas as pd"
   ]
  },
  {
   "cell_type": "markdown",
   "id": "a61e395c",
   "metadata": {},
   "source": [
    "## Plot Function 1: plotCounts"
   ]
  },
  {
   "cell_type": "markdown",
   "id": "df62179f",
   "metadata": {},
   "source": [
    "Invoked in the main Jupyter notebook. This function is designed to return counts of timestamps per activity class."
   ]
  },
  {
   "cell_type": "code",
   "execution_count": null,
   "id": "e008f07c",
   "metadata": {},
   "outputs": [],
   "source": [
    "def plotCounts(data: pd.DataFrame):\n",
    "    fig, ax = plt.subplots()\n",
    "\n",
    "    bars = ax.bar(\n",
    "        x=data.index,\n",
    "        height=data.values\n",
    "    )\n",
    "\n",
    "    ax.spines['top'].set_visible(False)\n",
    "    ax.spines['right'].set_visible(False)\n",
    "    ax.spines['left'].set_visible(False)\n",
    "    ax.spines['bottom'].set_color('#DDDDDD')\n",
    "    ax.tick_params(bottom=False, left=False)\n",
    "    ax.set_axisbelow(True)\n",
    "    ax.yaxis.grid(True, color='#EEEEEE')\n",
    "    ax.xaxis.grid(False)\n",
    "\n",
    "    ax.set_ylim([10000,25000])\n",
    "    ax.get_yaxis().set_visible(False)\n",
    "    bar_color = bars[0].get_facecolor()\n",
    "\n",
    "    for bar in bars:\n",
    "        ax.text(\n",
    "            bar.get_x() + bar.get_width() / 2,\n",
    "            bar.get_height() + 150,\n",
    "            round(bar.get_height(), 1),\n",
    "            horizontalalignment='center',\n",
    "            color=bar_color,\n",
    "            weight='bold',\n",
    "            fontsize=5.5,\n",
    "            rotation = 90\n",
    "        )\n",
    "    plt.xticks(rotation=90, size = 5.5)\n",
    "    plt.title(\"Number of timestamps by activity\")\n",
    "    fig.tight_layout()"
   ]
  },
  {
   "cell_type": "markdown",
   "id": "3bb5bbdf",
   "metadata": {},
   "source": [
    "## Plot Function 2: plotStream"
   ]
  },
  {
   "cell_type": "markdown",
   "id": "b0ab1809",
   "metadata": {},
   "source": [
    "Invoked in the main Jupyter notebook. This function is designed to return the raw time series for both the 3-axial accelerometer and the 3-axial gyroscope, for a single workout."
   ]
  },
  {
   "cell_type": "code",
   "execution_count": 4,
   "id": "ea67eb82",
   "metadata": {},
   "outputs": [],
   "source": [
    "def plotStream(data: pd.DataFrame, fig, ax, activity_map: dict):\n",
    "    fig.suptitle(\"Accelerometer & Gyroscope Raw Time Series\", fontsize = 20)\n",
    "    t, acc_x, acc_y, acc_z, gyr_x, gyr_y, gyr_z, activities = data.time, data.acc_x, data.acc_y, data.acc_z, data.gyr_x, data.gyr_y, data.gyr_z, data.activity\n",
    "    \n",
    "    # Get the min and max accelerometer and gyroscope readings across all the samples\n",
    "    acc_max = max(max(acc_y), max(acc_y), max(acc_z))\n",
    "    acc_min = min(min(acc_x), min(acc_x), min(acc_z))\n",
    "    gyr_max = max(max(gyr_y), max(gyr_y), max(gyr_z))\n",
    "    gyr_min = min(min(gyr_x), min(gyr_x), min(gyr_z))\n",
    "    \n",
    "    # Plot the x, y and z co-ordinate accelerometer readings\n",
    "    ax[0].plot(t, acc_x, color = \"red\", label = \"x\")\n",
    "    ax[0].yaxis.label.set_size(15)\n",
    "    ax[0].plot(t, acc_y, color = \"green\", label = \"y\")\n",
    "    ax[0].yaxis.label.set_size(15)\n",
    "    ax[0].plot(t, acc_z, color = \"blue\", label = \"z\")\n",
    "    ax[0].yaxis.label.set_size(15)\n",
    "    \n",
    "    ax[0].get_yaxis().set_visible(False)\n",
    "    ax[0].legend(loc=\"upper right\")\n",
    "    \n",
    "    # Plot the x, y and z co-ordinate gyroscope readings\n",
    "    ax[1].plot(t, gyr_x, color = \"red\", label = \"x\")\n",
    "    ax[1].yaxis.label.set_size(15)\n",
    "    ax[1].plot(t, gyr_y, color = \"green\", label = \"y\")\n",
    "    ax[1].yaxis.label.set_size(15)\n",
    "    ax[1].plot(t, gyr_z, color = \"blue\", label = \"z\")\n",
    "    ax[1].yaxis.label.set_size(15)\n",
    "    \n",
    "    ax[0].get_xaxis().set_visible(False)\n",
    "    ax[0].get_yaxis().set_visible(False)\n",
    "    ax[0].legend(loc=\"upper right\")\n",
    "    ax[1].get_xaxis().set_visible(False)\n",
    "    ax[1].get_yaxis().set_visible(False)\n",
    "    ax[1].legend(loc=\"upper right\")    \n",
    "    \n",
    "    # Partition the workout by exercise id. Some activities will be repeated. Find the highest and lowest timestamps.\n",
    "    exercises = data.groupby('exercise_id').agg(activity=('activity', 'first'), first_time=('time', 'first'), last_time= ('time', 'last'))\n",
    "\n",
    "    # Define the colormap, generate equally spaced values between 0 and 1, then map the colours to the colourmap. Convert to hex.\n",
    "    cmap = plt.cm.Blues\n",
    "    num_colours = len(exercises[\"activity\"].unique())\n",
    "    values = np.linspace(0, 1, num_colours)\n",
    "    colors = cmap(values)\n",
    "    hex_colors = [mcolors.to_hex(color) for color in colors]\n",
    "    activity_colours = {item: hex_colors[idx] for idx, item in enumerate(exercises[\"activity\"].unique())}    \n",
    "    \n",
    "    for idx, row in exercises.iterrows():\n",
    "        # Fill the accelerometer and gyroscope data with a colour unique to the activity\n",
    "        ax[0].fill_betweenx([acc_min, acc_max], row[\"first_time\"], row[\"last_time\"], color=activity_colours[row[\"activity\"]], alpha=0.4, label=activity_map[row[\"activity\"]])\n",
    "        ax[1].fill_betweenx([gyr_min, gyr_max], row[\"first_time\"], row[\"last_time\"], color=activity_colours[row[\"activity\"]], alpha=0.4, label=activity_map[row[\"activity\"]])\n",
    "\n",
    "        # Add the activity label to the accelerometer and gyroscope plots. The label is inserted into the middle of each exercise data.\n",
    "        ax[0].text(\n",
    "            (row[\"first_time\"] + row[\"last_time\"]) / 2,\n",
    "            acc_min * 0.85,\n",
    "            s = activity_map[row[\"activity\"]].replace(\" \", \"\\n\"),\n",
    "            horizontalalignment='center',\n",
    "            weight='bold',\n",
    "            fontsize=7.5\n",
    "        )\n",
    "        \n",
    "        \n",
    "        ax[1].text(\n",
    "            (row[\"first_time\"] + row[\"last_time\"]) / 2,\n",
    "            gyr_min * 0.85,\n",
    "            s = activity_map[row[\"activity\"]].replace(\" \", \"\\n\"),\n",
    "            horizontalalignment='center',\n",
    "            weight='bold',\n",
    "            fontsize=7.5\n",
    "        )\n",
    "        \n",
    "    ax[0].set_title('Accelerometer Time Series')\n",
    "    ax[1].set_title('Gyroscope Time Series')"
   ]
  },
  {
   "cell_type": "code",
   "execution_count": null,
   "id": "d845dc85",
   "metadata": {},
   "outputs": [],
   "source": []
  }
 ],
 "metadata": {
  "kernelspec": {
   "display_name": "Python 3 (ipykernel)",
   "language": "python",
   "name": "python3"
  },
  "language_info": {
   "codemirror_mode": {
    "name": "ipython",
    "version": 3
   },
   "file_extension": ".py",
   "mimetype": "text/x-python",
   "name": "python",
   "nbconvert_exporter": "python",
   "pygments_lexer": "ipython3",
   "version": "3.9.13"
  }
 },
 "nbformat": 4,
 "nbformat_minor": 5
}
